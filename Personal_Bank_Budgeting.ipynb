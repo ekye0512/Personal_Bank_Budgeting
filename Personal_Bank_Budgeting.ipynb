{
 "cells": [
  {
   "cell_type": "code",
   "execution_count": 1,
   "metadata": {},
   "outputs": [],
   "source": [
    "import pandas as pd \n",
    "import matplotlib.pyplot as plt\n",
    "import plotly.express as px\n",
    "import seaborn as sns"
   ]
  },
  {
   "cell_type": "code",
   "execution_count": 2,
   "metadata": {},
   "outputs": [
    {
     "name": "stdout",
     "output_type": "stream",
     "text": [
      "Requirement already satisfied: pandas in /Users/eric/opt/anaconda3/lib/python3.9/site-packages (1.4.4)\n",
      "Requirement already satisfied: python-dateutil>=2.8.1 in /Users/eric/opt/anaconda3/lib/python3.9/site-packages (from pandas) (2.8.2)\n",
      "Requirement already satisfied: pytz>=2020.1 in /Users/eric/opt/anaconda3/lib/python3.9/site-packages (from pandas) (2022.1)\n",
      "Requirement already satisfied: numpy>=1.18.5 in /Users/eric/opt/anaconda3/lib/python3.9/site-packages (from pandas) (1.21.5)\n",
      "Requirement already satisfied: six>=1.5 in /Users/eric/opt/anaconda3/lib/python3.9/site-packages (from python-dateutil>=2.8.1->pandas) (1.16.0)\n"
     ]
    }
   ],
   "source": [
    "!pip install pandas \n"
   ]
  },
  {
   "cell_type": "code",
   "execution_count": 4,
   "metadata": {},
   "outputs": [],
   "source": [
    "df = pd.read_csv('/Users/eric/Documents/GitHub/Personal_Bank_Budgeting/Bank_Account_Data.csv') \n"
   ]
  },
  {
   "cell_type": "code",
   "execution_count": 5,
   "metadata": {},
   "outputs": [
    {
     "data": {
      "text/html": [
       "<div>\n",
       "<style scoped>\n",
       "    .dataframe tbody tr th:only-of-type {\n",
       "        vertical-align: middle;\n",
       "    }\n",
       "\n",
       "    .dataframe tbody tr th {\n",
       "        vertical-align: top;\n",
       "    }\n",
       "\n",
       "    .dataframe thead th {\n",
       "        text-align: right;\n",
       "    }\n",
       "</style>\n",
       "<table border=\"1\" class=\"dataframe\">\n",
       "  <thead>\n",
       "    <tr style=\"text-align: right;\">\n",
       "      <th></th>\n",
       "      <th>02/21/2023</th>\n",
       "      <th>-7.20</th>\n",
       "      <th>*</th>\n",
       "      <th>Unnamed: 3</th>\n",
       "      <th>PURCHASE AUTHORIZED ON 02/19 IN N OUT BURGER 12 DAVIS CA S583051072360337 CARD 7605</th>\n",
       "    </tr>\n",
       "  </thead>\n",
       "  <tbody>\n",
       "    <tr>\n",
       "      <th>0</th>\n",
       "      <td>02/21/2023</td>\n",
       "      <td>-18.39</td>\n",
       "      <td>*</td>\n",
       "      <td>NaN</td>\n",
       "      <td>PURCHASE AUTHORIZED ON 02/18 AMZN Mktp US*HP58...</td>\n",
       "    </tr>\n",
       "    <tr>\n",
       "      <th>1</th>\n",
       "      <td>02/21/2023</td>\n",
       "      <td>-5.19</td>\n",
       "      <td>*</td>\n",
       "      <td>NaN</td>\n",
       "      <td>PURCHASE AUTHORIZED ON 02/17 MCDONALD'S F4745 ...</td>\n",
       "    </tr>\n",
       "    <tr>\n",
       "      <th>2</th>\n",
       "      <td>02/14/2023</td>\n",
       "      <td>-15.03</td>\n",
       "      <td>*</td>\n",
       "      <td>NaN</td>\n",
       "      <td>PURCHASE AUTHORIZED ON 02/14 OFFICE MA 2107 CO...</td>\n",
       "    </tr>\n",
       "    <tr>\n",
       "      <th>3</th>\n",
       "      <td>02/13/2023</td>\n",
       "      <td>-11.33</td>\n",
       "      <td>*</td>\n",
       "      <td>NaN</td>\n",
       "      <td>PURCHASE AUTHORIZED ON 02/12 VENMO* Visa Direc...</td>\n",
       "    </tr>\n",
       "    <tr>\n",
       "      <th>4</th>\n",
       "      <td>02/13/2023</td>\n",
       "      <td>-4.49</td>\n",
       "      <td>*</td>\n",
       "      <td>NaN</td>\n",
       "      <td>PURCHASE AUTHORIZED ON 02/12 VENMO* Visa Direc...</td>\n",
       "    </tr>\n",
       "  </tbody>\n",
       "</table>\n",
       "</div>"
      ],
      "text/plain": [
       "   02/21/2023  -7.20  *  Unnamed: 3  \\\n",
       "0  02/21/2023 -18.39  *         NaN   \n",
       "1  02/21/2023  -5.19  *         NaN   \n",
       "2  02/14/2023 -15.03  *         NaN   \n",
       "3  02/13/2023 -11.33  *         NaN   \n",
       "4  02/13/2023  -4.49  *         NaN   \n",
       "\n",
       "  PURCHASE AUTHORIZED ON 02/19 IN N OUT BURGER 12 DAVIS CA S583051072360337 CARD 7605  \n",
       "0  PURCHASE AUTHORIZED ON 02/18 AMZN Mktp US*HP58...                                   \n",
       "1  PURCHASE AUTHORIZED ON 02/17 MCDONALD'S F4745 ...                                   \n",
       "2  PURCHASE AUTHORIZED ON 02/14 OFFICE MA 2107 CO...                                   \n",
       "3  PURCHASE AUTHORIZED ON 02/12 VENMO* Visa Direc...                                   \n",
       "4  PURCHASE AUTHORIZED ON 02/12 VENMO* Visa Direc...                                   "
      ]
     },
     "execution_count": 5,
     "metadata": {},
     "output_type": "execute_result"
    }
   ],
   "source": [
    "df.head()"
   ]
  },
  {
   "cell_type": "code",
   "execution_count": 10,
   "metadata": {},
   "outputs": [],
   "source": [
    "df.rename(columns={'02/21/2023': 'Dates'}, inplace=True)\n"
   ]
  },
  {
   "cell_type": "code",
   "execution_count": 11,
   "metadata": {},
   "outputs": [
    {
     "data": {
      "text/html": [
       "<div>\n",
       "<style scoped>\n",
       "    .dataframe tbody tr th:only-of-type {\n",
       "        vertical-align: middle;\n",
       "    }\n",
       "\n",
       "    .dataframe tbody tr th {\n",
       "        vertical-align: top;\n",
       "    }\n",
       "\n",
       "    .dataframe thead th {\n",
       "        text-align: right;\n",
       "    }\n",
       "</style>\n",
       "<table border=\"1\" class=\"dataframe\">\n",
       "  <thead>\n",
       "    <tr style=\"text-align: right;\">\n",
       "      <th></th>\n",
       "      <th>dates</th>\n",
       "      <th>-7.20</th>\n",
       "      <th>*</th>\n",
       "      <th>Unnamed: 3</th>\n",
       "      <th>PURCHASE AUTHORIZED ON 02/19 IN N OUT BURGER 12 DAVIS CA S583051072360337 CARD 7605</th>\n",
       "    </tr>\n",
       "  </thead>\n",
       "  <tbody>\n",
       "    <tr>\n",
       "      <th>0</th>\n",
       "      <td>02/21/2023</td>\n",
       "      <td>-18.39</td>\n",
       "      <td>*</td>\n",
       "      <td>NaN</td>\n",
       "      <td>PURCHASE AUTHORIZED ON 02/18 AMZN Mktp US*HP58...</td>\n",
       "    </tr>\n",
       "    <tr>\n",
       "      <th>1</th>\n",
       "      <td>02/21/2023</td>\n",
       "      <td>-5.19</td>\n",
       "      <td>*</td>\n",
       "      <td>NaN</td>\n",
       "      <td>PURCHASE AUTHORIZED ON 02/17 MCDONALD'S F4745 ...</td>\n",
       "    </tr>\n",
       "    <tr>\n",
       "      <th>2</th>\n",
       "      <td>02/14/2023</td>\n",
       "      <td>-15.03</td>\n",
       "      <td>*</td>\n",
       "      <td>NaN</td>\n",
       "      <td>PURCHASE AUTHORIZED ON 02/14 OFFICE MA 2107 CO...</td>\n",
       "    </tr>\n",
       "    <tr>\n",
       "      <th>3</th>\n",
       "      <td>02/13/2023</td>\n",
       "      <td>-11.33</td>\n",
       "      <td>*</td>\n",
       "      <td>NaN</td>\n",
       "      <td>PURCHASE AUTHORIZED ON 02/12 VENMO* Visa Direc...</td>\n",
       "    </tr>\n",
       "    <tr>\n",
       "      <th>4</th>\n",
       "      <td>02/13/2023</td>\n",
       "      <td>-4.49</td>\n",
       "      <td>*</td>\n",
       "      <td>NaN</td>\n",
       "      <td>PURCHASE AUTHORIZED ON 02/12 VENMO* Visa Direc...</td>\n",
       "    </tr>\n",
       "  </tbody>\n",
       "</table>\n",
       "</div>"
      ],
      "text/plain": [
       "        dates  -7.20  *  Unnamed: 3  \\\n",
       "0  02/21/2023 -18.39  *         NaN   \n",
       "1  02/21/2023  -5.19  *         NaN   \n",
       "2  02/14/2023 -15.03  *         NaN   \n",
       "3  02/13/2023 -11.33  *         NaN   \n",
       "4  02/13/2023  -4.49  *         NaN   \n",
       "\n",
       "  PURCHASE AUTHORIZED ON 02/19 IN N OUT BURGER 12 DAVIS CA S583051072360337 CARD 7605  \n",
       "0  PURCHASE AUTHORIZED ON 02/18 AMZN Mktp US*HP58...                                   \n",
       "1  PURCHASE AUTHORIZED ON 02/17 MCDONALD'S F4745 ...                                   \n",
       "2  PURCHASE AUTHORIZED ON 02/14 OFFICE MA 2107 CO...                                   \n",
       "3  PURCHASE AUTHORIZED ON 02/12 VENMO* Visa Direc...                                   \n",
       "4  PURCHASE AUTHORIZED ON 02/12 VENMO* Visa Direc...                                   "
      ]
     },
     "execution_count": 11,
     "metadata": {},
     "output_type": "execute_result"
    }
   ],
   "source": [
    "df.head()\n"
   ]
  },
  {
   "cell_type": "code",
   "execution_count": 16,
   "metadata": {},
   "outputs": [
    {
     "data": {
      "text/html": [
       "<div>\n",
       "<style scoped>\n",
       "    .dataframe tbody tr th:only-of-type {\n",
       "        vertical-align: middle;\n",
       "    }\n",
       "\n",
       "    .dataframe tbody tr th {\n",
       "        vertical-align: top;\n",
       "    }\n",
       "\n",
       "    .dataframe thead th {\n",
       "        text-align: right;\n",
       "    }\n",
       "</style>\n",
       "<table border=\"1\" class=\"dataframe\">\n",
       "  <thead>\n",
       "    <tr style=\"text-align: right;\">\n",
       "      <th></th>\n",
       "      <th>dates</th>\n",
       "      <th>Total Money</th>\n",
       "      <th>*</th>\n",
       "      <th>Unnamed: 3</th>\n",
       "      <th>Transaction</th>\n",
       "    </tr>\n",
       "  </thead>\n",
       "  <tbody>\n",
       "    <tr>\n",
       "      <th>0</th>\n",
       "      <td>02/21/2023</td>\n",
       "      <td>-18.39</td>\n",
       "      <td>*</td>\n",
       "      <td>NaN</td>\n",
       "      <td>PURCHASE AUTHORIZED ON 02/18 AMZN Mktp US*HP58...</td>\n",
       "    </tr>\n",
       "    <tr>\n",
       "      <th>1</th>\n",
       "      <td>02/21/2023</td>\n",
       "      <td>-5.19</td>\n",
       "      <td>*</td>\n",
       "      <td>NaN</td>\n",
       "      <td>PURCHASE AUTHORIZED ON 02/17 MCDONALD'S F4745 ...</td>\n",
       "    </tr>\n",
       "    <tr>\n",
       "      <th>2</th>\n",
       "      <td>02/14/2023</td>\n",
       "      <td>-15.03</td>\n",
       "      <td>*</td>\n",
       "      <td>NaN</td>\n",
       "      <td>PURCHASE AUTHORIZED ON 02/14 OFFICE MA 2107 CO...</td>\n",
       "    </tr>\n",
       "    <tr>\n",
       "      <th>3</th>\n",
       "      <td>02/13/2023</td>\n",
       "      <td>-11.33</td>\n",
       "      <td>*</td>\n",
       "      <td>NaN</td>\n",
       "      <td>PURCHASE AUTHORIZED ON 02/12 VENMO* Visa Direc...</td>\n",
       "    </tr>\n",
       "    <tr>\n",
       "      <th>4</th>\n",
       "      <td>02/13/2023</td>\n",
       "      <td>-4.49</td>\n",
       "      <td>*</td>\n",
       "      <td>NaN</td>\n",
       "      <td>PURCHASE AUTHORIZED ON 02/12 VENMO* Visa Direc...</td>\n",
       "    </tr>\n",
       "  </tbody>\n",
       "</table>\n",
       "</div>"
      ],
      "text/plain": [
       "        dates  Total Money  *  Unnamed: 3  \\\n",
       "0  02/21/2023       -18.39  *         NaN   \n",
       "1  02/21/2023        -5.19  *         NaN   \n",
       "2  02/14/2023       -15.03  *         NaN   \n",
       "3  02/13/2023       -11.33  *         NaN   \n",
       "4  02/13/2023        -4.49  *         NaN   \n",
       "\n",
       "                                         Transaction  \n",
       "0  PURCHASE AUTHORIZED ON 02/18 AMZN Mktp US*HP58...  \n",
       "1  PURCHASE AUTHORIZED ON 02/17 MCDONALD'S F4745 ...  \n",
       "2  PURCHASE AUTHORIZED ON 02/14 OFFICE MA 2107 CO...  \n",
       "3  PURCHASE AUTHORIZED ON 02/12 VENMO* Visa Direc...  \n",
       "4  PURCHASE AUTHORIZED ON 02/12 VENMO* Visa Direc...  "
      ]
     },
     "execution_count": 16,
     "metadata": {},
     "output_type": "execute_result"
    }
   ],
   "source": [
    "df.rename(columns={'-7.20':'Total Money $'},inplace=True)\n",
    "df.head()\n",
    "\n",
    "df.rename(columns={'PURCHASE AUTHORIZED ON 02/19 IN N OUT BURGER 12 DAVIS CA S583051072360337 CARD 7605':'Transaction'},inplace=True)\n",
    "df.head()\n"
   ]
  }
 ],
 "metadata": {
  "kernelspec": {
   "display_name": "base",
   "language": "python",
   "name": "python3"
  },
  "language_info": {
   "codemirror_mode": {
    "name": "ipython",
    "version": 3
   },
   "file_extension": ".py",
   "mimetype": "text/x-python",
   "name": "python",
   "nbconvert_exporter": "python",
   "pygments_lexer": "ipython3",
   "version": "3.9.13"
  },
  "orig_nbformat": 4,
  "vscode": {
   "interpreter": {
    "hash": "5f8929016d30f12a89eab5b5e02a6c1410fc73da4b23b89b4eb7a3bc58137fe5"
   }
  }
 },
 "nbformat": 4,
 "nbformat_minor": 2
}
