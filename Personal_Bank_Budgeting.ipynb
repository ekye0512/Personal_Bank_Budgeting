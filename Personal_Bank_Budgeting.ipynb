{
 "cells": [
  {
   "cell_type": "code",
   "execution_count": 248,
   "metadata": {},
   "outputs": [],
   "source": [
    "import pandas as pd \n",
    "import matplotlib.pyplot as plt\n",
    "import plotly.express as px\n",
    "import seaborn as sns\n",
    "\n",
    "import numpy as np\n",
    "from sklearn.linear_model import LinearRegression\n"
   ]
  },
  {
   "cell_type": "code",
   "execution_count": 249,
   "metadata": {},
   "outputs": [
    {
     "name": "stdout",
     "output_type": "stream",
     "text": [
      "Requirement already satisfied: pandas in /Users/eric/opt/anaconda3/lib/python3.9/site-packages (1.4.4)\n",
      "Requirement already satisfied: python-dateutil>=2.8.1 in /Users/eric/opt/anaconda3/lib/python3.9/site-packages (from pandas) (2.8.2)\n",
      "Requirement already satisfied: pytz>=2020.1 in /Users/eric/opt/anaconda3/lib/python3.9/site-packages (from pandas) (2022.1)\n",
      "Requirement already satisfied: numpy>=1.18.5 in /Users/eric/opt/anaconda3/lib/python3.9/site-packages (from pandas) (1.21.5)\n",
      "Requirement already satisfied: six>=1.5 in /Users/eric/opt/anaconda3/lib/python3.9/site-packages (from python-dateutil>=2.8.1->pandas) (1.16.0)\n",
      "Requirement already satisfied: scikit-learn in /Users/eric/opt/anaconda3/lib/python3.9/site-packages (1.0.2)\n",
      "Requirement already satisfied: scipy>=1.1.0 in /Users/eric/opt/anaconda3/lib/python3.9/site-packages (from scikit-learn) (1.9.1)\n",
      "Requirement already satisfied: threadpoolctl>=2.0.0 in /Users/eric/opt/anaconda3/lib/python3.9/site-packages (from scikit-learn) (2.2.0)\n",
      "Requirement already satisfied: numpy>=1.14.6 in /Users/eric/opt/anaconda3/lib/python3.9/site-packages (from scikit-learn) (1.21.5)\n",
      "Requirement already satisfied: joblib>=0.11 in /Users/eric/opt/anaconda3/lib/python3.9/site-packages (from scikit-learn) (1.1.0)\n"
     ]
    }
   ],
   "source": [
    "!pip install pandas \n",
    "\n",
    "!pip install scikit-learn\n"
   ]
  },
  {
   "attachments": {},
   "cell_type": "markdown",
   "metadata": {},
   "source": [
    "Wells Fargo Given DataSet "
   ]
  },
  {
   "cell_type": "code",
   "execution_count": 250,
   "metadata": {},
   "outputs": [
    {
     "data": {
      "text/html": [
       "<div>\n",
       "<style scoped>\n",
       "    .dataframe tbody tr th:only-of-type {\n",
       "        vertical-align: middle;\n",
       "    }\n",
       "\n",
       "    .dataframe tbody tr th {\n",
       "        vertical-align: top;\n",
       "    }\n",
       "\n",
       "    .dataframe thead th {\n",
       "        text-align: right;\n",
       "    }\n",
       "</style>\n",
       "<table border=\"1\" class=\"dataframe\">\n",
       "  <thead>\n",
       "    <tr style=\"text-align: right;\">\n",
       "      <th></th>\n",
       "      <th>12/30/22</th>\n",
       "      <th>-17</th>\n",
       "      <th>*</th>\n",
       "      <th>Venmo</th>\n",
       "      <th>PURCHASE AUTHORIZED ON 12/30 VENMO* Visa Direct NY S302364781105329 CARD 7605</th>\n",
       "    </tr>\n",
       "  </thead>\n",
       "  <tbody>\n",
       "    <tr>\n",
       "      <th>0</th>\n",
       "      <td>12/30/22</td>\n",
       "      <td>-4.00</td>\n",
       "      <td>*</td>\n",
       "      <td>Venmo</td>\n",
       "      <td>PURCHASE AUTHORIZED ON 12/29 VENMO* Visa Direc...</td>\n",
       "    </tr>\n",
       "    <tr>\n",
       "      <th>1</th>\n",
       "      <td>12/30/22</td>\n",
       "      <td>-5.25</td>\n",
       "      <td>*</td>\n",
       "      <td>Food</td>\n",
       "      <td>PURCHASE AUTHORIZED ON 12/28 BEI YUAN TEA &amp; BO...</td>\n",
       "    </tr>\n",
       "    <tr>\n",
       "      <th>2</th>\n",
       "      <td>12/28/22</td>\n",
       "      <td>-6.00</td>\n",
       "      <td>*</td>\n",
       "      <td>Venmo</td>\n",
       "      <td>PURCHASE AUTHORIZED ON 12/27 VENMO* San Jose C...</td>\n",
       "    </tr>\n",
       "    <tr>\n",
       "      <th>3</th>\n",
       "      <td>12/27/22</td>\n",
       "      <td>-2.75</td>\n",
       "      <td>*</td>\n",
       "      <td>Venmo</td>\n",
       "      <td>PURCHASE AUTHORIZED ON 12/27 VENMO* Visa Direc...</td>\n",
       "    </tr>\n",
       "    <tr>\n",
       "      <th>4</th>\n",
       "      <td>12/27/22</td>\n",
       "      <td>-7.00</td>\n",
       "      <td>*</td>\n",
       "      <td>Venmo</td>\n",
       "      <td>PURCHASE AUTHORIZED ON 12/27 VENMO* Visa Direc...</td>\n",
       "    </tr>\n",
       "  </tbody>\n",
       "</table>\n",
       "</div>"
      ],
      "text/plain": [
       "   12/30/22   -17  *  Venmo  \\\n",
       "0  12/30/22 -4.00  *  Venmo   \n",
       "1  12/30/22 -5.25  *   Food   \n",
       "2  12/28/22 -6.00  *  Venmo   \n",
       "3  12/27/22 -2.75  *  Venmo   \n",
       "4  12/27/22 -7.00  *  Venmo   \n",
       "\n",
       "  PURCHASE AUTHORIZED ON 12/30 VENMO* Visa Direct NY S302364781105329 CARD 7605  \n",
       "0  PURCHASE AUTHORIZED ON 12/29 VENMO* Visa Direc...                             \n",
       "1  PURCHASE AUTHORIZED ON 12/28 BEI YUAN TEA & BO...                             \n",
       "2  PURCHASE AUTHORIZED ON 12/27 VENMO* San Jose C...                             \n",
       "3  PURCHASE AUTHORIZED ON 12/27 VENMO* Visa Direc...                             \n",
       "4  PURCHASE AUTHORIZED ON 12/27 VENMO* Visa Direc...                             "
      ]
     },
     "execution_count": 250,
     "metadata": {},
     "output_type": "execute_result"
    }
   ],
   "source": [
    "df = pd.read_csv('/Users/eric/Documents/Github/Personal_Bank_Budgeting/Checking1.csv') \n",
    "df.head()\n",
    "\n",
    "#import my data set\n"
   ]
  },
  {
   "attachments": {},
   "cell_type": "markdown",
   "metadata": {},
   "source": [
    "General Bank Statement\n",
    "\n",
    "- Includes money earned and spent"
   ]
  },
  {
   "cell_type": "code",
   "execution_count": 251,
   "metadata": {},
   "outputs": [
    {
     "data": {
      "text/html": [
       "<div>\n",
       "<style scoped>\n",
       "    .dataframe tbody tr th:only-of-type {\n",
       "        vertical-align: middle;\n",
       "    }\n",
       "\n",
       "    .dataframe tbody tr th {\n",
       "        vertical-align: top;\n",
       "    }\n",
       "\n",
       "    .dataframe thead th {\n",
       "        text-align: right;\n",
       "    }\n",
       "</style>\n",
       "<table border=\"1\" class=\"dataframe\">\n",
       "  <thead>\n",
       "    <tr style=\"text-align: right;\">\n",
       "      <th></th>\n",
       "      <th>Dates</th>\n",
       "      <th>Money Spent</th>\n",
       "      <th>Type of Transaction</th>\n",
       "      <th>Transaction</th>\n",
       "    </tr>\n",
       "  </thead>\n",
       "  <tbody>\n",
       "    <tr>\n",
       "      <th>0</th>\n",
       "      <td>12/30/22</td>\n",
       "      <td>-4.00</td>\n",
       "      <td>Venmo</td>\n",
       "      <td>PURCHASE AUTHORIZED ON 12/29 VENMO* Visa Direc...</td>\n",
       "    </tr>\n",
       "    <tr>\n",
       "      <th>1</th>\n",
       "      <td>12/30/22</td>\n",
       "      <td>-5.25</td>\n",
       "      <td>Food</td>\n",
       "      <td>PURCHASE AUTHORIZED ON 12/28 BEI YUAN TEA &amp; BO...</td>\n",
       "    </tr>\n",
       "    <tr>\n",
       "      <th>2</th>\n",
       "      <td>12/28/22</td>\n",
       "      <td>-6.00</td>\n",
       "      <td>Venmo</td>\n",
       "      <td>PURCHASE AUTHORIZED ON 12/27 VENMO* San Jose C...</td>\n",
       "    </tr>\n",
       "    <tr>\n",
       "      <th>3</th>\n",
       "      <td>12/27/22</td>\n",
       "      <td>-2.75</td>\n",
       "      <td>Venmo</td>\n",
       "      <td>PURCHASE AUTHORIZED ON 12/27 VENMO* Visa Direc...</td>\n",
       "    </tr>\n",
       "    <tr>\n",
       "      <th>4</th>\n",
       "      <td>12/27/22</td>\n",
       "      <td>-7.00</td>\n",
       "      <td>Venmo</td>\n",
       "      <td>PURCHASE AUTHORIZED ON 12/27 VENMO* Visa Direc...</td>\n",
       "    </tr>\n",
       "  </tbody>\n",
       "</table>\n",
       "</div>"
      ],
      "text/plain": [
       "      Dates  Money Spent Type of Transaction  \\\n",
       "0  12/30/22        -4.00               Venmo   \n",
       "1  12/30/22        -5.25                Food   \n",
       "2  12/28/22        -6.00               Venmo   \n",
       "3  12/27/22        -2.75               Venmo   \n",
       "4  12/27/22        -7.00               Venmo   \n",
       "\n",
       "                                         Transaction  \n",
       "0  PURCHASE AUTHORIZED ON 12/29 VENMO* Visa Direc...  \n",
       "1  PURCHASE AUTHORIZED ON 12/28 BEI YUAN TEA & BO...  \n",
       "2  PURCHASE AUTHORIZED ON 12/27 VENMO* San Jose C...  \n",
       "3  PURCHASE AUTHORIZED ON 12/27 VENMO* Visa Direc...  \n",
       "4  PURCHASE AUTHORIZED ON 12/27 VENMO* Visa Direc...  "
      ]
     },
     "execution_count": 251,
     "metadata": {},
     "output_type": "execute_result"
    }
   ],
   "source": [
    "df.rename(columns={'12/30/22': 'Dates'},inplace=True)\n",
    "df.rename(columns={'-17': 'Money Spent'},inplace=True)\n",
    "df.rename(columns={'Venmo':'Type of Transaction'},inplace=True)\n",
    "df.rename(columns={'PURCHASE AUTHORIZED ON 12/30 VENMO* Visa Direct NY S302364781105329 CARD 7605':'Transaction'},inplace=True)\n",
    "del df['*']\n",
    "df.head()\n",
    "\n",
    "#rename columns to make more sense, remove null column '*'"
   ]
  },
  {
   "cell_type": "code",
   "execution_count": 252,
   "metadata": {},
   "outputs": [
    {
     "data": {
      "text/html": [
       "<div>\n",
       "<style scoped>\n",
       "    .dataframe tbody tr th:only-of-type {\n",
       "        vertical-align: middle;\n",
       "    }\n",
       "\n",
       "    .dataframe tbody tr th {\n",
       "        vertical-align: top;\n",
       "    }\n",
       "\n",
       "    .dataframe thead th {\n",
       "        text-align: right;\n",
       "    }\n",
       "</style>\n",
       "<table border=\"1\" class=\"dataframe\">\n",
       "  <thead>\n",
       "    <tr style=\"text-align: right;\">\n",
       "      <th></th>\n",
       "      <th>Dates</th>\n",
       "      <th>Money Spent</th>\n",
       "      <th>Type of Transaction</th>\n",
       "      <th>Transaction</th>\n",
       "    </tr>\n",
       "  </thead>\n",
       "  <tbody>\n",
       "    <tr>\n",
       "      <th>0</th>\n",
       "      <td>12/30/22</td>\n",
       "      <td>-4.00</td>\n",
       "      <td>Venmo</td>\n",
       "      <td>PURCHASE AUTHORIZED ON 12/29 VENMO* Visa Direc...</td>\n",
       "    </tr>\n",
       "    <tr>\n",
       "      <th>1</th>\n",
       "      <td>12/30/22</td>\n",
       "      <td>-5.25</td>\n",
       "      <td>Food</td>\n",
       "      <td>PURCHASE AUTHORIZED ON 12/28 BEI YUAN TEA &amp; BO...</td>\n",
       "    </tr>\n",
       "    <tr>\n",
       "      <th>2</th>\n",
       "      <td>12/28/22</td>\n",
       "      <td>-6.00</td>\n",
       "      <td>Venmo</td>\n",
       "      <td>PURCHASE AUTHORIZED ON 12/27 VENMO* San Jose C...</td>\n",
       "    </tr>\n",
       "    <tr>\n",
       "      <th>3</th>\n",
       "      <td>12/27/22</td>\n",
       "      <td>-2.75</td>\n",
       "      <td>Venmo</td>\n",
       "      <td>PURCHASE AUTHORIZED ON 12/27 VENMO* Visa Direc...</td>\n",
       "    </tr>\n",
       "    <tr>\n",
       "      <th>4</th>\n",
       "      <td>12/27/22</td>\n",
       "      <td>-7.00</td>\n",
       "      <td>Venmo</td>\n",
       "      <td>PURCHASE AUTHORIZED ON 12/27 VENMO* Visa Direc...</td>\n",
       "    </tr>\n",
       "    <tr>\n",
       "      <th>...</th>\n",
       "      <td>...</td>\n",
       "      <td>...</td>\n",
       "      <td>...</td>\n",
       "      <td>...</td>\n",
       "    </tr>\n",
       "    <tr>\n",
       "      <th>435</th>\n",
       "      <td>1/3/22</td>\n",
       "      <td>-164.12</td>\n",
       "      <td>Food</td>\n",
       "      <td>PURCHASE AUTHORIZED ON 01/01 HANDOO SAN DIEGO ...</td>\n",
       "    </tr>\n",
       "    <tr>\n",
       "      <th>436</th>\n",
       "      <td>1/3/22</td>\n",
       "      <td>-4.95</td>\n",
       "      <td>Food</td>\n",
       "      <td>PURCHASE AUTHORIZED ON 01/01 CHICK-FIL-A #0381...</td>\n",
       "    </tr>\n",
       "    <tr>\n",
       "      <th>437</th>\n",
       "      <td>1/3/22</td>\n",
       "      <td>-11.54</td>\n",
       "      <td>Food</td>\n",
       "      <td>PURCHASE AUTHORIZED ON 12/30 RAISING CANE'S 49...</td>\n",
       "    </tr>\n",
       "    <tr>\n",
       "      <th>438</th>\n",
       "      <td>1/3/22</td>\n",
       "      <td>139.00</td>\n",
       "      <td>Paid</td>\n",
       "      <td>VENMO CASHOUT 220102 1017725962825 ERIC KYE</td>\n",
       "    </tr>\n",
       "    <tr>\n",
       "      <th>439</th>\n",
       "      <td>1/3/22</td>\n",
       "      <td>19.00</td>\n",
       "      <td>Paid</td>\n",
       "      <td>VENMO CASHOUT 220102 1017726313951 ERIC KYE</td>\n",
       "    </tr>\n",
       "  </tbody>\n",
       "</table>\n",
       "<p>440 rows × 4 columns</p>\n",
       "</div>"
      ],
      "text/plain": [
       "        Dates  Money Spent Type of Transaction  \\\n",
       "0    12/30/22        -4.00               Venmo   \n",
       "1    12/30/22        -5.25                Food   \n",
       "2    12/28/22        -6.00               Venmo   \n",
       "3    12/27/22        -2.75               Venmo   \n",
       "4    12/27/22        -7.00               Venmo   \n",
       "..        ...          ...                 ...   \n",
       "435    1/3/22      -164.12                Food   \n",
       "436    1/3/22        -4.95                Food   \n",
       "437    1/3/22       -11.54                Food   \n",
       "438    1/3/22       139.00                Paid   \n",
       "439    1/3/22        19.00                Paid   \n",
       "\n",
       "                                           Transaction  \n",
       "0    PURCHASE AUTHORIZED ON 12/29 VENMO* Visa Direc...  \n",
       "1    PURCHASE AUTHORIZED ON 12/28 BEI YUAN TEA & BO...  \n",
       "2    PURCHASE AUTHORIZED ON 12/27 VENMO* San Jose C...  \n",
       "3    PURCHASE AUTHORIZED ON 12/27 VENMO* Visa Direc...  \n",
       "4    PURCHASE AUTHORIZED ON 12/27 VENMO* Visa Direc...  \n",
       "..                                                 ...  \n",
       "435  PURCHASE AUTHORIZED ON 01/01 HANDOO SAN DIEGO ...  \n",
       "436  PURCHASE AUTHORIZED ON 01/01 CHICK-FIL-A #0381...  \n",
       "437  PURCHASE AUTHORIZED ON 12/30 RAISING CANE'S 49...  \n",
       "438        VENMO CASHOUT 220102 1017725962825 ERIC KYE  \n",
       "439        VENMO CASHOUT 220102 1017726313951 ERIC KYE  \n",
       "\n",
       "[440 rows x 4 columns]"
      ]
     },
     "execution_count": 252,
     "metadata": {},
     "output_type": "execute_result"
    }
   ],
   "source": [
    "df"
   ]
  },
  {
   "cell_type": "code",
   "execution_count": 253,
   "metadata": {},
   "outputs": [
    {
     "data": {
      "text/html": [
       "<div>\n",
       "<style scoped>\n",
       "    .dataframe tbody tr th:only-of-type {\n",
       "        vertical-align: middle;\n",
       "    }\n",
       "\n",
       "    .dataframe tbody tr th {\n",
       "        vertical-align: top;\n",
       "    }\n",
       "\n",
       "    .dataframe thead th {\n",
       "        text-align: right;\n",
       "    }\n",
       "</style>\n",
       "<table border=\"1\" class=\"dataframe\">\n",
       "  <thead>\n",
       "    <tr style=\"text-align: right;\">\n",
       "      <th></th>\n",
       "      <th>Dates</th>\n",
       "      <th>Money Spent</th>\n",
       "      <th>Type of Transaction</th>\n",
       "      <th>Transaction</th>\n",
       "    </tr>\n",
       "  </thead>\n",
       "  <tbody>\n",
       "    <tr>\n",
       "      <th>0</th>\n",
       "      <td>12/30/22</td>\n",
       "      <td>4.00</td>\n",
       "      <td>Venmo</td>\n",
       "      <td>PURCHASE AUTHORIZED ON 12/29 VENMO* Visa Direc...</td>\n",
       "    </tr>\n",
       "    <tr>\n",
       "      <th>1</th>\n",
       "      <td>12/30/22</td>\n",
       "      <td>5.25</td>\n",
       "      <td>Food</td>\n",
       "      <td>PURCHASE AUTHORIZED ON 12/28 BEI YUAN TEA &amp; BO...</td>\n",
       "    </tr>\n",
       "    <tr>\n",
       "      <th>2</th>\n",
       "      <td>12/28/22</td>\n",
       "      <td>6.00</td>\n",
       "      <td>Venmo</td>\n",
       "      <td>PURCHASE AUTHORIZED ON 12/27 VENMO* San Jose C...</td>\n",
       "    </tr>\n",
       "    <tr>\n",
       "      <th>3</th>\n",
       "      <td>12/27/22</td>\n",
       "      <td>2.75</td>\n",
       "      <td>Venmo</td>\n",
       "      <td>PURCHASE AUTHORIZED ON 12/27 VENMO* Visa Direc...</td>\n",
       "    </tr>\n",
       "    <tr>\n",
       "      <th>4</th>\n",
       "      <td>12/27/22</td>\n",
       "      <td>7.00</td>\n",
       "      <td>Venmo</td>\n",
       "      <td>PURCHASE AUTHORIZED ON 12/27 VENMO* Visa Direc...</td>\n",
       "    </tr>\n",
       "    <tr>\n",
       "      <th>...</th>\n",
       "      <td>...</td>\n",
       "      <td>...</td>\n",
       "      <td>...</td>\n",
       "      <td>...</td>\n",
       "    </tr>\n",
       "    <tr>\n",
       "      <th>435</th>\n",
       "      <td>1/3/22</td>\n",
       "      <td>164.12</td>\n",
       "      <td>Food</td>\n",
       "      <td>PURCHASE AUTHORIZED ON 01/01 HANDOO SAN DIEGO ...</td>\n",
       "    </tr>\n",
       "    <tr>\n",
       "      <th>436</th>\n",
       "      <td>1/3/22</td>\n",
       "      <td>4.95</td>\n",
       "      <td>Food</td>\n",
       "      <td>PURCHASE AUTHORIZED ON 01/01 CHICK-FIL-A #0381...</td>\n",
       "    </tr>\n",
       "    <tr>\n",
       "      <th>437</th>\n",
       "      <td>1/3/22</td>\n",
       "      <td>11.54</td>\n",
       "      <td>Food</td>\n",
       "      <td>PURCHASE AUTHORIZED ON 12/30 RAISING CANE'S 49...</td>\n",
       "    </tr>\n",
       "    <tr>\n",
       "      <th>438</th>\n",
       "      <td>1/3/22</td>\n",
       "      <td>-139.00</td>\n",
       "      <td>Paid</td>\n",
       "      <td>VENMO CASHOUT 220102 1017725962825 ERIC KYE</td>\n",
       "    </tr>\n",
       "    <tr>\n",
       "      <th>439</th>\n",
       "      <td>1/3/22</td>\n",
       "      <td>-19.00</td>\n",
       "      <td>Paid</td>\n",
       "      <td>VENMO CASHOUT 220102 1017726313951 ERIC KYE</td>\n",
       "    </tr>\n",
       "  </tbody>\n",
       "</table>\n",
       "<p>440 rows × 4 columns</p>\n",
       "</div>"
      ],
      "text/plain": [
       "        Dates  Money Spent Type of Transaction  \\\n",
       "0    12/30/22         4.00               Venmo   \n",
       "1    12/30/22         5.25                Food   \n",
       "2    12/28/22         6.00               Venmo   \n",
       "3    12/27/22         2.75               Venmo   \n",
       "4    12/27/22         7.00               Venmo   \n",
       "..        ...          ...                 ...   \n",
       "435    1/3/22       164.12                Food   \n",
       "436    1/3/22         4.95                Food   \n",
       "437    1/3/22        11.54                Food   \n",
       "438    1/3/22      -139.00                Paid   \n",
       "439    1/3/22       -19.00                Paid   \n",
       "\n",
       "                                           Transaction  \n",
       "0    PURCHASE AUTHORIZED ON 12/29 VENMO* Visa Direc...  \n",
       "1    PURCHASE AUTHORIZED ON 12/28 BEI YUAN TEA & BO...  \n",
       "2    PURCHASE AUTHORIZED ON 12/27 VENMO* San Jose C...  \n",
       "3    PURCHASE AUTHORIZED ON 12/27 VENMO* Visa Direc...  \n",
       "4    PURCHASE AUTHORIZED ON 12/27 VENMO* Visa Direc...  \n",
       "..                                                 ...  \n",
       "435  PURCHASE AUTHORIZED ON 01/01 HANDOO SAN DIEGO ...  \n",
       "436  PURCHASE AUTHORIZED ON 01/01 CHICK-FIL-A #0381...  \n",
       "437  PURCHASE AUTHORIZED ON 12/30 RAISING CANE'S 49...  \n",
       "438        VENMO CASHOUT 220102 1017725962825 ERIC KYE  \n",
       "439        VENMO CASHOUT 220102 1017726313951 ERIC KYE  \n",
       "\n",
       "[440 rows x 4 columns]"
      ]
     },
     "execution_count": 253,
     "metadata": {},
     "output_type": "execute_result"
    }
   ],
   "source": [
    "df['Money Spent'] = df['Money Spent'].multiply(-1)\n",
    "\n",
    "\n",
    "df.head()\n",
    "\n",
    "#multiply all values by negative 1, to show the value spent as a positive value\n",
    "\n",
    "df"
   ]
  },
  {
   "cell_type": "code",
   "execution_count": 254,
   "metadata": {},
   "outputs": [
    {
     "data": {
      "text/plain": [
       "Index(['Dates', 'Money Spent', 'Type of Transaction', 'Transaction'], dtype='object')"
      ]
     },
     "execution_count": 254,
     "metadata": {},
     "output_type": "execute_result"
    }
   ],
   "source": [
    "df.columns\n"
   ]
  },
  {
   "cell_type": "code",
   "execution_count": 255,
   "metadata": {},
   "outputs": [
    {
     "data": {
      "text/html": [
       "<div>\n",
       "<style scoped>\n",
       "    .dataframe tbody tr th:only-of-type {\n",
       "        vertical-align: middle;\n",
       "    }\n",
       "\n",
       "    .dataframe tbody tr th {\n",
       "        vertical-align: top;\n",
       "    }\n",
       "\n",
       "    .dataframe thead th {\n",
       "        text-align: right;\n",
       "    }\n",
       "</style>\n",
       "<table border=\"1\" class=\"dataframe\">\n",
       "  <thead>\n",
       "    <tr style=\"text-align: right;\">\n",
       "      <th></th>\n",
       "      <th>Money Spent</th>\n",
       "    </tr>\n",
       "  </thead>\n",
       "  <tbody>\n",
       "    <tr>\n",
       "      <th>count</th>\n",
       "      <td>440.000000</td>\n",
       "    </tr>\n",
       "    <tr>\n",
       "      <th>mean</th>\n",
       "      <td>-4.825955</td>\n",
       "    </tr>\n",
       "    <tr>\n",
       "      <th>std</th>\n",
       "      <td>143.504533</td>\n",
       "    </tr>\n",
       "    <tr>\n",
       "      <th>min</th>\n",
       "      <td>-988.000000</td>\n",
       "    </tr>\n",
       "    <tr>\n",
       "      <th>25%</th>\n",
       "      <td>3.770000</td>\n",
       "    </tr>\n",
       "    <tr>\n",
       "      <th>50%</th>\n",
       "      <td>8.585000</td>\n",
       "    </tr>\n",
       "    <tr>\n",
       "      <th>75%</th>\n",
       "      <td>17.067500</td>\n",
       "    </tr>\n",
       "    <tr>\n",
       "      <th>max</th>\n",
       "      <td>1000.000000</td>\n",
       "    </tr>\n",
       "  </tbody>\n",
       "</table>\n",
       "</div>"
      ],
      "text/plain": [
       "       Money Spent\n",
       "count   440.000000\n",
       "mean     -4.825955\n",
       "std     143.504533\n",
       "min    -988.000000\n",
       "25%       3.770000\n",
       "50%       8.585000\n",
       "75%      17.067500\n",
       "max    1000.000000"
      ]
     },
     "execution_count": 255,
     "metadata": {},
     "output_type": "execute_result"
    }
   ],
   "source": [
    "df.describe()\n",
    "\n",
    "#stats of money spent"
   ]
  },
  {
   "cell_type": "code",
   "execution_count": null,
   "metadata": {},
   "outputs": [],
   "source": []
  },
  {
   "cell_type": "code",
   "execution_count": 256,
   "metadata": {},
   "outputs": [
    {
     "data": {
      "text/html": [
       "<div>\n",
       "<style scoped>\n",
       "    .dataframe tbody tr th:only-of-type {\n",
       "        vertical-align: middle;\n",
       "    }\n",
       "\n",
       "    .dataframe tbody tr th {\n",
       "        vertical-align: top;\n",
       "    }\n",
       "\n",
       "    .dataframe thead th {\n",
       "        text-align: right;\n",
       "    }\n",
       "</style>\n",
       "<table border=\"1\" class=\"dataframe\">\n",
       "  <thead>\n",
       "    <tr style=\"text-align: right;\">\n",
       "      <th></th>\n",
       "      <th>Dates</th>\n",
       "      <th>Money Spent</th>\n",
       "      <th>Type of Transaction</th>\n",
       "      <th>Transaction</th>\n",
       "      <th>Month</th>\n",
       "    </tr>\n",
       "  </thead>\n",
       "  <tbody>\n",
       "    <tr>\n",
       "      <th>0</th>\n",
       "      <td>2022-12-30</td>\n",
       "      <td>4.00</td>\n",
       "      <td>Venmo</td>\n",
       "      <td>PURCHASE AUTHORIZED ON 12/29 VENMO* Visa Direc...</td>\n",
       "      <td>12</td>\n",
       "    </tr>\n",
       "    <tr>\n",
       "      <th>1</th>\n",
       "      <td>2022-12-30</td>\n",
       "      <td>5.25</td>\n",
       "      <td>Food</td>\n",
       "      <td>PURCHASE AUTHORIZED ON 12/28 BEI YUAN TEA &amp; BO...</td>\n",
       "      <td>12</td>\n",
       "    </tr>\n",
       "    <tr>\n",
       "      <th>2</th>\n",
       "      <td>2022-12-28</td>\n",
       "      <td>6.00</td>\n",
       "      <td>Venmo</td>\n",
       "      <td>PURCHASE AUTHORIZED ON 12/27 VENMO* San Jose C...</td>\n",
       "      <td>12</td>\n",
       "    </tr>\n",
       "    <tr>\n",
       "      <th>3</th>\n",
       "      <td>2022-12-27</td>\n",
       "      <td>2.75</td>\n",
       "      <td>Venmo</td>\n",
       "      <td>PURCHASE AUTHORIZED ON 12/27 VENMO* Visa Direc...</td>\n",
       "      <td>12</td>\n",
       "    </tr>\n",
       "    <tr>\n",
       "      <th>4</th>\n",
       "      <td>2022-12-27</td>\n",
       "      <td>7.00</td>\n",
       "      <td>Venmo</td>\n",
       "      <td>PURCHASE AUTHORIZED ON 12/27 VENMO* Visa Direc...</td>\n",
       "      <td>12</td>\n",
       "    </tr>\n",
       "    <tr>\n",
       "      <th>...</th>\n",
       "      <td>...</td>\n",
       "      <td>...</td>\n",
       "      <td>...</td>\n",
       "      <td>...</td>\n",
       "      <td>...</td>\n",
       "    </tr>\n",
       "    <tr>\n",
       "      <th>435</th>\n",
       "      <td>2022-01-03</td>\n",
       "      <td>164.12</td>\n",
       "      <td>Food</td>\n",
       "      <td>PURCHASE AUTHORIZED ON 01/01 HANDOO SAN DIEGO ...</td>\n",
       "      <td>1</td>\n",
       "    </tr>\n",
       "    <tr>\n",
       "      <th>436</th>\n",
       "      <td>2022-01-03</td>\n",
       "      <td>4.95</td>\n",
       "      <td>Food</td>\n",
       "      <td>PURCHASE AUTHORIZED ON 01/01 CHICK-FIL-A #0381...</td>\n",
       "      <td>1</td>\n",
       "    </tr>\n",
       "    <tr>\n",
       "      <th>437</th>\n",
       "      <td>2022-01-03</td>\n",
       "      <td>11.54</td>\n",
       "      <td>Food</td>\n",
       "      <td>PURCHASE AUTHORIZED ON 12/30 RAISING CANE'S 49...</td>\n",
       "      <td>1</td>\n",
       "    </tr>\n",
       "    <tr>\n",
       "      <th>438</th>\n",
       "      <td>2022-01-03</td>\n",
       "      <td>-139.00</td>\n",
       "      <td>Paid</td>\n",
       "      <td>VENMO CASHOUT 220102 1017725962825 ERIC KYE</td>\n",
       "      <td>1</td>\n",
       "    </tr>\n",
       "    <tr>\n",
       "      <th>439</th>\n",
       "      <td>2022-01-03</td>\n",
       "      <td>-19.00</td>\n",
       "      <td>Paid</td>\n",
       "      <td>VENMO CASHOUT 220102 1017726313951 ERIC KYE</td>\n",
       "      <td>1</td>\n",
       "    </tr>\n",
       "  </tbody>\n",
       "</table>\n",
       "<p>440 rows × 5 columns</p>\n",
       "</div>"
      ],
      "text/plain": [
       "         Dates  Money Spent Type of Transaction  \\\n",
       "0   2022-12-30         4.00               Venmo   \n",
       "1   2022-12-30         5.25                Food   \n",
       "2   2022-12-28         6.00               Venmo   \n",
       "3   2022-12-27         2.75               Venmo   \n",
       "4   2022-12-27         7.00               Venmo   \n",
       "..         ...          ...                 ...   \n",
       "435 2022-01-03       164.12                Food   \n",
       "436 2022-01-03         4.95                Food   \n",
       "437 2022-01-03        11.54                Food   \n",
       "438 2022-01-03      -139.00                Paid   \n",
       "439 2022-01-03       -19.00                Paid   \n",
       "\n",
       "                                           Transaction  Month  \n",
       "0    PURCHASE AUTHORIZED ON 12/29 VENMO* Visa Direc...     12  \n",
       "1    PURCHASE AUTHORIZED ON 12/28 BEI YUAN TEA & BO...     12  \n",
       "2    PURCHASE AUTHORIZED ON 12/27 VENMO* San Jose C...     12  \n",
       "3    PURCHASE AUTHORIZED ON 12/27 VENMO* Visa Direc...     12  \n",
       "4    PURCHASE AUTHORIZED ON 12/27 VENMO* Visa Direc...     12  \n",
       "..                                                 ...    ...  \n",
       "435  PURCHASE AUTHORIZED ON 01/01 HANDOO SAN DIEGO ...      1  \n",
       "436  PURCHASE AUTHORIZED ON 01/01 CHICK-FIL-A #0381...      1  \n",
       "437  PURCHASE AUTHORIZED ON 12/30 RAISING CANE'S 49...      1  \n",
       "438        VENMO CASHOUT 220102 1017725962825 ERIC KYE      1  \n",
       "439        VENMO CASHOUT 220102 1017726313951 ERIC KYE      1  \n",
       "\n",
       "[440 rows x 5 columns]"
      ]
     },
     "execution_count": 256,
     "metadata": {},
     "output_type": "execute_result"
    }
   ],
   "source": [
    "df['Dates'] = pd.to_datetime(df['Dates'])\n",
    "\n",
    "\n",
    "\n",
    "df['Month'] = df['Dates'].dt.month \n",
    "\n",
    "\n",
    "df\n",
    "\n",
    "\n",
    "#putting the dates into date time format, and extracting the month to have a month by month analysis \n"
   ]
  },
  {
   "cell_type": "code",
   "execution_count": 257,
   "metadata": {},
   "outputs": [
    {
     "data": {
      "text/html": [
       "<div>\n",
       "<style scoped>\n",
       "    .dataframe tbody tr th:only-of-type {\n",
       "        vertical-align: middle;\n",
       "    }\n",
       "\n",
       "    .dataframe tbody tr th {\n",
       "        vertical-align: top;\n",
       "    }\n",
       "\n",
       "    .dataframe thead tr th {\n",
       "        text-align: left;\n",
       "    }\n",
       "\n",
       "    .dataframe thead tr:last-of-type th {\n",
       "        text-align: right;\n",
       "    }\n",
       "</style>\n",
       "<table border=\"1\" class=\"dataframe\">\n",
       "  <thead>\n",
       "    <tr>\n",
       "      <th></th>\n",
       "      <th colspan=\"8\" halign=\"left\">Money Spent</th>\n",
       "    </tr>\n",
       "    <tr>\n",
       "      <th></th>\n",
       "      <th>count</th>\n",
       "      <th>mean</th>\n",
       "      <th>std</th>\n",
       "      <th>min</th>\n",
       "      <th>25%</th>\n",
       "      <th>50%</th>\n",
       "      <th>75%</th>\n",
       "      <th>max</th>\n",
       "    </tr>\n",
       "    <tr>\n",
       "      <th>Month</th>\n",
       "      <th></th>\n",
       "      <th></th>\n",
       "      <th></th>\n",
       "      <th></th>\n",
       "      <th></th>\n",
       "      <th></th>\n",
       "      <th></th>\n",
       "      <th></th>\n",
       "    </tr>\n",
       "  </thead>\n",
       "  <tbody>\n",
       "    <tr>\n",
       "      <th>1</th>\n",
       "      <td>50.0</td>\n",
       "      <td>8.689000</td>\n",
       "      <td>40.859777</td>\n",
       "      <td>-139.00</td>\n",
       "      <td>4.4050</td>\n",
       "      <td>9.125</td>\n",
       "      <td>12.6800</td>\n",
       "      <td>164.12</td>\n",
       "    </tr>\n",
       "    <tr>\n",
       "      <th>2</th>\n",
       "      <td>34.0</td>\n",
       "      <td>-11.582059</td>\n",
       "      <td>98.713434</td>\n",
       "      <td>-539.77</td>\n",
       "      <td>1.6375</td>\n",
       "      <td>7.220</td>\n",
       "      <td>16.1875</td>\n",
       "      <td>33.49</td>\n",
       "    </tr>\n",
       "    <tr>\n",
       "      <th>3</th>\n",
       "      <td>56.0</td>\n",
       "      <td>-10.593393</td>\n",
       "      <td>116.456941</td>\n",
       "      <td>-619.39</td>\n",
       "      <td>3.0425</td>\n",
       "      <td>8.620</td>\n",
       "      <td>14.7275</td>\n",
       "      <td>320.00</td>\n",
       "    </tr>\n",
       "    <tr>\n",
       "      <th>4</th>\n",
       "      <td>29.0</td>\n",
       "      <td>-8.308276</td>\n",
       "      <td>99.586833</td>\n",
       "      <td>-520.67</td>\n",
       "      <td>5.0000</td>\n",
       "      <td>8.850</td>\n",
       "      <td>13.0500</td>\n",
       "      <td>43.60</td>\n",
       "    </tr>\n",
       "    <tr>\n",
       "      <th>5</th>\n",
       "      <td>33.0</td>\n",
       "      <td>-34.101515</td>\n",
       "      <td>140.777874</td>\n",
       "      <td>-542.95</td>\n",
       "      <td>-8.0000</td>\n",
       "      <td>6.480</td>\n",
       "      <td>13.0000</td>\n",
       "      <td>100.00</td>\n",
       "    </tr>\n",
       "    <tr>\n",
       "      <th>6</th>\n",
       "      <td>26.0</td>\n",
       "      <td>-15.889231</td>\n",
       "      <td>147.872063</td>\n",
       "      <td>-590.09</td>\n",
       "      <td>5.0000</td>\n",
       "      <td>17.950</td>\n",
       "      <td>25.0000</td>\n",
       "      <td>124.94</td>\n",
       "    </tr>\n",
       "    <tr>\n",
       "      <th>7</th>\n",
       "      <td>24.0</td>\n",
       "      <td>5.336250</td>\n",
       "      <td>40.857957</td>\n",
       "      <td>-176.00</td>\n",
       "      <td>2.8225</td>\n",
       "      <td>5.985</td>\n",
       "      <td>23.9500</td>\n",
       "      <td>46.99</td>\n",
       "    </tr>\n",
       "    <tr>\n",
       "      <th>8</th>\n",
       "      <td>37.0</td>\n",
       "      <td>-42.422162</td>\n",
       "      <td>226.869801</td>\n",
       "      <td>-988.00</td>\n",
       "      <td>4.0000</td>\n",
       "      <td>8.000</td>\n",
       "      <td>16.9200</td>\n",
       "      <td>49.99</td>\n",
       "    </tr>\n",
       "    <tr>\n",
       "      <th>9</th>\n",
       "      <td>43.0</td>\n",
       "      <td>2.665581</td>\n",
       "      <td>86.469058</td>\n",
       "      <td>-287.00</td>\n",
       "      <td>5.0000</td>\n",
       "      <td>8.550</td>\n",
       "      <td>18.2350</td>\n",
       "      <td>214.22</td>\n",
       "    </tr>\n",
       "    <tr>\n",
       "      <th>10</th>\n",
       "      <td>42.0</td>\n",
       "      <td>16.273571</td>\n",
       "      <td>198.594062</td>\n",
       "      <td>-640.00</td>\n",
       "      <td>5.0625</td>\n",
       "      <td>12.510</td>\n",
       "      <td>21.2625</td>\n",
       "      <td>689.80</td>\n",
       "    </tr>\n",
       "    <tr>\n",
       "      <th>11</th>\n",
       "      <td>34.0</td>\n",
       "      <td>-6.842059</td>\n",
       "      <td>118.287730</td>\n",
       "      <td>-666.99</td>\n",
       "      <td>4.1000</td>\n",
       "      <td>11.505</td>\n",
       "      <td>18.9725</td>\n",
       "      <td>77.00</td>\n",
       "    </tr>\n",
       "    <tr>\n",
       "      <th>12</th>\n",
       "      <td>32.0</td>\n",
       "      <td>33.894687</td>\n",
       "      <td>252.744547</td>\n",
       "      <td>-523.00</td>\n",
       "      <td>4.8550</td>\n",
       "      <td>10.630</td>\n",
       "      <td>15.5225</td>\n",
       "      <td>1000.00</td>\n",
       "    </tr>\n",
       "  </tbody>\n",
       "</table>\n",
       "</div>"
      ],
      "text/plain": [
       "      Money Spent                                                          \\\n",
       "            count       mean         std     min     25%     50%      75%   \n",
       "Month                                                                       \n",
       "1            50.0   8.689000   40.859777 -139.00  4.4050   9.125  12.6800   \n",
       "2            34.0 -11.582059   98.713434 -539.77  1.6375   7.220  16.1875   \n",
       "3            56.0 -10.593393  116.456941 -619.39  3.0425   8.620  14.7275   \n",
       "4            29.0  -8.308276   99.586833 -520.67  5.0000   8.850  13.0500   \n",
       "5            33.0 -34.101515  140.777874 -542.95 -8.0000   6.480  13.0000   \n",
       "6            26.0 -15.889231  147.872063 -590.09  5.0000  17.950  25.0000   \n",
       "7            24.0   5.336250   40.857957 -176.00  2.8225   5.985  23.9500   \n",
       "8            37.0 -42.422162  226.869801 -988.00  4.0000   8.000  16.9200   \n",
       "9            43.0   2.665581   86.469058 -287.00  5.0000   8.550  18.2350   \n",
       "10           42.0  16.273571  198.594062 -640.00  5.0625  12.510  21.2625   \n",
       "11           34.0  -6.842059  118.287730 -666.99  4.1000  11.505  18.9725   \n",
       "12           32.0  33.894687  252.744547 -523.00  4.8550  10.630  15.5225   \n",
       "\n",
       "                \n",
       "           max  \n",
       "Month           \n",
       "1       164.12  \n",
       "2        33.49  \n",
       "3       320.00  \n",
       "4        43.60  \n",
       "5       100.00  \n",
       "6       124.94  \n",
       "7        46.99  \n",
       "8        49.99  \n",
       "9       214.22  \n",
       "10      689.80  \n",
       "11       77.00  \n",
       "12     1000.00  "
      ]
     },
     "execution_count": 257,
     "metadata": {},
     "output_type": "execute_result"
    }
   ],
   "source": [
    "month = df.groupby('Month')\n",
    "\n",
    "month.mean()\n",
    "\n",
    "month.describe()\n",
    "\n",
    "#stats per month\n",
    "\n"
   ]
  },
  {
   "cell_type": "code",
   "execution_count": 258,
   "metadata": {},
   "outputs": [
    {
     "data": {
      "text/plain": [
       "<matplotlib.collections.PathCollection at 0x7fdc0ac43850>"
      ]
     },
     "execution_count": 258,
     "metadata": {},
     "output_type": "execute_result"
    },
    {
     "data": {
      "image/png": "[encoded data removed]",
      "text/plain": [
       "<Figure size 1200x800 with 1 Axes>"
      ]
     },
     "metadata": {},
     "output_type": "display_data"
    }
   ],
   "source": [
    "plt.figure(figsize=(12,8))\n",
    "plt.scatter(data=df, x='Month', y='Money Spent')\n",
    "\n",
    "#scatter plot of Money Spent vs Month"
   ]
  },
  {
   "cell_type": "code",
   "execution_count": 259,
   "metadata": {},
   "outputs": [
    {
     "data": {
      "text/plain": [
       "0.03867340159579912"
      ]
     },
     "execution_count": 259,
     "metadata": {},
     "output_type": "execute_result"
    }
   ],
   "source": [
    "x=df['Month']\n",
    "y=df['Money Spent']\n",
    "x.corr(y)\n",
    "\n",
    "#getting a correlation coefficent between x and y, clearly no linear relationship between Month and money spent"
   ]
  },
  {
   "cell_type": "code",
   "execution_count": 260,
   "metadata": {},
   "outputs": [
    {
     "data": {
      "text/plain": [
       "<AxesSubplot:xlabel='Money Spent', ylabel='Density'>"
      ]
     },
     "execution_count": 260,
     "metadata": {},
     "output_type": "execute_result"
    },
    {
     "data": {
      "image/png": "[encoded data removed]",
      "text/plain": [
       "<Figure size 1500x800 with 1 Axes>"
      ]
     },
     "metadata": {},
     "output_type": "display_data"
    }
   ],
   "source": [
    "plt.figure(figsize=(15,8))\n",
    "sns.histplot(x='Money Spent',data=df,bins=20,kde=True,stat='density')\n",
    "\n",
    "#histogram of money spent"
   ]
  },
  {
   "cell_type": "code",
   "execution_count": 261,
   "metadata": {},
   "outputs": [
    {
     "data": {
      "application/vnd.plotly.v1+json": {
       "config": {
        "plotlyServerURL": "https://plot.ly"
       },
       "data": [
        {
         "hovertemplate": "Dates=%{x}<br>Money Spent=%{y}<extra></extra>",
         "legendgroup": "",
         "line": {
          "color": "#636efa",
          "dash": "solid"
         },
         "marker": {
          "symbol": "circle"
         },
         "mode": "lines",
         "name": "",
         "orientation": "v",
         "showlegend": false,
         "type": "scatter",
         "x": [
          "2022-12-30T00:00:00",
          "2022-12-30T00:00:00",
          "2022-12-28T00:00:00",
          "2022-12-27T00:00:00",
          "2022-12-27T00:00:00",
          "2022-12-27T00:00:00",
          "2022-12-27T00:00:00",
          "2022-12-27T00:00:00",
          "2022-12-23T00:00:00",
          "2022-12-19T00:00:00",
          "2022-12-19T00:00:00",
          "2022-12-19T00:00:00",
          "2022-12-16T00:00:00",
          "2022-12-16T00:00:00",
          "2022-12-15T00:00:00",
          "2022-12-13T00:00:00",
          "2022-12-13T00:00:00",
          "2022-12-13T00:00:00",
          "2022-12-12T00:00:00",
          "2022-12-12T00:00:00",
          "2022-12-12T00:00:00",
          "2022-12-12T00:00:00",
          "2022-12-12T00:00:00",
          "2022-12-12T00:00:00",
          "2022-12-09T00:00:00",
          "2022-12-07T00:00:00",
          "2022-12-05T00:00:00",
          "2022-12-05T00:00:00",
          "2022-12-02T00:00:00",
          "2022-12-02T00:00:00",
          "2022-12-02T00:00:00",
          "2022-12-01T00:00:00",
          "2022-11-29T00:00:00",
          "2022-11-29T00:00:00",
          "2022-11-28T00:00:00",
          "2022-11-28T00:00:00",
          "2022-11-28T00:00:00",
          "2022-11-28T00:00:00",
          "2022-11-28T00:00:00",
          "2022-11-28T00:00:00",
          "2022-11-28T00:00:00",
          "2022-11-28T00:00:00",
          "2022-11-28T00:00:00",
          "2022-11-25T00:00:00",
          "2022-11-25T00:00:00",
          "2022-11-22T00:00:00",
          "2022-11-21T00:00:00",
          "2022-11-21T00:00:00",
          "2022-11-18T00:00:00",
          "2022-11-15T00:00:00",
          "2022-11-15T00:00:00",
          "2022-11-14T00:00:00",
          "2022-11-14T00:00:00",
          "2022-11-14T00:00:00",
          "2022-11-14T00:00:00",
          "2022-11-14T00:00:00",
          "2022-11-09T00:00:00",
          "2022-11-09T00:00:00",
          "2022-11-08T00:00:00",
          "2022-11-08T00:00:00",
          "2022-11-08T00:00:00",
          "2022-11-08T00:00:00",
          "2022-11-07T00:00:00",
          "2022-11-04T00:00:00",
          "2022-11-02T00:00:00",
          "2022-11-01T00:00:00",
          "2022-10-31T00:00:00",
          "2022-10-31T00:00:00",
          "2022-10-31T00:00:00",
          "2022-10-31T00:00:00",
          "2022-10-31T00:00:00",
          "2022-10-31T00:00:00",
          "2022-10-31T00:00:00",
          "2022-10-27T00:00:00",
          "2022-10-24T00:00:00",
          "2022-10-24T00:00:00",
          "2022-10-24T00:00:00",
          "2022-10-24T00:00:00",
          "2022-10-24T00:00:00",
          "2022-10-20T00:00:00",
          "2022-10-20T00:00:00",
          "2022-10-18T00:00:00",
          "2022-10-17T00:00:00",
          "2022-10-17T00:00:00",
          "2022-10-17T00:00:00",
          "2022-10-17T00:00:00",
          "2022-10-17T00:00:00",
          "2022-10-17T00:00:00",
          "2022-10-12T00:00:00",
          "2022-10-12T00:00:00",
          "2022-10-11T00:00:00",
          "2022-10-11T00:00:00",
          "2022-10-11T00:00:00",
          "2022-10-11T00:00:00",
          "2022-10-11T00:00:00",
          "2022-10-11T00:00:00",
          "2022-10-11T00:00:00",
          "2022-10-11T00:00:00",
          "2022-10-11T00:00:00",
          "2022-10-07T00:00:00",
          "2022-10-06T00:00:00",
          "2022-10-04T00:00:00",
          "2022-10-04T00:00:00",
          "2022-10-03T00:00:00",
          "2022-10-03T00:00:00",
          "2022-10-03T00:00:00",
          "2022-10-03T00:00:00",
          "2022-10-03T00:00:00",
          "2022-09-30T00:00:00",
          "2022-09-28T00:00:00",
          "2022-09-27T00:00:00",
          "2022-09-26T00:00:00",
          "2022-09-26T00:00:00",
          "2022-09-26T00:00:00",
          "2022-09-26T00:00:00",
          "2022-09-26T00:00:00",
          "2022-09-23T00:00:00",
          "2022-09-23T00:00:00",
          "2022-09-23T00:00:00",
          "2022-09-22T00:00:00",
          "2022-09-21T00:00:00",
          "2022-09-19T00:00:00",
          "2022-09-19T00:00:00",
          "2022-09-19T00:00:00",
          "2022-09-19T00:00:00",
          "2022-09-19T00:00:00",
          "2022-09-19T00:00:00",
          "2022-09-19T00:00:00",
          "2022-09-19T00:00:00",
          "2022-09-19T00:00:00",
          "2022-09-19T00:00:00",
          "2022-09-19T00:00:00",
          "2022-09-19T00:00:00",
          "2022-09-19T00:00:00",
          "2022-09-16T00:00:00",
          "2022-09-16T00:00:00",
          "2022-09-16T00:00:00",
          "2022-09-16T00:00:00",
          "2022-09-14T00:00:00",
          "2022-09-14T00:00:00",
          "2022-09-12T00:00:00",
          "2022-09-12T00:00:00",
          "2022-09-12T00:00:00",
          "2022-09-09T00:00:00",
          "2022-09-08T00:00:00",
          "2022-09-08T00:00:00",
          "2022-09-07T00:00:00",
          "2022-09-06T00:00:00",
          "2022-09-06T00:00:00",
          "2022-09-06T00:00:00",
          "2022-09-02T00:00:00",
          "2022-08-31T00:00:00",
          "2022-08-31T00:00:00",
          "2022-08-30T00:00:00",
          "2022-08-29T00:00:00",
          "2022-08-29T00:00:00",
          "2022-08-29T00:00:00",
          "2022-08-29T00:00:00",
          "2022-08-25T00:00:00",
          "2022-08-24T00:00:00",
          "2022-08-23T00:00:00",
          "2022-08-23T00:00:00",
          "2022-08-22T00:00:00",
          "2022-08-22T00:00:00",
          "2022-08-22T00:00:00",
          "2022-08-22T00:00:00",
          "2022-08-22T00:00:00",
          "2022-08-18T00:00:00",
          "2022-08-17T00:00:00",
          "2022-08-15T00:00:00",
          "2022-08-15T00:00:00",
          "2022-08-15T00:00:00",
          "2022-08-12T00:00:00",
          "2022-08-11T00:00:00",
          "2022-08-11T00:00:00",
          "2022-08-08T00:00:00",
          "2022-08-08T00:00:00",
          "2022-08-08T00:00:00",
          "2022-08-08T00:00:00",
          "2022-08-04T00:00:00",
          "2022-08-04T00:00:00",
          "2022-08-04T00:00:00",
          "2022-08-04T00:00:00",
          "2022-08-03T00:00:00",
          "2022-08-03T00:00:00",
          "2022-08-01T00:00:00",
          "2022-08-01T00:00:00",
          "2022-08-01T00:00:00",
          "2022-07-29T00:00:00",
          "2022-07-28T00:00:00",
          "2022-07-26T00:00:00",
          "2022-07-26T00:00:00",
          "2022-07-25T00:00:00",
          "2022-07-25T00:00:00",
          "2022-07-21T00:00:00",
          "2022-07-21T00:00:00",
          "2022-07-20T00:00:00",
          "2022-07-19T00:00:00",
          "2022-07-19T00:00:00",
          "2022-07-19T00:00:00",
          "2022-07-18T00:00:00",
          "2022-07-18T00:00:00",
          "2022-07-18T00:00:00",
          "2022-07-15T00:00:00",
          "2022-07-14T00:00:00",
          "2022-07-13T00:00:00",
          "2022-07-13T00:00:00",
          "2022-07-11T00:00:00",
          "2022-07-06T00:00:00",
          "2022-07-06T00:00:00",
          "2022-07-05T00:00:00",
          "2022-07-01T00:00:00",
          "2022-06-29T00:00:00",
          "2022-06-29T00:00:00",
          "2022-06-29T00:00:00",
          "2022-06-29T00:00:00",
          "2022-06-27T00:00:00",
          "2022-06-27T00:00:00",
          "2022-06-27T00:00:00",
          "2022-06-27T00:00:00",
          "2022-06-24T00:00:00",
          "2022-06-22T00:00:00",
          "2022-06-21T00:00:00",
          "2022-06-21T00:00:00",
          "2022-06-14T00:00:00",
          "2022-06-14T00:00:00",
          "2022-06-14T00:00:00",
          "2022-06-13T00:00:00",
          "2022-06-13T00:00:00",
          "2022-06-09T00:00:00",
          "2022-06-07T00:00:00",
          "2022-06-06T00:00:00",
          "2022-06-06T00:00:00",
          "2022-06-06T00:00:00",
          "2022-06-06T00:00:00",
          "2022-06-06T00:00:00",
          "2022-06-03T00:00:00",
          "2022-06-03T00:00:00",
          "2022-05-31T00:00:00",
          "2022-05-31T00:00:00",
          "2022-05-31T00:00:00",
          "2022-05-31T00:00:00",
          "2022-05-24T00:00:00",
          "2022-05-24T00:00:00",
          "2022-05-24T00:00:00",
          "2022-05-24T00:00:00",
          "2022-05-23T00:00:00",
          "2022-05-23T00:00:00",
          "2022-05-23T00:00:00",
          "2022-05-23T00:00:00",
          "2022-05-23T00:00:00",
          "2022-05-20T00:00:00",
          "2022-05-18T00:00:00",
          "2022-05-17T00:00:00",
          "2022-05-16T00:00:00",
          "2022-05-16T00:00:00",
          "2022-05-16T00:00:00",
          "2022-05-16T00:00:00",
          "2022-05-16T00:00:00",
          "2022-05-13T00:00:00",
          "2022-05-10T00:00:00",
          "2022-05-09T00:00:00",
          "2022-05-09T00:00:00",
          "2022-05-09T00:00:00",
          "2022-05-09T00:00:00",
          "2022-05-09T00:00:00",
          "2022-05-09T00:00:00",
          "2022-05-06T00:00:00",
          "2022-05-02T00:00:00",
          "2022-05-02T00:00:00",
          "2022-05-02T00:00:00",
          "2022-04-29T00:00:00",
          "2022-04-29T00:00:00",
          "2022-04-28T00:00:00",
          "2022-04-27T00:00:00",
          "2022-04-26T00:00:00",
          "2022-04-25T00:00:00",
          "2022-04-25T00:00:00",
          "2022-04-25T00:00:00",
          "2022-04-25T00:00:00",
          "2022-04-25T00:00:00",
          "2022-04-22T00:00:00",
          "2022-04-22T00:00:00",
          "2022-04-22T00:00:00",
          "2022-04-21T00:00:00",
          "2022-04-18T00:00:00",
          "2022-04-15T00:00:00",
          "2022-04-15T00:00:00",
          "2022-04-14T00:00:00",
          "2022-04-13T00:00:00",
          "2022-04-13T00:00:00",
          "2022-04-11T00:00:00",
          "2022-04-11T00:00:00",
          "2022-04-11T00:00:00",
          "2022-04-11T00:00:00",
          "2022-04-11T00:00:00",
          "2022-04-04T00:00:00",
          "2022-04-04T00:00:00",
          "2022-04-04T00:00:00",
          "2022-04-04T00:00:00",
          "2022-03-30T00:00:00",
          "2022-03-28T00:00:00",
          "2022-03-28T00:00:00",
          "2022-03-28T00:00:00",
          "2022-03-28T00:00:00",
          "2022-03-28T00:00:00",
          "2022-03-28T00:00:00",
          "2022-03-28T00:00:00",
          "2022-03-28T00:00:00",
          "2022-03-25T00:00:00",
          "2022-03-25T00:00:00",
          "2022-03-25T00:00:00",
          "2022-03-24T00:00:00",
          "2022-03-23T00:00:00",
          "2022-03-23T00:00:00",
          "2022-03-23T00:00:00",
          "2022-03-22T00:00:00",
          "2022-03-22T00:00:00",
          "2022-03-21T00:00:00",
          "2022-03-21T00:00:00",
          "2022-03-21T00:00:00",
          "2022-03-21T00:00:00",
          "2022-03-21T00:00:00",
          "2022-03-21T00:00:00",
          "2022-03-21T00:00:00",
          "2022-03-21T00:00:00",
          "2022-03-21T00:00:00",
          "2022-03-21T00:00:00",
          "2022-03-18T00:00:00",
          "2022-03-18T00:00:00",
          "2022-03-17T00:00:00",
          "2022-03-17T00:00:00",
          "2022-03-16T00:00:00",
          "2022-03-15T00:00:00",
          "2022-03-15T00:00:00",
          "2022-03-14T00:00:00",
          "2022-03-14T00:00:00",
          "2022-03-14T00:00:00",
          "2022-03-14T00:00:00",
          "2022-03-14T00:00:00",
          "2022-03-14T00:00:00",
          "2022-03-11T00:00:00",
          "2022-03-10T00:00:00",
          "2022-03-10T00:00:00",
          "2022-03-08T00:00:00",
          "2022-03-08T00:00:00",
          "2022-03-08T00:00:00",
          "2022-03-07T00:00:00",
          "2022-03-07T00:00:00",
          "2022-03-07T00:00:00",
          "2022-03-07T00:00:00",
          "2022-03-07T00:00:00",
          "2022-03-04T00:00:00",
          "2022-03-04T00:00:00",
          "2022-03-03T00:00:00",
          "2022-03-01T00:00:00",
          "2022-02-25T00:00:00",
          "2022-02-24T00:00:00",
          "2022-02-24T00:00:00",
          "2022-02-23T00:00:00",
          "2022-02-22T00:00:00",
          "2022-02-22T00:00:00",
          "2022-02-22T00:00:00",
          "2022-02-22T00:00:00",
          "2022-02-22T00:00:00",
          "2022-02-22T00:00:00",
          "2022-02-22T00:00:00",
          "2022-02-18T00:00:00",
          "2022-02-16T00:00:00",
          "2022-02-15T00:00:00",
          "2022-02-15T00:00:00",
          "2022-02-15T00:00:00",
          "2022-02-14T00:00:00",
          "2022-02-14T00:00:00",
          "2022-02-14T00:00:00",
          "2022-02-10T00:00:00",
          "2022-02-09T00:00:00",
          "2022-02-09T00:00:00",
          "2022-02-09T00:00:00",
          "2022-02-07T00:00:00",
          "2022-02-07T00:00:00",
          "2022-02-07T00:00:00",
          "2022-02-07T00:00:00",
          "2022-02-07T00:00:00",
          "2022-02-07T00:00:00",
          "2022-02-04T00:00:00",
          "2022-02-04T00:00:00",
          "2022-02-03T00:00:00",
          "2022-02-03T00:00:00",
          "2022-02-01T00:00:00",
          "2022-01-31T00:00:00",
          "2022-01-31T00:00:00",
          "2022-01-31T00:00:00",
          "2022-01-31T00:00:00",
          "2022-01-31T00:00:00",
          "2022-01-31T00:00:00",
          "2022-01-31T00:00:00",
          "2022-01-28T00:00:00",
          "2022-01-28T00:00:00",
          "2022-01-28T00:00:00",
          "2022-01-27T00:00:00",
          "2022-01-26T00:00:00",
          "2022-01-26T00:00:00",
          "2022-01-25T00:00:00",
          "2022-01-24T00:00:00",
          "2022-01-24T00:00:00",
          "2022-01-24T00:00:00",
          "2022-01-24T00:00:00",
          "2022-01-24T00:00:00",
          "2022-01-20T00:00:00",
          "2022-01-19T00:00:00",
          "2022-01-18T00:00:00",
          "2022-01-18T00:00:00",
          "2022-01-18T00:00:00",
          "2022-01-18T00:00:00",
          "2022-01-18T00:00:00",
          "2022-01-18T00:00:00",
          "2022-01-14T00:00:00",
          "2022-01-13T00:00:00",
          "2022-01-13T00:00:00",
          "2022-01-13T00:00:00",
          "2022-01-10T00:00:00",
          "2022-01-10T00:00:00",
          "2022-01-10T00:00:00",
          "2022-01-10T00:00:00",
          "2022-01-10T00:00:00",
          "2022-01-07T00:00:00",
          "2022-01-05T00:00:00",
          "2022-01-04T00:00:00",
          "2022-01-04T00:00:00",
          "2022-01-04T00:00:00",
          "2022-01-03T00:00:00",
          "2022-01-03T00:00:00",
          "2022-01-03T00:00:00",
          "2022-01-03T00:00:00",
          "2022-01-03T00:00:00",
          "2022-01-03T00:00:00",
          "2022-01-03T00:00:00",
          "2022-01-03T00:00:00",
          "2022-01-03T00:00:00"
         ],
         "xaxis": "x",
         "y": [
          4,
          5.25,
          6,
          2.75,
          7,
          18.41,
          105,
          -523,
          4.99,
          5,
          10.76,
          6.21,
          11.8,
          -500,
          11.95,
          30.02,
          13.57,
          4.45,
          24.24,
          14.56,
          10.5,
          14.55,
          12.18,
          1.08,
          1.39,
          1000,
          52.02,
          12.92,
          1.78,
          4.99,
          20.46,
          689.8,
          5.5,
          -7.93,
          77,
          14.48,
          17.32,
          4.28,
          11.37,
          7.2,
          24.98,
          12.95,
          -5.18,
          19,
          14.5,
          18.89,
          6.49,
          10.53,
          3.94,
          21.71,
          -10.16,
          11.94,
          7.3,
          23.33,
          5,
          -10.16,
          13.5,
          25.98,
          4.04,
          22.6,
          11.64,
          -21.98,
          58.34,
          51.96,
          -666.99,
          -16,
          15.1,
          63.92,
          10.03,
          8.05,
          11.85,
          9.73,
          5.25,
          689.8,
          51.2,
          20.58,
          8.08,
          81.7,
          13.17,
          14.8,
          -13.39,
          13.39,
          45.41,
          2.58,
          16.53,
          13.39,
          4.99,
          -640,
          2.6,
          14.04,
          14.07,
          6.48,
          5,
          11.6,
          2.7,
          5.49,
          7,
          29.22,
          -14.04,
          -210.79,
          1.8,
          35.03,
          -447,
          26.85,
          689.8,
          14.04,
          21.95,
          21.49,
          9.95,
          6.7,
          29.13,
          7,
          6.3,
          57.55,
          6.7,
          -29,
          10.29,
          186.52,
          -11.36,
          31.33,
          -268,
          59.49,
          7.57,
          9.98,
          5,
          7.57,
          6,
          8.08,
          214.22,
          3.06,
          11.9,
          21.64,
          8.55,
          -8.56,
          4.28,
          11.36,
          11.62,
          -245.5,
          4.5,
          16.47,
          65,
          38.25,
          2.14,
          20,
          5,
          15.08,
          -287,
          10.13,
          30,
          9.69,
          5.99,
          2.14,
          4,
          21.29,
          2,
          9.81,
          2.26,
          6.79,
          8.08,
          6.25,
          33.83,
          9.5,
          18.95,
          5.41,
          10.8,
          20.45,
          -988,
          8.38,
          15.6,
          1.34,
          11.84,
          29.99,
          4.15,
          3.01,
          18.26,
          16.92,
          49.99,
          -965,
          -46.99,
          42,
          8,
          20.3,
          6.02,
          11.5,
          6.02,
          2.14,
          7,
          6.35,
          46.99,
          1.08,
          25,
          9.68,
          2.41,
          3.77,
          25.08,
          -176,
          3.77,
          1.08,
          1.07,
          1.07,
          2.96,
          23.6,
          6.02,
          32.69,
          5.99,
          3,
          29.99,
          34.5,
          11.12,
          22.92,
          4.3,
          5.98,
          3.22,
          20,
          48.51,
          5,
          25,
          6.01,
          45,
          22.51,
          -415.37,
          6.98,
          23.67,
          7.89,
          0.01,
          59.98,
          124.94,
          29.99,
          20.91,
          5,
          1.99,
          6.95,
          22.52,
          25,
          3.66,
          15.9,
          61.7,
          -590.09,
          4.33,
          46.79,
          21.99,
          5.85,
          13,
          4.6,
          17.28,
          -3,
          5.58,
          10.39,
          -8,
          -79,
          -28,
          -542.95,
          6.48,
          100,
          43,
          6.8,
          13.28,
          8.65,
          -50,
          -405,
          12.98,
          5.49,
          33.48,
          3.34,
          79.7,
          7.52,
          -40,
          -423.03,
          6.7,
          9.61,
          -13.21,
          13,
          19.99,
          7.52,
          5,
          14.78,
          2.25,
          3.25,
          13.05,
          11.64,
          33.28,
          7.67,
          5,
          -520.67,
          5.26,
          15.36,
          4.29,
          10.81,
          43.6,
          5.82,
          37.6,
          8.85,
          7.51,
          9.61,
          15.16,
          -5,
          0.51,
          11.9,
          12.95,
          -40.93,
          -169,
          5,
          40.93,
          2.5,
          2.5,
          9.91,
          11.71,
          8.6,
          -9.35,
          1.56,
          11.8,
          -273.75,
          15.07,
          8.94,
          13.45,
          -105.26,
          12.92,
          32.31,
          23.69,
          10.71,
          11.61,
          14.64,
          13.08,
          0.99,
          21.09,
          4.3,
          15.61,
          -38.78,
          25,
          5.12,
          7.1,
          17,
          1.71,
          16.16,
          -350,
          6.76,
          3.99,
          11.71,
          6,
          5.33,
          3.75,
          -619.39,
          136.24,
          4.95,
          7.04,
          12.44,
          8.64,
          320,
          2.99,
          3.06,
          8.77,
          5,
          14.99,
          18.84,
          1.79,
          25,
          -168.35,
          1,
          1.95,
          10.83,
          8.12,
          1.6,
          9.63,
          9,
          18.42,
          14.95,
          0.99,
          25,
          4,
          13.93,
          28.13,
          5,
          16.18,
          1.5,
          17.27,
          1.75,
          5.15,
          33.49,
          1.75,
          6.32,
          16.19,
          23.79,
          -17.9,
          -0.03,
          -0.01,
          19.45,
          -539.77,
          5,
          11.76,
          20.12,
          1,
          22.69,
          5,
          11.04,
          10.75,
          12.68,
          -37,
          3.95,
          12.68,
          10,
          4.26,
          11.58,
          29.31,
          2.27,
          6.36,
          8.57,
          2.29,
          6.47,
          11.48,
          9.68,
          0.99,
          6.51,
          92.58,
          2.74,
          7.56,
          9.7,
          -56.7,
          54.74,
          4.84,
          8.03,
          -110.19,
          10,
          13.02,
          28,
          20,
          11.37,
          10,
          1.98,
          20.52,
          5,
          16.92,
          60,
          39.19,
          4.88,
          5.1,
          164.12,
          4.95,
          11.54,
          -139,
          -19
         ],
         "yaxis": "y"
        }
       ],
       "layout": {
        "legend": {
         "tracegroupgap": 0
        },
        "margin": {
         "t": 60
        },
        "template": {
         "data": {
          "bar": [
           {
            "error_x": {
             "color": "#2a3f5f"
            },
            "error_y": {
             "color": "#2a3f5f"
            },
            "marker": {
             "line": {
              "color": "#E5ECF6",
              "width": 0.5
             },
             "pattern": {
              "fillmode": "overlay",
              "size": 10,
              "solidity": 0.2
             }
            },
            "type": "bar"
           }
          ],
          "barpolar": [
           {
            "marker": {
             "line": {
              "color": "#E5ECF6",
              "width": 0.5
             },
             "pattern": {
              "fillmode": "overlay",
              "size": 10,
              "solidity": 0.2
             }
            },
            "type": "barpolar"
           }
          ],
          "carpet": [
           {
            "aaxis": {
             "endlinecolor": "#2a3f5f",
             "gridcolor": "white",
             "linecolor": "white",
             "minorgridcolor": "white",
             "startlinecolor": "#2a3f5f"
            },
            "baxis": {
             "endlinecolor": "#2a3f5f",
             "gridcolor": "white",
             "linecolor": "white",
             "minorgridcolor": "white",
             "startlinecolor": "#2a3f5f"
            },
            "type": "carpet"
           }
          ],
          "choropleth": [
           {
            "colorbar": {
             "outlinewidth": 0,
             "ticks": ""
            },
            "type": "choropleth"
           }
          ],
          "contour": [
           {
            "colorbar": {
             "outlinewidth": 0,
             "ticks": ""
            },
            "colorscale": [
             [
              0,
              "#0d0887"
             ],
             [
              0.1111111111111111,
              "#46039f"
             ],
             [
              0.2222222222222222,
              "#7201a8"
             ],
             [
              0.3333333333333333,
              "#9c179e"
             ],
             [
              0.4444444444444444,
              "#bd3786"
             ],
             [
              0.5555555555555556,
              "#d8576b"
             ],
             [
              0.6666666666666666,
              "#ed7953"
             ],
             [
              0.7777777777777778,
              "#fb9f3a"
             ],
             [
              0.8888888888888888,
              "#fdca26"
             ],
             [
              1,
              "#f0f921"
             ]
            ],
            "type": "contour"
           }
          ],
          "contourcarpet": [
           {
            "colorbar": {
             "outlinewidth": 0,
             "ticks": ""
            },
            "type": "contourcarpet"
           }
          ],
          "heatmap": [
           {
            "colorbar": {
             "outlinewidth": 0,
             "ticks": ""
            },
            "colorscale": [
             [
              0,
              "#0d0887"
             ],
             [
              0.1111111111111111,
              "#46039f"
             ],
             [
              0.2222222222222222,
              "#7201a8"
             ],
             [
              0.3333333333333333,
              "#9c179e"
             ],
             [
              0.4444444444444444,
              "#bd3786"
             ],
             [
              0.5555555555555556,
              "#d8576b"
             ],
             [
              0.6666666666666666,
              "#ed7953"
             ],
             [
              0.7777777777777778,
              "#fb9f3a"
             ],
             [
              0.8888888888888888,
              "#fdca26"
             ],
             [
              1,
              "#f0f921"
             ]
            ],
            "type": "heatmap"
           }
          ],
          "heatmapgl": [
           {
            "colorbar": {
             "outlinewidth": 0,
             "ticks": ""
            },
            "colorscale": [
             [
              0,
              "#0d0887"
             ],
             [
              0.1111111111111111,
              "#46039f"
             ],
             [
              0.2222222222222222,
              "#7201a8"
             ],
             [
              0.3333333333333333,
              "#9c179e"
             ],
             [
              0.4444444444444444,
              "#bd3786"
             ],
             [
              0.5555555555555556,
              "#d8576b"
             ],
             [
              0.6666666666666666,
              "#ed7953"
             ],
             [
              0.7777777777777778,
              "#fb9f3a"
             ],
             [
              0.8888888888888888,
              "#fdca26"
             ],
             [
              1,
              "#f0f921"
             ]
            ],
            "type": "heatmapgl"
           }
          ],
          "histogram": [
           {
            "marker": {
             "pattern": {
              "fillmode": "overlay",
              "size": 10,
              "solidity": 0.2
             }
            },
            "type": "histogram"
           }
          ],
          "histogram2d": [
           {
            "colorbar": {
             "outlinewidth": 0,
             "ticks": ""
            },
            "colorscale": [
             [
              0,
              "#0d0887"
             ],
             [
              0.1111111111111111,
              "#46039f"
             ],
             [
              0.2222222222222222,
              "#7201a8"
             ],
             [
              0.3333333333333333,
              "#9c179e"
             ],
             [
              0.4444444444444444,
              "#bd3786"
             ],
             [
              0.5555555555555556,
              "#d8576b"
             ],
             [
              0.6666666666666666,
              "#ed7953"
             ],
             [
              0.7777777777777778,
              "#fb9f3a"
             ],
             [
              0.8888888888888888,
              "#fdca26"
             ],
             [
              1,
              "#f0f921"
             ]
            ],
            "type": "histogram2d"
           }
          ],
          "histogram2dcontour": [
           {
            "colorbar": {
             "outlinewidth": 0,
             "ticks": ""
            },
            "colorscale": [
             [
              0,
              "#0d0887"
             ],
             [
              0.1111111111111111,
              "#46039f"
             ],
             [
              0.2222222222222222,
              "#7201a8"
             ],
             [
              0.3333333333333333,
              "#9c179e"
             ],
             [
              0.4444444444444444,
              "#bd3786"
             ],
             [
              0.5555555555555556,
              "#d8576b"
             ],
             [
              0.6666666666666666,
              "#ed7953"
             ],
             [
              0.7777777777777778,
              "#fb9f3a"
             ],
             [
              0.8888888888888888,
              "#fdca26"
             ],
             [
              1,
              "#f0f921"
             ]
            ],
            "type": "histogram2dcontour"
           }
          ],
          "mesh3d": [
           {
            "colorbar": {
             "outlinewidth": 0,
             "ticks": ""
            },
            "type": "mesh3d"
           }
          ],
          "parcoords": [
           {
            "line": {
             "colorbar": {
              "outlinewidth": 0,
              "ticks": ""
             }
            },
            "type": "parcoords"
           }
          ],
          "pie": [
           {
            "automargin": true,
            "type": "pie"
           }
          ],
          "scatter": [
           {
            "fillpattern": {
             "fillmode": "overlay",
             "size": 10,
             "solidity": 0.2
            },
            "type": "scatter"
           }
          ],
          "scatter3d": [
           {
            "line": {
             "colorbar": {
              "outlinewidth": 0,
              "ticks": ""
             }
            },
            "marker": {
             "colorbar": {
              "outlinewidth": 0,
              "ticks": ""
             }
            },
            "type": "scatter3d"
           }
          ],
          "scattercarpet": [
           {
            "marker": {
             "colorbar": {
              "outlinewidth": 0,
              "ticks": ""
             }
            },
            "type": "scattercarpet"
           }
          ],
          "scattergeo": [
           {
            "marker": {
             "colorbar": {
              "outlinewidth": 0,
              "ticks": ""
             }
            },
            "type": "scattergeo"
           }
          ],
          "scattergl": [
           {
            "marker": {
             "colorbar": {
              "outlinewidth": 0,
              "ticks": ""
             }
            },
            "type": "scattergl"
           }
          ],
          "scattermapbox": [
           {
            "marker": {
             "colorbar": {
              "outlinewidth": 0,
              "ticks": ""
             }
            },
            "type": "scattermapbox"
           }
          ],
          "scatterpolar": [
           {
            "marker": {
             "colorbar": {
              "outlinewidth": 0,
              "ticks": ""
             }
            },
            "type": "scatterpolar"
           }
          ],
          "scatterpolargl": [
           {
            "marker": {
             "colorbar": {
              "outlinewidth": 0,
              "ticks": ""
             }
            },
            "type": "scatterpolargl"
           }
          ],
          "scatterternary": [
           {
            "marker": {
             "colorbar": {
              "outlinewidth": 0,
              "ticks": ""
             }
            },
            "type": "scatterternary"
           }
          ],
          "surface": [
           {
            "colorbar": {
             "outlinewidth": 0,
             "ticks": ""
            },
            "colorscale": [
             [
              0,
              "#0d0887"
             ],
             [
              0.1111111111111111,
              "#46039f"
             ],
             [
              0.2222222222222222,
              "#7201a8"
             ],
             [
              0.3333333333333333,
              "#9c179e"
             ],
             [
              0.4444444444444444,
              "#bd3786"
             ],
             [
              0.5555555555555556,
              "#d8576b"
             ],
             [
              0.6666666666666666,
              "#ed7953"
             ],
             [
              0.7777777777777778,
              "#fb9f3a"
             ],
             [
              0.8888888888888888,
              "#fdca26"
             ],
             [
              1,
              "#f0f921"
             ]
            ],
            "type": "surface"
           }
          ],
          "table": [
           {
            "cells": {
             "fill": {
              "color": "#EBF0F8"
             },
             "line": {
              "color": "white"
             }
            },
            "header": {
             "fill": {
              "color": "#C8D4E3"
             },
             "line": {
              "color": "white"
             }
            },
            "type": "table"
           }
          ]
         },
         "layout": {
          "annotationdefaults": {
           "arrowcolor": "#2a3f5f",
           "arrowhead": 0,
           "arrowwidth": 1
          },
          "autotypenumbers": "strict",
          "coloraxis": {
           "colorbar": {
            "outlinewidth": 0,
            "ticks": ""
           }
          },
          "colorscale": {
           "diverging": [
            [
             0,
             "#8e0152"
            ],
            [
             0.1,
             "#c51b7d"
            ],
            [
             0.2,
             "#de77ae"
            ],
            [
             0.3,
             "#f1b6da"
            ],
            [
             0.4,
             "#fde0ef"
            ],
            [
             0.5,
             "#f7f7f7"
            ],
            [
             0.6,
             "#e6f5d0"
            ],
            [
             0.7,
             "#b8e186"
            ],
            [
             0.8,
             "#7fbc41"
            ],
            [
             0.9,
             "#4d9221"
            ],
            [
             1,
             "#276419"
            ]
           ],
           "sequential": [
            [
             0,
             "#0d0887"
            ],
            [
             0.1111111111111111,
             "#46039f"
            ],
            [
             0.2222222222222222,
             "#7201a8"
            ],
            [
             0.3333333333333333,
             "#9c179e"
            ],
            [
             0.4444444444444444,
             "#bd3786"
            ],
            [
             0.5555555555555556,
             "#d8576b"
            ],
            [
             0.6666666666666666,
             "#ed7953"
            ],
            [
             0.7777777777777778,
             "#fb9f3a"
            ],
            [
             0.8888888888888888,
             "#fdca26"
            ],
            [
             1,
             "#f0f921"
            ]
           ],
           "sequentialminus": [
            [
             0,
             "#0d0887"
            ],
            [
             0.1111111111111111,
             "#46039f"
            ],
            [
             0.2222222222222222,
             "#7201a8"
            ],
            [
             0.3333333333333333,
             "#9c179e"
            ],
            [
             0.4444444444444444,
             "#bd3786"
            ],
            [
             0.5555555555555556,
             "#d8576b"
            ],
            [
             0.6666666666666666,
             "#ed7953"
            ],
            [
             0.7777777777777778,
             "#fb9f3a"
            ],
            [
             0.8888888888888888,
             "#fdca26"
            ],
            [
             1,
             "#f0f921"
            ]
           ]
          },
          "colorway": [
           "#636efa",
           "#EF553B",
           "#00cc96",
           "#ab63fa",
           "#FFA15A",
           "#19d3f3",
           "#FF6692",
           "#B6E880",
           "#FF97FF",
           "#FECB52"
          ],
          "font": {
           "color": "#2a3f5f"
          },
          "geo": {
           "bgcolor": "white",
           "lakecolor": "white",
           "landcolor": "#E5ECF6",
           "showlakes": true,
           "showland": true,
           "subunitcolor": "white"
          },
          "hoverlabel": {
           "align": "left"
          },
          "hovermode": "closest",
          "mapbox": {
           "style": "light"
          },
          "paper_bgcolor": "white",
          "plot_bgcolor": "#E5ECF6",
          "polar": {
           "angularaxis": {
            "gridcolor": "white",
            "linecolor": "white",
            "ticks": ""
           },
           "bgcolor": "#E5ECF6",
           "radialaxis": {
            "gridcolor": "white",
            "linecolor": "white",
            "ticks": ""
           }
          },
          "scene": {
           "xaxis": {
            "backgroundcolor": "#E5ECF6",
            "gridcolor": "white",
            "gridwidth": 2,
            "linecolor": "white",
            "showbackground": true,
            "ticks": "",
            "zerolinecolor": "white"
           },
           "yaxis": {
            "backgroundcolor": "#E5ECF6",
            "gridcolor": "white",
            "gridwidth": 2,
            "linecolor": "white",
            "showbackground": true,
            "ticks": "",
            "zerolinecolor": "white"
           },
           "zaxis": {
            "backgroundcolor": "#E5ECF6",
            "gridcolor": "white",
            "gridwidth": 2,
            "linecolor": "white",
            "showbackground": true,
            "ticks": "",
            "zerolinecolor": "white"
           }
          },
          "shapedefaults": {
           "line": {
            "color": "#2a3f5f"
           }
          },
          "ternary": {
           "aaxis": {
            "gridcolor": "white",
            "linecolor": "white",
            "ticks": ""
           },
           "baxis": {
            "gridcolor": "white",
            "linecolor": "white",
            "ticks": ""
           },
           "bgcolor": "#E5ECF6",
           "caxis": {
            "gridcolor": "white",
            "linecolor": "white",
            "ticks": ""
           }
          },
          "title": {
           "x": 0.05
          },
          "xaxis": {
           "automargin": true,
           "gridcolor": "white",
           "linecolor": "white",
           "ticks": "",
           "title": {
            "standoff": 15
           },
           "zerolinecolor": "white",
           "zerolinewidth": 2
          },
          "yaxis": {
           "automargin": true,
           "gridcolor": "white",
           "linecolor": "white",
           "ticks": "",
           "title": {
            "standoff": 15
           },
           "zerolinecolor": "white",
           "zerolinewidth": 2
          }
         }
        },
        "xaxis": {
         "anchor": "y",
         "domain": [
          0,
          1
         ],
         "title": {
          "text": "Dates"
         }
        },
        "yaxis": {
         "anchor": "x",
         "domain": [
          0,
          1
         ],
         "title": {
          "text": "Money Spent"
         }
        }
       }
      }
     },
     "metadata": {},
     "output_type": "display_data"
    }
   ],
   "source": [
    "fig = px.line(df, x='Dates', y=\"Money Spent\")\n",
    "fig.show()\n",
    "\n",
    "# time series plot of money spent vs dates"
   ]
  },
  {
   "cell_type": "code",
   "execution_count": 262,
   "metadata": {},
   "outputs": [
    {
     "data": {
      "application/vnd.plotly.v1+json": {
       "config": {
        "plotlyServerURL": "https://plot.ly"
       },
       "data": [
        {
         "hovertemplate": "Month=%{x}<br>Money Spent=%{y}<extra></extra>",
         "legendgroup": "",
         "line": {
          "color": "#636efa",
          "dash": "solid"
         },
         "marker": {
          "symbol": "circle"
         },
         "mode": "lines",
         "name": "",
         "orientation": "v",
         "showlegend": false,
         "type": "scatter",
         "x": [
          12,
          12,
          12,
          12,
          12,
          12,
          12,
          12,
          12,
          12,
          12,
          12,
          12,
          12,
          12,
          12,
          12,
          12,
          12,
          12,
          12,
          12,
          12,
          12,
          12,
          12,
          12,
          12,
          12,
          12,
          12,
          12,
          11,
          11,
          11,
          11,
          11,
          11,
          11,
          11,
          11,
          11,
          11,
          11,
          11,
          11,
          11,
          11,
          11,
          11,
          11,
          11,
          11,
          11,
          11,
          11,
          11,
          11,
          11,
          11,
          11,
          11,
          11,
          11,
          11,
          11,
          10,
          10,
          10,
          10,
          10,
          10,
          10,
          10,
          10,
          10,
          10,
          10,
          10,
          10,
          10,
          10,
          10,
          10,
          10,
          10,
          10,
          10,
          10,
          10,
          10,
          10,
          10,
          10,
          10,
          10,
          10,
          10,
          10,
          10,
          10,
          10,
          10,
          10,
          10,
          10,
          10,
          10,
          9,
          9,
          9,
          9,
          9,
          9,
          9,
          9,
          9,
          9,
          9,
          9,
          9,
          9,
          9,
          9,
          9,
          9,
          9,
          9,
          9,
          9,
          9,
          9,
          9,
          9,
          9,
          9,
          9,
          9,
          9,
          9,
          9,
          9,
          9,
          9,
          9,
          9,
          9,
          9,
          9,
          9,
          9,
          8,
          8,
          8,
          8,
          8,
          8,
          8,
          8,
          8,
          8,
          8,
          8,
          8,
          8,
          8,
          8,
          8,
          8,
          8,
          8,
          8,
          8,
          8,
          8,
          8,
          8,
          8,
          8,
          8,
          8,
          8,
          8,
          8,
          8,
          8,
          8,
          8,
          7,
          7,
          7,
          7,
          7,
          7,
          7,
          7,
          7,
          7,
          7,
          7,
          7,
          7,
          7,
          7,
          7,
          7,
          7,
          7,
          7,
          7,
          7,
          7,
          6,
          6,
          6,
          6,
          6,
          6,
          6,
          6,
          6,
          6,
          6,
          6,
          6,
          6,
          6,
          6,
          6,
          6,
          6,
          6,
          6,
          6,
          6,
          6,
          6,
          6,
          5,
          5,
          5,
          5,
          5,
          5,
          5,
          5,
          5,
          5,
          5,
          5,
          5,
          5,
          5,
          5,
          5,
          5,
          5,
          5,
          5,
          5,
          5,
          5,
          5,
          5,
          5,
          5,
          5,
          5,
          5,
          5,
          5,
          4,
          4,
          4,
          4,
          4,
          4,
          4,
          4,
          4,
          4,
          4,
          4,
          4,
          4,
          4,
          4,
          4,
          4,
          4,
          4,
          4,
          4,
          4,
          4,
          4,
          4,
          4,
          4,
          4,
          3,
          3,
          3,
          3,
          3,
          3,
          3,
          3,
          3,
          3,
          3,
          3,
          3,
          3,
          3,
          3,
          3,
          3,
          3,
          3,
          3,
          3,
          3,
          3,
          3,
          3,
          3,
          3,
          3,
          3,
          3,
          3,
          3,
          3,
          3,
          3,
          3,
          3,
          3,
          3,
          3,
          3,
          3,
          3,
          3,
          3,
          3,
          3,
          3,
          3,
          3,
          3,
          3,
          3,
          3,
          3,
          2,
          2,
          2,
          2,
          2,
          2,
          2,
          2,
          2,
          2,
          2,
          2,
          2,
          2,
          2,
          2,
          2,
          2,
          2,
          2,
          2,
          2,
          2,
          2,
          2,
          2,
          2,
          2,
          2,
          2,
          2,
          2,
          2,
          2,
          1,
          1,
          1,
          1,
          1,
          1,
          1,
          1,
          1,
          1,
          1,
          1,
          1,
          1,
          1,
          1,
          1,
          1,
          1,
          1,
          1,
          1,
          1,
          1,
          1,
          1,
          1,
          1,
          1,
          1,
          1,
          1,
          1,
          1,
          1,
          1,
          1,
          1,
          1,
          1,
          1,
          1,
          1,
          1,
          1,
          1,
          1,
          1,
          1,
          1
         ],
         "xaxis": "x",
         "y": [
          4,
          5.25,
          6,
          2.75,
          7,
          18.41,
          105,
          -523,
          4.99,
          5,
          10.76,
          6.21,
          11.8,
          -500,
          11.95,
          30.02,
          13.57,
          4.45,
          24.24,
          14.56,
          10.5,
          14.55,
          12.18,
          1.08,
          1.39,
          1000,
          52.02,
          12.92,
          1.78,
          4.99,
          20.46,
          689.8,
          5.5,
          -7.93,
          77,
          14.48,
          17.32,
          4.28,
          11.37,
          7.2,
          24.98,
          12.95,
          -5.18,
          19,
          14.5,
          18.89,
          6.49,
          10.53,
          3.94,
          21.71,
          -10.16,
          11.94,
          7.3,
          23.33,
          5,
          -10.16,
          13.5,
          25.98,
          4.04,
          22.6,
          11.64,
          -21.98,
          58.34,
          51.96,
          -666.99,
          -16,
          15.1,
          63.92,
          10.03,
          8.05,
          11.85,
          9.73,
          5.25,
          689.8,
          51.2,
          20.58,
          8.08,
          81.7,
          13.17,
          14.8,
          -13.39,
          13.39,
          45.41,
          2.58,
          16.53,
          13.39,
          4.99,
          -640,
          2.6,
          14.04,
          14.07,
          6.48,
          5,
          11.6,
          2.7,
          5.49,
          7,
          29.22,
          -14.04,
          -210.79,
          1.8,
          35.03,
          -447,
          26.85,
          689.8,
          14.04,
          21.95,
          21.49,
          9.95,
          6.7,
          29.13,
          7,
          6.3,
          57.55,
          6.7,
          -29,
          10.29,
          186.52,
          -11.36,
          31.33,
          -268,
          59.49,
          7.57,
          9.98,
          5,
          7.57,
          6,
          8.08,
          214.22,
          3.06,
          11.9,
          21.64,
          8.55,
          -8.56,
          4.28,
          11.36,
          11.62,
          -245.5,
          4.5,
          16.47,
          65,
          38.25,
          2.14,
          20,
          5,
          15.08,
          -287,
          10.13,
          30,
          9.69,
          5.99,
          2.14,
          4,
          21.29,
          2,
          9.81,
          2.26,
          6.79,
          8.08,
          6.25,
          33.83,
          9.5,
          18.95,
          5.41,
          10.8,
          20.45,
          -988,
          8.38,
          15.6,
          1.34,
          11.84,
          29.99,
          4.15,
          3.01,
          18.26,
          16.92,
          49.99,
          -965,
          -46.99,
          42,
          8,
          20.3,
          6.02,
          11.5,
          6.02,
          2.14,
          7,
          6.35,
          46.99,
          1.08,
          25,
          9.68,
          2.41,
          3.77,
          25.08,
          -176,
          3.77,
          1.08,
          1.07,
          1.07,
          2.96,
          23.6,
          6.02,
          32.69,
          5.99,
          3,
          29.99,
          34.5,
          11.12,
          22.92,
          4.3,
          5.98,
          3.22,
          20,
          48.51,
          5,
          25,
          6.01,
          45,
          22.51,
          -415.37,
          6.98,
          23.67,
          7.89,
          0.01,
          59.98,
          124.94,
          29.99,
          20.91,
          5,
          1.99,
          6.95,
          22.52,
          25,
          3.66,
          15.9,
          61.7,
          -590.09,
          4.33,
          46.79,
          21.99,
          5.85,
          13,
          4.6,
          17.28,
          -3,
          5.58,
          10.39,
          -8,
          -79,
          -28,
          -542.95,
          6.48,
          100,
          43,
          6.8,
          13.28,
          8.65,
          -50,
          -405,
          12.98,
          5.49,
          33.48,
          3.34,
          79.7,
          7.52,
          -40,
          -423.03,
          6.7,
          9.61,
          -13.21,
          13,
          19.99,
          7.52,
          5,
          14.78,
          2.25,
          3.25,
          13.05,
          11.64,
          33.28,
          7.67,
          5,
          -520.67,
          5.26,
          15.36,
          4.29,
          10.81,
          43.6,
          5.82,
          37.6,
          8.85,
          7.51,
          9.61,
          15.16,
          -5,
          0.51,
          11.9,
          12.95,
          -40.93,
          -169,
          5,
          40.93,
          2.5,
          2.5,
          9.91,
          11.71,
          8.6,
          -9.35,
          1.56,
          11.8,
          -273.75,
          15.07,
          8.94,
          13.45,
          -105.26,
          12.92,
          32.31,
          23.69,
          10.71,
          11.61,
          14.64,
          13.08,
          0.99,
          21.09,
          4.3,
          15.61,
          -38.78,
          25,
          5.12,
          7.1,
          17,
          1.71,
          16.16,
          -350,
          6.76,
          3.99,
          11.71,
          6,
          5.33,
          3.75,
          -619.39,
          136.24,
          4.95,
          7.04,
          12.44,
          8.64,
          320,
          2.99,
          3.06,
          8.77,
          5,
          14.99,
          18.84,
          1.79,
          25,
          -168.35,
          1,
          1.95,
          10.83,
          8.12,
          1.6,
          9.63,
          9,
          18.42,
          14.95,
          0.99,
          25,
          4,
          13.93,
          28.13,
          5,
          16.18,
          1.5,
          17.27,
          1.75,
          5.15,
          33.49,
          1.75,
          6.32,
          16.19,
          23.79,
          -17.9,
          -0.03,
          -0.01,
          19.45,
          -539.77,
          5,
          11.76,
          20.12,
          1,
          22.69,
          5,
          11.04,
          10.75,
          12.68,
          -37,
          3.95,
          12.68,
          10,
          4.26,
          11.58,
          29.31,
          2.27,
          6.36,
          8.57,
          2.29,
          6.47,
          11.48,
          9.68,
          0.99,
          6.51,
          92.58,
          2.74,
          7.56,
          9.7,
          -56.7,
          54.74,
          4.84,
          8.03,
          -110.19,
          10,
          13.02,
          28,
          20,
          11.37,
          10,
          1.98,
          20.52,
          5,
          16.92,
          60,
          39.19,
          4.88,
          5.1,
          164.12,
          4.95,
          11.54,
          -139,
          -19
         ],
         "yaxis": "y"
        }
       ],
       "layout": {
        "legend": {
         "tracegroupgap": 0
        },
        "margin": {
         "t": 60
        },
        "template": {
         "data": {
          "bar": [
           {
            "error_x": {
             "color": "#2a3f5f"
            },
            "error_y": {
             "color": "#2a3f5f"
            },
            "marker": {
             "line": {
              "color": "#E5ECF6",
              "width": 0.5
             },
             "pattern": {
              "fillmode": "overlay",
              "size": 10,
              "solidity": 0.2
             }
            },
            "type": "bar"
           }
          ],
          "barpolar": [
           {
            "marker": {
             "line": {
              "color": "#E5ECF6",
              "width": 0.5
             },
             "pattern": {
              "fillmode": "overlay",
              "size": 10,
              "solidity": 0.2
             }
            },
            "type": "barpolar"
           }
          ],
          "carpet": [
           {
            "aaxis": {
             "endlinecolor": "#2a3f5f",
             "gridcolor": "white",
             "linecolor": "white",
             "minorgridcolor": "white",
             "startlinecolor": "#2a3f5f"
            },
            "baxis": {
             "endlinecolor": "#2a3f5f",
             "gridcolor": "white",
             "linecolor": "white",
             "minorgridcolor": "white",
             "startlinecolor": "#2a3f5f"
            },
            "type": "carpet"
           }
          ],
          "choropleth": [
           {
            "colorbar": {
             "outlinewidth": 0,
             "ticks": ""
            },
            "type": "choropleth"
           }
          ],
          "contour": [
           {
            "colorbar": {
             "outlinewidth": 0,
             "ticks": ""
            },
            "colorscale": [
             [
              0,
              "#0d0887"
             ],
             [
              0.1111111111111111,
              "#46039f"
             ],
             [
              0.2222222222222222,
              "#7201a8"
             ],
             [
              0.3333333333333333,
              "#9c179e"
             ],
             [
              0.4444444444444444,
              "#bd3786"
             ],
             [
              0.5555555555555556,
              "#d8576b"
             ],
             [
              0.6666666666666666,
              "#ed7953"
             ],
             [
              0.7777777777777778,
              "#fb9f3a"
             ],
             [
              0.8888888888888888,
              "#fdca26"
             ],
             [
              1,
              "#f0f921"
             ]
            ],
            "type": "contour"
           }
          ],
          "contourcarpet": [
           {
            "colorbar": {
             "outlinewidth": 0,
             "ticks": ""
            },
            "type": "contourcarpet"
           }
          ],
          "heatmap": [
           {
            "colorbar": {
             "outlinewidth": 0,
             "ticks": ""
            },
            "colorscale": [
             [
              0,
              "#0d0887"
             ],
             [
              0.1111111111111111,
              "#46039f"
             ],
             [
              0.2222222222222222,
              "#7201a8"
             ],
             [
              0.3333333333333333,
              "#9c179e"
             ],
             [
              0.4444444444444444,
              "#bd3786"
             ],
             [
              0.5555555555555556,
              "#d8576b"
             ],
             [
              0.6666666666666666,
              "#ed7953"
             ],
             [
              0.7777777777777778,
              "#fb9f3a"
             ],
             [
              0.8888888888888888,
              "#fdca26"
             ],
             [
              1,
              "#f0f921"
             ]
            ],
            "type": "heatmap"
           }
          ],
          "heatmapgl": [
           {
            "colorbar": {
             "outlinewidth": 0,
             "ticks": ""
            },
            "colorscale": [
             [
              0,
              "#0d0887"
             ],
             [
              0.1111111111111111,
              "#46039f"
             ],
             [
              0.2222222222222222,
              "#7201a8"
             ],
             [
              0.3333333333333333,
              "#9c179e"
             ],
             [
              0.4444444444444444,
              "#bd3786"
             ],
             [
              0.5555555555555556,
              "#d8576b"
             ],
             [
              0.6666666666666666,
              "#ed7953"
             ],
             [
              0.7777777777777778,
              "#fb9f3a"
             ],
             [
              0.8888888888888888,
              "#fdca26"
             ],
             [
              1,
              "#f0f921"
             ]
            ],
            "type": "heatmapgl"
           }
          ],
          "histogram": [
           {
            "marker": {
             "pattern": {
              "fillmode": "overlay",
              "size": 10,
              "solidity": 0.2
             }
            },
            "type": "histogram"
           }
          ],
          "histogram2d": [
           {
            "colorbar": {
             "outlinewidth": 0,
             "ticks": ""
            },
            "colorscale": [
             [
              0,
              "#0d0887"
             ],
             [
              0.1111111111111111,
              "#46039f"
             ],
             [
              0.2222222222222222,
              "#7201a8"
             ],
             [
              0.3333333333333333,
              "#9c179e"
             ],
             [
              0.4444444444444444,
              "#bd3786"
             ],
             [
              0.5555555555555556,
              "#d8576b"
             ],
             [
              0.6666666666666666,
              "#ed7953"
             ],
             [
              0.7777777777777778,
              "#fb9f3a"
             ],
             [
              0.8888888888888888,
              "#fdca26"
             ],
             [
              1,
              "#f0f921"
             ]
            ],
            "type": "histogram2d"
           }
          ],
          "histogram2dcontour": [
           {
            "colorbar": {
             "outlinewidth": 0,
             "ticks": ""
            },
            "colorscale": [
             [
              0,
              "#0d0887"
             ],
             [
              0.1111111111111111,
              "#46039f"
             ],
             [
              0.2222222222222222,
              "#7201a8"
             ],
             [
              0.3333333333333333,
              "#9c179e"
             ],
             [
              0.4444444444444444,
              "#bd3786"
             ],
             [
              0.5555555555555556,
              "#d8576b"
             ],
             [
              0.6666666666666666,
              "#ed7953"
             ],
             [
              0.7777777777777778,
              "#fb9f3a"
             ],
             [
              0.8888888888888888,
              "#fdca26"
             ],
             [
              1,
              "#f0f921"
             ]
            ],
            "type": "histogram2dcontour"
           }
          ],
          "mesh3d": [
           {
            "colorbar": {
             "outlinewidth": 0,
             "ticks": ""
            },
            "type": "mesh3d"
           }
          ],
          "parcoords": [
           {
            "line": {
             "colorbar": {
              "outlinewidth": 0,
              "ticks": ""
             }
            },
            "type": "parcoords"
           }
          ],
          "pie": [
           {
            "automargin": true,
            "type": "pie"
           }
          ],
          "scatter": [
           {
            "fillpattern": {
             "fillmode": "overlay",
             "size": 10,
             "solidity": 0.2
            },
            "type": "scatter"
           }
          ],
          "scatter3d": [
           {
            "line": {
             "colorbar": {
              "outlinewidth": 0,
              "ticks": ""
             }
            },
            "marker": {
             "colorbar": {
              "outlinewidth": 0,
              "ticks": ""
             }
            },
            "type": "scatter3d"
           }
          ],
          "scattercarpet": [
           {
            "marker": {
             "colorbar": {
              "outlinewidth": 0,
              "ticks": ""
             }
            },
            "type": "scattercarpet"
           }
          ],
          "scattergeo": [
           {
            "marker": {
             "colorbar": {
              "outlinewidth": 0,
              "ticks": ""
             }
            },
            "type": "scattergeo"
           }
          ],
          "scattergl": [
           {
            "marker": {
             "colorbar": {
              "outlinewidth": 0,
              "ticks": ""
             }
            },
            "type": "scattergl"
           }
          ],
          "scattermapbox": [
           {
            "marker": {
             "colorbar": {
              "outlinewidth": 0,
              "ticks": ""
             }
            },
            "type": "scattermapbox"
           }
          ],
          "scatterpolar": [
           {
            "marker": {
             "colorbar": {
              "outlinewidth": 0,
              "ticks": ""
             }
            },
            "type": "scatterpolar"
           }
          ],
          "scatterpolargl": [
           {
            "marker": {
             "colorbar": {
              "outlinewidth": 0,
              "ticks": ""
             }
            },
            "type": "scatterpolargl"
           }
          ],
          "scatterternary": [
           {
            "marker": {
             "colorbar": {
              "outlinewidth": 0,
              "ticks": ""
             }
            },
            "type": "scatterternary"
           }
          ],
          "surface": [
           {
            "colorbar": {
             "outlinewidth": 0,
             "ticks": ""
            },
            "colorscale": [
             [
              0,
              "#0d0887"
             ],
             [
              0.1111111111111111,
              "#46039f"
             ],
             [
              0.2222222222222222,
              "#7201a8"
             ],
             [
              0.3333333333333333,
              "#9c179e"
             ],
             [
              0.4444444444444444,
              "#bd3786"
             ],
             [
              0.5555555555555556,
              "#d8576b"
             ],
             [
              0.6666666666666666,
              "#ed7953"
             ],
             [
              0.7777777777777778,
              "#fb9f3a"
             ],
             [
              0.8888888888888888,
              "#fdca26"
             ],
             [
              1,
              "#f0f921"
             ]
            ],
            "type": "surface"
           }
          ],
          "table": [
           {
            "cells": {
             "fill": {
              "color": "#EBF0F8"
             },
             "line": {
              "color": "white"
             }
            },
            "header": {
             "fill": {
              "color": "#C8D4E3"
             },
             "line": {
              "color": "white"
             }
            },
            "type": "table"
           }
          ]
         },
         "layout": {
          "annotationdefaults": {
           "arrowcolor": "#2a3f5f",
           "arrowhead": 0,
           "arrowwidth": 1
          },
          "autotypenumbers": "strict",
          "coloraxis": {
           "colorbar": {
            "outlinewidth": 0,
            "ticks": ""
           }
          },
          "colorscale": {
           "diverging": [
            [
             0,
             "#8e0152"
            ],
            [
             0.1,
             "#c51b7d"
            ],
            [
             0.2,
             "#de77ae"
            ],
            [
             0.3,
             "#f1b6da"
            ],
            [
             0.4,
             "#fde0ef"
            ],
            [
             0.5,
             "#f7f7f7"
            ],
            [
             0.6,
             "#e6f5d0"
            ],
            [
             0.7,
             "#b8e186"
            ],
            [
             0.8,
             "#7fbc41"
            ],
            [
             0.9,
             "#4d9221"
            ],
            [
             1,
             "#276419"
            ]
           ],
           "sequential": [
            [
             0,
             "#0d0887"
            ],
            [
             0.1111111111111111,
             "#46039f"
            ],
            [
             0.2222222222222222,
             "#7201a8"
            ],
            [
             0.3333333333333333,
             "#9c179e"
            ],
            [
             0.4444444444444444,
             "#bd3786"
            ],
            [
             0.5555555555555556,
             "#d8576b"
            ],
            [
             0.6666666666666666,
             "#ed7953"
            ],
            [
             0.7777777777777778,
             "#fb9f3a"
            ],
            [
             0.8888888888888888,
             "#fdca26"
            ],
            [
             1,
             "#f0f921"
            ]
           ],
           "sequentialminus": [
            [
             0,
             "#0d0887"
            ],
            [
             0.1111111111111111,
             "#46039f"
            ],
            [
             0.2222222222222222,
             "#7201a8"
            ],
            [
             0.3333333333333333,
             "#9c179e"
            ],
            [
             0.4444444444444444,
             "#bd3786"
            ],
            [
             0.5555555555555556,
             "#d8576b"
            ],
            [
             0.6666666666666666,
             "#ed7953"
            ],
            [
             0.7777777777777778,
             "#fb9f3a"
            ],
            [
             0.8888888888888888,
             "#fdca26"
            ],
            [
             1,
             "#f0f921"
            ]
           ]
          },
          "colorway": [
           "#636efa",
           "#EF553B",
           "#00cc96",
           "#ab63fa",
           "#FFA15A",
           "#19d3f3",
           "#FF6692",
           "#B6E880",
           "#FF97FF",
           "#FECB52"
          ],
          "font": {
           "color": "#2a3f5f"
          },
          "geo": {
           "bgcolor": "white",
           "lakecolor": "white",
           "landcolor": "#E5ECF6",
           "showlakes": true,
           "showland": true,
           "subunitcolor": "white"
          },
          "hoverlabel": {
           "align": "left"
          },
          "hovermode": "closest",
          "mapbox": {
           "style": "light"
          },
          "paper_bgcolor": "white",
          "plot_bgcolor": "#E5ECF6",
          "polar": {
           "angularaxis": {
            "gridcolor": "white",
            "linecolor": "white",
            "ticks": ""
           },
           "bgcolor": "#E5ECF6",
           "radialaxis": {
            "gridcolor": "white",
            "linecolor": "white",
            "ticks": ""
           }
          },
          "scene": {
           "xaxis": {
            "backgroundcolor": "#E5ECF6",
            "gridcolor": "white",
            "gridwidth": 2,
            "linecolor": "white",
            "showbackground": true,
            "ticks": "",
            "zerolinecolor": "white"
           },
           "yaxis": {
            "backgroundcolor": "#E5ECF6",
            "gridcolor": "white",
            "gridwidth": 2,
            "linecolor": "white",
            "showbackground": true,
            "ticks": "",
            "zerolinecolor": "white"
           },
           "zaxis": {
            "backgroundcolor": "#E5ECF6",
            "gridcolor": "white",
            "gridwidth": 2,
            "linecolor": "white",
            "showbackground": true,
            "ticks": "",
            "zerolinecolor": "white"
           }
          },
          "shapedefaults": {
           "line": {
            "color": "#2a3f5f"
           }
          },
          "ternary": {
           "aaxis": {
            "gridcolor": "white",
            "linecolor": "white",
            "ticks": ""
           },
           "baxis": {
            "gridcolor": "white",
            "linecolor": "white",
            "ticks": ""
           },
           "bgcolor": "#E5ECF6",
           "caxis": {
            "gridcolor": "white",
            "linecolor": "white",
            "ticks": ""
           }
          },
          "title": {
           "x": 0.05
          },
          "xaxis": {
           "automargin": true,
           "gridcolor": "white",
           "linecolor": "white",
           "ticks": "",
           "title": {
            "standoff": 15
           },
           "zerolinecolor": "white",
           "zerolinewidth": 2
          },
          "yaxis": {
           "automargin": true,
           "gridcolor": "white",
           "linecolor": "white",
           "ticks": "",
           "title": {
            "standoff": 15
           },
           "zerolinecolor": "white",
           "zerolinewidth": 2
          }
         }
        },
        "xaxis": {
         "anchor": "y",
         "domain": [
          0,
          1
         ],
         "title": {
          "text": "Month"
         }
        },
        "yaxis": {
         "anchor": "x",
         "domain": [
          0,
          1
         ],
         "title": {
          "text": "Money Spent"
         }
        }
       }
      }
     },
     "metadata": {},
     "output_type": "display_data"
    }
   ],
   "source": [
    "fig = px.line(df, x='Month', y=\"Money Spent\")\n",
    "fig.show()\n"
   ]
  },
  {
   "cell_type": "code",
   "execution_count": 263,
   "metadata": {},
   "outputs": [
    {
     "data": {
      "image/png": "[encoded data removed]",
      "text/plain": [
       "<Figure size 640x480 with 1 Axes>"
      ]
     },
     "metadata": {},
     "output_type": "display_data"
    },
    {
     "name": "stdout",
     "output_type": "stream",
     "text": [
      "Regression Line Equation= 1.54678067251763 X + -14.50036456992845\n"
     ]
    }
   ],
   "source": [
    "X=df['Month'].values.reshape(-1, 1)\n",
    "Y=df['Money Spent'].values.reshape(-1, 1)\n",
    "\n",
    "linear_regressor = LinearRegression()  # create object for the class\n",
    "linear_regressor.fit(X, Y)  # perform linear regression\n",
    "Y_pred = linear_regressor.predict(X)  # make predictions\n",
    "\n",
    "plt.scatter(X, Y)\n",
    "plt.plot(X, Y_pred, color='red')\n",
    "plt.show()\n",
    "\n",
    "#linear regression model, almost constant \n",
    "\n",
    "\n",
    "\n",
    "N = len(X)\n",
    "\n",
    "\n",
    "x_mean = X.mean()\n",
    "y_mean = Y.mean()\n",
    " \n",
    "B1_num = ((x - x_mean) * (y - y_mean)).sum()\n",
    "B1_den = ((x - x_mean)**2).sum()\n",
    "B1 = B1_num / B1_den\n",
    "    \n",
    "B0 = y_mean - (B1*x_mean)\n",
    "    \n",
    "\n",
    "print (\"Regression Line Equation=\", B1,\"X +\",B0)\n"
   ]
  },
  {
   "cell_type": "code",
   "execution_count": 264,
   "metadata": {},
   "outputs": [
    {
     "data": {
      "text/plain": [
       "Type of Transaction\n",
       "Food             12.120138\n",
       "Groceries        21.739062\n",
       "Paid           -213.031429\n",
       "Personal         35.154286\n",
       "Rent            523.600000\n",
       "Subscription     27.785000\n",
       "Venmo            18.434486\n",
       "Name: Money Spent, dtype: float64"
      ]
     },
     "execution_count": 264,
     "metadata": {},
     "output_type": "execute_result"
    }
   ],
   "source": [
    "df.groupby('Type of Transaction')['Money Spent'].mean()\n",
    "\n",
    "\n",
    "\n",
    "\n",
    "\n",
    " \n"
   ]
  },
  {
   "cell_type": "code",
   "execution_count": 265,
   "metadata": {},
   "outputs": [
    {
     "data": {
      "text/plain": [
       "Type of Transaction\n",
       "Food             1757.42\n",
       "Groceries         695.65\n",
       "Paid           -11929.76\n",
       "Personal         2952.96\n",
       "Rent             2094.40\n",
       "Subscription      333.42\n",
       "Venmo            1972.49\n",
       "Name: Money Spent, dtype: float64"
      ]
     },
     "execution_count": 265,
     "metadata": {},
     "output_type": "execute_result"
    }
   ],
   "source": [
    "df.groupby('Type of Transaction')['Money Spent'].sum()\n"
   ]
  },
  {
   "cell_type": "code",
   "execution_count": 266,
   "metadata": {},
   "outputs": [
    {
     "data": {
      "text/plain": [
       "Food            145\n",
       "Venmo           107\n",
       "Personal         84\n",
       "Paid             56\n",
       "Groceries        32\n",
       "Subscription     12\n",
       "Rent              4\n",
       "Name: Type of Transaction, dtype: int64"
      ]
     },
     "execution_count": 266,
     "metadata": {},
     "output_type": "execute_result"
    }
   ],
   "source": [
    "df['Type of Transaction'].value_counts()\n"
   ]
  },
  {
   "cell_type": "code",
   "execution_count": 267,
   "metadata": {},
   "outputs": [
    {
     "data": {
      "text/plain": [
       "<AxesSubplot:xlabel='Type of Transaction', ylabel='count'>"
      ]
     },
     "execution_count": 267,
     "metadata": {},
     "output_type": "execute_result"
    },
    {
     "data": {
      "image/png": "[encoded data removed]",
      "text/plain": [
       "<Figure size 1500x800 with 1 Axes>"
      ]
     },
     "metadata": {},
     "output_type": "display_data"
    }
   ],
   "source": [
    "plt.figure(figsize=(15,8))\n",
    "plt.xticks(rotation=90)\n",
    "sns.countplot(x='Type of Transaction',data=df)"
   ]
  },
  {
   "cell_type": "code",
   "execution_count": 268,
   "metadata": {},
   "outputs": [
    {
     "data": {
      "application/vnd.plotly.v1+json": {
       "config": {
        "plotlyServerURL": "https://plot.ly"
       },
       "data": [
        {
         "alignmentgroup": "True",
         "bingroup": "x",
         "hovertemplate": "Type of Transaction=%{x}<br>count=%{y}<extra></extra>",
         "legendgroup": "",
         "marker": {
          "color": "#636efa",
          "pattern": {
           "shape": ""
          }
         },
         "name": "",
         "offsetgroup": "",
         "orientation": "v",
         "showlegend": false,
         "type": "histogram",
         "x": [
          "Venmo",
          "Food",
          "Venmo",
          "Venmo",
          "Venmo",
          "Personal",
          "Venmo",
          "Paid",
          "Subscription",
          "Venmo",
          "Food",
          "Food",
          "Food",
          "Paid",
          "Food",
          "Subscription",
          "Personal",
          "Food",
          "Venmo",
          "Food",
          "Venmo",
          "Food",
          "Food",
          "Food",
          "Food",
          "Personal",
          "Venmo",
          "Personal",
          "Venmo",
          "Food",
          "Personal",
          "Rent",
          "Venmo",
          "Paid",
          "Venmo",
          "Venmo",
          "Venmo",
          "Venmo",
          "Venmo",
          "Groceries",
          "Groceries",
          "Groceries",
          "Paid",
          "Venmo",
          "Food",
          "Groceries",
          "Venmo",
          "Venmo",
          "Groceries",
          "Venmo",
          "Paid",
          "Groceries",
          "Venmo",
          "Personal",
          "Food",
          "Paid",
          "Food",
          "Personal",
          "Venmo",
          "Venmo",
          "Food",
          "Paid",
          "Groceries",
          "Personal",
          "Paid",
          "Paid",
          "Food",
          "Venmo",
          "Food",
          "Groceries",
          "Groceries",
          "Personal",
          "Food",
          "Rent",
          "Venmo",
          "Venmo",
          "Groceries",
          "Groceries",
          "Venmo",
          "Venmo",
          "Paid",
          "Food",
          "Venmo",
          "Venmo",
          "Venmo",
          "Food",
          "Food",
          "Paid",
          "Venmo",
          "Personal",
          "Food",
          "Venmo",
          "Venmo",
          "Venmo",
          "Venmo",
          "Venmo",
          "Venmo",
          "Personal",
          "Paid",
          "Paid",
          "Venmo",
          "Personal",
          "Paid",
          "Venmo",
          "Rent",
          "Personal",
          "Groceries",
          "Groceries",
          "Food",
          "Venmo",
          "Personal",
          "Venmo",
          "Food",
          "Groceries",
          "Food",
          "Paid",
          "Venmo",
          "Venmo",
          "Paid",
          "Personal",
          "Paid",
          "Personal",
          "Personal",
          "Personal",
          "Venmo",
          "Personal",
          "Venmo",
          "Groceries",
          "Groceries",
          "Personal",
          "Personal",
          "Personal",
          "Food",
          "Paid",
          "Venmo",
          "Venmo",
          "Food",
          "Paid",
          "Food",
          "Food",
          "Venmo",
          "Venmo",
          "Groceries",
          "Venmo",
          "Venmo",
          "Food",
          "Paid",
          "Food",
          "Venmo",
          "Food",
          "Food",
          "Groceries",
          "Personal",
          "Personal",
          "Venmo",
          "Food",
          "Food",
          "Food",
          "Food",
          "Venmo",
          "Food",
          "Food",
          "Food",
          "Personal",
          "Food",
          "Personal",
          "Paid",
          "Food",
          "Food",
          "Personal",
          "Food",
          "Subscription",
          "Food",
          "Venmo",
          "Food",
          "Food",
          "Subscription",
          "Paid",
          "Paid",
          "Venmo",
          "Venmo",
          "Venmo",
          "Food",
          "Venmo",
          "Food",
          "Food",
          "Food",
          "Food",
          "Subscription",
          "Food",
          "Venmo",
          "Food",
          "Food",
          "Food",
          "Food",
          "Paid",
          "Food",
          "Food",
          "Food",
          "Food",
          "Food",
          "Food",
          "Food",
          "Personal",
          "Venmo",
          "Venmo",
          "Subscription",
          "Venmo",
          "Venmo",
          "Food",
          "Groceries",
          "Groceries",
          "Groceries",
          "Personal",
          "Subscription",
          "Food",
          "Venmo",
          "Food",
          "Personal",
          "Food",
          "Paid",
          "Venmo",
          "Venmo",
          "Personal",
          "Personal",
          "Subscription",
          "Personal",
          "Subscription",
          "Food",
          "Venmo",
          "Groceries",
          "Venmo",
          "Venmo",
          "Venmo",
          "Venmo",
          "Venmo",
          "Venmo",
          "Paid",
          "Venmo",
          "Venmo",
          "Venmo",
          "Venmo",
          "Venmo",
          "Venmo",
          "Venmo",
          "Paid",
          "Venmo",
          "Food",
          "Paid",
          "Paid",
          "Paid",
          "Paid",
          "Personal",
          "Personal",
          "Venmo",
          "Food",
          "Venmo",
          "Personal",
          "Paid",
          "Paid",
          "Personal",
          "Groceries",
          "Venmo",
          "Food",
          "Personal",
          "Food",
          "Paid",
          "Paid",
          "Venmo",
          "Venmo",
          "Paid",
          "Venmo",
          "Personal",
          "Food",
          "Venmo",
          "Food",
          "Venmo",
          "Food",
          "Food",
          "Food",
          "Food",
          "Groceries",
          "Personal",
          "Paid",
          "Venmo",
          "Venmo",
          "Personal",
          "Personal",
          "Groceries",
          "Food",
          "Venmo",
          "Venmo",
          "Venmo",
          "Venmo",
          "Food",
          "Paid",
          "Food",
          "Food",
          "Venmo",
          "Paid",
          "Paid",
          "Personal",
          "Personal",
          "Personal",
          "Personal",
          "Food",
          "Food",
          "Food",
          "Paid",
          "Food",
          "Food",
          "Paid",
          "Personal",
          "Food",
          "Food",
          "Paid",
          "Food",
          "Food",
          "Personal",
          "Food",
          "Food",
          "Food",
          "Food",
          "Subscription",
          "Food",
          "Food",
          "Food",
          "Paid",
          "Personal",
          "Food",
          "Food",
          "Venmo",
          "Food",
          "Food",
          "Paid",
          "Food",
          "Groceries",
          "Venmo",
          "Venmo",
          "Food",
          "Food",
          "Paid",
          "Personal",
          "Food",
          "Personal",
          "Food",
          "Food",
          "Personal",
          "Groceries",
          "Groceries",
          "Food",
          "Personal",
          "Personal",
          "Personal",
          "Personal",
          "Personal",
          "Paid",
          "Personal",
          "Personal",
          "Food",
          "Food",
          "Personal",
          "Food",
          "Venmo",
          "Food",
          "Personal",
          "Subscription",
          "Rent",
          "Venmo",
          "Food",
          "Food",
          "Personal",
          "Food",
          "Food",
          "Personal",
          "Personal",
          "Personal",
          "Personal",
          "Personal",
          "Food",
          "Food",
          "Food",
          "Paid",
          "Paid",
          "Paid",
          "Personal",
          "Paid",
          "Personal",
          "Personal",
          "Personal",
          "Personal",
          "Personal",
          "Personal",
          "Personal",
          "Personal",
          "Food",
          "Paid",
          "Food",
          "Food",
          "Personal",
          "Food",
          "Food",
          "Personal",
          "Venmo",
          "Food",
          "Food",
          "Groceries",
          "Food",
          "Food",
          "Food",
          "Subscription",
          "Food",
          "Food",
          "Groceries",
          "Venmo",
          "Food",
          "Paid",
          "Food",
          "Groceries",
          "Food",
          "Paid",
          "Food",
          "Food",
          "Groceries",
          "Personal",
          "Personal",
          "Venmo",
          "Personal",
          "Personal",
          "Personal",
          "Food",
          "Venmo",
          "Personal",
          "Food",
          "Food",
          "Food",
          "Food",
          "Food",
          "Paid",
          "Paid"
         ],
         "xaxis": "x",
         "yaxis": "y"
        }
       ],
       "layout": {
        "barmode": "relative",
        "legend": {
         "tracegroupgap": 0
        },
        "template": {
         "data": {
          "bar": [
           {
            "error_x": {
             "color": "#2a3f5f"
            },
            "error_y": {
             "color": "#2a3f5f"
            },
            "marker": {
             "line": {
              "color": "#E5ECF6",
              "width": 0.5
             },
             "pattern": {
              "fillmode": "overlay",
              "size": 10,
              "solidity": 0.2
             }
            },
            "type": "bar"
           }
          ],
          "barpolar": [
           {
            "marker": {
             "line": {
              "color": "#E5ECF6",
              "width": 0.5
             },
             "pattern": {
              "fillmode": "overlay",
              "size": 10,
              "solidity": 0.2
             }
            },
            "type": "barpolar"
           }
          ],
          "carpet": [
           {
            "aaxis": {
             "endlinecolor": "#2a3f5f",
             "gridcolor": "white",
             "linecolor": "white",
             "minorgridcolor": "white",
             "startlinecolor": "#2a3f5f"
            },
            "baxis": {
             "endlinecolor": "#2a3f5f",
             "gridcolor": "white",
             "linecolor": "white",
             "minorgridcolor": "white",
             "startlinecolor": "#2a3f5f"
            },
            "type": "carpet"
           }
          ],
          "choropleth": [
           {
            "colorbar": {
             "outlinewidth": 0,
             "ticks": ""
            },
            "type": "choropleth"
           }
          ],
          "contour": [
           {
            "colorbar": {
             "outlinewidth": 0,
             "ticks": ""
            },
            "colorscale": [
             [
              0,
              "#0d0887"
             ],
             [
              0.1111111111111111,
              "#46039f"
             ],
             [
              0.2222222222222222,
              "#7201a8"
             ],
             [
              0.3333333333333333,
              "#9c179e"
             ],
             [
              0.4444444444444444,
              "#bd3786"
             ],
             [
              0.5555555555555556,
              "#d8576b"
             ],
             [
              0.6666666666666666,
              "#ed7953"
             ],
             [
              0.7777777777777778,
              "#fb9f3a"
             ],
             [
              0.8888888888888888,
              "#fdca26"
             ],
             [
              1,
              "#f0f921"
             ]
            ],
            "type": "contour"
           }
          ],
          "contourcarpet": [
           {
            "colorbar": {
             "outlinewidth": 0,
             "ticks": ""
            },
            "type": "contourcarpet"
           }
          ],
          "heatmap": [
           {
            "colorbar": {
             "outlinewidth": 0,
             "ticks": ""
            },
            "colorscale": [
             [
              0,
              "#0d0887"
             ],
             [
              0.1111111111111111,
              "#46039f"
             ],
             [
              0.2222222222222222,
              "#7201a8"
             ],
             [
              0.3333333333333333,
              "#9c179e"
             ],
             [
              0.4444444444444444,
              "#bd3786"
             ],
             [
              0.5555555555555556,
              "#d8576b"
             ],
             [
              0.6666666666666666,
              "#ed7953"
             ],
             [
              0.7777777777777778,
              "#fb9f3a"
             ],
             [
              0.8888888888888888,
              "#fdca26"
             ],
             [
              1,
              "#f0f921"
             ]
            ],
            "type": "heatmap"
           }
          ],
          "heatmapgl": [
           {
            "colorbar": {
             "outlinewidth": 0,
             "ticks": ""
            },
            "colorscale": [
             [
              0,
              "#0d0887"
             ],
             [
              0.1111111111111111,
              "#46039f"
             ],
             [
              0.2222222222222222,
              "#7201a8"
             ],
             [
              0.3333333333333333,
              "#9c179e"
             ],
             [
              0.4444444444444444,
              "#bd3786"
             ],
             [
              0.5555555555555556,
              "#d8576b"
             ],
             [
              0.6666666666666666,
              "#ed7953"
             ],
             [
              0.7777777777777778,
              "#fb9f3a"
             ],
             [
              0.8888888888888888,
              "#fdca26"
             ],
             [
              1,
              "#f0f921"
             ]
            ],
            "type": "heatmapgl"
           }
          ],
          "histogram": [
           {
            "marker": {
             "pattern": {
              "fillmode": "overlay",
              "size": 10,
              "solidity": 0.2
             }
            },
            "type": "histogram"
           }
          ],
          "histogram2d": [
           {
            "colorbar": {
             "outlinewidth": 0,
             "ticks": ""
            },
            "colorscale": [
             [
              0,
              "#0d0887"
             ],
             [
              0.1111111111111111,
              "#46039f"
             ],
             [
              0.2222222222222222,
              "#7201a8"
             ],
             [
              0.3333333333333333,
              "#9c179e"
             ],
             [
              0.4444444444444444,
              "#bd3786"
             ],
             [
              0.5555555555555556,
              "#d8576b"
             ],
             [
              0.6666666666666666,
              "#ed7953"
             ],
             [
              0.7777777777777778,
              "#fb9f3a"
             ],
             [
              0.8888888888888888,
              "#fdca26"
             ],
             [
              1,
              "#f0f921"
             ]
            ],
            "type": "histogram2d"
           }
          ],
          "histogram2dcontour": [
           {
            "colorbar": {
             "outlinewidth": 0,
             "ticks": ""
            },
            "colorscale": [
             [
              0,
              "#0d0887"
             ],
             [
              0.1111111111111111,
              "#46039f"
             ],
             [
              0.2222222222222222,
              "#7201a8"
             ],
             [
              0.3333333333333333,
              "#9c179e"
             ],
             [
              0.4444444444444444,
              "#bd3786"
             ],
             [
              0.5555555555555556,
              "#d8576b"
             ],
             [
              0.6666666666666666,
              "#ed7953"
             ],
             [
              0.7777777777777778,
              "#fb9f3a"
             ],
             [
              0.8888888888888888,
              "#fdca26"
             ],
             [
              1,
              "#f0f921"
             ]
            ],
            "type": "histogram2dcontour"
           }
          ],
          "mesh3d": [
           {
            "colorbar": {
             "outlinewidth": 0,
             "ticks": ""
            },
            "type": "mesh3d"
           }
          ],
          "parcoords": [
           {
            "line": {
             "colorbar": {
              "outlinewidth": 0,
              "ticks": ""
             }
            },
            "type": "parcoords"
           }
          ],
          "pie": [
           {
            "automargin": true,
            "type": "pie"
           }
          ],
          "scatter": [
           {
            "fillpattern": {
             "fillmode": "overlay",
             "size": 10,
             "solidity": 0.2
            },
            "type": "scatter"
           }
          ],
          "scatter3d": [
           {
            "line": {
             "colorbar": {
              "outlinewidth": 0,
              "ticks": ""
             }
            },
            "marker": {
             "colorbar": {
              "outlinewidth": 0,
              "ticks": ""
             }
            },
            "type": "scatter3d"
           }
          ],
          "scattercarpet": [
           {
            "marker": {
             "colorbar": {
              "outlinewidth": 0,
              "ticks": ""
             }
            },
            "type": "scattercarpet"
           }
          ],
          "scattergeo": [
           {
            "marker": {
             "colorbar": {
              "outlinewidth": 0,
              "ticks": ""
             }
            },
            "type": "scattergeo"
           }
          ],
          "scattergl": [
           {
            "marker": {
             "colorbar": {
              "outlinewidth": 0,
              "ticks": ""
             }
            },
            "type": "scattergl"
           }
          ],
          "scattermapbox": [
           {
            "marker": {
             "colorbar": {
              "outlinewidth": 0,
              "ticks": ""
             }
            },
            "type": "scattermapbox"
           }
          ],
          "scatterpolar": [
           {
            "marker": {
             "colorbar": {
              "outlinewidth": 0,
              "ticks": ""
             }
            },
            "type": "scatterpolar"
           }
          ],
          "scatterpolargl": [
           {
            "marker": {
             "colorbar": {
              "outlinewidth": 0,
              "ticks": ""
             }
            },
            "type": "scatterpolargl"
           }
          ],
          "scatterternary": [
           {
            "marker": {
             "colorbar": {
              "outlinewidth": 0,
              "ticks": ""
             }
            },
            "type": "scatterternary"
           }
          ],
          "surface": [
           {
            "colorbar": {
             "outlinewidth": 0,
             "ticks": ""
            },
            "colorscale": [
             [
              0,
              "#0d0887"
             ],
             [
              0.1111111111111111,
              "#46039f"
             ],
             [
              0.2222222222222222,
              "#7201a8"
             ],
             [
              0.3333333333333333,
              "#9c179e"
             ],
             [
              0.4444444444444444,
              "#bd3786"
             ],
             [
              0.5555555555555556,
              "#d8576b"
             ],
             [
              0.6666666666666666,
              "#ed7953"
             ],
             [
              0.7777777777777778,
              "#fb9f3a"
             ],
             [
              0.8888888888888888,
              "#fdca26"
             ],
             [
              1,
              "#f0f921"
             ]
            ],
            "type": "surface"
           }
          ],
          "table": [
           {
            "cells": {
             "fill": {
              "color": "#EBF0F8"
             },
             "line": {
              "color": "white"
             }
            },
            "header": {
             "fill": {
              "color": "#C8D4E3"
             },
             "line": {
              "color": "white"
             }
            },
            "type": "table"
           }
          ]
         },
         "layout": {
          "annotationdefaults": {
           "arrowcolor": "#2a3f5f",
           "arrowhead": 0,
           "arrowwidth": 1
          },
          "autotypenumbers": "strict",
          "coloraxis": {
           "colorbar": {
            "outlinewidth": 0,
            "ticks": ""
           }
          },
          "colorscale": {
           "diverging": [
            [
             0,
             "#8e0152"
            ],
            [
             0.1,
             "#c51b7d"
            ],
            [
             0.2,
             "#de77ae"
            ],
            [
             0.3,
             "#f1b6da"
            ],
            [
             0.4,
             "#fde0ef"
            ],
            [
             0.5,
             "#f7f7f7"
            ],
            [
             0.6,
             "#e6f5d0"
            ],
            [
             0.7,
             "#b8e186"
            ],
            [
             0.8,
             "#7fbc41"
            ],
            [
             0.9,
             "#4d9221"
            ],
            [
             1,
             "#276419"
            ]
           ],
           "sequential": [
            [
             0,
             "#0d0887"
            ],
            [
             0.1111111111111111,
             "#46039f"
            ],
            [
             0.2222222222222222,
             "#7201a8"
            ],
            [
             0.3333333333333333,
             "#9c179e"
            ],
            [
             0.4444444444444444,
             "#bd3786"
            ],
            [
             0.5555555555555556,
             "#d8576b"
            ],
            [
             0.6666666666666666,
             "#ed7953"
            ],
            [
             0.7777777777777778,
             "#fb9f3a"
            ],
            [
             0.8888888888888888,
             "#fdca26"
            ],
            [
             1,
             "#f0f921"
            ]
           ],
           "sequentialminus": [
            [
             0,
             "#0d0887"
            ],
            [
             0.1111111111111111,
             "#46039f"
            ],
            [
             0.2222222222222222,
             "#7201a8"
            ],
            [
             0.3333333333333333,
             "#9c179e"
            ],
            [
             0.4444444444444444,
             "#bd3786"
            ],
            [
             0.5555555555555556,
             "#d8576b"
            ],
            [
             0.6666666666666666,
             "#ed7953"
            ],
            [
             0.7777777777777778,
             "#fb9f3a"
            ],
            [
             0.8888888888888888,
             "#fdca26"
            ],
            [
             1,
             "#f0f921"
            ]
           ]
          },
          "colorway": [
           "#636efa",
           "#EF553B",
           "#00cc96",
           "#ab63fa",
           "#FFA15A",
           "#19d3f3",
           "#FF6692",
           "#B6E880",
           "#FF97FF",
           "#FECB52"
          ],
          "font": {
           "color": "#2a3f5f"
          },
          "geo": {
           "bgcolor": "white",
           "lakecolor": "white",
           "landcolor": "#E5ECF6",
           "showlakes": true,
           "showland": true,
           "subunitcolor": "white"
          },
          "hoverlabel": {
           "align": "left"
          },
          "hovermode": "closest",
          "mapbox": {
           "style": "light"
          },
          "paper_bgcolor": "white",
          "plot_bgcolor": "#E5ECF6",
          "polar": {
           "angularaxis": {
            "gridcolor": "white",
            "linecolor": "white",
            "ticks": ""
           },
           "bgcolor": "#E5ECF6",
           "radialaxis": {
            "gridcolor": "white",
            "linecolor": "white",
            "ticks": ""
           }
          },
          "scene": {
           "xaxis": {
            "backgroundcolor": "#E5ECF6",
            "gridcolor": "white",
            "gridwidth": 2,
            "linecolor": "white",
            "showbackground": true,
            "ticks": "",
            "zerolinecolor": "white"
           },
           "yaxis": {
            "backgroundcolor": "#E5ECF6",
            "gridcolor": "white",
            "gridwidth": 2,
            "linecolor": "white",
            "showbackground": true,
            "ticks": "",
            "zerolinecolor": "white"
           },
           "zaxis": {
            "backgroundcolor": "#E5ECF6",
            "gridcolor": "white",
            "gridwidth": 2,
            "linecolor": "white",
            "showbackground": true,
            "ticks": "",
            "zerolinecolor": "white"
           }
          },
          "shapedefaults": {
           "line": {
            "color": "#2a3f5f"
           }
          },
          "ternary": {
           "aaxis": {
            "gridcolor": "white",
            "linecolor": "white",
            "ticks": ""
           },
           "baxis": {
            "gridcolor": "white",
            "linecolor": "white",
            "ticks": ""
           },
           "bgcolor": "#E5ECF6",
           "caxis": {
            "gridcolor": "white",
            "linecolor": "white",
            "ticks": ""
           }
          },
          "title": {
           "x": 0.05
          },
          "xaxis": {
           "automargin": true,
           "gridcolor": "white",
           "linecolor": "white",
           "ticks": "",
           "title": {
            "standoff": 15
           },
           "zerolinecolor": "white",
           "zerolinewidth": 2
          },
          "yaxis": {
           "automargin": true,
           "gridcolor": "white",
           "linecolor": "white",
           "ticks": "",
           "title": {
            "standoff": 15
           },
           "zerolinecolor": "white",
           "zerolinewidth": 2
          }
         }
        },
        "title": {
         "text": "Distribution of the Types of Transactions"
        },
        "xaxis": {
         "anchor": "y",
         "categoryorder": "total ascending",
         "domain": [
          0,
          1
         ],
         "title": {
          "text": "Type of Transaction"
         }
        },
        "yaxis": {
         "anchor": "x",
         "domain": [
          0,
          1
         ],
         "title": {
          "text": "count"
         }
        }
       }
      }
     },
     "metadata": {},
     "output_type": "display_data"
    }
   ],
   "source": [
    "fig=px.histogram(df,x='Type of Transaction',title=\"Distribution of the Types of Transactions\") \n",
    "\n",
    "fig.update_xaxes(categoryorder='total ascending') \n",
    "\n",
    "\n",
    "fig.show() #to actually show the histogram"
   ]
  },
  {
   "cell_type": "code",
   "execution_count": 269,
   "metadata": {},
   "outputs": [
    {
     "data": {
      "text/plain": [
       "<AxesSubplot:xlabel='Month', ylabel='Money Spent'>"
      ]
     },
     "execution_count": 269,
     "metadata": {},
     "output_type": "execute_result"
    },
    {
     "data": {
      "image/png": "[encoded data removed]",
      "text/plain": [
       "<Figure size 1500x800 with 1 Axes>"
      ]
     },
     "metadata": {},
     "output_type": "display_data"
    }
   ],
   "source": [
    "plt.figure(figsize=(15,8))\n",
    "sns.boxplot(data=df,x=\"Month\",y='Money Spent')\n",
    "\n",
    "#compare the distributions of money spent for each month"
   ]
  },
  {
   "cell_type": "code",
   "execution_count": 270,
   "metadata": {},
   "outputs": [
    {
     "data": {
      "text/plain": [
       "<seaborn.axisgrid.PairGrid at 0x7fdc0b02ef10>"
      ]
     },
     "execution_count": 270,
     "metadata": {},
     "output_type": "execute_result"
    },
    {
     "data": {
      "text/plain": [
       "<Figure size 1500x800 with 0 Axes>"
      ]
     },
     "metadata": {},
     "output_type": "display_data"
    },
    {
     "data": {
      "image/png": "[encoded data removed]",
      "text/plain": [
       "<Figure size 500x500 with 6 Axes>"
      ]
     },
     "metadata": {},
     "output_type": "display_data"
    }
   ],
   "source": [
    "df_new=df.loc[:,['Month', 'Money Spent']]\n",
    "plt.figure(figsize=(15,8))\n",
    "sns.pairplot(df_new)"
   ]
  },
  {
   "cell_type": "code",
   "execution_count": 271,
   "metadata": {},
   "outputs": [
    {
     "data": {
      "text/plain": [
       "Month\n",
       "1      434.45\n",
       "2     -393.79\n",
       "3     -593.23\n",
       "4     -240.94\n",
       "5    -1125.35\n",
       "6     -413.12\n",
       "7      128.07\n",
       "8    -1569.62\n",
       "9      114.62\n",
       "10     683.49\n",
       "11    -232.63\n",
       "12    1084.63\n",
       "Name: Money Spent, dtype: float64"
      ]
     },
     "execution_count": 271,
     "metadata": {},
     "output_type": "execute_result"
    }
   ],
   "source": [
    "df.groupby('Month')['Money Spent'].sum()\n"
   ]
  },
  {
   "attachments": {},
   "cell_type": "markdown",
   "metadata": {},
   "source": [
    "Spending Bank Statement\n",
    "\n",
    "- Includes only my money spent"
   ]
  },
  {
   "cell_type": "code",
   "execution_count": 272,
   "metadata": {},
   "outputs": [
    {
     "data": {
      "text/html": [
       "<div>\n",
       "<style scoped>\n",
       "    .dataframe tbody tr th:only-of-type {\n",
       "        vertical-align: middle;\n",
       "    }\n",
       "\n",
       "    .dataframe tbody tr th {\n",
       "        vertical-align: top;\n",
       "    }\n",
       "\n",
       "    .dataframe thead th {\n",
       "        text-align: right;\n",
       "    }\n",
       "</style>\n",
       "<table border=\"1\" class=\"dataframe\">\n",
       "  <thead>\n",
       "    <tr style=\"text-align: right;\">\n",
       "      <th></th>\n",
       "      <th>12/30/22</th>\n",
       "      <th>-17</th>\n",
       "      <th>*</th>\n",
       "      <th>Venmo</th>\n",
       "      <th>PURCHASE AUTHORIZED ON 12/30 VENMO* Visa Direct NY S302364781105329 CARD 7605</th>\n",
       "    </tr>\n",
       "  </thead>\n",
       "  <tbody>\n",
       "    <tr>\n",
       "      <th>0</th>\n",
       "      <td>12/30/22</td>\n",
       "      <td>-4.00</td>\n",
       "      <td>*</td>\n",
       "      <td>Venmo</td>\n",
       "      <td>PURCHASE AUTHORIZED ON 12/29 VENMO* Visa Direc...</td>\n",
       "    </tr>\n",
       "    <tr>\n",
       "      <th>1</th>\n",
       "      <td>12/30/22</td>\n",
       "      <td>-5.25</td>\n",
       "      <td>*</td>\n",
       "      <td>Food</td>\n",
       "      <td>PURCHASE AUTHORIZED ON 12/28 BEI YUAN TEA &amp; BO...</td>\n",
       "    </tr>\n",
       "    <tr>\n",
       "      <th>2</th>\n",
       "      <td>12/28/22</td>\n",
       "      <td>-6.00</td>\n",
       "      <td>*</td>\n",
       "      <td>Venmo</td>\n",
       "      <td>PURCHASE AUTHORIZED ON 12/27 VENMO* San Jose C...</td>\n",
       "    </tr>\n",
       "    <tr>\n",
       "      <th>3</th>\n",
       "      <td>12/27/22</td>\n",
       "      <td>-2.75</td>\n",
       "      <td>*</td>\n",
       "      <td>Venmo</td>\n",
       "      <td>PURCHASE AUTHORIZED ON 12/27 VENMO* Visa Direc...</td>\n",
       "    </tr>\n",
       "    <tr>\n",
       "      <th>4</th>\n",
       "      <td>12/27/22</td>\n",
       "      <td>-7.00</td>\n",
       "      <td>*</td>\n",
       "      <td>Venmo</td>\n",
       "      <td>PURCHASE AUTHORIZED ON 12/27 VENMO* Visa Direc...</td>\n",
       "    </tr>\n",
       "  </tbody>\n",
       "</table>\n",
       "</div>"
      ],
      "text/plain": [
       "   12/30/22   -17  *  Venmo  \\\n",
       "0  12/30/22 -4.00  *  Venmo   \n",
       "1  12/30/22 -5.25  *   Food   \n",
       "2  12/28/22 -6.00  *  Venmo   \n",
       "3  12/27/22 -2.75  *  Venmo   \n",
       "4  12/27/22 -7.00  *  Venmo   \n",
       "\n",
       "  PURCHASE AUTHORIZED ON 12/30 VENMO* Visa Direct NY S302364781105329 CARD 7605  \n",
       "0  PURCHASE AUTHORIZED ON 12/29 VENMO* Visa Direc...                             \n",
       "1  PURCHASE AUTHORIZED ON 12/28 BEI YUAN TEA & BO...                             \n",
       "2  PURCHASE AUTHORIZED ON 12/27 VENMO* San Jose C...                             \n",
       "3  PURCHASE AUTHORIZED ON 12/27 VENMO* Visa Direc...                             \n",
       "4  PURCHASE AUTHORIZED ON 12/27 VENMO* Visa Direc...                             "
      ]
     },
     "execution_count": 272,
     "metadata": {},
     "output_type": "execute_result"
    }
   ],
   "source": [
    "df_spend=pd.read_csv('/Users/eric/Documents/Github/Personal_Bank_Budgeting/Checking1.csv')\n",
    "df_spend.head()"
   ]
  },
  {
   "cell_type": "code",
   "execution_count": 273,
   "metadata": {},
   "outputs": [
    {
     "data": {
      "text/plain": [
       "440"
      ]
     },
     "execution_count": 273,
     "metadata": {},
     "output_type": "execute_result"
    }
   ],
   "source": [
    "df_spend.rename(columns={'12/30/22': 'Dates'},inplace=True)\n",
    "df_spend.rename(columns={'-17': 'Money Spent'},inplace=True)\n",
    "df_spend.rename(columns={'Venmo':'Type of Transaction'},inplace=True)\n",
    "df_spend.rename(columns={'PURCHASE AUTHORIZED ON 12/30 VENMO* Visa Direct NY S302364781105329 CARD 7605':'Transaction'},inplace=True)\n",
    "del df_spend['*']\n",
    "\n",
    "\n",
    "df_spend['Money Spent'] = df_spend['Money Spent'].multiply(-1)\n",
    "\n",
    "\n",
    "df_spend.head()\n",
    "df_spend\n",
    "\n",
    "len(df_spend)\n",
    "\n",
    "#same code as before, rename all column names and \n",
    "# multiply by -1 to represent spent money as positive"
   ]
  },
  {
   "cell_type": "code",
   "execution_count": 274,
   "metadata": {},
   "outputs": [
    {
     "data": {
      "text/html": [
       "<div>\n",
       "<style scoped>\n",
       "    .dataframe tbody tr th:only-of-type {\n",
       "        vertical-align: middle;\n",
       "    }\n",
       "\n",
       "    .dataframe tbody tr th {\n",
       "        vertical-align: top;\n",
       "    }\n",
       "\n",
       "    .dataframe thead th {\n",
       "        text-align: right;\n",
       "    }\n",
       "</style>\n",
       "<table border=\"1\" class=\"dataframe\">\n",
       "  <thead>\n",
       "    <tr style=\"text-align: right;\">\n",
       "      <th></th>\n",
       "      <th>Dates</th>\n",
       "      <th>Money Spent</th>\n",
       "      <th>Type of Transaction</th>\n",
       "      <th>Transaction</th>\n",
       "    </tr>\n",
       "  </thead>\n",
       "  <tbody>\n",
       "    <tr>\n",
       "      <th>0</th>\n",
       "      <td>12/30/22</td>\n",
       "      <td>4.00</td>\n",
       "      <td>Venmo</td>\n",
       "      <td>PURCHASE AUTHORIZED ON 12/29 VENMO* Visa Direc...</td>\n",
       "    </tr>\n",
       "    <tr>\n",
       "      <th>1</th>\n",
       "      <td>12/30/22</td>\n",
       "      <td>5.25</td>\n",
       "      <td>Food</td>\n",
       "      <td>PURCHASE AUTHORIZED ON 12/28 BEI YUAN TEA &amp; BO...</td>\n",
       "    </tr>\n",
       "    <tr>\n",
       "      <th>2</th>\n",
       "      <td>12/28/22</td>\n",
       "      <td>6.00</td>\n",
       "      <td>Venmo</td>\n",
       "      <td>PURCHASE AUTHORIZED ON 12/27 VENMO* San Jose C...</td>\n",
       "    </tr>\n",
       "    <tr>\n",
       "      <th>3</th>\n",
       "      <td>12/27/22</td>\n",
       "      <td>2.75</td>\n",
       "      <td>Venmo</td>\n",
       "      <td>PURCHASE AUTHORIZED ON 12/27 VENMO* Visa Direc...</td>\n",
       "    </tr>\n",
       "    <tr>\n",
       "      <th>4</th>\n",
       "      <td>12/27/22</td>\n",
       "      <td>7.00</td>\n",
       "      <td>Venmo</td>\n",
       "      <td>PURCHASE AUTHORIZED ON 12/27 VENMO* Visa Direc...</td>\n",
       "    </tr>\n",
       "    <tr>\n",
       "      <th>...</th>\n",
       "      <td>...</td>\n",
       "      <td>...</td>\n",
       "      <td>...</td>\n",
       "      <td>...</td>\n",
       "    </tr>\n",
       "    <tr>\n",
       "      <th>433</th>\n",
       "      <td>1/3/22</td>\n",
       "      <td>4.88</td>\n",
       "      <td>Food</td>\n",
       "      <td>PURCHASE AUTHORIZED ON 01/02 HUDSONNEWS ST1146...</td>\n",
       "    </tr>\n",
       "    <tr>\n",
       "      <th>434</th>\n",
       "      <td>1/3/22</td>\n",
       "      <td>5.10</td>\n",
       "      <td>Food</td>\n",
       "      <td>PURCHASE AUTHORIZED ON 01/01 GONG CHA - CONVOY...</td>\n",
       "    </tr>\n",
       "    <tr>\n",
       "      <th>435</th>\n",
       "      <td>1/3/22</td>\n",
       "      <td>164.12</td>\n",
       "      <td>Food</td>\n",
       "      <td>PURCHASE AUTHORIZED ON 01/01 HANDOO SAN DIEGO ...</td>\n",
       "    </tr>\n",
       "    <tr>\n",
       "      <th>436</th>\n",
       "      <td>1/3/22</td>\n",
       "      <td>4.95</td>\n",
       "      <td>Food</td>\n",
       "      <td>PURCHASE AUTHORIZED ON 01/01 CHICK-FIL-A #0381...</td>\n",
       "    </tr>\n",
       "    <tr>\n",
       "      <th>437</th>\n",
       "      <td>1/3/22</td>\n",
       "      <td>11.54</td>\n",
       "      <td>Food</td>\n",
       "      <td>PURCHASE AUTHORIZED ON 12/30 RAISING CANE'S 49...</td>\n",
       "    </tr>\n",
       "  </tbody>\n",
       "</table>\n",
       "<p>384 rows × 4 columns</p>\n",
       "</div>"
      ],
      "text/plain": [
       "        Dates  Money Spent Type of Transaction  \\\n",
       "0    12/30/22         4.00               Venmo   \n",
       "1    12/30/22         5.25                Food   \n",
       "2    12/28/22         6.00               Venmo   \n",
       "3    12/27/22         2.75               Venmo   \n",
       "4    12/27/22         7.00               Venmo   \n",
       "..        ...          ...                 ...   \n",
       "433    1/3/22         4.88                Food   \n",
       "434    1/3/22         5.10                Food   \n",
       "435    1/3/22       164.12                Food   \n",
       "436    1/3/22         4.95                Food   \n",
       "437    1/3/22        11.54                Food   \n",
       "\n",
       "                                           Transaction  \n",
       "0    PURCHASE AUTHORIZED ON 12/29 VENMO* Visa Direc...  \n",
       "1    PURCHASE AUTHORIZED ON 12/28 BEI YUAN TEA & BO...  \n",
       "2    PURCHASE AUTHORIZED ON 12/27 VENMO* San Jose C...  \n",
       "3    PURCHASE AUTHORIZED ON 12/27 VENMO* Visa Direc...  \n",
       "4    PURCHASE AUTHORIZED ON 12/27 VENMO* Visa Direc...  \n",
       "..                                                 ...  \n",
       "433  PURCHASE AUTHORIZED ON 01/02 HUDSONNEWS ST1146...  \n",
       "434  PURCHASE AUTHORIZED ON 01/01 GONG CHA - CONVOY...  \n",
       "435  PURCHASE AUTHORIZED ON 01/01 HANDOO SAN DIEGO ...  \n",
       "436  PURCHASE AUTHORIZED ON 01/01 CHICK-FIL-A #0381...  \n",
       "437  PURCHASE AUTHORIZED ON 12/30 RAISING CANE'S 49...  \n",
       "\n",
       "[384 rows x 4 columns]"
      ]
     },
     "execution_count": 274,
     "metadata": {},
     "output_type": "execute_result"
    }
   ],
   "source": [
    "for x in df_spend.index:\n",
    "    if (df.loc[x,'Money Spent']<0):\n",
    "        df_spend=df_spend.drop(x)\n",
    "\n",
    "\n",
    "len(df_spend)\n",
    "\n",
    "#loop through each row, if money spent is negative(aka money earned)\n",
    "#delete the value from the dataset\n",
    "\n",
    "\n",
    "\n",
    "df_spend\n",
    "\n"
   ]
  },
  {
   "cell_type": "code",
   "execution_count": 275,
   "metadata": {},
   "outputs": [
    {
     "data": {
      "text/html": [
       "<div>\n",
       "<style scoped>\n",
       "    .dataframe tbody tr th:only-of-type {\n",
       "        vertical-align: middle;\n",
       "    }\n",
       "\n",
       "    .dataframe tbody tr th {\n",
       "        vertical-align: top;\n",
       "    }\n",
       "\n",
       "    .dataframe thead th {\n",
       "        text-align: right;\n",
       "    }\n",
       "</style>\n",
       "<table border=\"1\" class=\"dataframe\">\n",
       "  <thead>\n",
       "    <tr style=\"text-align: right;\">\n",
       "      <th></th>\n",
       "      <th>Money Spent</th>\n",
       "    </tr>\n",
       "  </thead>\n",
       "  <tbody>\n",
       "    <tr>\n",
       "      <th>count</th>\n",
       "      <td>384.000000</td>\n",
       "    </tr>\n",
       "    <tr>\n",
       "      <th>mean</th>\n",
       "      <td>25.537344</td>\n",
       "    </tr>\n",
       "    <tr>\n",
       "      <th>std</th>\n",
       "      <td>82.380574</td>\n",
       "    </tr>\n",
       "    <tr>\n",
       "      <th>min</th>\n",
       "      <td>0.010000</td>\n",
       "    </tr>\n",
       "    <tr>\n",
       "      <th>25%</th>\n",
       "      <td>5.115000</td>\n",
       "    </tr>\n",
       "    <tr>\n",
       "      <th>50%</th>\n",
       "      <td>10.515000</td>\n",
       "    </tr>\n",
       "    <tr>\n",
       "      <th>75%</th>\n",
       "      <td>20.000000</td>\n",
       "    </tr>\n",
       "    <tr>\n",
       "      <th>max</th>\n",
       "      <td>1000.000000</td>\n",
       "    </tr>\n",
       "  </tbody>\n",
       "</table>\n",
       "</div>"
      ],
      "text/plain": [
       "       Money Spent\n",
       "count   384.000000\n",
       "mean     25.537344\n",
       "std      82.380574\n",
       "min       0.010000\n",
       "25%       5.115000\n",
       "50%      10.515000\n",
       "75%      20.000000\n",
       "max    1000.000000"
      ]
     },
     "execution_count": 275,
     "metadata": {},
     "output_type": "execute_result"
    }
   ],
   "source": [
    "df_spend.describe()\n"
   ]
  },
  {
   "cell_type": "code",
   "execution_count": 276,
   "metadata": {},
   "outputs": [
    {
     "data": {
      "text/html": [
       "<div>\n",
       "<style scoped>\n",
       "    .dataframe tbody tr th:only-of-type {\n",
       "        vertical-align: middle;\n",
       "    }\n",
       "\n",
       "    .dataframe tbody tr th {\n",
       "        vertical-align: top;\n",
       "    }\n",
       "\n",
       "    .dataframe thead th {\n",
       "        text-align: right;\n",
       "    }\n",
       "</style>\n",
       "<table border=\"1\" class=\"dataframe\">\n",
       "  <thead>\n",
       "    <tr style=\"text-align: right;\">\n",
       "      <th></th>\n",
       "      <th>Dates</th>\n",
       "      <th>Money Spent</th>\n",
       "      <th>Type of Transaction</th>\n",
       "      <th>Transaction</th>\n",
       "      <th>Month</th>\n",
       "    </tr>\n",
       "  </thead>\n",
       "  <tbody>\n",
       "    <tr>\n",
       "      <th>0</th>\n",
       "      <td>2022-12-30</td>\n",
       "      <td>4.00</td>\n",
       "      <td>Venmo</td>\n",
       "      <td>PURCHASE AUTHORIZED ON 12/29 VENMO* Visa Direc...</td>\n",
       "      <td>12</td>\n",
       "    </tr>\n",
       "    <tr>\n",
       "      <th>1</th>\n",
       "      <td>2022-12-30</td>\n",
       "      <td>5.25</td>\n",
       "      <td>Food</td>\n",
       "      <td>PURCHASE AUTHORIZED ON 12/28 BEI YUAN TEA &amp; BO...</td>\n",
       "      <td>12</td>\n",
       "    </tr>\n",
       "    <tr>\n",
       "      <th>2</th>\n",
       "      <td>2022-12-28</td>\n",
       "      <td>6.00</td>\n",
       "      <td>Venmo</td>\n",
       "      <td>PURCHASE AUTHORIZED ON 12/27 VENMO* San Jose C...</td>\n",
       "      <td>12</td>\n",
       "    </tr>\n",
       "    <tr>\n",
       "      <th>3</th>\n",
       "      <td>2022-12-27</td>\n",
       "      <td>2.75</td>\n",
       "      <td>Venmo</td>\n",
       "      <td>PURCHASE AUTHORIZED ON 12/27 VENMO* Visa Direc...</td>\n",
       "      <td>12</td>\n",
       "    </tr>\n",
       "    <tr>\n",
       "      <th>4</th>\n",
       "      <td>2022-12-27</td>\n",
       "      <td>7.00</td>\n",
       "      <td>Venmo</td>\n",
       "      <td>PURCHASE AUTHORIZED ON 12/27 VENMO* Visa Direc...</td>\n",
       "      <td>12</td>\n",
       "    </tr>\n",
       "    <tr>\n",
       "      <th>...</th>\n",
       "      <td>...</td>\n",
       "      <td>...</td>\n",
       "      <td>...</td>\n",
       "      <td>...</td>\n",
       "      <td>...</td>\n",
       "    </tr>\n",
       "    <tr>\n",
       "      <th>433</th>\n",
       "      <td>2022-01-03</td>\n",
       "      <td>4.88</td>\n",
       "      <td>Food</td>\n",
       "      <td>PURCHASE AUTHORIZED ON 01/02 HUDSONNEWS ST1146...</td>\n",
       "      <td>1</td>\n",
       "    </tr>\n",
       "    <tr>\n",
       "      <th>434</th>\n",
       "      <td>2022-01-03</td>\n",
       "      <td>5.10</td>\n",
       "      <td>Food</td>\n",
       "      <td>PURCHASE AUTHORIZED ON 01/01 GONG CHA - CONVOY...</td>\n",
       "      <td>1</td>\n",
       "    </tr>\n",
       "    <tr>\n",
       "      <th>435</th>\n",
       "      <td>2022-01-03</td>\n",
       "      <td>164.12</td>\n",
       "      <td>Food</td>\n",
       "      <td>PURCHASE AUTHORIZED ON 01/01 HANDOO SAN DIEGO ...</td>\n",
       "      <td>1</td>\n",
       "    </tr>\n",
       "    <tr>\n",
       "      <th>436</th>\n",
       "      <td>2022-01-03</td>\n",
       "      <td>4.95</td>\n",
       "      <td>Food</td>\n",
       "      <td>PURCHASE AUTHORIZED ON 01/01 CHICK-FIL-A #0381...</td>\n",
       "      <td>1</td>\n",
       "    </tr>\n",
       "    <tr>\n",
       "      <th>437</th>\n",
       "      <td>2022-01-03</td>\n",
       "      <td>11.54</td>\n",
       "      <td>Food</td>\n",
       "      <td>PURCHASE AUTHORIZED ON 12/30 RAISING CANE'S 49...</td>\n",
       "      <td>1</td>\n",
       "    </tr>\n",
       "  </tbody>\n",
       "</table>\n",
       "<p>384 rows × 5 columns</p>\n",
       "</div>"
      ],
      "text/plain": [
       "         Dates  Money Spent Type of Transaction  \\\n",
       "0   2022-12-30         4.00               Venmo   \n",
       "1   2022-12-30         5.25                Food   \n",
       "2   2022-12-28         6.00               Venmo   \n",
       "3   2022-12-27         2.75               Venmo   \n",
       "4   2022-12-27         7.00               Venmo   \n",
       "..         ...          ...                 ...   \n",
       "433 2022-01-03         4.88                Food   \n",
       "434 2022-01-03         5.10                Food   \n",
       "435 2022-01-03       164.12                Food   \n",
       "436 2022-01-03         4.95                Food   \n",
       "437 2022-01-03        11.54                Food   \n",
       "\n",
       "                                           Transaction  Month  \n",
       "0    PURCHASE AUTHORIZED ON 12/29 VENMO* Visa Direc...     12  \n",
       "1    PURCHASE AUTHORIZED ON 12/28 BEI YUAN TEA & BO...     12  \n",
       "2    PURCHASE AUTHORIZED ON 12/27 VENMO* San Jose C...     12  \n",
       "3    PURCHASE AUTHORIZED ON 12/27 VENMO* Visa Direc...     12  \n",
       "4    PURCHASE AUTHORIZED ON 12/27 VENMO* Visa Direc...     12  \n",
       "..                                                 ...    ...  \n",
       "433  PURCHASE AUTHORIZED ON 01/02 HUDSONNEWS ST1146...      1  \n",
       "434  PURCHASE AUTHORIZED ON 01/01 GONG CHA - CONVOY...      1  \n",
       "435  PURCHASE AUTHORIZED ON 01/01 HANDOO SAN DIEGO ...      1  \n",
       "436  PURCHASE AUTHORIZED ON 01/01 CHICK-FIL-A #0381...      1  \n",
       "437  PURCHASE AUTHORIZED ON 12/30 RAISING CANE'S 49...      1  \n",
       "\n",
       "[384 rows x 5 columns]"
      ]
     },
     "execution_count": 276,
     "metadata": {},
     "output_type": "execute_result"
    }
   ],
   "source": [
    "df_spend['Dates'] = pd.to_datetime(df_spend['Dates'])\n",
    "\n",
    "\n",
    "\n",
    "df_spend['Month'] = df_spend['Dates'].dt.month \n",
    "\n",
    "df_spend\n",
    "\n"
   ]
  },
  {
   "cell_type": "code",
   "execution_count": 277,
   "metadata": {},
   "outputs": [
    {
     "data": {
      "text/plain": [
       "<matplotlib.collections.PathCollection at 0x7fdc0b1c48e0>"
      ]
     },
     "execution_count": 277,
     "metadata": {},
     "output_type": "execute_result"
    },
    {
     "data": {
      "image/png": "[encoded data removed]",
      "text/plain": [
       "<Figure size 1200x800 with 1 Axes>"
      ]
     },
     "metadata": {},
     "output_type": "display_data"
    }
   ],
   "source": [
    "plt.figure(figsize=(12,8))\n",
    "plt.scatter(data=df_spend, x='Month', y='Money Spent')\n"
   ]
  },
  {
   "cell_type": "code",
   "execution_count": 278,
   "metadata": {},
   "outputs": [
    {
     "data": {
      "text/plain": [
       "<AxesSubplot:xlabel='Money Spent', ylabel='Density'>"
      ]
     },
     "execution_count": 278,
     "metadata": {},
     "output_type": "execute_result"
    },
    {
     "data": {
      "image/png": "[encoded data removed]",
      "text/plain": [
       "<Figure size 1500x800 with 1 Axes>"
      ]
     },
     "metadata": {},
     "output_type": "display_data"
    }
   ],
   "source": [
    "plt.figure(figsize=(15,8))\n",
    "sns.histplot(x='Money Spent',data=df_spend,bins=20,kde=True,stat='density')\n"
   ]
  },
  {
   "cell_type": "code",
   "execution_count": 279,
   "metadata": {},
   "outputs": [
    {
     "data": {
      "text/plain": [
       "378"
      ]
     },
     "execution_count": 279,
     "metadata": {},
     "output_type": "execute_result"
    }
   ],
   "source": [
    "#remove outliers\n",
    "\n",
    "for x in df_spend.index:\n",
    "    if df_spend.loc[x, 'Money Spent']>200:\n",
    "        df_spend=df_spend.drop(x)\n",
    "len(df_spend)\n",
    "\n",
    "\n"
   ]
  },
  {
   "cell_type": "code",
   "execution_count": 280,
   "metadata": {},
   "outputs": [
    {
     "data": {
      "text/plain": [
       "<matplotlib.collections.PathCollection at 0x7fdc0b52fe20>"
      ]
     },
     "execution_count": 280,
     "metadata": {},
     "output_type": "execute_result"
    },
    {
     "data": {
      "image/png": "[encoded data removed]",
      "text/plain": [
       "<Figure size 1200x800 with 1 Axes>"
      ]
     },
     "metadata": {},
     "output_type": "display_data"
    }
   ],
   "source": [
    "plt.figure(figsize=(12,8))\n",
    "plt.scatter(data=df_spend, x='Month', y='Money Spent')"
   ]
  },
  {
   "cell_type": "code",
   "execution_count": 281,
   "metadata": {},
   "outputs": [
    {
     "data": {
      "text/plain": [
       "<AxesSubplot:xlabel='Money Spent', ylabel='Density'>"
      ]
     },
     "execution_count": 281,
     "metadata": {},
     "output_type": "execute_result"
    },
    {
     "data": {
      "image/png": "[encoded data removed]",
      "text/plain": [
       "<Figure size 1500x800 with 1 Axes>"
      ]
     },
     "metadata": {},
     "output_type": "display_data"
    }
   ],
   "source": [
    "plt.figure(figsize=(15,8))\n",
    "sns.histplot(x='Money Spent',data=df_spend,bins=20,kde=True,stat='density')"
   ]
  },
  {
   "cell_type": "code",
   "execution_count": 282,
   "metadata": {},
   "outputs": [
    {
     "data": {
      "application/vnd.plotly.v1+json": {
       "config": {
        "plotlyServerURL": "https://plot.ly"
       },
       "data": [
        {
         "hovertemplate": "Dates=%{x}<br>Money Spent=%{y}<extra></extra>",
         "legendgroup": "",
         "line": {
          "color": "#636efa",
          "dash": "solid"
         },
         "marker": {
          "symbol": "circle"
         },
         "mode": "lines",
         "name": "",
         "orientation": "v",
         "showlegend": false,
         "type": "scatter",
         "x": [
          "2022-12-30T00:00:00",
          "2022-12-30T00:00:00",
          "2022-12-28T00:00:00",
          "2022-12-27T00:00:00",
          "2022-12-27T00:00:00",
          "2022-12-27T00:00:00",
          "2022-12-27T00:00:00",
          "2022-12-23T00:00:00",
          "2022-12-19T00:00:00",
          "2022-12-19T00:00:00",
          "2022-12-19T00:00:00",
          "2022-12-16T00:00:00",
          "2022-12-15T00:00:00",
          "2022-12-13T00:00:00",
          "2022-12-13T00:00:00",
          "2022-12-13T00:00:00",
          "2022-12-12T00:00:00",
          "2022-12-12T00:00:00",
          "2022-12-12T00:00:00",
          "2022-12-12T00:00:00",
          "2022-12-12T00:00:00",
          "2022-12-12T00:00:00",
          "2022-12-09T00:00:00",
          "2022-12-05T00:00:00",
          "2022-12-05T00:00:00",
          "2022-12-02T00:00:00",
          "2022-12-02T00:00:00",
          "2022-12-02T00:00:00",
          "2022-11-29T00:00:00",
          "2022-11-28T00:00:00",
          "2022-11-28T00:00:00",
          "2022-11-28T00:00:00",
          "2022-11-28T00:00:00",
          "2022-11-28T00:00:00",
          "2022-11-28T00:00:00",
          "2022-11-28T00:00:00",
          "2022-11-28T00:00:00",
          "2022-11-25T00:00:00",
          "2022-11-25T00:00:00",
          "2022-11-22T00:00:00",
          "2022-11-21T00:00:00",
          "2022-11-21T00:00:00",
          "2022-11-18T00:00:00",
          "2022-11-15T00:00:00",
          "2022-11-14T00:00:00",
          "2022-11-14T00:00:00",
          "2022-11-14T00:00:00",
          "2022-11-14T00:00:00",
          "2022-11-09T00:00:00",
          "2022-11-09T00:00:00",
          "2022-11-08T00:00:00",
          "2022-11-08T00:00:00",
          "2022-11-08T00:00:00",
          "2022-11-07T00:00:00",
          "2022-11-04T00:00:00",
          "2022-10-31T00:00:00",
          "2022-10-31T00:00:00",
          "2022-10-31T00:00:00",
          "2022-10-31T00:00:00",
          "2022-10-31T00:00:00",
          "2022-10-31T00:00:00",
          "2022-10-31T00:00:00",
          "2022-10-24T00:00:00",
          "2022-10-24T00:00:00",
          "2022-10-24T00:00:00",
          "2022-10-24T00:00:00",
          "2022-10-24T00:00:00",
          "2022-10-20T00:00:00",
          "2022-10-18T00:00:00",
          "2022-10-17T00:00:00",
          "2022-10-17T00:00:00",
          "2022-10-17T00:00:00",
          "2022-10-17T00:00:00",
          "2022-10-17T00:00:00",
          "2022-10-12T00:00:00",
          "2022-10-12T00:00:00",
          "2022-10-11T00:00:00",
          "2022-10-11T00:00:00",
          "2022-10-11T00:00:00",
          "2022-10-11T00:00:00",
          "2022-10-11T00:00:00",
          "2022-10-11T00:00:00",
          "2022-10-11T00:00:00",
          "2022-10-11T00:00:00",
          "2022-10-06T00:00:00",
          "2022-10-04T00:00:00",
          "2022-10-03T00:00:00",
          "2022-10-03T00:00:00",
          "2022-10-03T00:00:00",
          "2022-10-03T00:00:00",
          "2022-09-30T00:00:00",
          "2022-09-28T00:00:00",
          "2022-09-27T00:00:00",
          "2022-09-26T00:00:00",
          "2022-09-26T00:00:00",
          "2022-09-26T00:00:00",
          "2022-09-26T00:00:00",
          "2022-09-23T00:00:00",
          "2022-09-23T00:00:00",
          "2022-09-22T00:00:00",
          "2022-09-19T00:00:00",
          "2022-09-19T00:00:00",
          "2022-09-19T00:00:00",
          "2022-09-19T00:00:00",
          "2022-09-19T00:00:00",
          "2022-09-19T00:00:00",
          "2022-09-19T00:00:00",
          "2022-09-19T00:00:00",
          "2022-09-19T00:00:00",
          "2022-09-19T00:00:00",
          "2022-09-19T00:00:00",
          "2022-09-16T00:00:00",
          "2022-09-16T00:00:00",
          "2022-09-16T00:00:00",
          "2022-09-14T00:00:00",
          "2022-09-14T00:00:00",
          "2022-09-12T00:00:00",
          "2022-09-12T00:00:00",
          "2022-09-12T00:00:00",
          "2022-09-09T00:00:00",
          "2022-09-08T00:00:00",
          "2022-09-08T00:00:00",
          "2022-09-06T00:00:00",
          "2022-09-06T00:00:00",
          "2022-09-06T00:00:00",
          "2022-09-02T00:00:00",
          "2022-08-31T00:00:00",
          "2022-08-31T00:00:00",
          "2022-08-30T00:00:00",
          "2022-08-29T00:00:00",
          "2022-08-29T00:00:00",
          "2022-08-29T00:00:00",
          "2022-08-29T00:00:00",
          "2022-08-25T00:00:00",
          "2022-08-24T00:00:00",
          "2022-08-23T00:00:00",
          "2022-08-23T00:00:00",
          "2022-08-22T00:00:00",
          "2022-08-22T00:00:00",
          "2022-08-22T00:00:00",
          "2022-08-22T00:00:00",
          "2022-08-18T00:00:00",
          "2022-08-17T00:00:00",
          "2022-08-15T00:00:00",
          "2022-08-15T00:00:00",
          "2022-08-15T00:00:00",
          "2022-08-12T00:00:00",
          "2022-08-11T00:00:00",
          "2022-08-11T00:00:00",
          "2022-08-08T00:00:00",
          "2022-08-08T00:00:00",
          "2022-08-04T00:00:00",
          "2022-08-04T00:00:00",
          "2022-08-04T00:00:00",
          "2022-08-04T00:00:00",
          "2022-08-03T00:00:00",
          "2022-08-03T00:00:00",
          "2022-08-01T00:00:00",
          "2022-08-01T00:00:00",
          "2022-08-01T00:00:00",
          "2022-07-29T00:00:00",
          "2022-07-28T00:00:00",
          "2022-07-26T00:00:00",
          "2022-07-26T00:00:00",
          "2022-07-25T00:00:00",
          "2022-07-25T00:00:00",
          "2022-07-21T00:00:00",
          "2022-07-20T00:00:00",
          "2022-07-19T00:00:00",
          "2022-07-19T00:00:00",
          "2022-07-19T00:00:00",
          "2022-07-18T00:00:00",
          "2022-07-18T00:00:00",
          "2022-07-18T00:00:00",
          "2022-07-15T00:00:00",
          "2022-07-14T00:00:00",
          "2022-07-13T00:00:00",
          "2022-07-13T00:00:00",
          "2022-07-11T00:00:00",
          "2022-07-06T00:00:00",
          "2022-07-06T00:00:00",
          "2022-07-05T00:00:00",
          "2022-07-01T00:00:00",
          "2022-06-29T00:00:00",
          "2022-06-29T00:00:00",
          "2022-06-29T00:00:00",
          "2022-06-29T00:00:00",
          "2022-06-27T00:00:00",
          "2022-06-27T00:00:00",
          "2022-06-27T00:00:00",
          "2022-06-27T00:00:00",
          "2022-06-22T00:00:00",
          "2022-06-21T00:00:00",
          "2022-06-21T00:00:00",
          "2022-06-14T00:00:00",
          "2022-06-14T00:00:00",
          "2022-06-14T00:00:00",
          "2022-06-13T00:00:00",
          "2022-06-13T00:00:00",
          "2022-06-09T00:00:00",
          "2022-06-07T00:00:00",
          "2022-06-06T00:00:00",
          "2022-06-06T00:00:00",
          "2022-06-06T00:00:00",
          "2022-06-06T00:00:00",
          "2022-06-06T00:00:00",
          "2022-06-03T00:00:00",
          "2022-05-31T00:00:00",
          "2022-05-31T00:00:00",
          "2022-05-31T00:00:00",
          "2022-05-31T00:00:00",
          "2022-05-24T00:00:00",
          "2022-05-24T00:00:00",
          "2022-05-24T00:00:00",
          "2022-05-23T00:00:00",
          "2022-05-23T00:00:00",
          "2022-05-18T00:00:00",
          "2022-05-17T00:00:00",
          "2022-05-16T00:00:00",
          "2022-05-16T00:00:00",
          "2022-05-16T00:00:00",
          "2022-05-16T00:00:00",
          "2022-05-10T00:00:00",
          "2022-05-09T00:00:00",
          "2022-05-09T00:00:00",
          "2022-05-09T00:00:00",
          "2022-05-09T00:00:00",
          "2022-05-09T00:00:00",
          "2022-05-02T00:00:00",
          "2022-05-02T00:00:00",
          "2022-04-29T00:00:00",
          "2022-04-29T00:00:00",
          "2022-04-28T00:00:00",
          "2022-04-27T00:00:00",
          "2022-04-26T00:00:00",
          "2022-04-25T00:00:00",
          "2022-04-25T00:00:00",
          "2022-04-25T00:00:00",
          "2022-04-25T00:00:00",
          "2022-04-25T00:00:00",
          "2022-04-22T00:00:00",
          "2022-04-22T00:00:00",
          "2022-04-21T00:00:00",
          "2022-04-18T00:00:00",
          "2022-04-15T00:00:00",
          "2022-04-15T00:00:00",
          "2022-04-14T00:00:00",
          "2022-04-13T00:00:00",
          "2022-04-13T00:00:00",
          "2022-04-11T00:00:00",
          "2022-04-11T00:00:00",
          "2022-04-11T00:00:00",
          "2022-04-11T00:00:00",
          "2022-04-04T00:00:00",
          "2022-04-04T00:00:00",
          "2022-04-04T00:00:00",
          "2022-03-28T00:00:00",
          "2022-03-28T00:00:00",
          "2022-03-28T00:00:00",
          "2022-03-28T00:00:00",
          "2022-03-28T00:00:00",
          "2022-03-28T00:00:00",
          "2022-03-28T00:00:00",
          "2022-03-25T00:00:00",
          "2022-03-25T00:00:00",
          "2022-03-24T00:00:00",
          "2022-03-23T00:00:00",
          "2022-03-23T00:00:00",
          "2022-03-22T00:00:00",
          "2022-03-22T00:00:00",
          "2022-03-21T00:00:00",
          "2022-03-21T00:00:00",
          "2022-03-21T00:00:00",
          "2022-03-21T00:00:00",
          "2022-03-21T00:00:00",
          "2022-03-21T00:00:00",
          "2022-03-21T00:00:00",
          "2022-03-21T00:00:00",
          "2022-03-21T00:00:00",
          "2022-03-18T00:00:00",
          "2022-03-18T00:00:00",
          "2022-03-17T00:00:00",
          "2022-03-17T00:00:00",
          "2022-03-16T00:00:00",
          "2022-03-15T00:00:00",
          "2022-03-14T00:00:00",
          "2022-03-14T00:00:00",
          "2022-03-14T00:00:00",
          "2022-03-14T00:00:00",
          "2022-03-14T00:00:00",
          "2022-03-14T00:00:00",
          "2022-03-10T00:00:00",
          "2022-03-10T00:00:00",
          "2022-03-08T00:00:00",
          "2022-03-08T00:00:00",
          "2022-03-08T00:00:00",
          "2022-03-07T00:00:00",
          "2022-03-07T00:00:00",
          "2022-03-07T00:00:00",
          "2022-03-07T00:00:00",
          "2022-03-04T00:00:00",
          "2022-03-04T00:00:00",
          "2022-03-03T00:00:00",
          "2022-03-01T00:00:00",
          "2022-02-24T00:00:00",
          "2022-02-24T00:00:00",
          "2022-02-23T00:00:00",
          "2022-02-22T00:00:00",
          "2022-02-22T00:00:00",
          "2022-02-22T00:00:00",
          "2022-02-22T00:00:00",
          "2022-02-22T00:00:00",
          "2022-02-22T00:00:00",
          "2022-02-22T00:00:00",
          "2022-02-18T00:00:00",
          "2022-02-16T00:00:00",
          "2022-02-15T00:00:00",
          "2022-02-15T00:00:00",
          "2022-02-15T00:00:00",
          "2022-02-14T00:00:00",
          "2022-02-14T00:00:00",
          "2022-02-14T00:00:00",
          "2022-02-10T00:00:00",
          "2022-02-09T00:00:00",
          "2022-02-09T00:00:00",
          "2022-02-09T00:00:00",
          "2022-02-07T00:00:00",
          "2022-02-07T00:00:00",
          "2022-02-07T00:00:00",
          "2022-02-04T00:00:00",
          "2022-02-03T00:00:00",
          "2022-02-03T00:00:00",
          "2022-02-01T00:00:00",
          "2022-01-31T00:00:00",
          "2022-01-31T00:00:00",
          "2022-01-31T00:00:00",
          "2022-01-31T00:00:00",
          "2022-01-31T00:00:00",
          "2022-01-31T00:00:00",
          "2022-01-28T00:00:00",
          "2022-01-28T00:00:00",
          "2022-01-28T00:00:00",
          "2022-01-27T00:00:00",
          "2022-01-26T00:00:00",
          "2022-01-26T00:00:00",
          "2022-01-25T00:00:00",
          "2022-01-24T00:00:00",
          "2022-01-24T00:00:00",
          "2022-01-24T00:00:00",
          "2022-01-24T00:00:00",
          "2022-01-24T00:00:00",
          "2022-01-20T00:00:00",
          "2022-01-19T00:00:00",
          "2022-01-18T00:00:00",
          "2022-01-18T00:00:00",
          "2022-01-18T00:00:00",
          "2022-01-18T00:00:00",
          "2022-01-18T00:00:00",
          "2022-01-14T00:00:00",
          "2022-01-13T00:00:00",
          "2022-01-13T00:00:00",
          "2022-01-10T00:00:00",
          "2022-01-10T00:00:00",
          "2022-01-10T00:00:00",
          "2022-01-10T00:00:00",
          "2022-01-10T00:00:00",
          "2022-01-07T00:00:00",
          "2022-01-05T00:00:00",
          "2022-01-04T00:00:00",
          "2022-01-04T00:00:00",
          "2022-01-04T00:00:00",
          "2022-01-03T00:00:00",
          "2022-01-03T00:00:00",
          "2022-01-03T00:00:00",
          "2022-01-03T00:00:00",
          "2022-01-03T00:00:00",
          "2022-01-03T00:00:00",
          "2022-01-03T00:00:00"
         ],
         "xaxis": "x",
         "y": [
          4,
          5.25,
          6,
          2.75,
          7,
          18.41,
          105,
          4.99,
          5,
          10.76,
          6.21,
          11.8,
          11.95,
          30.02,
          13.57,
          4.45,
          24.24,
          14.56,
          10.5,
          14.55,
          12.18,
          1.08,
          1.39,
          52.02,
          12.92,
          1.78,
          4.99,
          20.46,
          5.5,
          77,
          14.48,
          17.32,
          4.28,
          11.37,
          7.2,
          24.98,
          12.95,
          19,
          14.5,
          18.89,
          6.49,
          10.53,
          3.94,
          21.71,
          11.94,
          7.3,
          23.33,
          5,
          13.5,
          25.98,
          4.04,
          22.6,
          11.64,
          58.34,
          51.96,
          15.1,
          63.92,
          10.03,
          8.05,
          11.85,
          9.73,
          5.25,
          51.2,
          20.58,
          8.08,
          81.7,
          13.17,
          14.8,
          13.39,
          45.41,
          2.58,
          16.53,
          13.39,
          4.99,
          2.6,
          14.04,
          14.07,
          6.48,
          5,
          11.6,
          2.7,
          5.49,
          7,
          29.22,
          1.8,
          35.03,
          26.85,
          14.04,
          21.95,
          21.49,
          9.95,
          6.7,
          29.13,
          7,
          6.3,
          57.55,
          6.7,
          10.29,
          186.52,
          31.33,
          59.49,
          7.57,
          9.98,
          5,
          7.57,
          6,
          8.08,
          3.06,
          11.9,
          21.64,
          8.55,
          4.28,
          11.36,
          11.62,
          4.5,
          16.47,
          65,
          38.25,
          2.14,
          20,
          5,
          15.08,
          10.13,
          30,
          9.69,
          5.99,
          2.14,
          4,
          21.29,
          2,
          9.81,
          2.26,
          6.79,
          8.08,
          6.25,
          33.83,
          9.5,
          18.95,
          5.41,
          10.8,
          20.45,
          8.38,
          15.6,
          1.34,
          11.84,
          29.99,
          4.15,
          3.01,
          18.26,
          16.92,
          49.99,
          42,
          8,
          20.3,
          6.02,
          11.5,
          6.02,
          2.14,
          7,
          6.35,
          46.99,
          1.08,
          25,
          9.68,
          2.41,
          3.77,
          25.08,
          3.77,
          1.08,
          1.07,
          1.07,
          2.96,
          23.6,
          6.02,
          32.69,
          5.99,
          3,
          29.99,
          34.5,
          11.12,
          22.92,
          4.3,
          5.98,
          3.22,
          20,
          48.51,
          5,
          25,
          6.01,
          45,
          22.51,
          6.98,
          23.67,
          7.89,
          0.01,
          59.98,
          124.94,
          29.99,
          20.91,
          5,
          1.99,
          6.95,
          22.52,
          25,
          3.66,
          15.9,
          61.7,
          4.33,
          46.79,
          21.99,
          5.85,
          13,
          4.6,
          17.28,
          5.58,
          10.39,
          6.48,
          100,
          43,
          6.8,
          13.28,
          8.65,
          12.98,
          5.49,
          33.48,
          3.34,
          79.7,
          7.52,
          6.7,
          9.61,
          13,
          19.99,
          7.52,
          5,
          14.78,
          2.25,
          3.25,
          13.05,
          11.64,
          33.28,
          7.67,
          5,
          5.26,
          15.36,
          4.29,
          10.81,
          43.6,
          5.82,
          37.6,
          8.85,
          7.51,
          9.61,
          15.16,
          0.51,
          11.9,
          12.95,
          5,
          40.93,
          2.5,
          2.5,
          9.91,
          11.71,
          8.6,
          1.56,
          11.8,
          15.07,
          8.94,
          13.45,
          12.92,
          32.31,
          23.69,
          10.71,
          11.61,
          14.64,
          13.08,
          0.99,
          21.09,
          4.3,
          15.61,
          25,
          5.12,
          7.1,
          17,
          1.71,
          16.16,
          6.76,
          3.99,
          11.71,
          6,
          5.33,
          3.75,
          136.24,
          4.95,
          7.04,
          12.44,
          8.64,
          2.99,
          3.06,
          8.77,
          5,
          14.99,
          18.84,
          1.79,
          25,
          1,
          1.95,
          10.83,
          8.12,
          1.6,
          9.63,
          9,
          18.42,
          14.95,
          0.99,
          25,
          4,
          13.93,
          28.13,
          5,
          16.18,
          1.5,
          17.27,
          1.75,
          5.15,
          33.49,
          1.75,
          6.32,
          16.19,
          23.79,
          19.45,
          5,
          11.76,
          20.12,
          1,
          22.69,
          5,
          11.04,
          10.75,
          12.68,
          3.95,
          12.68,
          10,
          4.26,
          11.58,
          29.31,
          2.27,
          6.36,
          8.57,
          2.29,
          6.47,
          11.48,
          9.68,
          0.99,
          6.51,
          92.58,
          2.74,
          7.56,
          9.7,
          54.74,
          4.84,
          8.03,
          10,
          13.02,
          28,
          20,
          11.37,
          10,
          1.98,
          20.52,
          5,
          16.92,
          60,
          39.19,
          4.88,
          5.1,
          164.12,
          4.95,
          11.54
         ],
         "yaxis": "y"
        }
       ],
       "layout": {
        "legend": {
         "tracegroupgap": 0
        },
        "margin": {
         "t": 60
        },
        "template": {
         "data": {
          "bar": [
           {
            "error_x": {
             "color": "#2a3f5f"
            },
            "error_y": {
             "color": "#2a3f5f"
            },
            "marker": {
             "line": {
              "color": "#E5ECF6",
              "width": 0.5
             },
             "pattern": {
              "fillmode": "overlay",
              "size": 10,
              "solidity": 0.2
             }
            },
            "type": "bar"
           }
          ],
          "barpolar": [
           {
            "marker": {
             "line": {
              "color": "#E5ECF6",
              "width": 0.5
             },
             "pattern": {
              "fillmode": "overlay",
              "size": 10,
              "solidity": 0.2
             }
            },
            "type": "barpolar"
           }
          ],
          "carpet": [
           {
            "aaxis": {
             "endlinecolor": "#2a3f5f",
             "gridcolor": "white",
             "linecolor": "white",
             "minorgridcolor": "white",
             "startlinecolor": "#2a3f5f"
            },
            "baxis": {
             "endlinecolor": "#2a3f5f",
             "gridcolor": "white",
             "linecolor": "white",
             "minorgridcolor": "white",
             "startlinecolor": "#2a3f5f"
            },
            "type": "carpet"
           }
          ],
          "choropleth": [
           {
            "colorbar": {
             "outlinewidth": 0,
             "ticks": ""
            },
            "type": "choropleth"
           }
          ],
          "contour": [
           {
            "colorbar": {
             "outlinewidth": 0,
             "ticks": ""
            },
            "colorscale": [
             [
              0,
              "#0d0887"
             ],
             [
              0.1111111111111111,
              "#46039f"
             ],
             [
              0.2222222222222222,
              "#7201a8"
             ],
             [
              0.3333333333333333,
              "#9c179e"
             ],
             [
              0.4444444444444444,
              "#bd3786"
             ],
             [
              0.5555555555555556,
              "#d8576b"
             ],
             [
              0.6666666666666666,
              "#ed7953"
             ],
             [
              0.7777777777777778,
              "#fb9f3a"
             ],
             [
              0.8888888888888888,
              "#fdca26"
             ],
             [
              1,
              "#f0f921"
             ]
            ],
            "type": "contour"
           }
          ],
          "contourcarpet": [
           {
            "colorbar": {
             "outlinewidth": 0,
             "ticks": ""
            },
            "type": "contourcarpet"
           }
          ],
          "heatmap": [
           {
            "colorbar": {
             "outlinewidth": 0,
             "ticks": ""
            },
            "colorscale": [
             [
              0,
              "#0d0887"
             ],
             [
              0.1111111111111111,
              "#46039f"
             ],
             [
              0.2222222222222222,
              "#7201a8"
             ],
             [
              0.3333333333333333,
              "#9c179e"
             ],
             [
              0.4444444444444444,
              "#bd3786"
             ],
             [
              0.5555555555555556,
              "#d8576b"
             ],
             [
              0.6666666666666666,
              "#ed7953"
             ],
             [
              0.7777777777777778,
              "#fb9f3a"
             ],
             [
              0.8888888888888888,
              "#fdca26"
             ],
             [
              1,
              "#f0f921"
             ]
            ],
            "type": "heatmap"
           }
          ],
          "heatmapgl": [
           {
            "colorbar": {
             "outlinewidth": 0,
             "ticks": ""
            },
            "colorscale": [
             [
              0,
              "#0d0887"
             ],
             [
              0.1111111111111111,
              "#46039f"
             ],
             [
              0.2222222222222222,
              "#7201a8"
             ],
             [
              0.3333333333333333,
              "#9c179e"
             ],
             [
              0.4444444444444444,
              "#bd3786"
             ],
             [
              0.5555555555555556,
              "#d8576b"
             ],
             [
              0.6666666666666666,
              "#ed7953"
             ],
             [
              0.7777777777777778,
              "#fb9f3a"
             ],
             [
              0.8888888888888888,
              "#fdca26"
             ],
             [
              1,
              "#f0f921"
             ]
            ],
            "type": "heatmapgl"
           }
          ],
          "histogram": [
           {
            "marker": {
             "pattern": {
              "fillmode": "overlay",
              "size": 10,
              "solidity": 0.2
             }
            },
            "type": "histogram"
           }
          ],
          "histogram2d": [
           {
            "colorbar": {
             "outlinewidth": 0,
             "ticks": ""
            },
            "colorscale": [
             [
              0,
              "#0d0887"
             ],
             [
              0.1111111111111111,
              "#46039f"
             ],
             [
              0.2222222222222222,
              "#7201a8"
             ],
             [
              0.3333333333333333,
              "#9c179e"
             ],
             [
              0.4444444444444444,
              "#bd3786"
             ],
             [
              0.5555555555555556,
              "#d8576b"
             ],
             [
              0.6666666666666666,
              "#ed7953"
             ],
             [
              0.7777777777777778,
              "#fb9f3a"
             ],
             [
              0.8888888888888888,
              "#fdca26"
             ],
             [
              1,
              "#f0f921"
             ]
            ],
            "type": "histogram2d"
           }
          ],
          "histogram2dcontour": [
           {
            "colorbar": {
             "outlinewidth": 0,
             "ticks": ""
            },
            "colorscale": [
             [
              0,
              "#0d0887"
             ],
             [
              0.1111111111111111,
              "#46039f"
             ],
             [
              0.2222222222222222,
              "#7201a8"
             ],
             [
              0.3333333333333333,
              "#9c179e"
             ],
             [
              0.4444444444444444,
              "#bd3786"
             ],
             [
              0.5555555555555556,
              "#d8576b"
             ],
             [
              0.6666666666666666,
              "#ed7953"
             ],
             [
              0.7777777777777778,
              "#fb9f3a"
             ],
             [
              0.8888888888888888,
              "#fdca26"
             ],
             [
              1,
              "#f0f921"
             ]
            ],
            "type": "histogram2dcontour"
           }
          ],
          "mesh3d": [
           {
            "colorbar": {
             "outlinewidth": 0,
             "ticks": ""
            },
            "type": "mesh3d"
           }
          ],
          "parcoords": [
           {
            "line": {
             "colorbar": {
              "outlinewidth": 0,
              "ticks": ""
             }
            },
            "type": "parcoords"
           }
          ],
          "pie": [
           {
            "automargin": true,
            "type": "pie"
           }
          ],
          "scatter": [
           {
            "fillpattern": {
             "fillmode": "overlay",
             "size": 10,
             "solidity": 0.2
            },
            "type": "scatter"
           }
          ],
          "scatter3d": [
           {
            "line": {
             "colorbar": {
              "outlinewidth": 0,
              "ticks": ""
             }
            },
            "marker": {
             "colorbar": {
              "outlinewidth": 0,
              "ticks": ""
             }
            },
            "type": "scatter3d"
           }
          ],
          "scattercarpet": [
           {
            "marker": {
             "colorbar": {
              "outlinewidth": 0,
              "ticks": ""
             }
            },
            "type": "scattercarpet"
           }
          ],
          "scattergeo": [
           {
            "marker": {
             "colorbar": {
              "outlinewidth": 0,
              "ticks": ""
             }
            },
            "type": "scattergeo"
           }
          ],
          "scattergl": [
           {
            "marker": {
             "colorbar": {
              "outlinewidth": 0,
              "ticks": ""
             }
            },
            "type": "scattergl"
           }
          ],
          "scattermapbox": [
           {
            "marker": {
             "colorbar": {
              "outlinewidth": 0,
              "ticks": ""
             }
            },
            "type": "scattermapbox"
           }
          ],
          "scatterpolar": [
           {
            "marker": {
             "colorbar": {
              "outlinewidth": 0,
              "ticks": ""
             }
            },
            "type": "scatterpolar"
           }
          ],
          "scatterpolargl": [
           {
            "marker": {
             "colorbar": {
              "outlinewidth": 0,
              "ticks": ""
             }
            },
            "type": "scatterpolargl"
           }
          ],
          "scatterternary": [
           {
            "marker": {
             "colorbar": {
              "outlinewidth": 0,
              "ticks": ""
             }
            },
            "type": "scatterternary"
           }
          ],
          "surface": [
           {
            "colorbar": {
             "outlinewidth": 0,
             "ticks": ""
            },
            "colorscale": [
             [
              0,
              "#0d0887"
             ],
             [
              0.1111111111111111,
              "#46039f"
             ],
             [
              0.2222222222222222,
              "#7201a8"
             ],
             [
              0.3333333333333333,
              "#9c179e"
             ],
             [
              0.4444444444444444,
              "#bd3786"
             ],
             [
              0.5555555555555556,
              "#d8576b"
             ],
             [
              0.6666666666666666,
              "#ed7953"
             ],
             [
              0.7777777777777778,
              "#fb9f3a"
             ],
             [
              0.8888888888888888,
              "#fdca26"
             ],
             [
              1,
              "#f0f921"
             ]
            ],
            "type": "surface"
           }
          ],
          "table": [
           {
            "cells": {
             "fill": {
              "color": "#EBF0F8"
             },
             "line": {
              "color": "white"
             }
            },
            "header": {
             "fill": {
              "color": "#C8D4E3"
             },
             "line": {
              "color": "white"
             }
            },
            "type": "table"
           }
          ]
         },
         "layout": {
          "annotationdefaults": {
           "arrowcolor": "#2a3f5f",
           "arrowhead": 0,
           "arrowwidth": 1
          },
          "autotypenumbers": "strict",
          "coloraxis": {
           "colorbar": {
            "outlinewidth": 0,
            "ticks": ""
           }
          },
          "colorscale": {
           "diverging": [
            [
             0,
             "#8e0152"
            ],
            [
             0.1,
             "#c51b7d"
            ],
            [
             0.2,
             "#de77ae"
            ],
            [
             0.3,
             "#f1b6da"
            ],
            [
             0.4,
             "#fde0ef"
            ],
            [
             0.5,
             "#f7f7f7"
            ],
            [
             0.6,
             "#e6f5d0"
            ],
            [
             0.7,
             "#b8e186"
            ],
            [
             0.8,
             "#7fbc41"
            ],
            [
             0.9,
             "#4d9221"
            ],
            [
             1,
             "#276419"
            ]
           ],
           "sequential": [
            [
             0,
             "#0d0887"
            ],
            [
             0.1111111111111111,
             "#46039f"
            ],
            [
             0.2222222222222222,
             "#7201a8"
            ],
            [
             0.3333333333333333,
             "#9c179e"
            ],
            [
             0.4444444444444444,
             "#bd3786"
            ],
            [
             0.5555555555555556,
             "#d8576b"
            ],
            [
             0.6666666666666666,
             "#ed7953"
            ],
            [
             0.7777777777777778,
             "#fb9f3a"
            ],
            [
             0.8888888888888888,
             "#fdca26"
            ],
            [
             1,
             "#f0f921"
            ]
           ],
           "sequentialminus": [
            [
             0,
             "#0d0887"
            ],
            [
             0.1111111111111111,
             "#46039f"
            ],
            [
             0.2222222222222222,
             "#7201a8"
            ],
            [
             0.3333333333333333,
             "#9c179e"
            ],
            [
             0.4444444444444444,
             "#bd3786"
            ],
            [
             0.5555555555555556,
             "#d8576b"
            ],
            [
             0.6666666666666666,
             "#ed7953"
            ],
            [
             0.7777777777777778,
             "#fb9f3a"
            ],
            [
             0.8888888888888888,
             "#fdca26"
            ],
            [
             1,
             "#f0f921"
            ]
           ]
          },
          "colorway": [
           "#636efa",
           "#EF553B",
           "#00cc96",
           "#ab63fa",
           "#FFA15A",
           "#19d3f3",
           "#FF6692",
           "#B6E880",
           "#FF97FF",
           "#FECB52"
          ],
          "font": {
           "color": "#2a3f5f"
          },
          "geo": {
           "bgcolor": "white",
           "lakecolor": "white",
           "landcolor": "#E5ECF6",
           "showlakes": true,
           "showland": true,
           "subunitcolor": "white"
          },
          "hoverlabel": {
           "align": "left"
          },
          "hovermode": "closest",
          "mapbox": {
           "style": "light"
          },
          "paper_bgcolor": "white",
          "plot_bgcolor": "#E5ECF6",
          "polar": {
           "angularaxis": {
            "gridcolor": "white",
            "linecolor": "white",
            "ticks": ""
           },
           "bgcolor": "#E5ECF6",
           "radialaxis": {
            "gridcolor": "white",
            "linecolor": "white",
            "ticks": ""
           }
          },
          "scene": {
           "xaxis": {
            "backgroundcolor": "#E5ECF6",
            "gridcolor": "white",
            "gridwidth": 2,
            "linecolor": "white",
            "showbackground": true,
            "ticks": "",
            "zerolinecolor": "white"
           },
           "yaxis": {
            "backgroundcolor": "#E5ECF6",
            "gridcolor": "white",
            "gridwidth": 2,
            "linecolor": "white",
            "showbackground": true,
            "ticks": "",
            "zerolinecolor": "white"
           },
           "zaxis": {
            "backgroundcolor": "#E5ECF6",
            "gridcolor": "white",
            "gridwidth": 2,
            "linecolor": "white",
            "showbackground": true,
            "ticks": "",
            "zerolinecolor": "white"
           }
          },
          "shapedefaults": {
           "line": {
            "color": "#2a3f5f"
           }
          },
          "ternary": {
           "aaxis": {
            "gridcolor": "white",
            "linecolor": "white",
            "ticks": ""
           },
           "baxis": {
            "gridcolor": "white",
            "linecolor": "white",
            "ticks": ""
           },
           "bgcolor": "#E5ECF6",
           "caxis": {
            "gridcolor": "white",
            "linecolor": "white",
            "ticks": ""
           }
          },
          "title": {
           "x": 0.05
          },
          "xaxis": {
           "automargin": true,
           "gridcolor": "white",
           "linecolor": "white",
           "ticks": "",
           "title": {
            "standoff": 15
           },
           "zerolinecolor": "white",
           "zerolinewidth": 2
          },
          "yaxis": {
           "automargin": true,
           "gridcolor": "white",
           "linecolor": "white",
           "ticks": "",
           "title": {
            "standoff": 15
           },
           "zerolinecolor": "white",
           "zerolinewidth": 2
          }
         }
        },
        "xaxis": {
         "anchor": "y",
         "domain": [
          0,
          1
         ],
         "title": {
          "text": "Dates"
         }
        },
        "yaxis": {
         "anchor": "x",
         "domain": [
          0,
          1
         ],
         "title": {
          "text": "Money Spent"
         }
        }
       }
      }
     },
     "metadata": {},
     "output_type": "display_data"
    }
   ],
   "source": [
    "fig = px.line(df_spend, x='Dates', y=\"Money Spent\")\n",
    "fig.show()"
   ]
  },
  {
   "cell_type": "code",
   "execution_count": 283,
   "metadata": {},
   "outputs": [
    {
     "data": {
      "application/vnd.plotly.v1+json": {
       "config": {
        "plotlyServerURL": "https://plot.ly"
       },
       "data": [
        {
         "hovertemplate": "Month=%{x}<br>Money Spent=%{y}<extra></extra>",
         "legendgroup": "",
         "line": {
          "color": "#636efa",
          "dash": "solid"
         },
         "marker": {
          "symbol": "circle"
         },
         "mode": "lines",
         "name": "",
         "orientation": "v",
         "showlegend": false,
         "type": "scatter",
         "x": [
          12,
          12,
          12,
          12,
          12,
          12,
          12,
          12,
          12,
          12,
          12,
          12,
          12,
          12,
          12,
          12,
          12,
          12,
          12,
          12,
          12,
          12,
          12,
          12,
          12,
          12,
          12,
          12,
          11,
          11,
          11,
          11,
          11,
          11,
          11,
          11,
          11,
          11,
          11,
          11,
          11,
          11,
          11,
          11,
          11,
          11,
          11,
          11,
          11,
          11,
          11,
          11,
          11,
          11,
          11,
          10,
          10,
          10,
          10,
          10,
          10,
          10,
          10,
          10,
          10,
          10,
          10,
          10,
          10,
          10,
          10,
          10,
          10,
          10,
          10,
          10,
          10,
          10,
          10,
          10,
          10,
          10,
          10,
          10,
          10,
          10,
          10,
          10,
          10,
          10,
          9,
          9,
          9,
          9,
          9,
          9,
          9,
          9,
          9,
          9,
          9,
          9,
          9,
          9,
          9,
          9,
          9,
          9,
          9,
          9,
          9,
          9,
          9,
          9,
          9,
          9,
          9,
          9,
          9,
          9,
          9,
          9,
          9,
          9,
          9,
          9,
          8,
          8,
          8,
          8,
          8,
          8,
          8,
          8,
          8,
          8,
          8,
          8,
          8,
          8,
          8,
          8,
          8,
          8,
          8,
          8,
          8,
          8,
          8,
          8,
          8,
          8,
          8,
          8,
          8,
          8,
          8,
          8,
          8,
          8,
          7,
          7,
          7,
          7,
          7,
          7,
          7,
          7,
          7,
          7,
          7,
          7,
          7,
          7,
          7,
          7,
          7,
          7,
          7,
          7,
          7,
          7,
          7,
          6,
          6,
          6,
          6,
          6,
          6,
          6,
          6,
          6,
          6,
          6,
          6,
          6,
          6,
          6,
          6,
          6,
          6,
          6,
          6,
          6,
          6,
          6,
          6,
          5,
          5,
          5,
          5,
          5,
          5,
          5,
          5,
          5,
          5,
          5,
          5,
          5,
          5,
          5,
          5,
          5,
          5,
          5,
          5,
          5,
          5,
          5,
          4,
          4,
          4,
          4,
          4,
          4,
          4,
          4,
          4,
          4,
          4,
          4,
          4,
          4,
          4,
          4,
          4,
          4,
          4,
          4,
          4,
          4,
          4,
          4,
          4,
          4,
          3,
          3,
          3,
          3,
          3,
          3,
          3,
          3,
          3,
          3,
          3,
          3,
          3,
          3,
          3,
          3,
          3,
          3,
          3,
          3,
          3,
          3,
          3,
          3,
          3,
          3,
          3,
          3,
          3,
          3,
          3,
          3,
          3,
          3,
          3,
          3,
          3,
          3,
          3,
          3,
          3,
          3,
          3,
          3,
          3,
          3,
          3,
          3,
          2,
          2,
          2,
          2,
          2,
          2,
          2,
          2,
          2,
          2,
          2,
          2,
          2,
          2,
          2,
          2,
          2,
          2,
          2,
          2,
          2,
          2,
          2,
          2,
          2,
          2,
          2,
          2,
          2,
          1,
          1,
          1,
          1,
          1,
          1,
          1,
          1,
          1,
          1,
          1,
          1,
          1,
          1,
          1,
          1,
          1,
          1,
          1,
          1,
          1,
          1,
          1,
          1,
          1,
          1,
          1,
          1,
          1,
          1,
          1,
          1,
          1,
          1,
          1,
          1,
          1,
          1,
          1,
          1,
          1,
          1,
          1,
          1,
          1
         ],
         "xaxis": "x",
         "y": [
          4,
          5.25,
          6,
          2.75,
          7,
          18.41,
          105,
          4.99,
          5,
          10.76,
          6.21,
          11.8,
          11.95,
          30.02,
          13.57,
          4.45,
          24.24,
          14.56,
          10.5,
          14.55,
          12.18,
          1.08,
          1.39,
          52.02,
          12.92,
          1.78,
          4.99,
          20.46,
          5.5,
          77,
          14.48,
          17.32,
          4.28,
          11.37,
          7.2,
          24.98,
          12.95,
          19,
          14.5,
          18.89,
          6.49,
          10.53,
          3.94,
          21.71,
          11.94,
          7.3,
          23.33,
          5,
          13.5,
          25.98,
          4.04,
          22.6,
          11.64,
          58.34,
          51.96,
          15.1,
          63.92,
          10.03,
          8.05,
          11.85,
          9.73,
          5.25,
          51.2,
          20.58,
          8.08,
          81.7,
          13.17,
          14.8,
          13.39,
          45.41,
          2.58,
          16.53,
          13.39,
          4.99,
          2.6,
          14.04,
          14.07,
          6.48,
          5,
          11.6,
          2.7,
          5.49,
          7,
          29.22,
          1.8,
          35.03,
          26.85,
          14.04,
          21.95,
          21.49,
          9.95,
          6.7,
          29.13,
          7,
          6.3,
          57.55,
          6.7,
          10.29,
          186.52,
          31.33,
          59.49,
          7.57,
          9.98,
          5,
          7.57,
          6,
          8.08,
          3.06,
          11.9,
          21.64,
          8.55,
          4.28,
          11.36,
          11.62,
          4.5,
          16.47,
          65,
          38.25,
          2.14,
          20,
          5,
          15.08,
          10.13,
          30,
          9.69,
          5.99,
          2.14,
          4,
          21.29,
          2,
          9.81,
          2.26,
          6.79,
          8.08,
          6.25,
          33.83,
          9.5,
          18.95,
          5.41,
          10.8,
          20.45,
          8.38,
          15.6,
          1.34,
          11.84,
          29.99,
          4.15,
          3.01,
          18.26,
          16.92,
          49.99,
          42,
          8,
          20.3,
          6.02,
          11.5,
          6.02,
          2.14,
          7,
          6.35,
          46.99,
          1.08,
          25,
          9.68,
          2.41,
          3.77,
          25.08,
          3.77,
          1.08,
          1.07,
          1.07,
          2.96,
          23.6,
          6.02,
          32.69,
          5.99,
          3,
          29.99,
          34.5,
          11.12,
          22.92,
          4.3,
          5.98,
          3.22,
          20,
          48.51,
          5,
          25,
          6.01,
          45,
          22.51,
          6.98,
          23.67,
          7.89,
          0.01,
          59.98,
          124.94,
          29.99,
          20.91,
          5,
          1.99,
          6.95,
          22.52,
          25,
          3.66,
          15.9,
          61.7,
          4.33,
          46.79,
          21.99,
          5.85,
          13,
          4.6,
          17.28,
          5.58,
          10.39,
          6.48,
          100,
          43,
          6.8,
          13.28,
          8.65,
          12.98,
          5.49,
          33.48,
          3.34,
          79.7,
          7.52,
          6.7,
          9.61,
          13,
          19.99,
          7.52,
          5,
          14.78,
          2.25,
          3.25,
          13.05,
          11.64,
          33.28,
          7.67,
          5,
          5.26,
          15.36,
          4.29,
          10.81,
          43.6,
          5.82,
          37.6,
          8.85,
          7.51,
          9.61,
          15.16,
          0.51,
          11.9,
          12.95,
          5,
          40.93,
          2.5,
          2.5,
          9.91,
          11.71,
          8.6,
          1.56,
          11.8,
          15.07,
          8.94,
          13.45,
          12.92,
          32.31,
          23.69,
          10.71,
          11.61,
          14.64,
          13.08,
          0.99,
          21.09,
          4.3,
          15.61,
          25,
          5.12,
          7.1,
          17,
          1.71,
          16.16,
          6.76,
          3.99,
          11.71,
          6,
          5.33,
          3.75,
          136.24,
          4.95,
          7.04,
          12.44,
          8.64,
          2.99,
          3.06,
          8.77,
          5,
          14.99,
          18.84,
          1.79,
          25,
          1,
          1.95,
          10.83,
          8.12,
          1.6,
          9.63,
          9,
          18.42,
          14.95,
          0.99,
          25,
          4,
          13.93,
          28.13,
          5,
          16.18,
          1.5,
          17.27,
          1.75,
          5.15,
          33.49,
          1.75,
          6.32,
          16.19,
          23.79,
          19.45,
          5,
          11.76,
          20.12,
          1,
          22.69,
          5,
          11.04,
          10.75,
          12.68,
          3.95,
          12.68,
          10,
          4.26,
          11.58,
          29.31,
          2.27,
          6.36,
          8.57,
          2.29,
          6.47,
          11.48,
          9.68,
          0.99,
          6.51,
          92.58,
          2.74,
          7.56,
          9.7,
          54.74,
          4.84,
          8.03,
          10,
          13.02,
          28,
          20,
          11.37,
          10,
          1.98,
          20.52,
          5,
          16.92,
          60,
          39.19,
          4.88,
          5.1,
          164.12,
          4.95,
          11.54
         ],
         "yaxis": "y"
        }
       ],
       "layout": {
        "legend": {
         "tracegroupgap": 0
        },
        "margin": {
         "t": 60
        },
        "template": {
         "data": {
          "bar": [
           {
            "error_x": {
             "color": "#2a3f5f"
            },
            "error_y": {
             "color": "#2a3f5f"
            },
            "marker": {
             "line": {
              "color": "#E5ECF6",
              "width": 0.5
             },
             "pattern": {
              "fillmode": "overlay",
              "size": 10,
              "solidity": 0.2
             }
            },
            "type": "bar"
           }
          ],
          "barpolar": [
           {
            "marker": {
             "line": {
              "color": "#E5ECF6",
              "width": 0.5
             },
             "pattern": {
              "fillmode": "overlay",
              "size": 10,
              "solidity": 0.2
             }
            },
            "type": "barpolar"
           }
          ],
          "carpet": [
           {
            "aaxis": {
             "endlinecolor": "#2a3f5f",
             "gridcolor": "white",
             "linecolor": "white",
             "minorgridcolor": "white",
             "startlinecolor": "#2a3f5f"
            },
            "baxis": {
             "endlinecolor": "#2a3f5f",
             "gridcolor": "white",
             "linecolor": "white",
             "minorgridcolor": "white",
             "startlinecolor": "#2a3f5f"
            },
            "type": "carpet"
           }
          ],
          "choropleth": [
           {
            "colorbar": {
             "outlinewidth": 0,
             "ticks": ""
            },
            "type": "choropleth"
           }
          ],
          "contour": [
           {
            "colorbar": {
             "outlinewidth": 0,
             "ticks": ""
            },
            "colorscale": [
             [
              0,
              "#0d0887"
             ],
             [
              0.1111111111111111,
              "#46039f"
             ],
             [
              0.2222222222222222,
              "#7201a8"
             ],
             [
              0.3333333333333333,
              "#9c179e"
             ],
             [
              0.4444444444444444,
              "#bd3786"
             ],
             [
              0.5555555555555556,
              "#d8576b"
             ],
             [
              0.6666666666666666,
              "#ed7953"
             ],
             [
              0.7777777777777778,
              "#fb9f3a"
             ],
             [
              0.8888888888888888,
              "#fdca26"
             ],
             [
              1,
              "#f0f921"
             ]
            ],
            "type": "contour"
           }
          ],
          "contourcarpet": [
           {
            "colorbar": {
             "outlinewidth": 0,
             "ticks": ""
            },
            "type": "contourcarpet"
           }
          ],
          "heatmap": [
           {
            "colorbar": {
             "outlinewidth": 0,
             "ticks": ""
            },
            "colorscale": [
             [
              0,
              "#0d0887"
             ],
             [
              0.1111111111111111,
              "#46039f"
             ],
             [
              0.2222222222222222,
              "#7201a8"
             ],
             [
              0.3333333333333333,
              "#9c179e"
             ],
             [
              0.4444444444444444,
              "#bd3786"
             ],
             [
              0.5555555555555556,
              "#d8576b"
             ],
             [
              0.6666666666666666,
              "#ed7953"
             ],
             [
              0.7777777777777778,
              "#fb9f3a"
             ],
             [
              0.8888888888888888,
              "#fdca26"
             ],
             [
              1,
              "#f0f921"
             ]
            ],
            "type": "heatmap"
           }
          ],
          "heatmapgl": [
           {
            "colorbar": {
             "outlinewidth": 0,
             "ticks": ""
            },
            "colorscale": [
             [
              0,
              "#0d0887"
             ],
             [
              0.1111111111111111,
              "#46039f"
             ],
             [
              0.2222222222222222,
              "#7201a8"
             ],
             [
              0.3333333333333333,
              "#9c179e"
             ],
             [
              0.4444444444444444,
              "#bd3786"
             ],
             [
              0.5555555555555556,
              "#d8576b"
             ],
             [
              0.6666666666666666,
              "#ed7953"
             ],
             [
              0.7777777777777778,
              "#fb9f3a"
             ],
             [
              0.8888888888888888,
              "#fdca26"
             ],
             [
              1,
              "#f0f921"
             ]
            ],
            "type": "heatmapgl"
           }
          ],
          "histogram": [
           {
            "marker": {
             "pattern": {
              "fillmode": "overlay",
              "size": 10,
              "solidity": 0.2
             }
            },
            "type": "histogram"
           }
          ],
          "histogram2d": [
           {
            "colorbar": {
             "outlinewidth": 0,
             "ticks": ""
            },
            "colorscale": [
             [
              0,
              "#0d0887"
             ],
             [
              0.1111111111111111,
              "#46039f"
             ],
             [
              0.2222222222222222,
              "#7201a8"
             ],
             [
              0.3333333333333333,
              "#9c179e"
             ],
             [
              0.4444444444444444,
              "#bd3786"
             ],
             [
              0.5555555555555556,
              "#d8576b"
             ],
             [
              0.6666666666666666,
              "#ed7953"
             ],
             [
              0.7777777777777778,
              "#fb9f3a"
             ],
             [
              0.8888888888888888,
              "#fdca26"
             ],
             [
              1,
              "#f0f921"
             ]
            ],
            "type": "histogram2d"
           }
          ],
          "histogram2dcontour": [
           {
            "colorbar": {
             "outlinewidth": 0,
             "ticks": ""
            },
            "colorscale": [
             [
              0,
              "#0d0887"
             ],
             [
              0.1111111111111111,
              "#46039f"
             ],
             [
              0.2222222222222222,
              "#7201a8"
             ],
             [
              0.3333333333333333,
              "#9c179e"
             ],
             [
              0.4444444444444444,
              "#bd3786"
             ],
             [
              0.5555555555555556,
              "#d8576b"
             ],
             [
              0.6666666666666666,
              "#ed7953"
             ],
             [
              0.7777777777777778,
              "#fb9f3a"
             ],
             [
              0.8888888888888888,
              "#fdca26"
             ],
             [
              1,
              "#f0f921"
             ]
            ],
            "type": "histogram2dcontour"
           }
          ],
          "mesh3d": [
           {
            "colorbar": {
             "outlinewidth": 0,
             "ticks": ""
            },
            "type": "mesh3d"
           }
          ],
          "parcoords": [
           {
            "line": {
             "colorbar": {
              "outlinewidth": 0,
              "ticks": ""
             }
            },
            "type": "parcoords"
           }
          ],
          "pie": [
           {
            "automargin": true,
            "type": "pie"
           }
          ],
          "scatter": [
           {
            "fillpattern": {
             "fillmode": "overlay",
             "size": 10,
             "solidity": 0.2
            },
            "type": "scatter"
           }
          ],
          "scatter3d": [
           {
            "line": {
             "colorbar": {
              "outlinewidth": 0,
              "ticks": ""
             }
            },
            "marker": {
             "colorbar": {
              "outlinewidth": 0,
              "ticks": ""
             }
            },
            "type": "scatter3d"
           }
          ],
          "scattercarpet": [
           {
            "marker": {
             "colorbar": {
              "outlinewidth": 0,
              "ticks": ""
             }
            },
            "type": "scattercarpet"
           }
          ],
          "scattergeo": [
           {
            "marker": {
             "colorbar": {
              "outlinewidth": 0,
              "ticks": ""
             }
            },
            "type": "scattergeo"
           }
          ],
          "scattergl": [
           {
            "marker": {
             "colorbar": {
              "outlinewidth": 0,
              "ticks": ""
             }
            },
            "type": "scattergl"
           }
          ],
          "scattermapbox": [
           {
            "marker": {
             "colorbar": {
              "outlinewidth": 0,
              "ticks": ""
             }
            },
            "type": "scattermapbox"
           }
          ],
          "scatterpolar": [
           {
            "marker": {
             "colorbar": {
              "outlinewidth": 0,
              "ticks": ""
             }
            },
            "type": "scatterpolar"
           }
          ],
          "scatterpolargl": [
           {
            "marker": {
             "colorbar": {
              "outlinewidth": 0,
              "ticks": ""
             }
            },
            "type": "scatterpolargl"
           }
          ],
          "scatterternary": [
           {
            "marker": {
             "colorbar": {
              "outlinewidth": 0,
              "ticks": ""
             }
            },
            "type": "scatterternary"
           }
          ],
          "surface": [
           {
            "colorbar": {
             "outlinewidth": 0,
             "ticks": ""
            },
            "colorscale": [
             [
              0,
              "#0d0887"
             ],
             [
              0.1111111111111111,
              "#46039f"
             ],
             [
              0.2222222222222222,
              "#7201a8"
             ],
             [
              0.3333333333333333,
              "#9c179e"
             ],
             [
              0.4444444444444444,
              "#bd3786"
             ],
             [
              0.5555555555555556,
              "#d8576b"
             ],
             [
              0.6666666666666666,
              "#ed7953"
             ],
             [
              0.7777777777777778,
              "#fb9f3a"
             ],
             [
              0.8888888888888888,
              "#fdca26"
             ],
             [
              1,
              "#f0f921"
             ]
            ],
            "type": "surface"
           }
          ],
          "table": [
           {
            "cells": {
             "fill": {
              "color": "#EBF0F8"
             },
             "line": {
              "color": "white"
             }
            },
            "header": {
             "fill": {
              "color": "#C8D4E3"
             },
             "line": {
              "color": "white"
             }
            },
            "type": "table"
           }
          ]
         },
         "layout": {
          "annotationdefaults": {
           "arrowcolor": "#2a3f5f",
           "arrowhead": 0,
           "arrowwidth": 1
          },
          "autotypenumbers": "strict",
          "coloraxis": {
           "colorbar": {
            "outlinewidth": 0,
            "ticks": ""
           }
          },
          "colorscale": {
           "diverging": [
            [
             0,
             "#8e0152"
            ],
            [
             0.1,
             "#c51b7d"
            ],
            [
             0.2,
             "#de77ae"
            ],
            [
             0.3,
             "#f1b6da"
            ],
            [
             0.4,
             "#fde0ef"
            ],
            [
             0.5,
             "#f7f7f7"
            ],
            [
             0.6,
             "#e6f5d0"
            ],
            [
             0.7,
             "#b8e186"
            ],
            [
             0.8,
             "#7fbc41"
            ],
            [
             0.9,
             "#4d9221"
            ],
            [
             1,
             "#276419"
            ]
           ],
           "sequential": [
            [
             0,
             "#0d0887"
            ],
            [
             0.1111111111111111,
             "#46039f"
            ],
            [
             0.2222222222222222,
             "#7201a8"
            ],
            [
             0.3333333333333333,
             "#9c179e"
            ],
            [
             0.4444444444444444,
             "#bd3786"
            ],
            [
             0.5555555555555556,
             "#d8576b"
            ],
            [
             0.6666666666666666,
             "#ed7953"
            ],
            [
             0.7777777777777778,
             "#fb9f3a"
            ],
            [
             0.8888888888888888,
             "#fdca26"
            ],
            [
             1,
             "#f0f921"
            ]
           ],
           "sequentialminus": [
            [
             0,
             "#0d0887"
            ],
            [
             0.1111111111111111,
             "#46039f"
            ],
            [
             0.2222222222222222,
             "#7201a8"
            ],
            [
             0.3333333333333333,
             "#9c179e"
            ],
            [
             0.4444444444444444,
             "#bd3786"
            ],
            [
             0.5555555555555556,
             "#d8576b"
            ],
            [
             0.6666666666666666,
             "#ed7953"
            ],
            [
             0.7777777777777778,
             "#fb9f3a"
            ],
            [
             0.8888888888888888,
             "#fdca26"
            ],
            [
             1,
             "#f0f921"
            ]
           ]
          },
          "colorway": [
           "#636efa",
           "#EF553B",
           "#00cc96",
           "#ab63fa",
           "#FFA15A",
           "#19d3f3",
           "#FF6692",
           "#B6E880",
           "#FF97FF",
           "#FECB52"
          ],
          "font": {
           "color": "#2a3f5f"
          },
          "geo": {
           "bgcolor": "white",
           "lakecolor": "white",
           "landcolor": "#E5ECF6",
           "showlakes": true,
           "showland": true,
           "subunitcolor": "white"
          },
          "hoverlabel": {
           "align": "left"
          },
          "hovermode": "closest",
          "mapbox": {
           "style": "light"
          },
          "paper_bgcolor": "white",
          "plot_bgcolor": "#E5ECF6",
          "polar": {
           "angularaxis": {
            "gridcolor": "white",
            "linecolor": "white",
            "ticks": ""
           },
           "bgcolor": "#E5ECF6",
           "radialaxis": {
            "gridcolor": "white",
            "linecolor": "white",
            "ticks": ""
           }
          },
          "scene": {
           "xaxis": {
            "backgroundcolor": "#E5ECF6",
            "gridcolor": "white",
            "gridwidth": 2,
            "linecolor": "white",
            "showbackground": true,
            "ticks": "",
            "zerolinecolor": "white"
           },
           "yaxis": {
            "backgroundcolor": "#E5ECF6",
            "gridcolor": "white",
            "gridwidth": 2,
            "linecolor": "white",
            "showbackground": true,
            "ticks": "",
            "zerolinecolor": "white"
           },
           "zaxis": {
            "backgroundcolor": "#E5ECF6",
            "gridcolor": "white",
            "gridwidth": 2,
            "linecolor": "white",
            "showbackground": true,
            "ticks": "",
            "zerolinecolor": "white"
           }
          },
          "shapedefaults": {
           "line": {
            "color": "#2a3f5f"
           }
          },
          "ternary": {
           "aaxis": {
            "gridcolor": "white",
            "linecolor": "white",
            "ticks": ""
           },
           "baxis": {
            "gridcolor": "white",
            "linecolor": "white",
            "ticks": ""
           },
           "bgcolor": "#E5ECF6",
           "caxis": {
            "gridcolor": "white",
            "linecolor": "white",
            "ticks": ""
           }
          },
          "title": {
           "x": 0.05
          },
          "xaxis": {
           "automargin": true,
           "gridcolor": "white",
           "linecolor": "white",
           "ticks": "",
           "title": {
            "standoff": 15
           },
           "zerolinecolor": "white",
           "zerolinewidth": 2
          },
          "yaxis": {
           "automargin": true,
           "gridcolor": "white",
           "linecolor": "white",
           "ticks": "",
           "title": {
            "standoff": 15
           },
           "zerolinecolor": "white",
           "zerolinewidth": 2
          }
         }
        },
        "xaxis": {
         "anchor": "y",
         "domain": [
          0,
          1
         ],
         "title": {
          "text": "Month"
         }
        },
        "yaxis": {
         "anchor": "x",
         "domain": [
          0,
          1
         ],
         "title": {
          "text": "Money Spent"
         }
        }
       }
      }
     },
     "metadata": {},
     "output_type": "display_data"
    }
   ],
   "source": [
    "fig = px.line(df_spend, x='Month', y=\"Money Spent\")\n",
    "fig.show()"
   ]
  },
  {
   "cell_type": "code",
   "execution_count": 284,
   "metadata": {},
   "outputs": [
    {
     "data": {
      "text/plain": [
       "<seaborn.axisgrid.PairGrid at 0x7fdc0b5acd30>"
      ]
     },
     "execution_count": 284,
     "metadata": {},
     "output_type": "execute_result"
    },
    {
     "data": {
      "text/plain": [
       "<Figure size 1500x800 with 0 Axes>"
      ]
     },
     "metadata": {},
     "output_type": "display_data"
    },
    {
     "data": {
      "image/png": "[encoded data removed]",
      "text/plain": [
       "<Figure size 500x500 with 6 Axes>"
      ]
     },
     "metadata": {},
     "output_type": "display_data"
    }
   ],
   "source": [
    "df_new2=df_spend.loc[:,['Month', 'Money Spent']]\n",
    "plt.figure(figsize=(15,8))\n",
    "sns.pairplot(df_new2)"
   ]
  },
  {
   "cell_type": "code",
   "execution_count": 285,
   "metadata": {},
   "outputs": [
    {
     "data": {
      "text/plain": [
       "<AxesSubplot:xlabel='Month', ylabel='Money Spent'>"
      ]
     },
     "execution_count": 285,
     "metadata": {},
     "output_type": "execute_result"
    },
    {
     "data": {
      "image/png": "[encoded data removed]",
      "text/plain": [
       "<Figure size 640x480 with 1 Axes>"
      ]
     },
     "metadata": {},
     "output_type": "display_data"
    }
   ],
   "source": [
    "\n",
    "sns.barplot(data=df_spend, x=\"Month\", y=\"Money Spent\")"
   ]
  },
  {
   "cell_type": "code",
   "execution_count": 286,
   "metadata": {},
   "outputs": [
    {
     "data": {
      "image/png": "[encoded data removed]",
      "text/plain": [
       "<Figure size 640x480 with 1 Axes>"
      ]
     },
     "metadata": {},
     "output_type": "display_data"
    },
    {
     "name": "stdout",
     "output_type": "stream",
     "text": [
      "Regression Line Equation= -21.68961138814513 X + 151.25213429137844\n"
     ]
    }
   ],
   "source": [
    "X=df_spend['Month'].values.reshape(-1, 1)\n",
    "Y=df_spend['Money Spent'].values.reshape(-1, 1)\n",
    "\n",
    "linear_regressor = LinearRegression()  # create object for the class\n",
    "linear_regressor.fit(X, Y)  # perform linear regression\n",
    "Y_pred = linear_regressor.predict(X)  # make predictions\n",
    "\n",
    "plt.scatter(X, Y)\n",
    "plt.plot(X, Y_pred, color='red')\n",
    "plt.show()\n",
    "\n",
    "#linear regression model, almost constant \n",
    "\n",
    "\n",
    "\n",
    "N = len(X)\n",
    "\n",
    "\n",
    "x_mean = X.mean()\n",
    "y_mean = Y.mean()\n",
    " \n",
    "B1_num = ((x - x_mean) * (y - y_mean)).sum()\n",
    "B1_den = ((x - x_mean)**2).sum()\n",
    "B1 = B1_num / B1_den\n",
    "    \n",
    "B0 = y_mean - (B1*x_mean)\n",
    "    \n",
    "\n",
    "print (\"Regression Line Equation=\", B1,\"X +\",B0)"
   ]
  },
  {
   "attachments": {},
   "cell_type": "markdown",
   "metadata": {},
   "source": [
    "Mint.com Given Data Set\n",
    "\n",
    "-Better Data that is easier to read\n",
    "-More categories already labeled "
   ]
  },
  {
   "cell_type": "code",
   "execution_count": 287,
   "metadata": {},
   "outputs": [],
   "source": [
    "df_mint=pd.read_csv('/Users/eric/Documents/Github/Personal_Bank_Budgeting/transactions.csv')\n",
    "\n",
    "#upload new dataset from mint"
   ]
  },
  {
   "cell_type": "code",
   "execution_count": 288,
   "metadata": {},
   "outputs": [
    {
     "data": {
      "text/html": [
       "<div>\n",
       "<style scoped>\n",
       "    .dataframe tbody tr th:only-of-type {\n",
       "        vertical-align: middle;\n",
       "    }\n",
       "\n",
       "    .dataframe tbody tr th {\n",
       "        vertical-align: top;\n",
       "    }\n",
       "\n",
       "    .dataframe thead th {\n",
       "        text-align: right;\n",
       "    }\n",
       "</style>\n",
       "<table border=\"1\" class=\"dataframe\">\n",
       "  <thead>\n",
       "    <tr style=\"text-align: right;\">\n",
       "      <th></th>\n",
       "      <th>Date</th>\n",
       "      <th>Description</th>\n",
       "      <th>Original Description</th>\n",
       "      <th>Amount</th>\n",
       "      <th>Transaction Type</th>\n",
       "      <th>Category</th>\n",
       "      <th>Account Name</th>\n",
       "      <th>Labels</th>\n",
       "      <th>Notes</th>\n",
       "    </tr>\n",
       "  </thead>\n",
       "  <tbody>\n",
       "    <tr>\n",
       "      <th>0</th>\n",
       "      <td>2/21/2023</td>\n",
       "      <td>PURCHASE                                AUTHOR...</td>\n",
       "      <td>PURCHASE                                AUTHOR...</td>\n",
       "      <td>7.20</td>\n",
       "      <td>debit</td>\n",
       "      <td>Fast Food</td>\n",
       "      <td>Eric's Account</td>\n",
       "      <td>NaN</td>\n",
       "      <td>NaN</td>\n",
       "    </tr>\n",
       "    <tr>\n",
       "      <th>1</th>\n",
       "      <td>2/21/2023</td>\n",
       "      <td>PURCHASE                                AUTHOR...</td>\n",
       "      <td>PURCHASE                                AUTHOR...</td>\n",
       "      <td>18.39</td>\n",
       "      <td>debit</td>\n",
       "      <td>Shopping</td>\n",
       "      <td>Eric's Account</td>\n",
       "      <td>NaN</td>\n",
       "      <td>NaN</td>\n",
       "    </tr>\n",
       "    <tr>\n",
       "      <th>2</th>\n",
       "      <td>2/21/2023</td>\n",
       "      <td>PURCHASE                                AUTHOR...</td>\n",
       "      <td>PURCHASE                                AUTHOR...</td>\n",
       "      <td>5.19</td>\n",
       "      <td>debit</td>\n",
       "      <td>Fast Food</td>\n",
       "      <td>Eric's Account</td>\n",
       "      <td>NaN</td>\n",
       "      <td>NaN</td>\n",
       "    </tr>\n",
       "    <tr>\n",
       "      <th>3</th>\n",
       "      <td>2/14/2023</td>\n",
       "      <td>PURCHASE                                AUTHOR...</td>\n",
       "      <td>PURCHASE                                AUTHOR...</td>\n",
       "      <td>15.03</td>\n",
       "      <td>debit</td>\n",
       "      <td>Office Supplies</td>\n",
       "      <td>Eric's Account</td>\n",
       "      <td>NaN</td>\n",
       "      <td>NaN</td>\n",
       "    </tr>\n",
       "    <tr>\n",
       "      <th>4</th>\n",
       "      <td>2/13/2023</td>\n",
       "      <td>PURCHASE                                AUTHOR...</td>\n",
       "      <td>PURCHASE                                AUTHOR...</td>\n",
       "      <td>21.54</td>\n",
       "      <td>debit</td>\n",
       "      <td>Shopping</td>\n",
       "      <td>Eric's Account</td>\n",
       "      <td>NaN</td>\n",
       "      <td>NaN</td>\n",
       "    </tr>\n",
       "  </tbody>\n",
       "</table>\n",
       "</div>"
      ],
      "text/plain": [
       "        Date                                        Description  \\\n",
       "0  2/21/2023  PURCHASE                                AUTHOR...   \n",
       "1  2/21/2023  PURCHASE                                AUTHOR...   \n",
       "2  2/21/2023  PURCHASE                                AUTHOR...   \n",
       "3  2/14/2023  PURCHASE                                AUTHOR...   \n",
       "4  2/13/2023  PURCHASE                                AUTHOR...   \n",
       "\n",
       "                                Original Description  Amount Transaction Type  \\\n",
       "0  PURCHASE                                AUTHOR...    7.20            debit   \n",
       "1  PURCHASE                                AUTHOR...   18.39            debit   \n",
       "2  PURCHASE                                AUTHOR...    5.19            debit   \n",
       "3  PURCHASE                                AUTHOR...   15.03            debit   \n",
       "4  PURCHASE                                AUTHOR...   21.54            debit   \n",
       "\n",
       "          Category    Account Name  Labels  Notes  \n",
       "0        Fast Food  Eric's Account     NaN    NaN  \n",
       "1         Shopping  Eric's Account     NaN    NaN  \n",
       "2        Fast Food  Eric's Account     NaN    NaN  \n",
       "3  Office Supplies  Eric's Account     NaN    NaN  \n",
       "4         Shopping  Eric's Account     NaN    NaN  "
      ]
     },
     "execution_count": 288,
     "metadata": {},
     "output_type": "execute_result"
    }
   ],
   "source": [
    "df_mint.head()"
   ]
  },
  {
   "cell_type": "code",
   "execution_count": 289,
   "metadata": {},
   "outputs": [
    {
     "data": {
      "text/html": [
       "<div>\n",
       "<style scoped>\n",
       "    .dataframe tbody tr th:only-of-type {\n",
       "        vertical-align: middle;\n",
       "    }\n",
       "\n",
       "    .dataframe tbody tr th {\n",
       "        vertical-align: top;\n",
       "    }\n",
       "\n",
       "    .dataframe thead th {\n",
       "        text-align: right;\n",
       "    }\n",
       "</style>\n",
       "<table border=\"1\" class=\"dataframe\">\n",
       "  <thead>\n",
       "    <tr style=\"text-align: right;\">\n",
       "      <th></th>\n",
       "      <th>Amount</th>\n",
       "      <th>Labels</th>\n",
       "      <th>Notes</th>\n",
       "    </tr>\n",
       "  </thead>\n",
       "  <tbody>\n",
       "    <tr>\n",
       "      <th>count</th>\n",
       "      <td>663.000000</td>\n",
       "      <td>0.0</td>\n",
       "      <td>0.0</td>\n",
       "    </tr>\n",
       "    <tr>\n",
       "      <th>mean</th>\n",
       "      <td>47.449653</td>\n",
       "      <td>NaN</td>\n",
       "      <td>NaN</td>\n",
       "    </tr>\n",
       "    <tr>\n",
       "      <th>std</th>\n",
       "      <td>145.226337</td>\n",
       "      <td>NaN</td>\n",
       "      <td>NaN</td>\n",
       "    </tr>\n",
       "    <tr>\n",
       "      <th>min</th>\n",
       "      <td>0.010000</td>\n",
       "      <td>NaN</td>\n",
       "      <td>NaN</td>\n",
       "    </tr>\n",
       "    <tr>\n",
       "      <th>25%</th>\n",
       "      <td>5.805000</td>\n",
       "      <td>NaN</td>\n",
       "      <td>NaN</td>\n",
       "    </tr>\n",
       "    <tr>\n",
       "      <th>50%</th>\n",
       "      <td>11.710000</td>\n",
       "      <td>NaN</td>\n",
       "      <td>NaN</td>\n",
       "    </tr>\n",
       "    <tr>\n",
       "      <th>75%</th>\n",
       "      <td>23.735000</td>\n",
       "      <td>NaN</td>\n",
       "      <td>NaN</td>\n",
       "    </tr>\n",
       "    <tr>\n",
       "      <th>max</th>\n",
       "      <td>1842.130000</td>\n",
       "      <td>NaN</td>\n",
       "      <td>NaN</td>\n",
       "    </tr>\n",
       "  </tbody>\n",
       "</table>\n",
       "</div>"
      ],
      "text/plain": [
       "            Amount  Labels  Notes\n",
       "count   663.000000     0.0    0.0\n",
       "mean     47.449653     NaN    NaN\n",
       "std     145.226337     NaN    NaN\n",
       "min       0.010000     NaN    NaN\n",
       "25%       5.805000     NaN    NaN\n",
       "50%      11.710000     NaN    NaN\n",
       "75%      23.735000     NaN    NaN\n",
       "max    1842.130000     NaN    NaN"
      ]
     },
     "execution_count": 289,
     "metadata": {},
     "output_type": "execute_result"
    }
   ],
   "source": [
    "df_mint.describe()\n"
   ]
  },
  {
   "cell_type": "code",
   "execution_count": 290,
   "metadata": {},
   "outputs": [
    {
     "data": {
      "text/plain": [
       "607"
      ]
     },
     "execution_count": 290,
     "metadata": {},
     "output_type": "execute_result"
    }
   ],
   "source": [
    "for x in df_mint.index:\n",
    "    if df_mint.loc[x, 'Category']=='Income' or df_mint.loc[x, 'Category']=='Paycheck':\n",
    "        df_mint=df_mint.drop(x)\n",
    "\n",
    "\n",
    "\n",
    "\n",
    "\n",
    "len(df_mint)\n",
    "\n",
    "#drop every time I make income, only concerned with spending\n",
    "\n"
   ]
  },
  {
   "cell_type": "code",
   "execution_count": 291,
   "metadata": {},
   "outputs": [
    {
     "data": {
      "application/vnd.plotly.v1+json": {
       "config": {
        "plotlyServerURL": "https://plot.ly"
       },
       "data": [
        {
         "hovertemplate": "Date=%{x}<br>Amount=%{y}<extra></extra>",
         "legendgroup": "",
         "line": {
          "color": "#636efa",
          "dash": "solid"
         },
         "marker": {
          "symbol": "circle"
         },
         "mode": "lines",
         "name": "",
         "orientation": "v",
         "showlegend": false,
         "type": "scatter",
         "x": [
          "9/24/2021",
          "9/24/2021",
          "9/27/2021",
          "9/27/2021",
          "9/27/2021",
          "9/27/2021",
          "9/27/2021",
          "9/28/2021",
          "9/28/2021",
          "9/28/2021",
          "9/28/2021",
          "9/28/2021",
          "9/30/2021",
          "9/30/2021",
          "10/04/2021",
          "10/04/2021",
          "10/04/2021",
          "10/04/2021",
          "10/07/2021",
          "10/12/2021",
          "10/12/2021",
          "10/12/2021",
          "10/12/2021",
          "10/12/2021",
          "10/12/2021",
          "10/12/2021",
          "10/14/2021",
          "10/14/2021",
          "10/15/2021",
          "10/18/2021",
          "10/18/2021",
          "10/19/2021",
          "10/19/2021",
          "10/20/2021",
          "10/20/2021",
          "10/20/2021",
          "10/20/2021",
          "10/20/2021",
          "10/20/2021",
          "10/25/2021",
          "10/25/2021",
          "10/25/2021",
          "10/25/2021",
          "10/25/2021",
          "10/26/2021",
          "10/26/2021",
          "10/26/2021",
          "10/28/2021",
          "10/28/2021",
          "10/29/2021",
          "11/01/2021",
          "11/01/2021",
          "11/01/2021",
          "11/01/2021",
          "11/01/2021",
          "11/01/2021",
          "11/01/2021",
          "11/01/2021",
          "11/01/2021",
          "11/01/2021",
          "11/01/2021",
          "11/02/2021",
          "11/03/2021",
          "11/03/2021",
          "11/03/2021",
          "11/05/2021",
          "11/08/2021",
          "11/08/2021",
          "11/08/2021",
          "11/09/2021",
          "11/10/2021",
          "11/12/2021",
          "11/15/2021",
          "11/15/2021",
          "11/15/2021",
          "11/15/2021",
          "11/15/2021",
          "11/15/2021",
          "11/15/2021",
          "11/15/2021",
          "11/15/2021",
          "11/15/2021",
          "11/15/2021",
          "11/15/2021",
          "11/22/2021",
          "11/22/2021",
          "11/22/2021",
          "11/22/2021",
          "11/22/2021",
          "11/24/2021",
          "11/24/2021",
          "11/26/2021",
          "11/26/2021",
          "11/26/2021",
          "11/26/2021",
          "11/26/2021",
          "11/26/2021",
          "11/26/2021",
          "11/29/2021",
          "11/29/2021",
          "11/29/2021",
          "11/29/2021",
          "11/29/2021",
          "12/01/2021",
          "12/02/2021",
          "12/02/2021",
          "12/02/2021",
          "12/02/2021",
          "12/02/2021",
          "12/03/2021",
          "12/03/2021",
          "12/06/2021",
          "12/06/2021",
          "12/06/2021",
          "12/07/2021",
          "12/07/2021",
          "12/08/2021",
          "12/08/2021",
          "12/08/2021",
          "12/08/2021",
          "12/09/2021",
          "12/13/2021",
          "12/13/2021",
          "12/13/2021",
          "12/13/2021",
          "12/13/2021",
          "12/13/2021",
          "12/13/2021",
          "12/14/2021",
          "12/14/2021",
          "12/15/2021",
          "12/15/2021",
          "12/16/2021",
          "12/17/2021",
          "12/20/2021",
          "12/20/2021",
          "12/20/2021",
          "12/21/2021",
          "12/21/2021",
          "12/21/2021",
          "12/21/2021",
          "12/21/2021",
          "12/22/2021",
          "12/22/2021",
          "12/23/2021",
          "12/23/2021",
          "12/24/2021",
          "12/24/2021",
          "12/24/2021",
          "12/24/2021",
          "12/27/2021",
          "12/27/2021",
          "12/27/2021",
          "12/27/2021",
          "12/27/2021",
          "12/27/2021",
          "12/28/2021",
          "12/29/2021",
          "12/29/2021",
          "12/29/2021",
          "12/29/2021",
          "12/29/2021",
          "12/30/2021",
          "12/31/2021",
          "12/31/2021",
          "12/31/2021",
          "1/03/2022",
          "1/03/2022",
          "1/03/2022",
          "1/03/2022",
          "1/03/2022",
          "1/03/2022",
          "1/03/2022",
          "1/04/2022",
          "1/04/2022",
          "1/04/2022",
          "1/05/2022",
          "1/07/2022",
          "1/10/2022",
          "1/10/2022",
          "1/10/2022",
          "1/10/2022",
          "1/10/2022",
          "1/13/2022",
          "1/13/2022",
          "1/14/2022",
          "1/18/2022",
          "1/18/2022",
          "1/18/2022",
          "1/18/2022",
          "1/18/2022",
          "1/19/2022",
          "1/20/2022",
          "1/24/2022",
          "1/24/2022",
          "1/24/2022",
          "1/24/2022",
          "1/24/2022",
          "1/25/2022",
          "1/26/2022",
          "1/26/2022",
          "1/27/2022",
          "1/28/2022",
          "1/28/2022",
          "1/28/2022",
          "1/31/2022",
          "1/31/2022",
          "1/31/2022",
          "1/31/2022",
          "1/31/2022",
          "1/31/2022",
          "2/01/2022",
          "2/03/2022",
          "2/03/2022",
          "2/04/2022",
          "2/07/2022",
          "2/07/2022",
          "2/07/2022",
          "2/09/2022",
          "2/09/2022",
          "2/09/2022",
          "2/10/2022",
          "2/14/2022",
          "2/14/2022",
          "2/14/2022",
          "2/15/2022",
          "2/15/2022",
          "2/15/2022",
          "2/16/2022",
          "2/18/2022",
          "2/22/2022",
          "2/22/2022",
          "2/22/2022",
          "2/22/2022",
          "2/22/2022",
          "2/22/2022",
          "2/22/2022",
          "2/23/2022",
          "2/24/2022",
          "2/24/2022",
          "3/01/2022",
          "3/03/2022",
          "3/04/2022",
          "3/04/2022",
          "3/07/2022",
          "3/07/2022",
          "3/07/2022",
          "3/07/2022",
          "3/07/2022",
          "3/08/2022",
          "3/08/2022",
          "3/08/2022",
          "3/10/2022",
          "3/10/2022",
          "3/14/2022",
          "3/14/2022",
          "3/14/2022",
          "3/14/2022",
          "3/14/2022",
          "3/14/2022",
          "3/15/2022",
          "3/15/2022",
          "3/16/2022",
          "3/17/2022",
          "3/17/2022",
          "3/18/2022",
          "3/18/2022",
          "3/21/2022",
          "3/21/2022",
          "3/21/2022",
          "3/21/2022",
          "3/21/2022",
          "3/21/2022",
          "3/21/2022",
          "3/21/2022",
          "3/21/2022",
          "3/22/2022",
          "3/22/2022",
          "3/23/2022",
          "3/23/2022",
          "3/24/2022",
          "3/25/2022",
          "3/25/2022",
          "3/28/2022",
          "3/28/2022",
          "3/28/2022",
          "3/28/2022",
          "3/28/2022",
          "3/28/2022",
          "3/28/2022",
          "4/04/2022",
          "4/04/2022",
          "4/04/2022",
          "4/11/2022",
          "4/11/2022",
          "4/11/2022",
          "4/11/2022",
          "4/13/2022",
          "4/13/2022",
          "4/14/2022",
          "4/15/2022",
          "4/15/2022",
          "4/18/2022",
          "4/21/2022",
          "4/22/2022",
          "4/22/2022",
          "4/25/2022",
          "4/25/2022",
          "4/25/2022",
          "4/25/2022",
          "4/25/2022",
          "4/26/2022",
          "4/27/2022",
          "4/28/2022",
          "4/29/2022",
          "4/29/2022",
          "5/02/2022",
          "5/02/2022",
          "5/09/2022",
          "5/09/2022",
          "5/09/2022",
          "5/09/2022",
          "5/09/2022",
          "5/10/2022",
          "5/16/2022",
          "5/16/2022",
          "5/16/2022",
          "5/16/2022",
          "5/17/2022",
          "5/18/2022",
          "5/23/2022",
          "5/23/2022",
          "5/23/2022",
          "5/23/2022",
          "5/23/2022",
          "5/24/2022",
          "5/24/2022",
          "5/24/2022",
          "5/31/2022",
          "5/31/2022",
          "5/31/2022",
          "5/31/2022",
          "6/03/2022",
          "6/06/2022",
          "6/06/2022",
          "6/06/2022",
          "6/06/2022",
          "6/06/2022",
          "6/07/2022",
          "6/09/2022",
          "6/13/2022",
          "6/13/2022",
          "6/14/2022",
          "6/14/2022",
          "6/14/2022",
          "6/21/2022",
          "6/21/2022",
          "6/22/2022",
          "6/27/2022",
          "6/27/2022",
          "6/27/2022",
          "6/27/2022",
          "6/29/2022",
          "6/29/2022",
          "6/29/2022",
          "6/29/2022",
          "7/01/2022",
          "7/05/2022",
          "7/06/2022",
          "7/06/2022",
          "7/11/2022",
          "7/13/2022",
          "7/13/2022",
          "7/14/2022",
          "7/15/2022",
          "7/18/2022",
          "7/18/2022",
          "7/18/2022",
          "7/19/2022",
          "7/19/2022",
          "7/19/2022",
          "7/20/2022",
          "7/21/2022",
          "7/25/2022",
          "7/25/2022",
          "7/26/2022",
          "7/26/2022",
          "7/28/2022",
          "7/29/2022",
          "8/01/2022",
          "8/01/2022",
          "8/01/2022",
          "8/03/2022",
          "8/03/2022",
          "8/04/2022",
          "8/04/2022",
          "8/04/2022",
          "8/04/2022",
          "8/08/2022",
          "8/08/2022",
          "8/11/2022",
          "8/11/2022",
          "8/12/2022",
          "8/15/2022",
          "8/15/2022",
          "8/15/2022",
          "8/17/2022",
          "8/18/2022",
          "8/22/2022",
          "8/22/2022",
          "8/22/2022",
          "8/22/2022",
          "8/23/2022",
          "8/23/2022",
          "8/24/2022",
          "8/25/2022",
          "8/29/2022",
          "8/29/2022",
          "8/29/2022",
          "8/29/2022",
          "8/30/2022",
          "8/31/2022",
          "8/31/2022",
          "9/02/2022",
          "9/06/2022",
          "9/06/2022",
          "9/06/2022",
          "9/08/2022",
          "9/08/2022",
          "9/09/2022",
          "9/12/2022",
          "9/12/2022",
          "9/12/2022",
          "9/14/2022",
          "9/14/2022",
          "9/16/2022",
          "9/16/2022",
          "9/16/2022",
          "9/19/2022",
          "9/19/2022",
          "9/19/2022",
          "9/19/2022",
          "9/19/2022",
          "9/19/2022",
          "9/19/2022",
          "9/19/2022",
          "9/19/2022",
          "9/19/2022",
          "9/19/2022",
          "9/19/2022",
          "9/22/2022",
          "9/23/2022",
          "9/23/2022",
          "9/26/2022",
          "9/26/2022",
          "9/26/2022",
          "9/26/2022",
          "9/26/2022",
          "9/27/2022",
          "9/28/2022",
          "9/30/2022",
          "10/03/2022",
          "10/03/2022",
          "10/03/2022",
          "10/03/2022",
          "10/03/2022",
          "10/04/2022",
          "10/06/2022",
          "10/11/2022",
          "10/11/2022",
          "10/11/2022",
          "10/11/2022",
          "10/11/2022",
          "10/11/2022",
          "10/11/2022",
          "10/11/2022",
          "10/12/2022",
          "10/12/2022",
          "10/17/2022",
          "10/17/2022",
          "10/17/2022",
          "10/17/2022",
          "10/17/2022",
          "10/17/2022",
          "10/18/2022",
          "10/20/2022",
          "10/24/2022",
          "10/24/2022",
          "10/24/2022",
          "10/24/2022",
          "10/24/2022",
          "10/27/2022",
          "10/31/2022",
          "10/31/2022",
          "10/31/2022",
          "10/31/2022",
          "10/31/2022",
          "10/31/2022",
          "10/31/2022",
          "11/01/2022",
          "11/02/2022",
          "11/04/2022",
          "11/07/2022",
          "11/08/2022",
          "11/08/2022",
          "11/08/2022",
          "11/08/2022",
          "11/09/2022",
          "11/09/2022",
          "11/14/2022",
          "11/14/2022",
          "11/14/2022",
          "11/14/2022",
          "11/14/2022",
          "11/15/2022",
          "11/15/2022",
          "11/18/2022",
          "11/21/2022",
          "11/21/2022",
          "11/22/2022",
          "11/25/2022",
          "11/25/2022",
          "11/28/2022",
          "11/28/2022",
          "11/28/2022",
          "11/28/2022",
          "11/28/2022",
          "11/28/2022",
          "11/28/2022",
          "11/28/2022",
          "11/28/2022",
          "11/29/2022",
          "11/29/2022",
          "12/01/2022",
          "12/02/2022",
          "12/02/2022",
          "12/02/2022",
          "12/05/2022",
          "12/05/2022",
          "12/07/2022",
          "12/09/2022",
          "12/12/2022",
          "12/12/2022",
          "12/12/2022",
          "12/12/2022",
          "12/12/2022",
          "12/12/2022",
          "12/13/2022",
          "12/13/2022",
          "12/13/2022",
          "12/15/2022",
          "12/16/2022",
          "12/16/2022",
          "12/19/2022",
          "12/19/2022",
          "12/19/2022",
          "12/23/2022",
          "12/27/2022",
          "12/27/2022",
          "12/27/2022",
          "12/27/2022",
          "12/27/2022",
          "12/28/2022",
          "12/30/2022",
          "12/30/2022",
          "12/30/2022",
          "1/03/2023",
          "1/03/2023",
          "1/03/2023",
          "1/03/2023",
          "1/03/2023",
          "1/03/2023",
          "1/06/2023",
          "1/06/2023",
          "1/06/2023",
          "1/09/2023",
          "1/10/2023",
          "1/10/2023",
          "1/11/2023",
          "1/17/2023",
          "1/17/2023",
          "1/17/2023",
          "1/17/2023",
          "1/17/2023",
          "1/17/2023",
          "1/23/2023",
          "1/23/2023",
          "1/23/2023",
          "1/26/2023",
          "1/30/2023",
          "1/30/2023",
          "1/30/2023",
          "1/30/2023",
          "1/31/2023",
          "1/31/2023",
          "1/31/2023",
          "1/31/2023",
          "2/02/2023",
          "2/08/2023",
          "2/13/2023",
          "2/13/2023",
          "2/13/2023",
          "2/13/2023",
          "2/14/2023",
          "2/21/2023",
          "2/21/2023",
          "2/21/2023"
         ],
         "xaxis": "x",
         "y": [
          24.89,
          1,
          23.78,
          5.79,
          40.52,
          15.95,
          63.29,
          1.5,
          1.25,
          9.18,
          1.5,
          37.27,
          3.02,
          60,
          2.69,
          10,
          11.15,
          13.39,
          36.84,
          1.5,
          43.92,
          14.05,
          2.68,
          12.94,
          11.64,
          3.24,
          13.83,
          28.11,
          2.15,
          28.13,
          21.25,
          8.12,
          5.4,
          0.99,
          1.25,
          35.99,
          25,
          1.5,
          1.5,
          1.5,
          1.25,
          2.69,
          13.7,
          19.48,
          1.5,
          1.25,
          11.85,
          15.79,
          40.99,
          20.73,
          4.68,
          13.28,
          40,
          12.95,
          4.32,
          16.23,
          43.77,
          7.25,
          9.35,
          11,
          30.91,
          6.29,
          1.5,
          1.5,
          1.25,
          2.7,
          7.99,
          10.28,
          10.5,
          12.95,
          65,
          8.12,
          1.25,
          1.5,
          5.17,
          5.95,
          59.93,
          2.5,
          10.5,
          12.95,
          1.5,
          12.29,
          1.5,
          1.5,
          0.99,
          1.5,
          26.73,
          100,
          16.87,
          28.13,
          2.03,
          15.49,
          104.51,
          51.27,
          26,
          8,
          4.89,
          7.38,
          11,
          15.84,
          20.94,
          2.75,
          24.67,
          16.24,
          45.07,
          12.26,
          24.64,
          15.1,
          5.94,
          9.73,
          19.77,
          3.29,
          17.43,
          6.57,
          1.5,
          9.09,
          5.37,
          50,
          32.36,
          19.87,
          24.99,
          5.85,
          10.72,
          4.31,
          8.39,
          5,
          0.79,
          13.5,
          10.67,
          41.99,
          7.1,
          27.8,
          14.08,
          8.17,
          17.99,
          0.99,
          20,
          19.38,
          9.73,
          8,
          270,
          15,
          44.62,
          29.41,
          20,
          27.97,
          20,
          10.88,
          9,
          4.84,
          16.03,
          3.01,
          12.12,
          80,
          12.59,
          10.49,
          13.89,
          6.98,
          10.32,
          212.27,
          7.5,
          16,
          13.37,
          10.76,
          15,
          4.28,
          164.12,
          4.95,
          11.54,
          60,
          39.19,
          4.88,
          5.1,
          20.52,
          5,
          16.92,
          1.98,
          10,
          11.37,
          10,
          13.02,
          28,
          20,
          4.84,
          8.03,
          54.74,
          6.51,
          92.58,
          2.74,
          7.56,
          9.7,
          0.99,
          9.68,
          8.57,
          2.29,
          6.47,
          11.48,
          6.36,
          2.27,
          11.58,
          29.31,
          4.26,
          3.95,
          12.68,
          10,
          1,
          22.69,
          5,
          11.04,
          10.75,
          12.68,
          20.12,
          5,
          11.76,
          19.45,
          6.32,
          16.19,
          23.79,
          5.15,
          33.49,
          1.75,
          1.75,
          16.18,
          1.5,
          17.27,
          13.93,
          28.13,
          5,
          4,
          25,
          18.42,
          14.95,
          0.99,
          8.12,
          1.6,
          9.63,
          9,
          10.83,
          1,
          1.95,
          25,
          1.79,
          18.84,
          14.99,
          2.99,
          320,
          5,
          8.77,
          3.06,
          8.64,
          12.44,
          7.04,
          4.95,
          136.24,
          11.71,
          3.99,
          6.76,
          3.75,
          5.33,
          6,
          350,
          16.16,
          1.71,
          17,
          7.1,
          5.12,
          25,
          11.61,
          10.71,
          21.09,
          0.99,
          13.08,
          14.64,
          15.61,
          4.3,
          23.69,
          32.31,
          12.92,
          13.45,
          8.94,
          15.07,
          11.8,
          1.56,
          40.93,
          5,
          11.71,
          9.91,
          2.5,
          2.5,
          8.6,
          12.95,
          11.9,
          0.51,
          15.16,
          9.61,
          7.51,
          8.85,
          37.6,
          5.82,
          43.6,
          4.29,
          10.81,
          15.36,
          5.26,
          5,
          7.67,
          2.25,
          33.28,
          11.64,
          13.05,
          3.25,
          14.78,
          5,
          7.52,
          19.99,
          13,
          9.61,
          6.7,
          33.48,
          3.34,
          5.49,
          79.7,
          7.52,
          12.98,
          43,
          6.8,
          13.28,
          8.65,
          100,
          6.48,
          5.58,
          10.39,
          28,
          8,
          79,
          17.28,
          13,
          4.6,
          21.99,
          5.85,
          4.33,
          46.79,
          61.7,
          25,
          3.66,
          6.95,
          22.52,
          15.9,
          1.99,
          5,
          29.99,
          20.91,
          0.01,
          59.98,
          124.94,
          23.67,
          7.89,
          6.98,
          45,
          22.51,
          25,
          6.01,
          3.22,
          20,
          48.51,
          5,
          5.98,
          4.3,
          22.92,
          11.12,
          34.5,
          29.99,
          3,
          5.99,
          32.69,
          23.6,
          2.96,
          6.02,
          1.08,
          1.07,
          1.07,
          3.77,
          25.08,
          2.41,
          3.77,
          9.68,
          25,
          1.08,
          46.99,
          2.14,
          6.35,
          7,
          6.02,
          11.5,
          42,
          20.3,
          8,
          6.02,
          16.92,
          49.99,
          3.01,
          18.26,
          4.15,
          11.84,
          1.34,
          29.99,
          15.6,
          8.38,
          5.41,
          18.95,
          20.45,
          10.8,
          9.5,
          33.83,
          6.25,
          8.08,
          9.81,
          2,
          6.79,
          2.26,
          21.29,
          2.14,
          4,
          5.99,
          10.13,
          30,
          9.69,
          5,
          15.08,
          20,
          65,
          38.25,
          2.14,
          4.5,
          16.47,
          4.28,
          11.36,
          11.62,
          5,
          9.98,
          7.57,
          59.49,
          7.57,
          6,
          8.08,
          214.22,
          3.06,
          11.9,
          21.64,
          8.55,
          31.33,
          10.29,
          186.52,
          7,
          6.3,
          57.55,
          6.7,
          29,
          29.13,
          6.7,
          9.95,
          21.49,
          14.04,
          21.95,
          26.85,
          689.8,
          35.03,
          1.8,
          11.6,
          2.7,
          6.48,
          5,
          14.07,
          29.22,
          5.49,
          7,
          14.04,
          2.6,
          4.99,
          640,
          16.53,
          13.39,
          45.41,
          2.58,
          13.39,
          14.8,
          81.7,
          13.17,
          20.58,
          8.08,
          51.2,
          689.8,
          8.05,
          11.85,
          63.92,
          10.03,
          15.1,
          9.73,
          5.25,
          16,
          666.99,
          51.96,
          58.34,
          21.98,
          22.6,
          11.64,
          4.04,
          13.5,
          25.98,
          5,
          10.16,
          7.3,
          23.33,
          11.94,
          10.16,
          21.71,
          3.94,
          6.49,
          10.53,
          18.89,
          19,
          14.5,
          5.18,
          24.98,
          12.95,
          11.37,
          7.2,
          17.32,
          4.28,
          77,
          14.48,
          5.5,
          7.93,
          689.8,
          4.99,
          20.46,
          1.78,
          12.92,
          52.02,
          1000,
          1.39,
          1.08,
          14.55,
          12.18,
          14.56,
          10.5,
          24.24,
          13.57,
          4.45,
          30.02,
          11.95,
          500,
          11.8,
          10.76,
          6.21,
          5,
          4.99,
          523,
          18.41,
          105,
          2.75,
          7,
          6,
          5.25,
          17,
          4,
          692.8,
          12.5,
          38.33,
          6,
          22.41,
          10.76,
          20.46,
          8.95,
          19.33,
          10.5,
          15.46,
          500,
          18.11,
          6,
          144.57,
          6.5,
          4.45,
          12.12,
          20.52,
          4.99,
          25,
          5,
          5.97,
          36,
          22.95,
          16.3,
          8.87,
          15.65,
          10.31,
          17.31,
          31.3,
          692.8,
          41.45,
          4.49,
          11.33,
          20.56,
          21.54,
          15.03,
          5.19,
          18.39,
          7.2
         ],
         "yaxis": "y"
        }
       ],
       "layout": {
        "legend": {
         "tracegroupgap": 0
        },
        "template": {
         "data": {
          "bar": [
           {
            "error_x": {
             "color": "#2a3f5f"
            },
            "error_y": {
             "color": "#2a3f5f"
            },
            "marker": {
             "line": {
              "color": "#E5ECF6",
              "width": 0.5
             },
             "pattern": {
              "fillmode": "overlay",
              "size": 10,
              "solidity": 0.2
             }
            },
            "type": "bar"
           }
          ],
          "barpolar": [
           {
            "marker": {
             "line": {
              "color": "#E5ECF6",
              "width": 0.5
             },
             "pattern": {
              "fillmode": "overlay",
              "size": 10,
              "solidity": 0.2
             }
            },
            "type": "barpolar"
           }
          ],
          "carpet": [
           {
            "aaxis": {
             "endlinecolor": "#2a3f5f",
             "gridcolor": "white",
             "linecolor": "white",
             "minorgridcolor": "white",
             "startlinecolor": "#2a3f5f"
            },
            "baxis": {
             "endlinecolor": "#2a3f5f",
             "gridcolor": "white",
             "linecolor": "white",
             "minorgridcolor": "white",
             "startlinecolor": "#2a3f5f"
            },
            "type": "carpet"
           }
          ],
          "choropleth": [
           {
            "colorbar": {
             "outlinewidth": 0,
             "ticks": ""
            },
            "type": "choropleth"
           }
          ],
          "contour": [
           {
            "colorbar": {
             "outlinewidth": 0,
             "ticks": ""
            },
            "colorscale": [
             [
              0,
              "#0d0887"
             ],
             [
              0.1111111111111111,
              "#46039f"
             ],
             [
              0.2222222222222222,
              "#7201a8"
             ],
             [
              0.3333333333333333,
              "#9c179e"
             ],
             [
              0.4444444444444444,
              "#bd3786"
             ],
             [
              0.5555555555555556,
              "#d8576b"
             ],
             [
              0.6666666666666666,
              "#ed7953"
             ],
             [
              0.7777777777777778,
              "#fb9f3a"
             ],
             [
              0.8888888888888888,
              "#fdca26"
             ],
             [
              1,
              "#f0f921"
             ]
            ],
            "type": "contour"
           }
          ],
          "contourcarpet": [
           {
            "colorbar": {
             "outlinewidth": 0,
             "ticks": ""
            },
            "type": "contourcarpet"
           }
          ],
          "heatmap": [
           {
            "colorbar": {
             "outlinewidth": 0,
             "ticks": ""
            },
            "colorscale": [
             [
              0,
              "#0d0887"
             ],
             [
              0.1111111111111111,
              "#46039f"
             ],
             [
              0.2222222222222222,
              "#7201a8"
             ],
             [
              0.3333333333333333,
              "#9c179e"
             ],
             [
              0.4444444444444444,
              "#bd3786"
             ],
             [
              0.5555555555555556,
              "#d8576b"
             ],
             [
              0.6666666666666666,
              "#ed7953"
             ],
             [
              0.7777777777777778,
              "#fb9f3a"
             ],
             [
              0.8888888888888888,
              "#fdca26"
             ],
             [
              1,
              "#f0f921"
             ]
            ],
            "type": "heatmap"
           }
          ],
          "heatmapgl": [
           {
            "colorbar": {
             "outlinewidth": 0,
             "ticks": ""
            },
            "colorscale": [
             [
              0,
              "#0d0887"
             ],
             [
              0.1111111111111111,
              "#46039f"
             ],
             [
              0.2222222222222222,
              "#7201a8"
             ],
             [
              0.3333333333333333,
              "#9c179e"
             ],
             [
              0.4444444444444444,
              "#bd3786"
             ],
             [
              0.5555555555555556,
              "#d8576b"
             ],
             [
              0.6666666666666666,
              "#ed7953"
             ],
             [
              0.7777777777777778,
              "#fb9f3a"
             ],
             [
              0.8888888888888888,
              "#fdca26"
             ],
             [
              1,
              "#f0f921"
             ]
            ],
            "type": "heatmapgl"
           }
          ],
          "histogram": [
           {
            "marker": {
             "pattern": {
              "fillmode": "overlay",
              "size": 10,
              "solidity": 0.2
             }
            },
            "type": "histogram"
           }
          ],
          "histogram2d": [
           {
            "colorbar": {
             "outlinewidth": 0,
             "ticks": ""
            },
            "colorscale": [
             [
              0,
              "#0d0887"
             ],
             [
              0.1111111111111111,
              "#46039f"
             ],
             [
              0.2222222222222222,
              "#7201a8"
             ],
             [
              0.3333333333333333,
              "#9c179e"
             ],
             [
              0.4444444444444444,
              "#bd3786"
             ],
             [
              0.5555555555555556,
              "#d8576b"
             ],
             [
              0.6666666666666666,
              "#ed7953"
             ],
             [
              0.7777777777777778,
              "#fb9f3a"
             ],
             [
              0.8888888888888888,
              "#fdca26"
             ],
             [
              1,
              "#f0f921"
             ]
            ],
            "type": "histogram2d"
           }
          ],
          "histogram2dcontour": [
           {
            "colorbar": {
             "outlinewidth": 0,
             "ticks": ""
            },
            "colorscale": [
             [
              0,
              "#0d0887"
             ],
             [
              0.1111111111111111,
              "#46039f"
             ],
             [
              0.2222222222222222,
              "#7201a8"
             ],
             [
              0.3333333333333333,
              "#9c179e"
             ],
             [
              0.4444444444444444,
              "#bd3786"
             ],
             [
              0.5555555555555556,
              "#d8576b"
             ],
             [
              0.6666666666666666,
              "#ed7953"
             ],
             [
              0.7777777777777778,
              "#fb9f3a"
             ],
             [
              0.8888888888888888,
              "#fdca26"
             ],
             [
              1,
              "#f0f921"
             ]
            ],
            "type": "histogram2dcontour"
           }
          ],
          "mesh3d": [
           {
            "colorbar": {
             "outlinewidth": 0,
             "ticks": ""
            },
            "type": "mesh3d"
           }
          ],
          "parcoords": [
           {
            "line": {
             "colorbar": {
              "outlinewidth": 0,
              "ticks": ""
             }
            },
            "type": "parcoords"
           }
          ],
          "pie": [
           {
            "automargin": true,
            "type": "pie"
           }
          ],
          "scatter": [
           {
            "fillpattern": {
             "fillmode": "overlay",
             "size": 10,
             "solidity": 0.2
            },
            "type": "scatter"
           }
          ],
          "scatter3d": [
           {
            "line": {
             "colorbar": {
              "outlinewidth": 0,
              "ticks": ""
             }
            },
            "marker": {
             "colorbar": {
              "outlinewidth": 0,
              "ticks": ""
             }
            },
            "type": "scatter3d"
           }
          ],
          "scattercarpet": [
           {
            "marker": {
             "colorbar": {
              "outlinewidth": 0,
              "ticks": ""
             }
            },
            "type": "scattercarpet"
           }
          ],
          "scattergeo": [
           {
            "marker": {
             "colorbar": {
              "outlinewidth": 0,
              "ticks": ""
             }
            },
            "type": "scattergeo"
           }
          ],
          "scattergl": [
           {
            "marker": {
             "colorbar": {
              "outlinewidth": 0,
              "ticks": ""
             }
            },
            "type": "scattergl"
           }
          ],
          "scattermapbox": [
           {
            "marker": {
             "colorbar": {
              "outlinewidth": 0,
              "ticks": ""
             }
            },
            "type": "scattermapbox"
           }
          ],
          "scatterpolar": [
           {
            "marker": {
             "colorbar": {
              "outlinewidth": 0,
              "ticks": ""
             }
            },
            "type": "scatterpolar"
           }
          ],
          "scatterpolargl": [
           {
            "marker": {
             "colorbar": {
              "outlinewidth": 0,
              "ticks": ""
             }
            },
            "type": "scatterpolargl"
           }
          ],
          "scatterternary": [
           {
            "marker": {
             "colorbar": {
              "outlinewidth": 0,
              "ticks": ""
             }
            },
            "type": "scatterternary"
           }
          ],
          "surface": [
           {
            "colorbar": {
             "outlinewidth": 0,
             "ticks": ""
            },
            "colorscale": [
             [
              0,
              "#0d0887"
             ],
             [
              0.1111111111111111,
              "#46039f"
             ],
             [
              0.2222222222222222,
              "#7201a8"
             ],
             [
              0.3333333333333333,
              "#9c179e"
             ],
             [
              0.4444444444444444,
              "#bd3786"
             ],
             [
              0.5555555555555556,
              "#d8576b"
             ],
             [
              0.6666666666666666,
              "#ed7953"
             ],
             [
              0.7777777777777778,
              "#fb9f3a"
             ],
             [
              0.8888888888888888,
              "#fdca26"
             ],
             [
              1,
              "#f0f921"
             ]
            ],
            "type": "surface"
           }
          ],
          "table": [
           {
            "cells": {
             "fill": {
              "color": "#EBF0F8"
             },
             "line": {
              "color": "white"
             }
            },
            "header": {
             "fill": {
              "color": "#C8D4E3"
             },
             "line": {
              "color": "white"
             }
            },
            "type": "table"
           }
          ]
         },
         "layout": {
          "annotationdefaults": {
           "arrowcolor": "#2a3f5f",
           "arrowhead": 0,
           "arrowwidth": 1
          },
          "autotypenumbers": "strict",
          "coloraxis": {
           "colorbar": {
            "outlinewidth": 0,
            "ticks": ""
           }
          },
          "colorscale": {
           "diverging": [
            [
             0,
             "#8e0152"
            ],
            [
             0.1,
             "#c51b7d"
            ],
            [
             0.2,
             "#de77ae"
            ],
            [
             0.3,
             "#f1b6da"
            ],
            [
             0.4,
             "#fde0ef"
            ],
            [
             0.5,
             "#f7f7f7"
            ],
            [
             0.6,
             "#e6f5d0"
            ],
            [
             0.7,
             "#b8e186"
            ],
            [
             0.8,
             "#7fbc41"
            ],
            [
             0.9,
             "#4d9221"
            ],
            [
             1,
             "#276419"
            ]
           ],
           "sequential": [
            [
             0,
             "#0d0887"
            ],
            [
             0.1111111111111111,
             "#46039f"
            ],
            [
             0.2222222222222222,
             "#7201a8"
            ],
            [
             0.3333333333333333,
             "#9c179e"
            ],
            [
             0.4444444444444444,
             "#bd3786"
            ],
            [
             0.5555555555555556,
             "#d8576b"
            ],
            [
             0.6666666666666666,
             "#ed7953"
            ],
            [
             0.7777777777777778,
             "#fb9f3a"
            ],
            [
             0.8888888888888888,
             "#fdca26"
            ],
            [
             1,
             "#f0f921"
            ]
           ],
           "sequentialminus": [
            [
             0,
             "#0d0887"
            ],
            [
             0.1111111111111111,
             "#46039f"
            ],
            [
             0.2222222222222222,
             "#7201a8"
            ],
            [
             0.3333333333333333,
             "#9c179e"
            ],
            [
             0.4444444444444444,
             "#bd3786"
            ],
            [
             0.5555555555555556,
             "#d8576b"
            ],
            [
             0.6666666666666666,
             "#ed7953"
            ],
            [
             0.7777777777777778,
             "#fb9f3a"
            ],
            [
             0.8888888888888888,
             "#fdca26"
            ],
            [
             1,
             "#f0f921"
            ]
           ]
          },
          "colorway": [
           "#636efa",
           "#EF553B",
           "#00cc96",
           "#ab63fa",
           "#FFA15A",
           "#19d3f3",
           "#FF6692",
           "#B6E880",
           "#FF97FF",
           "#FECB52"
          ],
          "font": {
           "color": "#2a3f5f"
          },
          "geo": {
           "bgcolor": "white",
           "lakecolor": "white",
           "landcolor": "#E5ECF6",
           "showlakes": true,
           "showland": true,
           "subunitcolor": "white"
          },
          "hoverlabel": {
           "align": "left"
          },
          "hovermode": "closest",
          "mapbox": {
           "style": "light"
          },
          "paper_bgcolor": "white",
          "plot_bgcolor": "#E5ECF6",
          "polar": {
           "angularaxis": {
            "gridcolor": "white",
            "linecolor": "white",
            "ticks": ""
           },
           "bgcolor": "#E5ECF6",
           "radialaxis": {
            "gridcolor": "white",
            "linecolor": "white",
            "ticks": ""
           }
          },
          "scene": {
           "xaxis": {
            "backgroundcolor": "#E5ECF6",
            "gridcolor": "white",
            "gridwidth": 2,
            "linecolor": "white",
            "showbackground": true,
            "ticks": "",
            "zerolinecolor": "white"
           },
           "yaxis": {
            "backgroundcolor": "#E5ECF6",
            "gridcolor": "white",
            "gridwidth": 2,
            "linecolor": "white",
            "showbackground": true,
            "ticks": "",
            "zerolinecolor": "white"
           },
           "zaxis": {
            "backgroundcolor": "#E5ECF6",
            "gridcolor": "white",
            "gridwidth": 2,
            "linecolor": "white",
            "showbackground": true,
            "ticks": "",
            "zerolinecolor": "white"
           }
          },
          "shapedefaults": {
           "line": {
            "color": "#2a3f5f"
           }
          },
          "ternary": {
           "aaxis": {
            "gridcolor": "white",
            "linecolor": "white",
            "ticks": ""
           },
           "baxis": {
            "gridcolor": "white",
            "linecolor": "white",
            "ticks": ""
           },
           "bgcolor": "#E5ECF6",
           "caxis": {
            "gridcolor": "white",
            "linecolor": "white",
            "ticks": ""
           }
          },
          "title": {
           "x": 0.05
          },
          "xaxis": {
           "automargin": true,
           "gridcolor": "white",
           "linecolor": "white",
           "ticks": "",
           "title": {
            "standoff": 15
           },
           "zerolinecolor": "white",
           "zerolinewidth": 2
          },
          "yaxis": {
           "automargin": true,
           "gridcolor": "white",
           "linecolor": "white",
           "ticks": "",
           "title": {
            "standoff": 15
           },
           "zerolinecolor": "white",
           "zerolinewidth": 2
          }
         }
        },
        "title": {
         "text": "Money Spent Through Time"
        },
        "xaxis": {
         "anchor": "y",
         "domain": [
          0,
          1
         ],
         "title": {
          "text": "Date"
         }
        },
        "yaxis": {
         "anchor": "x",
         "domain": [
          0,
          1
         ],
         "title": {
          "text": "Amount"
         }
        }
       }
      }
     },
     "metadata": {},
     "output_type": "display_data"
    }
   ],
   "source": [
    "df_mint = df_mint.loc[::-1]\n",
    "\n",
    "fig = px.line(df_mint1, x='Date', y=\"Amount\", title=\"Money Spent Through Time\")\n",
    "fig.show()\n",
    "\n"
   ]
  },
  {
   "cell_type": "code",
   "execution_count": 292,
   "metadata": {},
   "outputs": [
    {
     "data": {
      "text/html": [
       "<div>\n",
       "<style scoped>\n",
       "    .dataframe tbody tr th:only-of-type {\n",
       "        vertical-align: middle;\n",
       "    }\n",
       "\n",
       "    .dataframe tbody tr th {\n",
       "        vertical-align: top;\n",
       "    }\n",
       "\n",
       "    .dataframe thead th {\n",
       "        text-align: right;\n",
       "    }\n",
       "</style>\n",
       "<table border=\"1\" class=\"dataframe\">\n",
       "  <thead>\n",
       "    <tr style=\"text-align: right;\">\n",
       "      <th></th>\n",
       "      <th>Date</th>\n",
       "      <th>Description</th>\n",
       "      <th>Original Description</th>\n",
       "      <th>Amount</th>\n",
       "      <th>Transaction Type</th>\n",
       "      <th>Category</th>\n",
       "      <th>Account Name</th>\n",
       "      <th>Labels</th>\n",
       "      <th>Notes</th>\n",
       "      <th>Month</th>\n",
       "    </tr>\n",
       "  </thead>\n",
       "  <tbody>\n",
       "    <tr>\n",
       "      <th>662</th>\n",
       "      <td>2021-09-24</td>\n",
       "      <td>Amazon</td>\n",
       "      <td>PURCHASE                                AUTHOR...</td>\n",
       "      <td>24.89</td>\n",
       "      <td>debit</td>\n",
       "      <td>Shopping</td>\n",
       "      <td>Eric's Account</td>\n",
       "      <td>NaN</td>\n",
       "      <td>NaN</td>\n",
       "      <td>9</td>\n",
       "    </tr>\n",
       "    <tr>\n",
       "      <th>661</th>\n",
       "      <td>2021-09-24</td>\n",
       "      <td>Ace Hardware</td>\n",
       "      <td>PURCHASE                                AUTHOR...</td>\n",
       "      <td>1.00</td>\n",
       "      <td>debit</td>\n",
       "      <td>Home Improvement</td>\n",
       "      <td>Eric's Account</td>\n",
       "      <td>NaN</td>\n",
       "      <td>NaN</td>\n",
       "      <td>9</td>\n",
       "    </tr>\n",
       "    <tr>\n",
       "      <th>660</th>\n",
       "      <td>2021-09-27</td>\n",
       "      <td>Pacsun</td>\n",
       "      <td>PURCHASE                                AUTHOR...</td>\n",
       "      <td>23.78</td>\n",
       "      <td>debit</td>\n",
       "      <td>Restaurants</td>\n",
       "      <td>Eric's Account</td>\n",
       "      <td>NaN</td>\n",
       "      <td>NaN</td>\n",
       "      <td>9</td>\n",
       "    </tr>\n",
       "    <tr>\n",
       "      <th>659</th>\n",
       "      <td>2021-09-27</td>\n",
       "      <td>In-N-Out Burger</td>\n",
       "      <td>PURCHASE                                AUTHOR...</td>\n",
       "      <td>5.79</td>\n",
       "      <td>debit</td>\n",
       "      <td>Fast Food</td>\n",
       "      <td>Eric's Account</td>\n",
       "      <td>NaN</td>\n",
       "      <td>NaN</td>\n",
       "      <td>9</td>\n",
       "    </tr>\n",
       "    <tr>\n",
       "      <th>658</th>\n",
       "      <td>2021-09-27</td>\n",
       "      <td>ZUMIEZ #379 VACAVILLE CA P00000000275053465 CA...</td>\n",
       "      <td>PURCHASE                                AUTHOR...</td>\n",
       "      <td>40.52</td>\n",
       "      <td>debit</td>\n",
       "      <td>Clothing</td>\n",
       "      <td>Eric's Account</td>\n",
       "      <td>NaN</td>\n",
       "      <td>NaN</td>\n",
       "      <td>9</td>\n",
       "    </tr>\n",
       "    <tr>\n",
       "      <th>...</th>\n",
       "      <td>...</td>\n",
       "      <td>...</td>\n",
       "      <td>...</td>\n",
       "      <td>...</td>\n",
       "      <td>...</td>\n",
       "      <td>...</td>\n",
       "      <td>...</td>\n",
       "      <td>...</td>\n",
       "      <td>...</td>\n",
       "      <td>...</td>\n",
       "    </tr>\n",
       "    <tr>\n",
       "      <th>4</th>\n",
       "      <td>2023-02-13</td>\n",
       "      <td>PURCHASE                                AUTHOR...</td>\n",
       "      <td>PURCHASE                                AUTHOR...</td>\n",
       "      <td>21.54</td>\n",
       "      <td>debit</td>\n",
       "      <td>Shopping</td>\n",
       "      <td>Eric's Account</td>\n",
       "      <td>NaN</td>\n",
       "      <td>NaN</td>\n",
       "      <td>2</td>\n",
       "    </tr>\n",
       "    <tr>\n",
       "      <th>3</th>\n",
       "      <td>2023-02-14</td>\n",
       "      <td>PURCHASE                                AUTHOR...</td>\n",
       "      <td>PURCHASE                                AUTHOR...</td>\n",
       "      <td>15.03</td>\n",
       "      <td>debit</td>\n",
       "      <td>Office Supplies</td>\n",
       "      <td>Eric's Account</td>\n",
       "      <td>NaN</td>\n",
       "      <td>NaN</td>\n",
       "      <td>2</td>\n",
       "    </tr>\n",
       "    <tr>\n",
       "      <th>2</th>\n",
       "      <td>2023-02-21</td>\n",
       "      <td>PURCHASE                                AUTHOR...</td>\n",
       "      <td>PURCHASE                                AUTHOR...</td>\n",
       "      <td>5.19</td>\n",
       "      <td>debit</td>\n",
       "      <td>Fast Food</td>\n",
       "      <td>Eric's Account</td>\n",
       "      <td>NaN</td>\n",
       "      <td>NaN</td>\n",
       "      <td>2</td>\n",
       "    </tr>\n",
       "    <tr>\n",
       "      <th>1</th>\n",
       "      <td>2023-02-21</td>\n",
       "      <td>PURCHASE                                AUTHOR...</td>\n",
       "      <td>PURCHASE                                AUTHOR...</td>\n",
       "      <td>18.39</td>\n",
       "      <td>debit</td>\n",
       "      <td>Shopping</td>\n",
       "      <td>Eric's Account</td>\n",
       "      <td>NaN</td>\n",
       "      <td>NaN</td>\n",
       "      <td>2</td>\n",
       "    </tr>\n",
       "    <tr>\n",
       "      <th>0</th>\n",
       "      <td>2023-02-21</td>\n",
       "      <td>PURCHASE                                AUTHOR...</td>\n",
       "      <td>PURCHASE                                AUTHOR...</td>\n",
       "      <td>7.20</td>\n",
       "      <td>debit</td>\n",
       "      <td>Fast Food</td>\n",
       "      <td>Eric's Account</td>\n",
       "      <td>NaN</td>\n",
       "      <td>NaN</td>\n",
       "      <td>2</td>\n",
       "    </tr>\n",
       "  </tbody>\n",
       "</table>\n",
       "<p>607 rows × 10 columns</p>\n",
       "</div>"
      ],
      "text/plain": [
       "          Date                                        Description  \\\n",
       "662 2021-09-24                                             Amazon   \n",
       "661 2021-09-24                                       Ace Hardware   \n",
       "660 2021-09-27                                             Pacsun   \n",
       "659 2021-09-27                                    In-N-Out Burger   \n",
       "658 2021-09-27  ZUMIEZ #379 VACAVILLE CA P00000000275053465 CA...   \n",
       "..         ...                                                ...   \n",
       "4   2023-02-13  PURCHASE                                AUTHOR...   \n",
       "3   2023-02-14  PURCHASE                                AUTHOR...   \n",
       "2   2023-02-21  PURCHASE                                AUTHOR...   \n",
       "1   2023-02-21  PURCHASE                                AUTHOR...   \n",
       "0   2023-02-21  PURCHASE                                AUTHOR...   \n",
       "\n",
       "                                  Original Description  Amount  \\\n",
       "662  PURCHASE                                AUTHOR...   24.89   \n",
       "661  PURCHASE                                AUTHOR...    1.00   \n",
       "660  PURCHASE                                AUTHOR...   23.78   \n",
       "659  PURCHASE                                AUTHOR...    5.79   \n",
       "658  PURCHASE                                AUTHOR...   40.52   \n",
       "..                                                 ...     ...   \n",
       "4    PURCHASE                                AUTHOR...   21.54   \n",
       "3    PURCHASE                                AUTHOR...   15.03   \n",
       "2    PURCHASE                                AUTHOR...    5.19   \n",
       "1    PURCHASE                                AUTHOR...   18.39   \n",
       "0    PURCHASE                                AUTHOR...    7.20   \n",
       "\n",
       "    Transaction Type          Category    Account Name  Labels  Notes  Month  \n",
       "662            debit          Shopping  Eric's Account     NaN    NaN      9  \n",
       "661            debit  Home Improvement  Eric's Account     NaN    NaN      9  \n",
       "660            debit       Restaurants  Eric's Account     NaN    NaN      9  \n",
       "659            debit         Fast Food  Eric's Account     NaN    NaN      9  \n",
       "658            debit          Clothing  Eric's Account     NaN    NaN      9  \n",
       "..               ...               ...             ...     ...    ...    ...  \n",
       "4              debit          Shopping  Eric's Account     NaN    NaN      2  \n",
       "3              debit   Office Supplies  Eric's Account     NaN    NaN      2  \n",
       "2              debit         Fast Food  Eric's Account     NaN    NaN      2  \n",
       "1              debit          Shopping  Eric's Account     NaN    NaN      2  \n",
       "0              debit         Fast Food  Eric's Account     NaN    NaN      2  \n",
       "\n",
       "[607 rows x 10 columns]"
      ]
     },
     "execution_count": 292,
     "metadata": {},
     "output_type": "execute_result"
    }
   ],
   "source": [
    "df_mint['Date'] = pd.to_datetime(df_mint['Date'])\n",
    "\n",
    "\n",
    "\n",
    "df_mint['Month'] = df_mint['Date'].dt.month \n",
    "\n",
    "df_mint"
   ]
  },
  {
   "cell_type": "code",
   "execution_count": 293,
   "metadata": {},
   "outputs": [
    {
     "data": {
      "text/html": [
       "<div>\n",
       "<style scoped>\n",
       "    .dataframe tbody tr th:only-of-type {\n",
       "        vertical-align: middle;\n",
       "    }\n",
       "\n",
       "    .dataframe tbody tr th {\n",
       "        vertical-align: top;\n",
       "    }\n",
       "\n",
       "    .dataframe thead th {\n",
       "        text-align: right;\n",
       "    }\n",
       "</style>\n",
       "<table border=\"1\" class=\"dataframe\">\n",
       "  <thead>\n",
       "    <tr style=\"text-align: right;\">\n",
       "      <th></th>\n",
       "      <th></th>\n",
       "      <th>Labels</th>\n",
       "      <th>Notes</th>\n",
       "      <th>Month</th>\n",
       "    </tr>\n",
       "    <tr>\n",
       "      <th>Category</th>\n",
       "      <th>Amount</th>\n",
       "      <th></th>\n",
       "      <th></th>\n",
       "      <th></th>\n",
       "    </tr>\n",
       "  </thead>\n",
       "  <tbody>\n",
       "    <tr>\n",
       "      <th>Air Travel</th>\n",
       "      <th>9.50</th>\n",
       "      <td>NaN</td>\n",
       "      <td>NaN</td>\n",
       "      <td>8.0</td>\n",
       "    </tr>\n",
       "    <tr>\n",
       "      <th rowspan=\"2\" valign=\"top\">Alcohol &amp; Bars</th>\n",
       "      <th>15.61</th>\n",
       "      <td>NaN</td>\n",
       "      <td>NaN</td>\n",
       "      <td>3.0</td>\n",
       "    </tr>\n",
       "    <tr>\n",
       "      <th>25.00</th>\n",
       "      <td>NaN</td>\n",
       "      <td>NaN</td>\n",
       "      <td>2.0</td>\n",
       "    </tr>\n",
       "    <tr>\n",
       "      <th>Amusement</th>\n",
       "      <th>16.47</th>\n",
       "      <td>NaN</td>\n",
       "      <td>NaN</td>\n",
       "      <td>9.0</td>\n",
       "    </tr>\n",
       "    <tr>\n",
       "      <th>Books</th>\n",
       "      <th>8.38</th>\n",
       "      <td>NaN</td>\n",
       "      <td>NaN</td>\n",
       "      <td>8.0</td>\n",
       "    </tr>\n",
       "    <tr>\n",
       "      <th>...</th>\n",
       "      <th>...</th>\n",
       "      <td>...</td>\n",
       "      <td>...</td>\n",
       "      <td>...</td>\n",
       "    </tr>\n",
       "    <tr>\n",
       "      <th rowspan=\"2\" valign=\"top\">Transfer</th>\n",
       "      <th>689.80</th>\n",
       "      <td>NaN</td>\n",
       "      <td>NaN</td>\n",
       "      <td>10.0</td>\n",
       "    </tr>\n",
       "    <tr>\n",
       "      <th>1000.00</th>\n",
       "      <td>NaN</td>\n",
       "      <td>NaN</td>\n",
       "      <td>12.0</td>\n",
       "    </tr>\n",
       "    <tr>\n",
       "      <th rowspan=\"3\" valign=\"top\">Utilities</th>\n",
       "      <th>1.00</th>\n",
       "      <td>NaN</td>\n",
       "      <td>NaN</td>\n",
       "      <td>2.0</td>\n",
       "    </tr>\n",
       "    <tr>\n",
       "      <th>1.95</th>\n",
       "      <td>NaN</td>\n",
       "      <td>NaN</td>\n",
       "      <td>2.0</td>\n",
       "    </tr>\n",
       "    <tr>\n",
       "      <th>4.99</th>\n",
       "      <td>NaN</td>\n",
       "      <td>NaN</td>\n",
       "      <td>6.5</td>\n",
       "    </tr>\n",
       "  </tbody>\n",
       "</table>\n",
       "<p>512 rows × 3 columns</p>\n",
       "</div>"
      ],
      "text/plain": [
       "                        Labels  Notes  Month\n",
       "Category       Amount                       \n",
       "Air Travel     9.50        NaN    NaN    8.0\n",
       "Alcohol & Bars 15.61       NaN    NaN    3.0\n",
       "               25.00       NaN    NaN    2.0\n",
       "Amusement      16.47       NaN    NaN    9.0\n",
       "Books          8.38        NaN    NaN    8.0\n",
       "...                        ...    ...    ...\n",
       "Transfer       689.80      NaN    NaN   10.0\n",
       "               1000.00     NaN    NaN   12.0\n",
       "Utilities      1.00        NaN    NaN    2.0\n",
       "               1.95        NaN    NaN    2.0\n",
       "               4.99        NaN    NaN    6.5\n",
       "\n",
       "[512 rows x 3 columns]"
      ]
     },
     "execution_count": 293,
     "metadata": {},
     "output_type": "execute_result"
    }
   ],
   "source": [
    "df_mint.groupby(['Category', 'Amount']).mean()"
   ]
  },
  {
   "cell_type": "code",
   "execution_count": 294,
   "metadata": {},
   "outputs": [
    {
     "data": {
      "text/html": [
       "<div>\n",
       "<style scoped>\n",
       "    .dataframe tbody tr th:only-of-type {\n",
       "        vertical-align: middle;\n",
       "    }\n",
       "\n",
       "    .dataframe tbody tr th {\n",
       "        vertical-align: top;\n",
       "    }\n",
       "\n",
       "    .dataframe thead th {\n",
       "        text-align: right;\n",
       "    }\n",
       "</style>\n",
       "<table border=\"1\" class=\"dataframe\">\n",
       "  <thead>\n",
       "    <tr style=\"text-align: right;\">\n",
       "      <th></th>\n",
       "      <th></th>\n",
       "      <th>Labels</th>\n",
       "      <th>Notes</th>\n",
       "      <th>Month</th>\n",
       "    </tr>\n",
       "    <tr>\n",
       "      <th>Category</th>\n",
       "      <th>Amount</th>\n",
       "      <th></th>\n",
       "      <th></th>\n",
       "      <th></th>\n",
       "    </tr>\n",
       "  </thead>\n",
       "  <tbody>\n",
       "    <tr>\n",
       "      <th>Air Travel</th>\n",
       "      <th>9.50</th>\n",
       "      <td>0.0</td>\n",
       "      <td>0.0</td>\n",
       "      <td>8</td>\n",
       "    </tr>\n",
       "    <tr>\n",
       "      <th rowspan=\"2\" valign=\"top\">Alcohol &amp; Bars</th>\n",
       "      <th>15.61</th>\n",
       "      <td>0.0</td>\n",
       "      <td>0.0</td>\n",
       "      <td>3</td>\n",
       "    </tr>\n",
       "    <tr>\n",
       "      <th>25.00</th>\n",
       "      <td>0.0</td>\n",
       "      <td>0.0</td>\n",
       "      <td>2</td>\n",
       "    </tr>\n",
       "    <tr>\n",
       "      <th>Amusement</th>\n",
       "      <th>16.47</th>\n",
       "      <td>0.0</td>\n",
       "      <td>0.0</td>\n",
       "      <td>9</td>\n",
       "    </tr>\n",
       "    <tr>\n",
       "      <th>Books</th>\n",
       "      <th>8.38</th>\n",
       "      <td>0.0</td>\n",
       "      <td>0.0</td>\n",
       "      <td>8</td>\n",
       "    </tr>\n",
       "    <tr>\n",
       "      <th>...</th>\n",
       "      <th>...</th>\n",
       "      <td>...</td>\n",
       "      <td>...</td>\n",
       "      <td>...</td>\n",
       "    </tr>\n",
       "    <tr>\n",
       "      <th rowspan=\"2\" valign=\"top\">Transfer</th>\n",
       "      <th>689.80</th>\n",
       "      <td>0.0</td>\n",
       "      <td>0.0</td>\n",
       "      <td>10</td>\n",
       "    </tr>\n",
       "    <tr>\n",
       "      <th>1000.00</th>\n",
       "      <td>0.0</td>\n",
       "      <td>0.0</td>\n",
       "      <td>12</td>\n",
       "    </tr>\n",
       "    <tr>\n",
       "      <th rowspan=\"3\" valign=\"top\">Utilities</th>\n",
       "      <th>1.00</th>\n",
       "      <td>0.0</td>\n",
       "      <td>0.0</td>\n",
       "      <td>2</td>\n",
       "    </tr>\n",
       "    <tr>\n",
       "      <th>1.95</th>\n",
       "      <td>0.0</td>\n",
       "      <td>0.0</td>\n",
       "      <td>2</td>\n",
       "    </tr>\n",
       "    <tr>\n",
       "      <th>4.99</th>\n",
       "      <td>0.0</td>\n",
       "      <td>0.0</td>\n",
       "      <td>13</td>\n",
       "    </tr>\n",
       "  </tbody>\n",
       "</table>\n",
       "<p>512 rows × 3 columns</p>\n",
       "</div>"
      ],
      "text/plain": [
       "                        Labels  Notes  Month\n",
       "Category       Amount                       \n",
       "Air Travel     9.50        0.0    0.0      8\n",
       "Alcohol & Bars 15.61       0.0    0.0      3\n",
       "               25.00       0.0    0.0      2\n",
       "Amusement      16.47       0.0    0.0      9\n",
       "Books          8.38        0.0    0.0      8\n",
       "...                        ...    ...    ...\n",
       "Transfer       689.80      0.0    0.0     10\n",
       "               1000.00     0.0    0.0     12\n",
       "Utilities      1.00        0.0    0.0      2\n",
       "               1.95        0.0    0.0      2\n",
       "               4.99        0.0    0.0     13\n",
       "\n",
       "[512 rows x 3 columns]"
      ]
     },
     "execution_count": 294,
     "metadata": {},
     "output_type": "execute_result"
    }
   ],
   "source": [
    "df_mint.groupby(['Category', 'Amount']).sum()"
   ]
  },
  {
   "cell_type": "code",
   "execution_count": 295,
   "metadata": {},
   "outputs": [
    {
     "data": {
      "text/plain": [
       "Transfer                  167\n",
       "Fast Food                  97\n",
       "Restaurants                93\n",
       "Shopping                   79\n",
       "Groceries                  29\n",
       "Laundry                    19\n",
       "Entertainment              17\n",
       "Electronics & Software     13\n",
       "Pharmacy                   13\n",
       "Education                   8\n",
       "Mortgage & Rent             8\n",
       "Coffee Shops                8\n",
       "Gym                         7\n",
       "Clothing                    6\n",
       "Furnishings                 5\n",
       "Personal Care               5\n",
       "Food & Dining               4\n",
       "Gas & Fuel                  4\n",
       "Utilities                   4\n",
       "Public Transportation       3\n",
       "Alcohol & Bars              2\n",
       "Gift                        2\n",
       "Parking                     2\n",
       "Newspapers & Magazines      2\n",
       "Ride Share                  1\n",
       "Rental Car & Taxi           1\n",
       "Food Delivery               1\n",
       "Home Improvement            1\n",
       "Cash & ATM                  1\n",
       "Books                       1\n",
       "Air Travel                  1\n",
       "Amusement                   1\n",
       "Sporting Goods              1\n",
       "Office Supplies             1\n",
       "Name: Category, dtype: int64"
      ]
     },
     "execution_count": 295,
     "metadata": {},
     "output_type": "execute_result"
    }
   ],
   "source": [
    "df_mint['Category'].value_counts()\n"
   ]
  },
  {
   "cell_type": "code",
   "execution_count": 296,
   "metadata": {},
   "outputs": [
    {
     "data": {
      "text/plain": [
       "<AxesSubplot:xlabel='Category', ylabel='count'>"
      ]
     },
     "execution_count": 296,
     "metadata": {},
     "output_type": "execute_result"
    },
    {
     "data": {
      "image/png": "[encoded data removed]",
      "text/plain": [
       "<Figure size 1500x800 with 1 Axes>"
      ]
     },
     "metadata": {},
     "output_type": "display_data"
    }
   ],
   "source": [
    "plt.figure(figsize=(15,8))\n",
    "plt.xticks(rotation=90)\n",
    "sns.countplot(x='Category',data=df_mint)"
   ]
  },
  {
   "cell_type": "code",
   "execution_count": 297,
   "metadata": {},
   "outputs": [
    {
     "data": {
      "application/vnd.plotly.v1+json": {
       "config": {
        "plotlyServerURL": "https://plot.ly"
       },
       "data": [
        {
         "alignmentgroup": "True",
         "bingroup": "x",
         "hovertemplate": "Category=%{x}<br>count=%{y}<extra></extra>",
         "legendgroup": "",
         "marker": {
          "color": "#636efa",
          "pattern": {
           "shape": ""
          }
         },
         "name": "",
         "offsetgroup": "",
         "orientation": "v",
         "showlegend": false,
         "type": "histogram",
         "x": [
          "Shopping",
          "Home Improvement",
          "Restaurants",
          "Fast Food",
          "Clothing",
          "Food & Dining",
          "Ride Share",
          "Laundry",
          "Laundry",
          "Restaurants",
          "Laundry",
          "Restaurants",
          "Pharmacy",
          "Transfer",
          "Groceries",
          "Education",
          "Restaurants",
          "Fast Food",
          "Shopping",
          "Laundry",
          "Transfer",
          "Fast Food",
          "Fast Food",
          "Pharmacy",
          "Fast Food",
          "Groceries",
          "Restaurants",
          "Furnishings",
          "Furnishings",
          "Shopping",
          "Transfer",
          "Restaurants",
          "Groceries",
          "Electronics & Software",
          "Personal Care",
          "Electronics & Software",
          "Pharmacy",
          "Personal Care",
          "Personal Care",
          "Laundry",
          "Laundry",
          "Groceries",
          "Restaurants",
          "Restaurants",
          "Laundry",
          "Laundry",
          "Restaurants",
          "Pharmacy",
          "Pharmacy",
          "Fast Food",
          "Transfer",
          "Shopping",
          "Clothing",
          "Fast Food",
          "Groceries",
          "Restaurants",
          "Restaurants",
          "Fast Food",
          "Fast Food",
          "Transfer",
          "Transfer",
          "Restaurants",
          "Laundry",
          "Laundry",
          "Laundry",
          "Transfer",
          "Electronics & Software",
          "Fast Food",
          "Fast Food",
          "Fast Food",
          "Education",
          "Restaurants",
          "Laundry",
          "Fast Food",
          "Furnishings",
          "Furnishings",
          "Restaurants",
          "Fast Food",
          "Entertainment",
          "Fast Food",
          "Laundry",
          "Fast Food",
          "Fast Food",
          "Laundry",
          "Electronics & Software",
          "Fast Food",
          "Transfer",
          "Transfer",
          "Groceries",
          "Food & Dining",
          "Groceries",
          "Clothing",
          "Clothing",
          "Shopping",
          "Clothing",
          "Public Transportation",
          "Coffee Shops",
          "Transfer",
          "Fast Food",
          "Restaurants",
          "Transfer",
          "Fast Food",
          "Clothing",
          "Restaurants",
          "Pharmacy",
          "Fast Food",
          "Shopping",
          "Shopping",
          "Shopping",
          "Pharmacy",
          "Pharmacy",
          "Groceries",
          "Restaurants",
          "Public Transportation",
          "Fast Food",
          "Fast Food",
          "Transfer",
          "Mortgage & Rent",
          "Restaurants",
          "Restaurants",
          "Electronics & Software",
          "Transfer",
          "Restaurants",
          "Coffee Shops",
          "Fast Food",
          "Personal Care",
          "Furnishings",
          "Restaurants",
          "Restaurants",
          "Entertainment",
          "Restaurants",
          "Entertainment",
          "Restaurants",
          "Fast Food",
          "Restaurants",
          "Electronics & Software",
          "Entertainment",
          "Shopping",
          "Restaurants",
          "Entertainment",
          "Transfer",
          "Groceries",
          "Restaurants",
          "Food Delivery",
          "Transfer",
          "Restaurants",
          "Restaurants",
          "Fast Food",
          "Fast Food",
          "Fast Food",
          "Fast Food",
          "Fast Food",
          "Gas & Fuel",
          "Transfer",
          "Fast Food",
          "Fast Food",
          "Shopping",
          "Shopping",
          "Groceries",
          "Shopping",
          "Transfer",
          "Transfer",
          "Restaurants",
          "Shopping",
          "Transfer",
          "Restaurants",
          "Mortgage & Rent",
          "Fast Food",
          "Fast Food",
          "Transfer",
          "Rental Car & Taxi",
          "Newspapers & Magazines",
          "Coffee Shops",
          "Shopping",
          "Personal Care",
          "Restaurants",
          "Education",
          "Transfer",
          "Shopping",
          "Restaurants",
          "Restaurants",
          "Pharmacy",
          "Entertainment",
          "Fast Food",
          "Restaurants",
          "Restaurants",
          "Fast Food",
          "Restaurants",
          "Pharmacy",
          "Transfer",
          "Fast Food",
          "Electronics & Software",
          "Fast Food",
          "Fast Food",
          "Shopping",
          "Fast Food",
          "Fast Food",
          "Fast Food",
          "Transfer",
          "Restaurants",
          "Shopping",
          "Restaurants",
          "Food & Dining",
          "Restaurants",
          "Parking",
          "Transfer",
          "Entertainment",
          "Newspapers & Magazines",
          "Restaurants",
          "Restaurants",
          "Restaurants",
          "Shopping",
          "Laundry",
          "Entertainment",
          "Shopping",
          "Restaurants",
          "Restaurants",
          "Entertainment",
          "Groceries",
          "Electronics & Software",
          "Fast Food",
          "Fast Food",
          "Restaurants",
          "Fast Food",
          "Shopping",
          "Restaurants",
          "Food & Dining",
          "Laundry",
          "Transfer",
          "Alcohol & Bars",
          "Restaurants",
          "Entertainment",
          "Electronics & Software",
          "Entertainment",
          "Gas & Fuel",
          "Fast Food",
          "Transfer",
          "Restaurants",
          "Utilities",
          "Utilities",
          "Transfer",
          "Groceries",
          "Shopping",
          "Education",
          "Groceries",
          "Mortgage & Rent",
          "Laundry",
          "Fast Food",
          "Groceries",
          "Fast Food",
          "Entertainment",
          "Groceries",
          "Coffee Shops",
          "Education",
          "Transfer",
          "Groceries",
          "Electronics & Software",
          "Entertainment",
          "Restaurants",
          "Transfer",
          "Transfer",
          "Restaurants",
          "Groceries",
          "Transfer",
          "Restaurants",
          "Fast Food",
          "Gas & Fuel",
          "Fast Food",
          "Restaurants",
          "Restaurants",
          "Electronics & Software",
          "Fast Food",
          "Fast Food",
          "Alcohol & Bars",
          "Shopping",
          "Restaurants",
          "Restaurants",
          "Restaurants",
          "Fast Food",
          "Fast Food",
          "Shopping",
          "Restaurants",
          "Coffee Shops",
          "Restaurants",
          "Laundry",
          "Restaurants",
          "Fast Food",
          "Restaurants",
          "Restaurants",
          "Fast Food",
          "Transfer",
          "Restaurants",
          "Restaurants",
          "Restaurants",
          "Transfer",
          "Transfer",
          "Transfer",
          "Transfer",
          "Electronics & Software",
          "Pharmacy",
          "Shopping",
          "Shopping",
          "Transfer",
          "Transfer",
          "Laundry",
          "Pharmacy",
          "Transfer",
          "Restaurants",
          "Fast Food",
          "Restaurants",
          "Fast Food",
          "Fast Food",
          "Transfer",
          "Entertainment",
          "Electronics & Software",
          "Transfer",
          "Transfer",
          "Transfer",
          "Transfer",
          "Public Transportation",
          "Groceries",
          "Gift",
          "Entertainment",
          "Shopping",
          "Transfer",
          "Entertainment",
          "Transfer",
          "Shopping",
          "Shopping",
          "Shopping",
          "Transfer",
          "Groceries",
          "Transfer",
          "Transfer",
          "Transfer",
          "Transfer",
          "Transfer",
          "Transfer",
          "Transfer",
          "Transfer",
          "Transfer",
          "Transfer",
          "Transfer",
          "Transfer",
          "Transfer",
          "Transfer",
          "Transfer",
          "Transfer",
          "Pharmacy",
          "Transfer",
          "Gym",
          "Fast Food",
          "Transfer",
          "Entertainment",
          "Shopping",
          "Transfer",
          "Shopping",
          "Transfer",
          "Education",
          "Fast Food",
          "Transfer",
          "Fast Food",
          "Shopping",
          "Cash & ATM",
          "Gym",
          "Gift",
          "Groceries",
          "Shopping",
          "Mortgage & Rent",
          "Transfer",
          "Transfer",
          "Gym",
          "Transfer",
          "Transfer",
          "Shopping",
          "Restaurants",
          "Fast Food",
          "Fast Food",
          "Fast Food",
          "Fast Food",
          "Fast Food",
          "Fast Food",
          "Restaurants",
          "Gas & Fuel",
          "Fast Food",
          "Restaurants",
          "Transfer",
          "Fast Food",
          "Gym",
          "Restaurants",
          "Fast Food",
          "Transfer",
          "Fast Food",
          "Transfer",
          "Transfer",
          "Transfer",
          "Transfer",
          "Fast Food",
          "Restaurants",
          "Gym",
          "Transfer",
          "Restaurants",
          "Fast Food",
          "Restaurants",
          "Groceries",
          "Gym",
          "Groceries",
          "Books",
          "Coffee Shops",
          "Restaurants",
          "Shopping",
          "Restaurants",
          "Air Travel",
          "Fast Food",
          "Transfer",
          "Fast Food",
          "Fast Food",
          "Transfer",
          "Fast Food",
          "Fast Food",
          "Shopping",
          "Shopping",
          "Parking",
          "Fast Food",
          "Fast Food",
          "Transfer",
          "Restaurants",
          "Transfer",
          "Restaurants",
          "Transfer",
          "Transfer",
          "Transfer",
          "Shopping",
          "Transfer",
          "Amusement",
          "Transfer",
          "Transfer",
          "Fast Food",
          "Transfer",
          "Shopping",
          "Shopping",
          "Shopping",
          "Shopping",
          "Transfer",
          "Shopping",
          "Shopping",
          "Shopping",
          "Shopping",
          "Shopping",
          "Restaurants",
          "Shopping",
          "Transfer",
          "Transfer",
          "Transfer",
          "Transfer",
          "Groceries",
          "Fast Food",
          "Transfer",
          "Shopping",
          "Transfer",
          "Coffee Shops",
          "Shopping",
          "Shopping",
          "Shopping",
          "Transfer",
          "Transfer",
          "Sporting Goods",
          "Transfer",
          "Transfer",
          "Transfer",
          "Transfer",
          "Transfer",
          "Restaurants",
          "Shopping",
          "Transfer",
          "Transfer",
          "Shopping",
          "Transfer",
          "Restaurants",
          "Transfer",
          "Transfer",
          "Fast Food",
          "Transfer",
          "Transfer",
          "Fast Food",
          "Transfer",
          "Shopping",
          "Transfer",
          "Transfer",
          "Shopping",
          "Transfer",
          "Mortgage & Rent",
          "Groceries",
          "Groceries",
          "Transfer",
          "Fast Food",
          "Fast Food",
          "Shopping",
          "Fast Food",
          "Transfer",
          "Transfer",
          "Shopping",
          "Shopping",
          "Transfer",
          "Transfer",
          "Restaurants",
          "Transfer",
          "Fast Food",
          "Shopping",
          "Education",
          "Transfer",
          "Transfer",
          "Shopping",
          "Groceries",
          "Transfer",
          "Transfer",
          "Shopping",
          "Transfer",
          "Transfer",
          "Groceries",
          "Transfer",
          "Fast Food",
          "Transfer",
          "Shopping",
          "Shopping",
          "Transfer",
          "Shopping",
          "Transfer",
          "Transfer",
          "Transfer",
          "Transfer",
          "Transfer",
          "Transfer",
          "Mortgage & Rent",
          "Restaurants",
          "Shopping",
          "Transfer",
          "Shopping",
          "Transfer",
          "Transfer",
          "Education",
          "Fast Food",
          "Restaurants",
          "Restaurants",
          "Restaurants",
          "Transfer",
          "Transfer",
          "Shopping",
          "Restaurants",
          "Gym",
          "Restaurants",
          "Transfer",
          "Restaurants",
          "Restaurants",
          "Restaurants",
          "Transfer",
          "Utilities",
          "Transfer",
          "Shopping",
          "Transfer",
          "Transfer",
          "Transfer",
          "Transfer",
          "Coffee Shops",
          "Transfer",
          "Transfer",
          "Mortgage & Rent",
          "Transfer",
          "Transfer",
          "Transfer",
          "Fast Food",
          "Restaurants",
          "Shopping",
          "Fast Food",
          "Transfer",
          "Fast Food",
          "Groceries",
          "Transfer",
          "Transfer",
          "Transfer",
          "Shopping",
          "Shopping",
          "Shopping",
          "Transfer",
          "Restaurants",
          "Utilities",
          "Transfer",
          "Transfer",
          "Fast Food",
          "Transfer",
          "Shopping",
          "Shopping",
          "Transfer",
          "Transfer",
          "Groceries",
          "Shopping",
          "Transfer",
          "Mortgage & Rent",
          "Transfer",
          "Transfer",
          "Transfer",
          "Shopping",
          "Shopping",
          "Office Supplies",
          "Fast Food",
          "Shopping",
          "Fast Food"
         ],
         "xaxis": "x",
         "yaxis": "y"
        }
       ],
       "layout": {
        "barmode": "relative",
        "legend": {
         "tracegroupgap": 0
        },
        "template": {
         "data": {
          "bar": [
           {
            "error_x": {
             "color": "#2a3f5f"
            },
            "error_y": {
             "color": "#2a3f5f"
            },
            "marker": {
             "line": {
              "color": "#E5ECF6",
              "width": 0.5
             },
             "pattern": {
              "fillmode": "overlay",
              "size": 10,
              "solidity": 0.2
             }
            },
            "type": "bar"
           }
          ],
          "barpolar": [
           {
            "marker": {
             "line": {
              "color": "#E5ECF6",
              "width": 0.5
             },
             "pattern": {
              "fillmode": "overlay",
              "size": 10,
              "solidity": 0.2
             }
            },
            "type": "barpolar"
           }
          ],
          "carpet": [
           {
            "aaxis": {
             "endlinecolor": "#2a3f5f",
             "gridcolor": "white",
             "linecolor": "white",
             "minorgridcolor": "white",
             "startlinecolor": "#2a3f5f"
            },
            "baxis": {
             "endlinecolor": "#2a3f5f",
             "gridcolor": "white",
             "linecolor": "white",
             "minorgridcolor": "white",
             "startlinecolor": "#2a3f5f"
            },
            "type": "carpet"
           }
          ],
          "choropleth": [
           {
            "colorbar": {
             "outlinewidth": 0,
             "ticks": ""
            },
            "type": "choropleth"
           }
          ],
          "contour": [
           {
            "colorbar": {
             "outlinewidth": 0,
             "ticks": ""
            },
            "colorscale": [
             [
              0,
              "#0d0887"
             ],
             [
              0.1111111111111111,
              "#46039f"
             ],
             [
              0.2222222222222222,
              "#7201a8"
             ],
             [
              0.3333333333333333,
              "#9c179e"
             ],
             [
              0.4444444444444444,
              "#bd3786"
             ],
             [
              0.5555555555555556,
              "#d8576b"
             ],
             [
              0.6666666666666666,
              "#ed7953"
             ],
             [
              0.7777777777777778,
              "#fb9f3a"
             ],
             [
              0.8888888888888888,
              "#fdca26"
             ],
             [
              1,
              "#f0f921"
             ]
            ],
            "type": "contour"
           }
          ],
          "contourcarpet": [
           {
            "colorbar": {
             "outlinewidth": 0,
             "ticks": ""
            },
            "type": "contourcarpet"
           }
          ],
          "heatmap": [
           {
            "colorbar": {
             "outlinewidth": 0,
             "ticks": ""
            },
            "colorscale": [
             [
              0,
              "#0d0887"
             ],
             [
              0.1111111111111111,
              "#46039f"
             ],
             [
              0.2222222222222222,
              "#7201a8"
             ],
             [
              0.3333333333333333,
              "#9c179e"
             ],
             [
              0.4444444444444444,
              "#bd3786"
             ],
             [
              0.5555555555555556,
              "#d8576b"
             ],
             [
              0.6666666666666666,
              "#ed7953"
             ],
             [
              0.7777777777777778,
              "#fb9f3a"
             ],
             [
              0.8888888888888888,
              "#fdca26"
             ],
             [
              1,
              "#f0f921"
             ]
            ],
            "type": "heatmap"
           }
          ],
          "heatmapgl": [
           {
            "colorbar": {
             "outlinewidth": 0,
             "ticks": ""
            },
            "colorscale": [
             [
              0,
              "#0d0887"
             ],
             [
              0.1111111111111111,
              "#46039f"
             ],
             [
              0.2222222222222222,
              "#7201a8"
             ],
             [
              0.3333333333333333,
              "#9c179e"
             ],
             [
              0.4444444444444444,
              "#bd3786"
             ],
             [
              0.5555555555555556,
              "#d8576b"
             ],
             [
              0.6666666666666666,
              "#ed7953"
             ],
             [
              0.7777777777777778,
              "#fb9f3a"
             ],
             [
              0.8888888888888888,
              "#fdca26"
             ],
             [
              1,
              "#f0f921"
             ]
            ],
            "type": "heatmapgl"
           }
          ],
          "histogram": [
           {
            "marker": {
             "pattern": {
              "fillmode": "overlay",
              "size": 10,
              "solidity": 0.2
             }
            },
            "type": "histogram"
           }
          ],
          "histogram2d": [
           {
            "colorbar": {
             "outlinewidth": 0,
             "ticks": ""
            },
            "colorscale": [
             [
              0,
              "#0d0887"
             ],
             [
              0.1111111111111111,
              "#46039f"
             ],
             [
              0.2222222222222222,
              "#7201a8"
             ],
             [
              0.3333333333333333,
              "#9c179e"
             ],
             [
              0.4444444444444444,
              "#bd3786"
             ],
             [
              0.5555555555555556,
              "#d8576b"
             ],
             [
              0.6666666666666666,
              "#ed7953"
             ],
             [
              0.7777777777777778,
              "#fb9f3a"
             ],
             [
              0.8888888888888888,
              "#fdca26"
             ],
             [
              1,
              "#f0f921"
             ]
            ],
            "type": "histogram2d"
           }
          ],
          "histogram2dcontour": [
           {
            "colorbar": {
             "outlinewidth": 0,
             "ticks": ""
            },
            "colorscale": [
             [
              0,
              "#0d0887"
             ],
             [
              0.1111111111111111,
              "#46039f"
             ],
             [
              0.2222222222222222,
              "#7201a8"
             ],
             [
              0.3333333333333333,
              "#9c179e"
             ],
             [
              0.4444444444444444,
              "#bd3786"
             ],
             [
              0.5555555555555556,
              "#d8576b"
             ],
             [
              0.6666666666666666,
              "#ed7953"
             ],
             [
              0.7777777777777778,
              "#fb9f3a"
             ],
             [
              0.8888888888888888,
              "#fdca26"
             ],
             [
              1,
              "#f0f921"
             ]
            ],
            "type": "histogram2dcontour"
           }
          ],
          "mesh3d": [
           {
            "colorbar": {
             "outlinewidth": 0,
             "ticks": ""
            },
            "type": "mesh3d"
           }
          ],
          "parcoords": [
           {
            "line": {
             "colorbar": {
              "outlinewidth": 0,
              "ticks": ""
             }
            },
            "type": "parcoords"
           }
          ],
          "pie": [
           {
            "automargin": true,
            "type": "pie"
           }
          ],
          "scatter": [
           {
            "fillpattern": {
             "fillmode": "overlay",
             "size": 10,
             "solidity": 0.2
            },
            "type": "scatter"
           }
          ],
          "scatter3d": [
           {
            "line": {
             "colorbar": {
              "outlinewidth": 0,
              "ticks": ""
             }
            },
            "marker": {
             "colorbar": {
              "outlinewidth": 0,
              "ticks": ""
             }
            },
            "type": "scatter3d"
           }
          ],
          "scattercarpet": [
           {
            "marker": {
             "colorbar": {
              "outlinewidth": 0,
              "ticks": ""
             }
            },
            "type": "scattercarpet"
           }
          ],
          "scattergeo": [
           {
            "marker": {
             "colorbar": {
              "outlinewidth": 0,
              "ticks": ""
             }
            },
            "type": "scattergeo"
           }
          ],
          "scattergl": [
           {
            "marker": {
             "colorbar": {
              "outlinewidth": 0,
              "ticks": ""
             }
            },
            "type": "scattergl"
           }
          ],
          "scattermapbox": [
           {
            "marker": {
             "colorbar": {
              "outlinewidth": 0,
              "ticks": ""
             }
            },
            "type": "scattermapbox"
           }
          ],
          "scatterpolar": [
           {
            "marker": {
             "colorbar": {
              "outlinewidth": 0,
              "ticks": ""
             }
            },
            "type": "scatterpolar"
           }
          ],
          "scatterpolargl": [
           {
            "marker": {
             "colorbar": {
              "outlinewidth": 0,
              "ticks": ""
             }
            },
            "type": "scatterpolargl"
           }
          ],
          "scatterternary": [
           {
            "marker": {
             "colorbar": {
              "outlinewidth": 0,
              "ticks": ""
             }
            },
            "type": "scatterternary"
           }
          ],
          "surface": [
           {
            "colorbar": {
             "outlinewidth": 0,
             "ticks": ""
            },
            "colorscale": [
             [
              0,
              "#0d0887"
             ],
             [
              0.1111111111111111,
              "#46039f"
             ],
             [
              0.2222222222222222,
              "#7201a8"
             ],
             [
              0.3333333333333333,
              "#9c179e"
             ],
             [
              0.4444444444444444,
              "#bd3786"
             ],
             [
              0.5555555555555556,
              "#d8576b"
             ],
             [
              0.6666666666666666,
              "#ed7953"
             ],
             [
              0.7777777777777778,
              "#fb9f3a"
             ],
             [
              0.8888888888888888,
              "#fdca26"
             ],
             [
              1,
              "#f0f921"
             ]
            ],
            "type": "surface"
           }
          ],
          "table": [
           {
            "cells": {
             "fill": {
              "color": "#EBF0F8"
             },
             "line": {
              "color": "white"
             }
            },
            "header": {
             "fill": {
              "color": "#C8D4E3"
             },
             "line": {
              "color": "white"
             }
            },
            "type": "table"
           }
          ]
         },
         "layout": {
          "annotationdefaults": {
           "arrowcolor": "#2a3f5f",
           "arrowhead": 0,
           "arrowwidth": 1
          },
          "autotypenumbers": "strict",
          "coloraxis": {
           "colorbar": {
            "outlinewidth": 0,
            "ticks": ""
           }
          },
          "colorscale": {
           "diverging": [
            [
             0,
             "#8e0152"
            ],
            [
             0.1,
             "#c51b7d"
            ],
            [
             0.2,
             "#de77ae"
            ],
            [
             0.3,
             "#f1b6da"
            ],
            [
             0.4,
             "#fde0ef"
            ],
            [
             0.5,
             "#f7f7f7"
            ],
            [
             0.6,
             "#e6f5d0"
            ],
            [
             0.7,
             "#b8e186"
            ],
            [
             0.8,
             "#7fbc41"
            ],
            [
             0.9,
             "#4d9221"
            ],
            [
             1,
             "#276419"
            ]
           ],
           "sequential": [
            [
             0,
             "#0d0887"
            ],
            [
             0.1111111111111111,
             "#46039f"
            ],
            [
             0.2222222222222222,
             "#7201a8"
            ],
            [
             0.3333333333333333,
             "#9c179e"
            ],
            [
             0.4444444444444444,
             "#bd3786"
            ],
            [
             0.5555555555555556,
             "#d8576b"
            ],
            [
             0.6666666666666666,
             "#ed7953"
            ],
            [
             0.7777777777777778,
             "#fb9f3a"
            ],
            [
             0.8888888888888888,
             "#fdca26"
            ],
            [
             1,
             "#f0f921"
            ]
           ],
           "sequentialminus": [
            [
             0,
             "#0d0887"
            ],
            [
             0.1111111111111111,
             "#46039f"
            ],
            [
             0.2222222222222222,
             "#7201a8"
            ],
            [
             0.3333333333333333,
             "#9c179e"
            ],
            [
             0.4444444444444444,
             "#bd3786"
            ],
            [
             0.5555555555555556,
             "#d8576b"
            ],
            [
             0.6666666666666666,
             "#ed7953"
            ],
            [
             0.7777777777777778,
             "#fb9f3a"
            ],
            [
             0.8888888888888888,
             "#fdca26"
            ],
            [
             1,
             "#f0f921"
            ]
           ]
          },
          "colorway": [
           "#636efa",
           "#EF553B",
           "#00cc96",
           "#ab63fa",
           "#FFA15A",
           "#19d3f3",
           "#FF6692",
           "#B6E880",
           "#FF97FF",
           "#FECB52"
          ],
          "font": {
           "color": "#2a3f5f"
          },
          "geo": {
           "bgcolor": "white",
           "lakecolor": "white",
           "landcolor": "#E5ECF6",
           "showlakes": true,
           "showland": true,
           "subunitcolor": "white"
          },
          "hoverlabel": {
           "align": "left"
          },
          "hovermode": "closest",
          "mapbox": {
           "style": "light"
          },
          "paper_bgcolor": "white",
          "plot_bgcolor": "#E5ECF6",
          "polar": {
           "angularaxis": {
            "gridcolor": "white",
            "linecolor": "white",
            "ticks": ""
           },
           "bgcolor": "#E5ECF6",
           "radialaxis": {
            "gridcolor": "white",
            "linecolor": "white",
            "ticks": ""
           }
          },
          "scene": {
           "xaxis": {
            "backgroundcolor": "#E5ECF6",
            "gridcolor": "white",
            "gridwidth": 2,
            "linecolor": "white",
            "showbackground": true,
            "ticks": "",
            "zerolinecolor": "white"
           },
           "yaxis": {
            "backgroundcolor": "#E5ECF6",
            "gridcolor": "white",
            "gridwidth": 2,
            "linecolor": "white",
            "showbackground": true,
            "ticks": "",
            "zerolinecolor": "white"
           },
           "zaxis": {
            "backgroundcolor": "#E5ECF6",
            "gridcolor": "white",
            "gridwidth": 2,
            "linecolor": "white",
            "showbackground": true,
            "ticks": "",
            "zerolinecolor": "white"
           }
          },
          "shapedefaults": {
           "line": {
            "color": "#2a3f5f"
           }
          },
          "ternary": {
           "aaxis": {
            "gridcolor": "white",
            "linecolor": "white",
            "ticks": ""
           },
           "baxis": {
            "gridcolor": "white",
            "linecolor": "white",
            "ticks": ""
           },
           "bgcolor": "#E5ECF6",
           "caxis": {
            "gridcolor": "white",
            "linecolor": "white",
            "ticks": ""
           }
          },
          "title": {
           "x": 0.05
          },
          "xaxis": {
           "automargin": true,
           "gridcolor": "white",
           "linecolor": "white",
           "ticks": "",
           "title": {
            "standoff": 15
           },
           "zerolinecolor": "white",
           "zerolinewidth": 2
          },
          "yaxis": {
           "automargin": true,
           "gridcolor": "white",
           "linecolor": "white",
           "ticks": "",
           "title": {
            "standoff": 15
           },
           "zerolinecolor": "white",
           "zerolinewidth": 2
          }
         }
        },
        "title": {
         "text": "Distribution of the Types of Transactions"
        },
        "xaxis": {
         "anchor": "y",
         "categoryorder": "total ascending",
         "domain": [
          0,
          1
         ],
         "title": {
          "text": "Category"
         }
        },
        "yaxis": {
         "anchor": "x",
         "domain": [
          0,
          1
         ],
         "title": {
          "text": "count"
         }
        }
       }
      }
     },
     "metadata": {},
     "output_type": "display_data"
    }
   ],
   "source": [
    "fig=px.histogram(df_mint,x='Category',title=\"Distribution of the Types of Transactions\") \n",
    "\n",
    "fig.update_xaxes(categoryorder='total ascending') \n",
    "\n",
    "\n",
    "fig.show() #to actually show the histogram"
   ]
  }
 ],
 "metadata": {
  "kernelspec": {
   "display_name": "base",
   "language": "python",
   "name": "python3"
  },
  "language_info": {
   "codemirror_mode": {
    "name": "ipython",
    "version": 3
   },
   "file_extension": ".py",
   "mimetype": "text/x-python",
   "name": "python",
   "nbconvert_exporter": "python",
   "pygments_lexer": "ipython3",
   "version": "3.9.13"
  },
  "orig_nbformat": 4,
  "vscode": {
   "interpreter": {
    "hash": "5f8929016d30f12a89eab5b5e02a6c1410fc73da4b23b89b4eb7a3bc58137fe5"
   }
  }
 },
 "nbformat": 4,
 "nbformat_minor": 2
}
