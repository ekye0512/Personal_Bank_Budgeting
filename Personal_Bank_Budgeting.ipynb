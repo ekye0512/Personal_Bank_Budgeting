{
 "cells": [
  {
   "cell_type": "code",
   "execution_count": 1,
   "metadata": {},
   "outputs": [],
   "source": [
    "import pandas as pd \n",
    "import matplotlib.pyplot as plt\n",
    "import plotly.express as px\n",
    "import seaborn as sns"
   ]
  },
  {
   "cell_type": "code",
   "execution_count": 2,
   "metadata": {},
   "outputs": [
    {
     "name": "stdout",
     "output_type": "stream",
     "text": [
      "Requirement already satisfied: pandas in /Users/eric/opt/anaconda3/lib/python3.9/site-packages (1.4.4)\n",
      "Requirement already satisfied: python-dateutil>=2.8.1 in /Users/eric/opt/anaconda3/lib/python3.9/site-packages (from pandas) (2.8.2)\n",
      "Requirement already satisfied: pytz>=2020.1 in /Users/eric/opt/anaconda3/lib/python3.9/site-packages (from pandas) (2022.1)\n",
      "Requirement already satisfied: numpy>=1.18.5 in /Users/eric/opt/anaconda3/lib/python3.9/site-packages (from pandas) (1.21.5)\n",
      "Requirement already satisfied: six>=1.5 in /Users/eric/opt/anaconda3/lib/python3.9/site-packages (from python-dateutil>=2.8.1->pandas) (1.16.0)\n"
     ]
    }
   ],
   "source": [
    "!pip install pandas \n"
   ]
  },
  {
   "cell_type": "code",
   "execution_count": 5,
   "metadata": {},
   "outputs": [
    {
     "data": {
      "text/html": [
       "<div>\n",
       "<style scoped>\n",
       "    .dataframe tbody tr th:only-of-type {\n",
       "        vertical-align: middle;\n",
       "    }\n",
       "\n",
       "    .dataframe tbody tr th {\n",
       "        vertical-align: top;\n",
       "    }\n",
       "\n",
       "    .dataframe thead th {\n",
       "        text-align: right;\n",
       "    }\n",
       "</style>\n",
       "<table border=\"1\" class=\"dataframe\">\n",
       "  <thead>\n",
       "    <tr style=\"text-align: right;\">\n",
       "      <th></th>\n",
       "      <th>12/30/22</th>\n",
       "      <th>-17</th>\n",
       "      <th>*</th>\n",
       "      <th>Venmo</th>\n",
       "      <th>PURCHASE AUTHORIZED ON 12/30 VENMO* Visa Direct NY S302364781105329 CARD 7605</th>\n",
       "    </tr>\n",
       "  </thead>\n",
       "  <tbody>\n",
       "    <tr>\n",
       "      <th>0</th>\n",
       "      <td>12/30/22</td>\n",
       "      <td>-4.00</td>\n",
       "      <td>*</td>\n",
       "      <td>Venmo</td>\n",
       "      <td>PURCHASE AUTHORIZED ON 12/29 VENMO* Visa Direc...</td>\n",
       "    </tr>\n",
       "    <tr>\n",
       "      <th>1</th>\n",
       "      <td>12/30/22</td>\n",
       "      <td>-5.25</td>\n",
       "      <td>*</td>\n",
       "      <td>Food</td>\n",
       "      <td>PURCHASE AUTHORIZED ON 12/28 BEI YUAN TEA &amp; BO...</td>\n",
       "    </tr>\n",
       "    <tr>\n",
       "      <th>2</th>\n",
       "      <td>12/28/22</td>\n",
       "      <td>-6.00</td>\n",
       "      <td>*</td>\n",
       "      <td>Venmo</td>\n",
       "      <td>PURCHASE AUTHORIZED ON 12/27 VENMO* San Jose C...</td>\n",
       "    </tr>\n",
       "    <tr>\n",
       "      <th>3</th>\n",
       "      <td>12/27/22</td>\n",
       "      <td>-2.75</td>\n",
       "      <td>*</td>\n",
       "      <td>Venmo</td>\n",
       "      <td>PURCHASE AUTHORIZED ON 12/27 VENMO* Visa Direc...</td>\n",
       "    </tr>\n",
       "    <tr>\n",
       "      <th>4</th>\n",
       "      <td>12/27/22</td>\n",
       "      <td>-7.00</td>\n",
       "      <td>*</td>\n",
       "      <td>Venmo</td>\n",
       "      <td>PURCHASE AUTHORIZED ON 12/27 VENMO* Visa Direc...</td>\n",
       "    </tr>\n",
       "  </tbody>\n",
       "</table>\n",
       "</div>"
      ],
      "text/plain": [
       "   12/30/22   -17  *  Venmo  \\\n",
       "0  12/30/22 -4.00  *  Venmo   \n",
       "1  12/30/22 -5.25  *   Food   \n",
       "2  12/28/22 -6.00  *  Venmo   \n",
       "3  12/27/22 -2.75  *  Venmo   \n",
       "4  12/27/22 -7.00  *  Venmo   \n",
       "\n",
       "  PURCHASE AUTHORIZED ON 12/30 VENMO* Visa Direct NY S302364781105329 CARD 7605  \n",
       "0  PURCHASE AUTHORIZED ON 12/29 VENMO* Visa Direc...                             \n",
       "1  PURCHASE AUTHORIZED ON 12/28 BEI YUAN TEA & BO...                             \n",
       "2  PURCHASE AUTHORIZED ON 12/27 VENMO* San Jose C...                             \n",
       "3  PURCHASE AUTHORIZED ON 12/27 VENMO* Visa Direc...                             \n",
       "4  PURCHASE AUTHORIZED ON 12/27 VENMO* Visa Direc...                             "
      ]
     },
     "execution_count": 5,
     "metadata": {},
     "output_type": "execute_result"
    }
   ],
   "source": [
    "df = pd.read_csv('/Users/eric/Documents/Github/Personal_Bank_Budgeting/Checking1.csv') #RUN EVERYTIME\n",
    "df.head()\n"
   ]
  },
  {
   "cell_type": "code",
   "execution_count": null,
   "metadata": {},
   "outputs": [],
   "source": [
    "df.rename(columns=)"
   ]
  }
 ],
 "metadata": {
  "kernelspec": {
   "display_name": "base",
   "language": "python",
   "name": "python3"
  },
  "language_info": {
   "codemirror_mode": {
    "name": "ipython",
    "version": 3
   },
   "file_extension": ".py",
   "mimetype": "text/x-python",
   "name": "python",
   "nbconvert_exporter": "python",
   "pygments_lexer": "ipython3",
   "version": "3.9.13"
  },
  "orig_nbformat": 4,
  "vscode": {
   "interpreter": {
    "hash": "5f8929016d30f12a89eab5b5e02a6c1410fc73da4b23b89b4eb7a3bc58137fe5"
   }
  }
 },
 "nbformat": 4,
 "nbformat_minor": 2
}
