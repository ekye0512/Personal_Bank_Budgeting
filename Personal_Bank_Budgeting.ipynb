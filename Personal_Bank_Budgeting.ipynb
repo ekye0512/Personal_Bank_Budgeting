{
 "cells": [
  {
   "cell_type": "code",
   "execution_count": 179,
   "metadata": {},
   "outputs": [],
   "source": [
    "import pandas as pd \n",
    "import matplotlib.pyplot as plt\n",
    "import plotly.express as px\n",
    "import seaborn as sns\n",
    "\n",
    "import numpy as np\n",
    "from sklearn.linear_model import LinearRegression\n"
   ]
  },
  {
   "cell_type": "code",
   "execution_count": 180,
   "metadata": {},
   "outputs": [
    {
     "name": "stdout",
     "output_type": "stream",
     "text": [
      "Requirement already satisfied: pandas in /Users/eric/opt/anaconda3/lib/python3.9/site-packages (1.4.4)\n",
      "Requirement already satisfied: python-dateutil>=2.8.1 in /Users/eric/opt/anaconda3/lib/python3.9/site-packages (from pandas) (2.8.2)\n",
      "Requirement already satisfied: pytz>=2020.1 in /Users/eric/opt/anaconda3/lib/python3.9/site-packages (from pandas) (2022.1)\n",
      "Requirement already satisfied: numpy>=1.18.5 in /Users/eric/opt/anaconda3/lib/python3.9/site-packages (from pandas) (1.21.5)\n",
      "Requirement already satisfied: six>=1.5 in /Users/eric/opt/anaconda3/lib/python3.9/site-packages (from python-dateutil>=2.8.1->pandas) (1.16.0)\n",
      "Requirement already satisfied: scikit-learn in /Users/eric/opt/anaconda3/lib/python3.9/site-packages (1.0.2)\n",
      "Requirement already satisfied: numpy>=1.14.6 in /Users/eric/opt/anaconda3/lib/python3.9/site-packages (from scikit-learn) (1.21.5)\n",
      "Requirement already satisfied: threadpoolctl>=2.0.0 in /Users/eric/opt/anaconda3/lib/python3.9/site-packages (from scikit-learn) (2.2.0)\n",
      "Requirement already satisfied: scipy>=1.1.0 in /Users/eric/opt/anaconda3/lib/python3.9/site-packages (from scikit-learn) (1.9.1)\n",
      "Requirement already satisfied: joblib>=0.11 in /Users/eric/opt/anaconda3/lib/python3.9/site-packages (from scikit-learn) (1.1.0)\n"
     ]
    }
   ],
   "source": [
    "!pip install pandas \n",
    "\n",
    "!pip install scikit-learn\n"
   ]
  },
  {
   "cell_type": "code",
   "execution_count": 181,
   "metadata": {},
   "outputs": [
    {
     "data": {
      "text/html": [
       "<div>\n",
       "<style scoped>\n",
       "    .dataframe tbody tr th:only-of-type {\n",
       "        vertical-align: middle;\n",
       "    }\n",
       "\n",
       "    .dataframe tbody tr th {\n",
       "        vertical-align: top;\n",
       "    }\n",
       "\n",
       "    .dataframe thead th {\n",
       "        text-align: right;\n",
       "    }\n",
       "</style>\n",
       "<table border=\"1\" class=\"dataframe\">\n",
       "  <thead>\n",
       "    <tr style=\"text-align: right;\">\n",
       "      <th></th>\n",
       "      <th>12/30/22</th>\n",
       "      <th>-17</th>\n",
       "      <th>*</th>\n",
       "      <th>Venmo</th>\n",
       "      <th>PURCHASE AUTHORIZED ON 12/30 VENMO* Visa Direct NY S302364781105329 CARD 7605</th>\n",
       "    </tr>\n",
       "  </thead>\n",
       "  <tbody>\n",
       "    <tr>\n",
       "      <th>0</th>\n",
       "      <td>12/30/22</td>\n",
       "      <td>-4.00</td>\n",
       "      <td>*</td>\n",
       "      <td>Venmo</td>\n",
       "      <td>PURCHASE AUTHORIZED ON 12/29 VENMO* Visa Direc...</td>\n",
       "    </tr>\n",
       "    <tr>\n",
       "      <th>1</th>\n",
       "      <td>12/30/22</td>\n",
       "      <td>-5.25</td>\n",
       "      <td>*</td>\n",
       "      <td>Food</td>\n",
       "      <td>PURCHASE AUTHORIZED ON 12/28 BEI YUAN TEA &amp; BO...</td>\n",
       "    </tr>\n",
       "    <tr>\n",
       "      <th>2</th>\n",
       "      <td>12/28/22</td>\n",
       "      <td>-6.00</td>\n",
       "      <td>*</td>\n",
       "      <td>Venmo</td>\n",
       "      <td>PURCHASE AUTHORIZED ON 12/27 VENMO* San Jose C...</td>\n",
       "    </tr>\n",
       "    <tr>\n",
       "      <th>3</th>\n",
       "      <td>12/27/22</td>\n",
       "      <td>-2.75</td>\n",
       "      <td>*</td>\n",
       "      <td>Venmo</td>\n",
       "      <td>PURCHASE AUTHORIZED ON 12/27 VENMO* Visa Direc...</td>\n",
       "    </tr>\n",
       "    <tr>\n",
       "      <th>4</th>\n",
       "      <td>12/27/22</td>\n",
       "      <td>-7.00</td>\n",
       "      <td>*</td>\n",
       "      <td>Venmo</td>\n",
       "      <td>PURCHASE AUTHORIZED ON 12/27 VENMO* Visa Direc...</td>\n",
       "    </tr>\n",
       "  </tbody>\n",
       "</table>\n",
       "</div>"
      ],
      "text/plain": [
       "   12/30/22   -17  *  Venmo  \\\n",
       "0  12/30/22 -4.00  *  Venmo   \n",
       "1  12/30/22 -5.25  *   Food   \n",
       "2  12/28/22 -6.00  *  Venmo   \n",
       "3  12/27/22 -2.75  *  Venmo   \n",
       "4  12/27/22 -7.00  *  Venmo   \n",
       "\n",
       "  PURCHASE AUTHORIZED ON 12/30 VENMO* Visa Direct NY S302364781105329 CARD 7605  \n",
       "0  PURCHASE AUTHORIZED ON 12/29 VENMO* Visa Direc...                             \n",
       "1  PURCHASE AUTHORIZED ON 12/28 BEI YUAN TEA & BO...                             \n",
       "2  PURCHASE AUTHORIZED ON 12/27 VENMO* San Jose C...                             \n",
       "3  PURCHASE AUTHORIZED ON 12/27 VENMO* Visa Direc...                             \n",
       "4  PURCHASE AUTHORIZED ON 12/27 VENMO* Visa Direc...                             "
      ]
     },
     "execution_count": 181,
     "metadata": {},
     "output_type": "execute_result"
    }
   ],
   "source": [
    "df = pd.read_csv('/Users/eric/Documents/Github/Personal_Bank_Budgeting/Checking1.csv') #RUN EVERYTIME\n",
    "df.head()\n"
   ]
  },
  {
   "cell_type": "code",
   "execution_count": 182,
   "metadata": {},
   "outputs": [
    {
     "data": {
      "text/html": [
       "<div>\n",
       "<style scoped>\n",
       "    .dataframe tbody tr th:only-of-type {\n",
       "        vertical-align: middle;\n",
       "    }\n",
       "\n",
       "    .dataframe tbody tr th {\n",
       "        vertical-align: top;\n",
       "    }\n",
       "\n",
       "    .dataframe thead th {\n",
       "        text-align: right;\n",
       "    }\n",
       "</style>\n",
       "<table border=\"1\" class=\"dataframe\">\n",
       "  <thead>\n",
       "    <tr style=\"text-align: right;\">\n",
       "      <th></th>\n",
       "      <th>Dates</th>\n",
       "      <th>Money Spent</th>\n",
       "      <th>Type of Transaction</th>\n",
       "      <th>Transaction</th>\n",
       "    </tr>\n",
       "  </thead>\n",
       "  <tbody>\n",
       "    <tr>\n",
       "      <th>0</th>\n",
       "      <td>12/30/22</td>\n",
       "      <td>-4.00</td>\n",
       "      <td>Venmo</td>\n",
       "      <td>PURCHASE AUTHORIZED ON 12/29 VENMO* Visa Direc...</td>\n",
       "    </tr>\n",
       "    <tr>\n",
       "      <th>1</th>\n",
       "      <td>12/30/22</td>\n",
       "      <td>-5.25</td>\n",
       "      <td>Food</td>\n",
       "      <td>PURCHASE AUTHORIZED ON 12/28 BEI YUAN TEA &amp; BO...</td>\n",
       "    </tr>\n",
       "    <tr>\n",
       "      <th>2</th>\n",
       "      <td>12/28/22</td>\n",
       "      <td>-6.00</td>\n",
       "      <td>Venmo</td>\n",
       "      <td>PURCHASE AUTHORIZED ON 12/27 VENMO* San Jose C...</td>\n",
       "    </tr>\n",
       "    <tr>\n",
       "      <th>3</th>\n",
       "      <td>12/27/22</td>\n",
       "      <td>-2.75</td>\n",
       "      <td>Venmo</td>\n",
       "      <td>PURCHASE AUTHORIZED ON 12/27 VENMO* Visa Direc...</td>\n",
       "    </tr>\n",
       "    <tr>\n",
       "      <th>4</th>\n",
       "      <td>12/27/22</td>\n",
       "      <td>-7.00</td>\n",
       "      <td>Venmo</td>\n",
       "      <td>PURCHASE AUTHORIZED ON 12/27 VENMO* Visa Direc...</td>\n",
       "    </tr>\n",
       "  </tbody>\n",
       "</table>\n",
       "</div>"
      ],
      "text/plain": [
       "      Dates  Money Spent Type of Transaction  \\\n",
       "0  12/30/22        -4.00               Venmo   \n",
       "1  12/30/22        -5.25                Food   \n",
       "2  12/28/22        -6.00               Venmo   \n",
       "3  12/27/22        -2.75               Venmo   \n",
       "4  12/27/22        -7.00               Venmo   \n",
       "\n",
       "                                         Transaction  \n",
       "0  PURCHASE AUTHORIZED ON 12/29 VENMO* Visa Direc...  \n",
       "1  PURCHASE AUTHORIZED ON 12/28 BEI YUAN TEA & BO...  \n",
       "2  PURCHASE AUTHORIZED ON 12/27 VENMO* San Jose C...  \n",
       "3  PURCHASE AUTHORIZED ON 12/27 VENMO* Visa Direc...  \n",
       "4  PURCHASE AUTHORIZED ON 12/27 VENMO* Visa Direc...  "
      ]
     },
     "execution_count": 182,
     "metadata": {},
     "output_type": "execute_result"
    }
   ],
   "source": [
    "df.rename(columns={'12/30/22': 'Dates'},inplace=True)\n",
    "df.rename(columns={'-17': 'Money Spent'},inplace=True)\n",
    "df.rename(columns={'Venmo':'Type of Transaction'},inplace=True)\n",
    "df.rename(columns={'PURCHASE AUTHORIZED ON 12/30 VENMO* Visa Direct NY S302364781105329 CARD 7605':'Transaction'},inplace=True)\n",
    "del df['*']\n",
    "df.head()"
   ]
  },
  {
   "cell_type": "code",
   "execution_count": 183,
   "metadata": {},
   "outputs": [
    {
     "data": {
      "text/html": [
       "<div>\n",
       "<style scoped>\n",
       "    .dataframe tbody tr th:only-of-type {\n",
       "        vertical-align: middle;\n",
       "    }\n",
       "\n",
       "    .dataframe tbody tr th {\n",
       "        vertical-align: top;\n",
       "    }\n",
       "\n",
       "    .dataframe thead th {\n",
       "        text-align: right;\n",
       "    }\n",
       "</style>\n",
       "<table border=\"1\" class=\"dataframe\">\n",
       "  <thead>\n",
       "    <tr style=\"text-align: right;\">\n",
       "      <th></th>\n",
       "      <th>Dates</th>\n",
       "      <th>Money Spent</th>\n",
       "      <th>Type of Transaction</th>\n",
       "      <th>Transaction</th>\n",
       "    </tr>\n",
       "  </thead>\n",
       "  <tbody>\n",
       "    <tr>\n",
       "      <th>0</th>\n",
       "      <td>12/30/22</td>\n",
       "      <td>-4.00</td>\n",
       "      <td>Venmo</td>\n",
       "      <td>PURCHASE AUTHORIZED ON 12/29 VENMO* Visa Direc...</td>\n",
       "    </tr>\n",
       "    <tr>\n",
       "      <th>1</th>\n",
       "      <td>12/30/22</td>\n",
       "      <td>-5.25</td>\n",
       "      <td>Food</td>\n",
       "      <td>PURCHASE AUTHORIZED ON 12/28 BEI YUAN TEA &amp; BO...</td>\n",
       "    </tr>\n",
       "    <tr>\n",
       "      <th>2</th>\n",
       "      <td>12/28/22</td>\n",
       "      <td>-6.00</td>\n",
       "      <td>Venmo</td>\n",
       "      <td>PURCHASE AUTHORIZED ON 12/27 VENMO* San Jose C...</td>\n",
       "    </tr>\n",
       "    <tr>\n",
       "      <th>3</th>\n",
       "      <td>12/27/22</td>\n",
       "      <td>-2.75</td>\n",
       "      <td>Venmo</td>\n",
       "      <td>PURCHASE AUTHORIZED ON 12/27 VENMO* Visa Direc...</td>\n",
       "    </tr>\n",
       "    <tr>\n",
       "      <th>4</th>\n",
       "      <td>12/27/22</td>\n",
       "      <td>-7.00</td>\n",
       "      <td>Venmo</td>\n",
       "      <td>PURCHASE AUTHORIZED ON 12/27 VENMO* Visa Direc...</td>\n",
       "    </tr>\n",
       "    <tr>\n",
       "      <th>...</th>\n",
       "      <td>...</td>\n",
       "      <td>...</td>\n",
       "      <td>...</td>\n",
       "      <td>...</td>\n",
       "    </tr>\n",
       "    <tr>\n",
       "      <th>435</th>\n",
       "      <td>1/3/22</td>\n",
       "      <td>-164.12</td>\n",
       "      <td>Food</td>\n",
       "      <td>PURCHASE AUTHORIZED ON 01/01 HANDOO SAN DIEGO ...</td>\n",
       "    </tr>\n",
       "    <tr>\n",
       "      <th>436</th>\n",
       "      <td>1/3/22</td>\n",
       "      <td>-4.95</td>\n",
       "      <td>Food</td>\n",
       "      <td>PURCHASE AUTHORIZED ON 01/01 CHICK-FIL-A #0381...</td>\n",
       "    </tr>\n",
       "    <tr>\n",
       "      <th>437</th>\n",
       "      <td>1/3/22</td>\n",
       "      <td>-11.54</td>\n",
       "      <td>Food</td>\n",
       "      <td>PURCHASE AUTHORIZED ON 12/30 RAISING CANE'S 49...</td>\n",
       "    </tr>\n",
       "    <tr>\n",
       "      <th>438</th>\n",
       "      <td>1/3/22</td>\n",
       "      <td>139.00</td>\n",
       "      <td>Paid</td>\n",
       "      <td>VENMO CASHOUT 220102 1017725962825 ERIC KYE</td>\n",
       "    </tr>\n",
       "    <tr>\n",
       "      <th>439</th>\n",
       "      <td>1/3/22</td>\n",
       "      <td>19.00</td>\n",
       "      <td>Paid</td>\n",
       "      <td>VENMO CASHOUT 220102 1017726313951 ERIC KYE</td>\n",
       "    </tr>\n",
       "  </tbody>\n",
       "</table>\n",
       "<p>440 rows × 4 columns</p>\n",
       "</div>"
      ],
      "text/plain": [
       "        Dates  Money Spent Type of Transaction  \\\n",
       "0    12/30/22        -4.00               Venmo   \n",
       "1    12/30/22        -5.25                Food   \n",
       "2    12/28/22        -6.00               Venmo   \n",
       "3    12/27/22        -2.75               Venmo   \n",
       "4    12/27/22        -7.00               Venmo   \n",
       "..        ...          ...                 ...   \n",
       "435    1/3/22      -164.12                Food   \n",
       "436    1/3/22        -4.95                Food   \n",
       "437    1/3/22       -11.54                Food   \n",
       "438    1/3/22       139.00                Paid   \n",
       "439    1/3/22        19.00                Paid   \n",
       "\n",
       "                                           Transaction  \n",
       "0    PURCHASE AUTHORIZED ON 12/29 VENMO* Visa Direc...  \n",
       "1    PURCHASE AUTHORIZED ON 12/28 BEI YUAN TEA & BO...  \n",
       "2    PURCHASE AUTHORIZED ON 12/27 VENMO* San Jose C...  \n",
       "3    PURCHASE AUTHORIZED ON 12/27 VENMO* Visa Direc...  \n",
       "4    PURCHASE AUTHORIZED ON 12/27 VENMO* Visa Direc...  \n",
       "..                                                 ...  \n",
       "435  PURCHASE AUTHORIZED ON 01/01 HANDOO SAN DIEGO ...  \n",
       "436  PURCHASE AUTHORIZED ON 01/01 CHICK-FIL-A #0381...  \n",
       "437  PURCHASE AUTHORIZED ON 12/30 RAISING CANE'S 49...  \n",
       "438        VENMO CASHOUT 220102 1017725962825 ERIC KYE  \n",
       "439        VENMO CASHOUT 220102 1017726313951 ERIC KYE  \n",
       "\n",
       "[440 rows x 4 columns]"
      ]
     },
     "execution_count": 183,
     "metadata": {},
     "output_type": "execute_result"
    }
   ],
   "source": [
    "df"
   ]
  },
  {
   "cell_type": "code",
   "execution_count": 184,
   "metadata": {},
   "outputs": [
    {
     "data": {
      "text/html": [
       "<div>\n",
       "<style scoped>\n",
       "    .dataframe tbody tr th:only-of-type {\n",
       "        vertical-align: middle;\n",
       "    }\n",
       "\n",
       "    .dataframe tbody tr th {\n",
       "        vertical-align: top;\n",
       "    }\n",
       "\n",
       "    .dataframe thead th {\n",
       "        text-align: right;\n",
       "    }\n",
       "</style>\n",
       "<table border=\"1\" class=\"dataframe\">\n",
       "  <thead>\n",
       "    <tr style=\"text-align: right;\">\n",
       "      <th></th>\n",
       "      <th>Dates</th>\n",
       "      <th>Money Spent</th>\n",
       "      <th>Type of Transaction</th>\n",
       "      <th>Transaction</th>\n",
       "    </tr>\n",
       "  </thead>\n",
       "  <tbody>\n",
       "    <tr>\n",
       "      <th>0</th>\n",
       "      <td>12/30/22</td>\n",
       "      <td>4.00</td>\n",
       "      <td>Venmo</td>\n",
       "      <td>PURCHASE AUTHORIZED ON 12/29 VENMO* Visa Direc...</td>\n",
       "    </tr>\n",
       "    <tr>\n",
       "      <th>1</th>\n",
       "      <td>12/30/22</td>\n",
       "      <td>5.25</td>\n",
       "      <td>Food</td>\n",
       "      <td>PURCHASE AUTHORIZED ON 12/28 BEI YUAN TEA &amp; BO...</td>\n",
       "    </tr>\n",
       "    <tr>\n",
       "      <th>2</th>\n",
       "      <td>12/28/22</td>\n",
       "      <td>6.00</td>\n",
       "      <td>Venmo</td>\n",
       "      <td>PURCHASE AUTHORIZED ON 12/27 VENMO* San Jose C...</td>\n",
       "    </tr>\n",
       "    <tr>\n",
       "      <th>3</th>\n",
       "      <td>12/27/22</td>\n",
       "      <td>2.75</td>\n",
       "      <td>Venmo</td>\n",
       "      <td>PURCHASE AUTHORIZED ON 12/27 VENMO* Visa Direc...</td>\n",
       "    </tr>\n",
       "    <tr>\n",
       "      <th>4</th>\n",
       "      <td>12/27/22</td>\n",
       "      <td>7.00</td>\n",
       "      <td>Venmo</td>\n",
       "      <td>PURCHASE AUTHORIZED ON 12/27 VENMO* Visa Direc...</td>\n",
       "    </tr>\n",
       "    <tr>\n",
       "      <th>...</th>\n",
       "      <td>...</td>\n",
       "      <td>...</td>\n",
       "      <td>...</td>\n",
       "      <td>...</td>\n",
       "    </tr>\n",
       "    <tr>\n",
       "      <th>435</th>\n",
       "      <td>1/3/22</td>\n",
       "      <td>164.12</td>\n",
       "      <td>Food</td>\n",
       "      <td>PURCHASE AUTHORIZED ON 01/01 HANDOO SAN DIEGO ...</td>\n",
       "    </tr>\n",
       "    <tr>\n",
       "      <th>436</th>\n",
       "      <td>1/3/22</td>\n",
       "      <td>4.95</td>\n",
       "      <td>Food</td>\n",
       "      <td>PURCHASE AUTHORIZED ON 01/01 CHICK-FIL-A #0381...</td>\n",
       "    </tr>\n",
       "    <tr>\n",
       "      <th>437</th>\n",
       "      <td>1/3/22</td>\n",
       "      <td>11.54</td>\n",
       "      <td>Food</td>\n",
       "      <td>PURCHASE AUTHORIZED ON 12/30 RAISING CANE'S 49...</td>\n",
       "    </tr>\n",
       "    <tr>\n",
       "      <th>438</th>\n",
       "      <td>1/3/22</td>\n",
       "      <td>-139.00</td>\n",
       "      <td>Paid</td>\n",
       "      <td>VENMO CASHOUT 220102 1017725962825 ERIC KYE</td>\n",
       "    </tr>\n",
       "    <tr>\n",
       "      <th>439</th>\n",
       "      <td>1/3/22</td>\n",
       "      <td>-19.00</td>\n",
       "      <td>Paid</td>\n",
       "      <td>VENMO CASHOUT 220102 1017726313951 ERIC KYE</td>\n",
       "    </tr>\n",
       "  </tbody>\n",
       "</table>\n",
       "<p>440 rows × 4 columns</p>\n",
       "</div>"
      ],
      "text/plain": [
       "        Dates  Money Spent Type of Transaction  \\\n",
       "0    12/30/22         4.00               Venmo   \n",
       "1    12/30/22         5.25                Food   \n",
       "2    12/28/22         6.00               Venmo   \n",
       "3    12/27/22         2.75               Venmo   \n",
       "4    12/27/22         7.00               Venmo   \n",
       "..        ...          ...                 ...   \n",
       "435    1/3/22       164.12                Food   \n",
       "436    1/3/22         4.95                Food   \n",
       "437    1/3/22        11.54                Food   \n",
       "438    1/3/22      -139.00                Paid   \n",
       "439    1/3/22       -19.00                Paid   \n",
       "\n",
       "                                           Transaction  \n",
       "0    PURCHASE AUTHORIZED ON 12/29 VENMO* Visa Direc...  \n",
       "1    PURCHASE AUTHORIZED ON 12/28 BEI YUAN TEA & BO...  \n",
       "2    PURCHASE AUTHORIZED ON 12/27 VENMO* San Jose C...  \n",
       "3    PURCHASE AUTHORIZED ON 12/27 VENMO* Visa Direc...  \n",
       "4    PURCHASE AUTHORIZED ON 12/27 VENMO* Visa Direc...  \n",
       "..                                                 ...  \n",
       "435  PURCHASE AUTHORIZED ON 01/01 HANDOO SAN DIEGO ...  \n",
       "436  PURCHASE AUTHORIZED ON 01/01 CHICK-FIL-A #0381...  \n",
       "437  PURCHASE AUTHORIZED ON 12/30 RAISING CANE'S 49...  \n",
       "438        VENMO CASHOUT 220102 1017725962825 ERIC KYE  \n",
       "439        VENMO CASHOUT 220102 1017726313951 ERIC KYE  \n",
       "\n",
       "[440 rows x 4 columns]"
      ]
     },
     "execution_count": 184,
     "metadata": {},
     "output_type": "execute_result"
    }
   ],
   "source": [
    "df['Money Spent'] = df['Money Spent'].multiply(-1)\n",
    "\n",
    "\n",
    "df.head()\n",
    "\n",
    "\n",
    "df"
   ]
  },
  {
   "cell_type": "code",
   "execution_count": 185,
   "metadata": {},
   "outputs": [
    {
     "data": {
      "text/plain": [
       "Index(['Dates', 'Money Spent', 'Type of Transaction', 'Transaction'], dtype='object')"
      ]
     },
     "execution_count": 185,
     "metadata": {},
     "output_type": "execute_result"
    }
   ],
   "source": [
    "df.columns\n"
   ]
  },
  {
   "cell_type": "code",
   "execution_count": 186,
   "metadata": {},
   "outputs": [
    {
     "data": {
      "text/html": [
       "<div>\n",
       "<style scoped>\n",
       "    .dataframe tbody tr th:only-of-type {\n",
       "        vertical-align: middle;\n",
       "    }\n",
       "\n",
       "    .dataframe tbody tr th {\n",
       "        vertical-align: top;\n",
       "    }\n",
       "\n",
       "    .dataframe thead th {\n",
       "        text-align: right;\n",
       "    }\n",
       "</style>\n",
       "<table border=\"1\" class=\"dataframe\">\n",
       "  <thead>\n",
       "    <tr style=\"text-align: right;\">\n",
       "      <th></th>\n",
       "      <th>Money Spent</th>\n",
       "    </tr>\n",
       "  </thead>\n",
       "  <tbody>\n",
       "    <tr>\n",
       "      <th>count</th>\n",
       "      <td>440.000000</td>\n",
       "    </tr>\n",
       "    <tr>\n",
       "      <th>mean</th>\n",
       "      <td>-4.825955</td>\n",
       "    </tr>\n",
       "    <tr>\n",
       "      <th>std</th>\n",
       "      <td>143.504533</td>\n",
       "    </tr>\n",
       "    <tr>\n",
       "      <th>min</th>\n",
       "      <td>-988.000000</td>\n",
       "    </tr>\n",
       "    <tr>\n",
       "      <th>25%</th>\n",
       "      <td>3.770000</td>\n",
       "    </tr>\n",
       "    <tr>\n",
       "      <th>50%</th>\n",
       "      <td>8.585000</td>\n",
       "    </tr>\n",
       "    <tr>\n",
       "      <th>75%</th>\n",
       "      <td>17.067500</td>\n",
       "    </tr>\n",
       "    <tr>\n",
       "      <th>max</th>\n",
       "      <td>1000.000000</td>\n",
       "    </tr>\n",
       "  </tbody>\n",
       "</table>\n",
       "</div>"
      ],
      "text/plain": [
       "       Money Spent\n",
       "count   440.000000\n",
       "mean     -4.825955\n",
       "std     143.504533\n",
       "min    -988.000000\n",
       "25%       3.770000\n",
       "50%       8.585000\n",
       "75%      17.067500\n",
       "max    1000.000000"
      ]
     },
     "execution_count": 186,
     "metadata": {},
     "output_type": "execute_result"
    }
   ],
   "source": [
    "df.describe()"
   ]
  },
  {
   "cell_type": "code",
   "execution_count": 187,
   "metadata": {},
   "outputs": [
    {
     "data": {
      "text/html": [
       "<div>\n",
       "<style scoped>\n",
       "    .dataframe tbody tr th:only-of-type {\n",
       "        vertical-align: middle;\n",
       "    }\n",
       "\n",
       "    .dataframe tbody tr th {\n",
       "        vertical-align: top;\n",
       "    }\n",
       "\n",
       "    .dataframe thead th {\n",
       "        text-align: right;\n",
       "    }\n",
       "</style>\n",
       "<table border=\"1\" class=\"dataframe\">\n",
       "  <thead>\n",
       "    <tr style=\"text-align: right;\">\n",
       "      <th></th>\n",
       "      <th>Dates</th>\n",
       "      <th>Money Spent</th>\n",
       "      <th>Type of Transaction</th>\n",
       "      <th>Transaction</th>\n",
       "      <th>Month</th>\n",
       "    </tr>\n",
       "  </thead>\n",
       "  <tbody>\n",
       "    <tr>\n",
       "      <th>0</th>\n",
       "      <td>2022-12-30</td>\n",
       "      <td>4.00</td>\n",
       "      <td>Venmo</td>\n",
       "      <td>PURCHASE AUTHORIZED ON 12/29 VENMO* Visa Direc...</td>\n",
       "      <td>12</td>\n",
       "    </tr>\n",
       "    <tr>\n",
       "      <th>1</th>\n",
       "      <td>2022-12-30</td>\n",
       "      <td>5.25</td>\n",
       "      <td>Food</td>\n",
       "      <td>PURCHASE AUTHORIZED ON 12/28 BEI YUAN TEA &amp; BO...</td>\n",
       "      <td>12</td>\n",
       "    </tr>\n",
       "    <tr>\n",
       "      <th>2</th>\n",
       "      <td>2022-12-28</td>\n",
       "      <td>6.00</td>\n",
       "      <td>Venmo</td>\n",
       "      <td>PURCHASE AUTHORIZED ON 12/27 VENMO* San Jose C...</td>\n",
       "      <td>12</td>\n",
       "    </tr>\n",
       "    <tr>\n",
       "      <th>3</th>\n",
       "      <td>2022-12-27</td>\n",
       "      <td>2.75</td>\n",
       "      <td>Venmo</td>\n",
       "      <td>PURCHASE AUTHORIZED ON 12/27 VENMO* Visa Direc...</td>\n",
       "      <td>12</td>\n",
       "    </tr>\n",
       "    <tr>\n",
       "      <th>4</th>\n",
       "      <td>2022-12-27</td>\n",
       "      <td>7.00</td>\n",
       "      <td>Venmo</td>\n",
       "      <td>PURCHASE AUTHORIZED ON 12/27 VENMO* Visa Direc...</td>\n",
       "      <td>12</td>\n",
       "    </tr>\n",
       "    <tr>\n",
       "      <th>...</th>\n",
       "      <td>...</td>\n",
       "      <td>...</td>\n",
       "      <td>...</td>\n",
       "      <td>...</td>\n",
       "      <td>...</td>\n",
       "    </tr>\n",
       "    <tr>\n",
       "      <th>435</th>\n",
       "      <td>2022-01-03</td>\n",
       "      <td>164.12</td>\n",
       "      <td>Food</td>\n",
       "      <td>PURCHASE AUTHORIZED ON 01/01 HANDOO SAN DIEGO ...</td>\n",
       "      <td>1</td>\n",
       "    </tr>\n",
       "    <tr>\n",
       "      <th>436</th>\n",
       "      <td>2022-01-03</td>\n",
       "      <td>4.95</td>\n",
       "      <td>Food</td>\n",
       "      <td>PURCHASE AUTHORIZED ON 01/01 CHICK-FIL-A #0381...</td>\n",
       "      <td>1</td>\n",
       "    </tr>\n",
       "    <tr>\n",
       "      <th>437</th>\n",
       "      <td>2022-01-03</td>\n",
       "      <td>11.54</td>\n",
       "      <td>Food</td>\n",
       "      <td>PURCHASE AUTHORIZED ON 12/30 RAISING CANE'S 49...</td>\n",
       "      <td>1</td>\n",
       "    </tr>\n",
       "    <tr>\n",
       "      <th>438</th>\n",
       "      <td>2022-01-03</td>\n",
       "      <td>-139.00</td>\n",
       "      <td>Paid</td>\n",
       "      <td>VENMO CASHOUT 220102 1017725962825 ERIC KYE</td>\n",
       "      <td>1</td>\n",
       "    </tr>\n",
       "    <tr>\n",
       "      <th>439</th>\n",
       "      <td>2022-01-03</td>\n",
       "      <td>-19.00</td>\n",
       "      <td>Paid</td>\n",
       "      <td>VENMO CASHOUT 220102 1017726313951 ERIC KYE</td>\n",
       "      <td>1</td>\n",
       "    </tr>\n",
       "  </tbody>\n",
       "</table>\n",
       "<p>440 rows × 5 columns</p>\n",
       "</div>"
      ],
      "text/plain": [
       "         Dates  Money Spent Type of Transaction  \\\n",
       "0   2022-12-30         4.00               Venmo   \n",
       "1   2022-12-30         5.25                Food   \n",
       "2   2022-12-28         6.00               Venmo   \n",
       "3   2022-12-27         2.75               Venmo   \n",
       "4   2022-12-27         7.00               Venmo   \n",
       "..         ...          ...                 ...   \n",
       "435 2022-01-03       164.12                Food   \n",
       "436 2022-01-03         4.95                Food   \n",
       "437 2022-01-03        11.54                Food   \n",
       "438 2022-01-03      -139.00                Paid   \n",
       "439 2022-01-03       -19.00                Paid   \n",
       "\n",
       "                                           Transaction  Month  \n",
       "0    PURCHASE AUTHORIZED ON 12/29 VENMO* Visa Direc...     12  \n",
       "1    PURCHASE AUTHORIZED ON 12/28 BEI YUAN TEA & BO...     12  \n",
       "2    PURCHASE AUTHORIZED ON 12/27 VENMO* San Jose C...     12  \n",
       "3    PURCHASE AUTHORIZED ON 12/27 VENMO* Visa Direc...     12  \n",
       "4    PURCHASE AUTHORIZED ON 12/27 VENMO* Visa Direc...     12  \n",
       "..                                                 ...    ...  \n",
       "435  PURCHASE AUTHORIZED ON 01/01 HANDOO SAN DIEGO ...      1  \n",
       "436  PURCHASE AUTHORIZED ON 01/01 CHICK-FIL-A #0381...      1  \n",
       "437  PURCHASE AUTHORIZED ON 12/30 RAISING CANE'S 49...      1  \n",
       "438        VENMO CASHOUT 220102 1017725962825 ERIC KYE      1  \n",
       "439        VENMO CASHOUT 220102 1017726313951 ERIC KYE      1  \n",
       "\n",
       "[440 rows x 5 columns]"
      ]
     },
     "execution_count": 187,
     "metadata": {},
     "output_type": "execute_result"
    }
   ],
   "source": [
    "df['Dates'] = pd.to_datetime(df['Dates'])\n",
    "\n",
    "\n",
    "\n",
    "df['Month'] = df['Dates'].dt.month \n",
    "\n",
    "\n",
    "df\n",
    "\n",
    "\n",
    "#putting the dates into date time format, and extracting the month to have a month by month analysis \n"
   ]
  },
  {
   "cell_type": "code",
   "execution_count": 188,
   "metadata": {},
   "outputs": [
    {
     "data": {
      "text/html": [
       "<div>\n",
       "<style scoped>\n",
       "    .dataframe tbody tr th:only-of-type {\n",
       "        vertical-align: middle;\n",
       "    }\n",
       "\n",
       "    .dataframe tbody tr th {\n",
       "        vertical-align: top;\n",
       "    }\n",
       "\n",
       "    .dataframe thead tr th {\n",
       "        text-align: left;\n",
       "    }\n",
       "\n",
       "    .dataframe thead tr:last-of-type th {\n",
       "        text-align: right;\n",
       "    }\n",
       "</style>\n",
       "<table border=\"1\" class=\"dataframe\">\n",
       "  <thead>\n",
       "    <tr>\n",
       "      <th></th>\n",
       "      <th colspan=\"8\" halign=\"left\">Money Spent</th>\n",
       "    </tr>\n",
       "    <tr>\n",
       "      <th></th>\n",
       "      <th>count</th>\n",
       "      <th>mean</th>\n",
       "      <th>std</th>\n",
       "      <th>min</th>\n",
       "      <th>25%</th>\n",
       "      <th>50%</th>\n",
       "      <th>75%</th>\n",
       "      <th>max</th>\n",
       "    </tr>\n",
       "    <tr>\n",
       "      <th>Month</th>\n",
       "      <th></th>\n",
       "      <th></th>\n",
       "      <th></th>\n",
       "      <th></th>\n",
       "      <th></th>\n",
       "      <th></th>\n",
       "      <th></th>\n",
       "      <th></th>\n",
       "    </tr>\n",
       "  </thead>\n",
       "  <tbody>\n",
       "    <tr>\n",
       "      <th>1</th>\n",
       "      <td>50.0</td>\n",
       "      <td>8.689000</td>\n",
       "      <td>40.859777</td>\n",
       "      <td>-139.00</td>\n",
       "      <td>4.4050</td>\n",
       "      <td>9.125</td>\n",
       "      <td>12.6800</td>\n",
       "      <td>164.12</td>\n",
       "    </tr>\n",
       "    <tr>\n",
       "      <th>2</th>\n",
       "      <td>34.0</td>\n",
       "      <td>-11.582059</td>\n",
       "      <td>98.713434</td>\n",
       "      <td>-539.77</td>\n",
       "      <td>1.6375</td>\n",
       "      <td>7.220</td>\n",
       "      <td>16.1875</td>\n",
       "      <td>33.49</td>\n",
       "    </tr>\n",
       "    <tr>\n",
       "      <th>3</th>\n",
       "      <td>56.0</td>\n",
       "      <td>-10.593393</td>\n",
       "      <td>116.456941</td>\n",
       "      <td>-619.39</td>\n",
       "      <td>3.0425</td>\n",
       "      <td>8.620</td>\n",
       "      <td>14.7275</td>\n",
       "      <td>320.00</td>\n",
       "    </tr>\n",
       "    <tr>\n",
       "      <th>4</th>\n",
       "      <td>29.0</td>\n",
       "      <td>-8.308276</td>\n",
       "      <td>99.586833</td>\n",
       "      <td>-520.67</td>\n",
       "      <td>5.0000</td>\n",
       "      <td>8.850</td>\n",
       "      <td>13.0500</td>\n",
       "      <td>43.60</td>\n",
       "    </tr>\n",
       "    <tr>\n",
       "      <th>5</th>\n",
       "      <td>33.0</td>\n",
       "      <td>-34.101515</td>\n",
       "      <td>140.777874</td>\n",
       "      <td>-542.95</td>\n",
       "      <td>-8.0000</td>\n",
       "      <td>6.480</td>\n",
       "      <td>13.0000</td>\n",
       "      <td>100.00</td>\n",
       "    </tr>\n",
       "    <tr>\n",
       "      <th>6</th>\n",
       "      <td>26.0</td>\n",
       "      <td>-15.889231</td>\n",
       "      <td>147.872063</td>\n",
       "      <td>-590.09</td>\n",
       "      <td>5.0000</td>\n",
       "      <td>17.950</td>\n",
       "      <td>25.0000</td>\n",
       "      <td>124.94</td>\n",
       "    </tr>\n",
       "    <tr>\n",
       "      <th>7</th>\n",
       "      <td>24.0</td>\n",
       "      <td>5.336250</td>\n",
       "      <td>40.857957</td>\n",
       "      <td>-176.00</td>\n",
       "      <td>2.8225</td>\n",
       "      <td>5.985</td>\n",
       "      <td>23.9500</td>\n",
       "      <td>46.99</td>\n",
       "    </tr>\n",
       "    <tr>\n",
       "      <th>8</th>\n",
       "      <td>37.0</td>\n",
       "      <td>-42.422162</td>\n",
       "      <td>226.869801</td>\n",
       "      <td>-988.00</td>\n",
       "      <td>4.0000</td>\n",
       "      <td>8.000</td>\n",
       "      <td>16.9200</td>\n",
       "      <td>49.99</td>\n",
       "    </tr>\n",
       "    <tr>\n",
       "      <th>9</th>\n",
       "      <td>43.0</td>\n",
       "      <td>2.665581</td>\n",
       "      <td>86.469058</td>\n",
       "      <td>-287.00</td>\n",
       "      <td>5.0000</td>\n",
       "      <td>8.550</td>\n",
       "      <td>18.2350</td>\n",
       "      <td>214.22</td>\n",
       "    </tr>\n",
       "    <tr>\n",
       "      <th>10</th>\n",
       "      <td>42.0</td>\n",
       "      <td>16.273571</td>\n",
       "      <td>198.594062</td>\n",
       "      <td>-640.00</td>\n",
       "      <td>5.0625</td>\n",
       "      <td>12.510</td>\n",
       "      <td>21.2625</td>\n",
       "      <td>689.80</td>\n",
       "    </tr>\n",
       "    <tr>\n",
       "      <th>11</th>\n",
       "      <td>34.0</td>\n",
       "      <td>-6.842059</td>\n",
       "      <td>118.287730</td>\n",
       "      <td>-666.99</td>\n",
       "      <td>4.1000</td>\n",
       "      <td>11.505</td>\n",
       "      <td>18.9725</td>\n",
       "      <td>77.00</td>\n",
       "    </tr>\n",
       "    <tr>\n",
       "      <th>12</th>\n",
       "      <td>32.0</td>\n",
       "      <td>33.894687</td>\n",
       "      <td>252.744547</td>\n",
       "      <td>-523.00</td>\n",
       "      <td>4.8550</td>\n",
       "      <td>10.630</td>\n",
       "      <td>15.5225</td>\n",
       "      <td>1000.00</td>\n",
       "    </tr>\n",
       "  </tbody>\n",
       "</table>\n",
       "</div>"
      ],
      "text/plain": [
       "      Money Spent                                                          \\\n",
       "            count       mean         std     min     25%     50%      75%   \n",
       "Month                                                                       \n",
       "1            50.0   8.689000   40.859777 -139.00  4.4050   9.125  12.6800   \n",
       "2            34.0 -11.582059   98.713434 -539.77  1.6375   7.220  16.1875   \n",
       "3            56.0 -10.593393  116.456941 -619.39  3.0425   8.620  14.7275   \n",
       "4            29.0  -8.308276   99.586833 -520.67  5.0000   8.850  13.0500   \n",
       "5            33.0 -34.101515  140.777874 -542.95 -8.0000   6.480  13.0000   \n",
       "6            26.0 -15.889231  147.872063 -590.09  5.0000  17.950  25.0000   \n",
       "7            24.0   5.336250   40.857957 -176.00  2.8225   5.985  23.9500   \n",
       "8            37.0 -42.422162  226.869801 -988.00  4.0000   8.000  16.9200   \n",
       "9            43.0   2.665581   86.469058 -287.00  5.0000   8.550  18.2350   \n",
       "10           42.0  16.273571  198.594062 -640.00  5.0625  12.510  21.2625   \n",
       "11           34.0  -6.842059  118.287730 -666.99  4.1000  11.505  18.9725   \n",
       "12           32.0  33.894687  252.744547 -523.00  4.8550  10.630  15.5225   \n",
       "\n",
       "                \n",
       "           max  \n",
       "Month           \n",
       "1       164.12  \n",
       "2        33.49  \n",
       "3       320.00  \n",
       "4        43.60  \n",
       "5       100.00  \n",
       "6       124.94  \n",
       "7        46.99  \n",
       "8        49.99  \n",
       "9       214.22  \n",
       "10      689.80  \n",
       "11       77.00  \n",
       "12     1000.00  "
      ]
     },
     "execution_count": 188,
     "metadata": {},
     "output_type": "execute_result"
    }
   ],
   "source": [
    "month = df.groupby('Month')\n",
    "\n",
    "month.mean()\n",
    "\n",
    "month.describe()\n",
    "\n",
    "#stats per month\n",
    "\n"
   ]
  },
  {
   "cell_type": "code",
   "execution_count": 189,
   "metadata": {},
   "outputs": [
    {
     "data": {
      "text/plain": [
       "<matplotlib.collections.PathCollection at 0x7f7c9acbbe50>"
      ]
     },
     "execution_count": 189,
     "metadata": {},
     "output_type": "execute_result"
    },
    {
     "data": {
      "image/png": "[encoded data removed]",
      "text/plain": [
       "<Figure size 1200x800 with 1 Axes>"
      ]
     },
     "metadata": {},
     "output_type": "display_data"
    }
   ],
   "source": [
    "plt.figure(figsize=(12,8))\n",
    "plt.scatter(data=df, x='Month', y='Money Spent')\n",
    "\n",
    "#scatter plot of Money Spent vs Month"
   ]
  },
  {
   "cell_type": "code",
   "execution_count": 190,
   "metadata": {},
   "outputs": [
    {
     "data": {
      "text/plain": [
       "0.03867340159579912"
      ]
     },
     "execution_count": 190,
     "metadata": {},
     "output_type": "execute_result"
    }
   ],
   "source": [
    "x=df['Month']\n",
    "y=df['Money Spent']\n",
    "x.corr(y)\n",
    "\n",
    "#getting a correlation coefficent between x and y, clearly no linear relationship between Month and money spent"
   ]
  },
  {
   "cell_type": "code",
   "execution_count": 191,
   "metadata": {},
   "outputs": [
    {
     "data": {
      "text/plain": [
       "<AxesSubplot:xlabel='Money Spent', ylabel='Density'>"
      ]
     },
     "execution_count": 191,
     "metadata": {},
     "output_type": "execute_result"
    },
    {
     "data": {
      "image/png": "[encoded data removed]",
      "text/plain": [
       "<Figure size 1500x800 with 1 Axes>"
      ]
     },
     "metadata": {},
     "output_type": "display_data"
    }
   ],
   "source": [
    "plt.figure(figsize=(15,8))\n",
    "sns.histplot(x='Money Spent',data=df,bins=20,kde=True,stat='density')\n",
    "\n",
    "#histogram of money spent"
   ]
  },
  {
   "cell_type": "code",
   "execution_count": 192,
   "metadata": {},
   "outputs": [
    {
     "data": {
      "application/vnd.plotly.v1+json": {
       "config": {
        "plotlyServerURL": "https://plot.ly"
       },
       "data": [
        {
         "hovertemplate": "Dates=%{x}<br>Money Spent=%{y}<extra></extra>",
         "legendgroup": "",
         "line": {
          "color": "#636efa",
          "dash": "solid"
         },
         "marker": {
          "symbol": "circle"
         },
         "mode": "lines",
         "name": "",
         "orientation": "v",
         "showlegend": false,
         "type": "scatter",
         "x": [
          "2022-12-30T00:00:00",
          "2022-12-30T00:00:00",
          "2022-12-28T00:00:00",
          "2022-12-27T00:00:00",
          "2022-12-27T00:00:00",
          "2022-12-27T00:00:00",
          "2022-12-27T00:00:00",
          "2022-12-27T00:00:00",
          "2022-12-23T00:00:00",
          "2022-12-19T00:00:00",
          "2022-12-19T00:00:00",
          "2022-12-19T00:00:00",
          "2022-12-16T00:00:00",
          "2022-12-16T00:00:00",
          "2022-12-15T00:00:00",
          "2022-12-13T00:00:00",
          "2022-12-13T00:00:00",
          "2022-12-13T00:00:00",
          "2022-12-12T00:00:00",
          "2022-12-12T00:00:00",
          "2022-12-12T00:00:00",
          "2022-12-12T00:00:00",
          "2022-12-12T00:00:00",
          "2022-12-12T00:00:00",
          "2022-12-09T00:00:00",
          "2022-12-07T00:00:00",
          "2022-12-05T00:00:00",
          "2022-12-05T00:00:00",
          "2022-12-02T00:00:00",
          "2022-12-02T00:00:00",
          "2022-12-02T00:00:00",
          "2022-12-01T00:00:00",
          "2022-11-29T00:00:00",
          "2022-11-29T00:00:00",
          "2022-11-28T00:00:00",
          "2022-11-28T00:00:00",
          "2022-11-28T00:00:00",
          "2022-11-28T00:00:00",
          "2022-11-28T00:00:00",
          "2022-11-28T00:00:00",
          "2022-11-28T00:00:00",
          "2022-11-28T00:00:00",
          "2022-11-28T00:00:00",
          "2022-11-25T00:00:00",
          "2022-11-25T00:00:00",
          "2022-11-22T00:00:00",
          "2022-11-21T00:00:00",
          "2022-11-21T00:00:00",
          "2022-11-18T00:00:00",
          "2022-11-15T00:00:00",
          "2022-11-15T00:00:00",
          "2022-11-14T00:00:00",
          "2022-11-14T00:00:00",
          "2022-11-14T00:00:00",
          "2022-11-14T00:00:00",
          "2022-11-14T00:00:00",
          "2022-11-09T00:00:00",
          "2022-11-09T00:00:00",
          "2022-11-08T00:00:00",
          "2022-11-08T00:00:00",
          "2022-11-08T00:00:00",
          "2022-11-08T00:00:00",
          "2022-11-07T00:00:00",
          "2022-11-04T00:00:00",
          "2022-11-02T00:00:00",
          "2022-11-01T00:00:00",
          "2022-10-31T00:00:00",
          "2022-10-31T00:00:00",
          "2022-10-31T00:00:00",
          "2022-10-31T00:00:00",
          "2022-10-31T00:00:00",
          "2022-10-31T00:00:00",
          "2022-10-31T00:00:00",
          "2022-10-27T00:00:00",
          "2022-10-24T00:00:00",
          "2022-10-24T00:00:00",
          "2022-10-24T00:00:00",
          "2022-10-24T00:00:00",
          "2022-10-24T00:00:00",
          "2022-10-20T00:00:00",
          "2022-10-20T00:00:00",
          "2022-10-18T00:00:00",
          "2022-10-17T00:00:00",
          "2022-10-17T00:00:00",
          "2022-10-17T00:00:00",
          "2022-10-17T00:00:00",
          "2022-10-17T00:00:00",
          "2022-10-17T00:00:00",
          "2022-10-12T00:00:00",
          "2022-10-12T00:00:00",
          "2022-10-11T00:00:00",
          "2022-10-11T00:00:00",
          "2022-10-11T00:00:00",
          "2022-10-11T00:00:00",
          "2022-10-11T00:00:00",
          "2022-10-11T00:00:00",
          "2022-10-11T00:00:00",
          "2022-10-11T00:00:00",
          "2022-10-11T00:00:00",
          "2022-10-07T00:00:00",
          "2022-10-06T00:00:00",
          "2022-10-04T00:00:00",
          "2022-10-04T00:00:00",
          "2022-10-03T00:00:00",
          "2022-10-03T00:00:00",
          "2022-10-03T00:00:00",
          "2022-10-03T00:00:00",
          "2022-10-03T00:00:00",
          "2022-09-30T00:00:00",
          "2022-09-28T00:00:00",
          "2022-09-27T00:00:00",
          "2022-09-26T00:00:00",
          "2022-09-26T00:00:00",
          "2022-09-26T00:00:00",
          "2022-09-26T00:00:00",
          "2022-09-26T00:00:00",
          "2022-09-23T00:00:00",
          "2022-09-23T00:00:00",
          "2022-09-23T00:00:00",
          "2022-09-22T00:00:00",
          "2022-09-21T00:00:00",
          "2022-09-19T00:00:00",
          "2022-09-19T00:00:00",
          "2022-09-19T00:00:00",
          "2022-09-19T00:00:00",
          "2022-09-19T00:00:00",
          "2022-09-19T00:00:00",
          "2022-09-19T00:00:00",
          "2022-09-19T00:00:00",
          "2022-09-19T00:00:00",
          "2022-09-19T00:00:00",
          "2022-09-19T00:00:00",
          "2022-09-19T00:00:00",
          "2022-09-19T00:00:00",
          "2022-09-16T00:00:00",
          "2022-09-16T00:00:00",
          "2022-09-16T00:00:00",
          "2022-09-16T00:00:00",
          "2022-09-14T00:00:00",
          "2022-09-14T00:00:00",
          "2022-09-12T00:00:00",
          "2022-09-12T00:00:00",
          "2022-09-12T00:00:00",
          "2022-09-09T00:00:00",
          "2022-09-08T00:00:00",
          "2022-09-08T00:00:00",
          "2022-09-07T00:00:00",
          "2022-09-06T00:00:00",
          "2022-09-06T00:00:00",
          "2022-09-06T00:00:00",
          "2022-09-02T00:00:00",
          "2022-08-31T00:00:00",
          "2022-08-31T00:00:00",
          "2022-08-30T00:00:00",
          "2022-08-29T00:00:00",
          "2022-08-29T00:00:00",
          "2022-08-29T00:00:00",
          "2022-08-29T00:00:00",
          "2022-08-25T00:00:00",
          "2022-08-24T00:00:00",
          "2022-08-23T00:00:00",
          "2022-08-23T00:00:00",
          "2022-08-22T00:00:00",
          "2022-08-22T00:00:00",
          "2022-08-22T00:00:00",
          "2022-08-22T00:00:00",
          "2022-08-22T00:00:00",
          "2022-08-18T00:00:00",
          "2022-08-17T00:00:00",
          "2022-08-15T00:00:00",
          "2022-08-15T00:00:00",
          "2022-08-15T00:00:00",
          "2022-08-12T00:00:00",
          "2022-08-11T00:00:00",
          "2022-08-11T00:00:00",
          "2022-08-08T00:00:00",
          "2022-08-08T00:00:00",
          "2022-08-08T00:00:00",
          "2022-08-08T00:00:00",
          "2022-08-04T00:00:00",
          "2022-08-04T00:00:00",
          "2022-08-04T00:00:00",
          "2022-08-04T00:00:00",
          "2022-08-03T00:00:00",
          "2022-08-03T00:00:00",
          "2022-08-01T00:00:00",
          "2022-08-01T00:00:00",
          "2022-08-01T00:00:00",
          "2022-07-29T00:00:00",
          "2022-07-28T00:00:00",
          "2022-07-26T00:00:00",
          "2022-07-26T00:00:00",
          "2022-07-25T00:00:00",
          "2022-07-25T00:00:00",
          "2022-07-21T00:00:00",
          "2022-07-21T00:00:00",
          "2022-07-20T00:00:00",
          "2022-07-19T00:00:00",
          "2022-07-19T00:00:00",
          "2022-07-19T00:00:00",
          "2022-07-18T00:00:00",
          "2022-07-18T00:00:00",
          "2022-07-18T00:00:00",
          "2022-07-15T00:00:00",
          "2022-07-14T00:00:00",
          "2022-07-13T00:00:00",
          "2022-07-13T00:00:00",
          "2022-07-11T00:00:00",
          "2022-07-06T00:00:00",
          "2022-07-06T00:00:00",
          "2022-07-05T00:00:00",
          "2022-07-01T00:00:00",
          "2022-06-29T00:00:00",
          "2022-06-29T00:00:00",
          "2022-06-29T00:00:00",
          "2022-06-29T00:00:00",
          "2022-06-27T00:00:00",
          "2022-06-27T00:00:00",
          "2022-06-27T00:00:00",
          "2022-06-27T00:00:00",
          "2022-06-24T00:00:00",
          "2022-06-22T00:00:00",
          "2022-06-21T00:00:00",
          "2022-06-21T00:00:00",
          "2022-06-14T00:00:00",
          "2022-06-14T00:00:00",
          "2022-06-14T00:00:00",
          "2022-06-13T00:00:00",
          "2022-06-13T00:00:00",
          "2022-06-09T00:00:00",
          "2022-06-07T00:00:00",
          "2022-06-06T00:00:00",
          "2022-06-06T00:00:00",
          "2022-06-06T00:00:00",
          "2022-06-06T00:00:00",
          "2022-06-06T00:00:00",
          "2022-06-03T00:00:00",
          "2022-06-03T00:00:00",
          "2022-05-31T00:00:00",
          "2022-05-31T00:00:00",
          "2022-05-31T00:00:00",
          "2022-05-31T00:00:00",
          "2022-05-24T00:00:00",
          "2022-05-24T00:00:00",
          "2022-05-24T00:00:00",
          "2022-05-24T00:00:00",
          "2022-05-23T00:00:00",
          "2022-05-23T00:00:00",
          "2022-05-23T00:00:00",
          "2022-05-23T00:00:00",
          "2022-05-23T00:00:00",
          "2022-05-20T00:00:00",
          "2022-05-18T00:00:00",
          "2022-05-17T00:00:00",
          "2022-05-16T00:00:00",
          "2022-05-16T00:00:00",
          "2022-05-16T00:00:00",
          "2022-05-16T00:00:00",
          "2022-05-16T00:00:00",
          "2022-05-13T00:00:00",
          "2022-05-10T00:00:00",
          "2022-05-09T00:00:00",
          "2022-05-09T00:00:00",
          "2022-05-09T00:00:00",
          "2022-05-09T00:00:00",
          "2022-05-09T00:00:00",
          "2022-05-09T00:00:00",
          "2022-05-06T00:00:00",
          "2022-05-02T00:00:00",
          "2022-05-02T00:00:00",
          "2022-05-02T00:00:00",
          "2022-04-29T00:00:00",
          "2022-04-29T00:00:00",
          "2022-04-28T00:00:00",
          "2022-04-27T00:00:00",
          "2022-04-26T00:00:00",
          "2022-04-25T00:00:00",
          "2022-04-25T00:00:00",
          "2022-04-25T00:00:00",
          "2022-04-25T00:00:00",
          "2022-04-25T00:00:00",
          "2022-04-22T00:00:00",
          "2022-04-22T00:00:00",
          "2022-04-22T00:00:00",
          "2022-04-21T00:00:00",
          "2022-04-18T00:00:00",
          "2022-04-15T00:00:00",
          "2022-04-15T00:00:00",
          "2022-04-14T00:00:00",
          "2022-04-13T00:00:00",
          "2022-04-13T00:00:00",
          "2022-04-11T00:00:00",
          "2022-04-11T00:00:00",
          "2022-04-11T00:00:00",
          "2022-04-11T00:00:00",
          "2022-04-11T00:00:00",
          "2022-04-04T00:00:00",
          "2022-04-04T00:00:00",
          "2022-04-04T00:00:00",
          "2022-04-04T00:00:00",
          "2022-03-30T00:00:00",
          "2022-03-28T00:00:00",
          "2022-03-28T00:00:00",
          "2022-03-28T00:00:00",
          "2022-03-28T00:00:00",
          "2022-03-28T00:00:00",
          "2022-03-28T00:00:00",
          "2022-03-28T00:00:00",
          "2022-03-28T00:00:00",
          "2022-03-25T00:00:00",
          "2022-03-25T00:00:00",
          "2022-03-25T00:00:00",
          "2022-03-24T00:00:00",
          "2022-03-23T00:00:00",
          "2022-03-23T00:00:00",
          "2022-03-23T00:00:00",
          "2022-03-22T00:00:00",
          "2022-03-22T00:00:00",
          "2022-03-21T00:00:00",
          "2022-03-21T00:00:00",
          "2022-03-21T00:00:00",
          "2022-03-21T00:00:00",
          "2022-03-21T00:00:00",
          "2022-03-21T00:00:00",
          "2022-03-21T00:00:00",
          "2022-03-21T00:00:00",
          "2022-03-21T00:00:00",
          "2022-03-21T00:00:00",
          "2022-03-18T00:00:00",
          "2022-03-18T00:00:00",
          "2022-03-17T00:00:00",
          "2022-03-17T00:00:00",
          "2022-03-16T00:00:00",
          "2022-03-15T00:00:00",
          "2022-03-15T00:00:00",
          "2022-03-14T00:00:00",
          "2022-03-14T00:00:00",
          "2022-03-14T00:00:00",
          "2022-03-14T00:00:00",
          "2022-03-14T00:00:00",
          "2022-03-14T00:00:00",
          "2022-03-11T00:00:00",
          "2022-03-10T00:00:00",
          "2022-03-10T00:00:00",
          "2022-03-08T00:00:00",
          "2022-03-08T00:00:00",
          "2022-03-08T00:00:00",
          "2022-03-07T00:00:00",
          "2022-03-07T00:00:00",
          "2022-03-07T00:00:00",
          "2022-03-07T00:00:00",
          "2022-03-07T00:00:00",
          "2022-03-04T00:00:00",
          "2022-03-04T00:00:00",
          "2022-03-03T00:00:00",
          "2022-03-01T00:00:00",
          "2022-02-25T00:00:00",
          "2022-02-24T00:00:00",
          "2022-02-24T00:00:00",
          "2022-02-23T00:00:00",
          "2022-02-22T00:00:00",
          "2022-02-22T00:00:00",
          "2022-02-22T00:00:00",
          "2022-02-22T00:00:00",
          "2022-02-22T00:00:00",
          "2022-02-22T00:00:00",
          "2022-02-22T00:00:00",
          "2022-02-18T00:00:00",
          "2022-02-16T00:00:00",
          "2022-02-15T00:00:00",
          "2022-02-15T00:00:00",
          "2022-02-15T00:00:00",
          "2022-02-14T00:00:00",
          "2022-02-14T00:00:00",
          "2022-02-14T00:00:00",
          "2022-02-10T00:00:00",
          "2022-02-09T00:00:00",
          "2022-02-09T00:00:00",
          "2022-02-09T00:00:00",
          "2022-02-07T00:00:00",
          "2022-02-07T00:00:00",
          "2022-02-07T00:00:00",
          "2022-02-07T00:00:00",
          "2022-02-07T00:00:00",
          "2022-02-07T00:00:00",
          "2022-02-04T00:00:00",
          "2022-02-04T00:00:00",
          "2022-02-03T00:00:00",
          "2022-02-03T00:00:00",
          "2022-02-01T00:00:00",
          "2022-01-31T00:00:00",
          "2022-01-31T00:00:00",
          "2022-01-31T00:00:00",
          "2022-01-31T00:00:00",
          "2022-01-31T00:00:00",
          "2022-01-31T00:00:00",
          "2022-01-31T00:00:00",
          "2022-01-28T00:00:00",
          "2022-01-28T00:00:00",
          "2022-01-28T00:00:00",
          "2022-01-27T00:00:00",
          "2022-01-26T00:00:00",
          "2022-01-26T00:00:00",
          "2022-01-25T00:00:00",
          "2022-01-24T00:00:00",
          "2022-01-24T00:00:00",
          "2022-01-24T00:00:00",
          "2022-01-24T00:00:00",
          "2022-01-24T00:00:00",
          "2022-01-20T00:00:00",
          "2022-01-19T00:00:00",
          "2022-01-18T00:00:00",
          "2022-01-18T00:00:00",
          "2022-01-18T00:00:00",
          "2022-01-18T00:00:00",
          "2022-01-18T00:00:00",
          "2022-01-18T00:00:00",
          "2022-01-14T00:00:00",
          "2022-01-13T00:00:00",
          "2022-01-13T00:00:00",
          "2022-01-13T00:00:00",
          "2022-01-10T00:00:00",
          "2022-01-10T00:00:00",
          "2022-01-10T00:00:00",
          "2022-01-10T00:00:00",
          "2022-01-10T00:00:00",
          "2022-01-07T00:00:00",
          "2022-01-05T00:00:00",
          "2022-01-04T00:00:00",
          "2022-01-04T00:00:00",
          "2022-01-04T00:00:00",
          "2022-01-03T00:00:00",
          "2022-01-03T00:00:00",
          "2022-01-03T00:00:00",
          "2022-01-03T00:00:00",
          "2022-01-03T00:00:00",
          "2022-01-03T00:00:00",
          "2022-01-03T00:00:00",
          "2022-01-03T00:00:00",
          "2022-01-03T00:00:00"
         ],
         "xaxis": "x",
         "y": [
          4,
          5.25,
          6,
          2.75,
          7,
          18.41,
          105,
          -523,
          4.99,
          5,
          10.76,
          6.21,
          11.8,
          -500,
          11.95,
          30.02,
          13.57,
          4.45,
          24.24,
          14.56,
          10.5,
          14.55,
          12.18,
          1.08,
          1.39,
          1000,
          52.02,
          12.92,
          1.78,
          4.99,
          20.46,
          689.8,
          5.5,
          -7.93,
          77,
          14.48,
          17.32,
          4.28,
          11.37,
          7.2,
          24.98,
          12.95,
          -5.18,
          19,
          14.5,
          18.89,
          6.49,
          10.53,
          3.94,
          21.71,
          -10.16,
          11.94,
          7.3,
          23.33,
          5,
          -10.16,
          13.5,
          25.98,
          4.04,
          22.6,
          11.64,
          -21.98,
          58.34,
          51.96,
          -666.99,
          -16,
          15.1,
          63.92,
          10.03,
          8.05,
          11.85,
          9.73,
          5.25,
          689.8,
          51.2,
          20.58,
          8.08,
          81.7,
          13.17,
          14.8,
          -13.39,
          13.39,
          45.41,
          2.58,
          16.53,
          13.39,
          4.99,
          -640,
          2.6,
          14.04,
          14.07,
          6.48,
          5,
          11.6,
          2.7,
          5.49,
          7,
          29.22,
          -14.04,
          -210.79,
          1.8,
          35.03,
          -447,
          26.85,
          689.8,
          14.04,
          21.95,
          21.49,
          9.95,
          6.7,
          29.13,
          7,
          6.3,
          57.55,
          6.7,
          -29,
          10.29,
          186.52,
          -11.36,
          31.33,
          -268,
          59.49,
          7.57,
          9.98,
          5,
          7.57,
          6,
          8.08,
          214.22,
          3.06,
          11.9,
          21.64,
          8.55,
          -8.56,
          4.28,
          11.36,
          11.62,
          -245.5,
          4.5,
          16.47,
          65,
          38.25,
          2.14,
          20,
          5,
          15.08,
          -287,
          10.13,
          30,
          9.69,
          5.99,
          2.14,
          4,
          21.29,
          2,
          9.81,
          2.26,
          6.79,
          8.08,
          6.25,
          33.83,
          9.5,
          18.95,
          5.41,
          10.8,
          20.45,
          -988,
          8.38,
          15.6,
          1.34,
          11.84,
          29.99,
          4.15,
          3.01,
          18.26,
          16.92,
          49.99,
          -965,
          -46.99,
          42,
          8,
          20.3,
          6.02,
          11.5,
          6.02,
          2.14,
          7,
          6.35,
          46.99,
          1.08,
          25,
          9.68,
          2.41,
          3.77,
          25.08,
          -176,
          3.77,
          1.08,
          1.07,
          1.07,
          2.96,
          23.6,
          6.02,
          32.69,
          5.99,
          3,
          29.99,
          34.5,
          11.12,
          22.92,
          4.3,
          5.98,
          3.22,
          20,
          48.51,
          5,
          25,
          6.01,
          45,
          22.51,
          -415.37,
          6.98,
          23.67,
          7.89,
          0.01,
          59.98,
          124.94,
          29.99,
          20.91,
          5,
          1.99,
          6.95,
          22.52,
          25,
          3.66,
          15.9,
          61.7,
          -590.09,
          4.33,
          46.79,
          21.99,
          5.85,
          13,
          4.6,
          17.28,
          -3,
          5.58,
          10.39,
          -8,
          -79,
          -28,
          -542.95,
          6.48,
          100,
          43,
          6.8,
          13.28,
          8.65,
          -50,
          -405,
          12.98,
          5.49,
          33.48,
          3.34,
          79.7,
          7.52,
          -40,
          -423.03,
          6.7,
          9.61,
          -13.21,
          13,
          19.99,
          7.52,
          5,
          14.78,
          2.25,
          3.25,
          13.05,
          11.64,
          33.28,
          7.67,
          5,
          -520.67,
          5.26,
          15.36,
          4.29,
          10.81,
          43.6,
          5.82,
          37.6,
          8.85,
          7.51,
          9.61,
          15.16,
          -5,
          0.51,
          11.9,
          12.95,
          -40.93,
          -169,
          5,
          40.93,
          2.5,
          2.5,
          9.91,
          11.71,
          8.6,
          -9.35,
          1.56,
          11.8,
          -273.75,
          15.07,
          8.94,
          13.45,
          -105.26,
          12.92,
          32.31,
          23.69,
          10.71,
          11.61,
          14.64,
          13.08,
          0.99,
          21.09,
          4.3,
          15.61,
          -38.78,
          25,
          5.12,
          7.1,
          17,
          1.71,
          16.16,
          -350,
          6.76,
          3.99,
          11.71,
          6,
          5.33,
          3.75,
          -619.39,
          136.24,
          4.95,
          7.04,
          12.44,
          8.64,
          320,
          2.99,
          3.06,
          8.77,
          5,
          14.99,
          18.84,
          1.79,
          25,
          -168.35,
          1,
          1.95,
          10.83,
          8.12,
          1.6,
          9.63,
          9,
          18.42,
          14.95,
          0.99,
          25,
          4,
          13.93,
          28.13,
          5,
          16.18,
          1.5,
          17.27,
          1.75,
          5.15,
          33.49,
          1.75,
          6.32,
          16.19,
          23.79,
          -17.9,
          -0.03,
          -0.01,
          19.45,
          -539.77,
          5,
          11.76,
          20.12,
          1,
          22.69,
          5,
          11.04,
          10.75,
          12.68,
          -37,
          3.95,
          12.68,
          10,
          4.26,
          11.58,
          29.31,
          2.27,
          6.36,
          8.57,
          2.29,
          6.47,
          11.48,
          9.68,
          0.99,
          6.51,
          92.58,
          2.74,
          7.56,
          9.7,
          -56.7,
          54.74,
          4.84,
          8.03,
          -110.19,
          10,
          13.02,
          28,
          20,
          11.37,
          10,
          1.98,
          20.52,
          5,
          16.92,
          60,
          39.19,
          4.88,
          5.1,
          164.12,
          4.95,
          11.54,
          -139,
          -19
         ],
         "yaxis": "y"
        }
       ],
       "layout": {
        "legend": {
         "tracegroupgap": 0
        },
        "margin": {
         "t": 60
        },
        "template": {
         "data": {
          "bar": [
           {
            "error_x": {
             "color": "#2a3f5f"
            },
            "error_y": {
             "color": "#2a3f5f"
            },
            "marker": {
             "line": {
              "color": "#E5ECF6",
              "width": 0.5
             },
             "pattern": {
              "fillmode": "overlay",
              "size": 10,
              "solidity": 0.2
             }
            },
            "type": "bar"
           }
          ],
          "barpolar": [
           {
            "marker": {
             "line": {
              "color": "#E5ECF6",
              "width": 0.5
             },
             "pattern": {
              "fillmode": "overlay",
              "size": 10,
              "solidity": 0.2
             }
            },
            "type": "barpolar"
           }
          ],
          "carpet": [
           {
            "aaxis": {
             "endlinecolor": "#2a3f5f",
             "gridcolor": "white",
             "linecolor": "white",
             "minorgridcolor": "white",
             "startlinecolor": "#2a3f5f"
            },
            "baxis": {
             "endlinecolor": "#2a3f5f",
             "gridcolor": "white",
             "linecolor": "white",
             "minorgridcolor": "white",
             "startlinecolor": "#2a3f5f"
            },
            "type": "carpet"
           }
          ],
          "choropleth": [
           {
            "colorbar": {
             "outlinewidth": 0,
             "ticks": ""
            },
            "type": "choropleth"
           }
          ],
          "contour": [
           {
            "colorbar": {
             "outlinewidth": 0,
             "ticks": ""
            },
            "colorscale": [
             [
              0,
              "#0d0887"
             ],
             [
              0.1111111111111111,
              "#46039f"
             ],
             [
              0.2222222222222222,
              "#7201a8"
             ],
             [
              0.3333333333333333,
              "#9c179e"
             ],
             [
              0.4444444444444444,
              "#bd3786"
             ],
             [
              0.5555555555555556,
              "#d8576b"
             ],
             [
              0.6666666666666666,
              "#ed7953"
             ],
             [
              0.7777777777777778,
              "#fb9f3a"
             ],
             [
              0.8888888888888888,
              "#fdca26"
             ],
             [
              1,
              "#f0f921"
             ]
            ],
            "type": "contour"
           }
          ],
          "contourcarpet": [
           {
            "colorbar": {
             "outlinewidth": 0,
             "ticks": ""
            },
            "type": "contourcarpet"
           }
          ],
          "heatmap": [
           {
            "colorbar": {
             "outlinewidth": 0,
             "ticks": ""
            },
            "colorscale": [
             [
              0,
              "#0d0887"
             ],
             [
              0.1111111111111111,
              "#46039f"
             ],
             [
              0.2222222222222222,
              "#7201a8"
             ],
             [
              0.3333333333333333,
              "#9c179e"
             ],
             [
              0.4444444444444444,
              "#bd3786"
             ],
             [
              0.5555555555555556,
              "#d8576b"
             ],
             [
              0.6666666666666666,
              "#ed7953"
             ],
             [
              0.7777777777777778,
              "#fb9f3a"
             ],
             [
              0.8888888888888888,
              "#fdca26"
             ],
             [
              1,
              "#f0f921"
             ]
            ],
            "type": "heatmap"
           }
          ],
          "heatmapgl": [
           {
            "colorbar": {
             "outlinewidth": 0,
             "ticks": ""
            },
            "colorscale": [
             [
              0,
              "#0d0887"
             ],
             [
              0.1111111111111111,
              "#46039f"
             ],
             [
              0.2222222222222222,
              "#7201a8"
             ],
             [
              0.3333333333333333,
              "#9c179e"
             ],
             [
              0.4444444444444444,
              "#bd3786"
             ],
             [
              0.5555555555555556,
              "#d8576b"
             ],
             [
              0.6666666666666666,
              "#ed7953"
             ],
             [
              0.7777777777777778,
              "#fb9f3a"
             ],
             [
              0.8888888888888888,
              "#fdca26"
             ],
             [
              1,
              "#f0f921"
             ]
            ],
            "type": "heatmapgl"
           }
          ],
          "histogram": [
           {
            "marker": {
             "pattern": {
              "fillmode": "overlay",
              "size": 10,
              "solidity": 0.2
             }
            },
            "type": "histogram"
           }
          ],
          "histogram2d": [
           {
            "colorbar": {
             "outlinewidth": 0,
             "ticks": ""
            },
            "colorscale": [
             [
              0,
              "#0d0887"
             ],
             [
              0.1111111111111111,
              "#46039f"
             ],
             [
              0.2222222222222222,
              "#7201a8"
             ],
             [
              0.3333333333333333,
              "#9c179e"
             ],
             [
              0.4444444444444444,
              "#bd3786"
             ],
             [
              0.5555555555555556,
              "#d8576b"
             ],
             [
              0.6666666666666666,
              "#ed7953"
             ],
             [
              0.7777777777777778,
              "#fb9f3a"
             ],
             [
              0.8888888888888888,
              "#fdca26"
             ],
             [
              1,
              "#f0f921"
             ]
            ],
            "type": "histogram2d"
           }
          ],
          "histogram2dcontour": [
           {
            "colorbar": {
             "outlinewidth": 0,
             "ticks": ""
            },
            "colorscale": [
             [
              0,
              "#0d0887"
             ],
             [
              0.1111111111111111,
              "#46039f"
             ],
             [
              0.2222222222222222,
              "#7201a8"
             ],
             [
              0.3333333333333333,
              "#9c179e"
             ],
             [
              0.4444444444444444,
              "#bd3786"
             ],
             [
              0.5555555555555556,
              "#d8576b"
             ],
             [
              0.6666666666666666,
              "#ed7953"
             ],
             [
              0.7777777777777778,
              "#fb9f3a"
             ],
             [
              0.8888888888888888,
              "#fdca26"
             ],
             [
              1,
              "#f0f921"
             ]
            ],
            "type": "histogram2dcontour"
           }
          ],
          "mesh3d": [
           {
            "colorbar": {
             "outlinewidth": 0,
             "ticks": ""
            },
            "type": "mesh3d"
           }
          ],
          "parcoords": [
           {
            "line": {
             "colorbar": {
              "outlinewidth": 0,
              "ticks": ""
             }
            },
            "type": "parcoords"
           }
          ],
          "pie": [
           {
            "automargin": true,
            "type": "pie"
           }
          ],
          "scatter": [
           {
            "fillpattern": {
             "fillmode": "overlay",
             "size": 10,
             "solidity": 0.2
            },
            "type": "scatter"
           }
          ],
          "scatter3d": [
           {
            "line": {
             "colorbar": {
              "outlinewidth": 0,
              "ticks": ""
             }
            },
            "marker": {
             "colorbar": {
              "outlinewidth": 0,
              "ticks": ""
             }
            },
            "type": "scatter3d"
           }
          ],
          "scattercarpet": [
           {
            "marker": {
             "colorbar": {
              "outlinewidth": 0,
              "ticks": ""
             }
            },
            "type": "scattercarpet"
           }
          ],
          "scattergeo": [
           {
            "marker": {
             "colorbar": {
              "outlinewidth": 0,
              "ticks": ""
             }
            },
            "type": "scattergeo"
           }
          ],
          "scattergl": [
           {
            "marker": {
             "colorbar": {
              "outlinewidth": 0,
              "ticks": ""
             }
            },
            "type": "scattergl"
           }
          ],
          "scattermapbox": [
           {
            "marker": {
             "colorbar": {
              "outlinewidth": 0,
              "ticks": ""
             }
            },
            "type": "scattermapbox"
           }
          ],
          "scatterpolar": [
           {
            "marker": {
             "colorbar": {
              "outlinewidth": 0,
              "ticks": ""
             }
            },
            "type": "scatterpolar"
           }
          ],
          "scatterpolargl": [
           {
            "marker": {
             "colorbar": {
              "outlinewidth": 0,
              "ticks": ""
             }
            },
            "type": "scatterpolargl"
           }
          ],
          "scatterternary": [
           {
            "marker": {
             "colorbar": {
              "outlinewidth": 0,
              "ticks": ""
             }
            },
            "type": "scatterternary"
           }
          ],
          "surface": [
           {
            "colorbar": {
             "outlinewidth": 0,
             "ticks": ""
            },
            "colorscale": [
             [
              0,
              "#0d0887"
             ],
             [
              0.1111111111111111,
              "#46039f"
             ],
             [
              0.2222222222222222,
              "#7201a8"
             ],
             [
              0.3333333333333333,
              "#9c179e"
             ],
             [
              0.4444444444444444,
              "#bd3786"
             ],
             [
              0.5555555555555556,
              "#d8576b"
             ],
             [
              0.6666666666666666,
              "#ed7953"
             ],
             [
              0.7777777777777778,
              "#fb9f3a"
             ],
             [
              0.8888888888888888,
              "#fdca26"
             ],
             [
              1,
              "#f0f921"
             ]
            ],
            "type": "surface"
           }
          ],
          "table": [
           {
            "cells": {
             "fill": {
              "color": "#EBF0F8"
             },
             "line": {
              "color": "white"
             }
            },
            "header": {
             "fill": {
              "color": "#C8D4E3"
             },
             "line": {
              "color": "white"
             }
            },
            "type": "table"
           }
          ]
         },
         "layout": {
          "annotationdefaults": {
           "arrowcolor": "#2a3f5f",
           "arrowhead": 0,
           "arrowwidth": 1
          },
          "autotypenumbers": "strict",
          "coloraxis": {
           "colorbar": {
            "outlinewidth": 0,
            "ticks": ""
           }
          },
          "colorscale": {
           "diverging": [
            [
             0,
             "#8e0152"
            ],
            [
             0.1,
             "#c51b7d"
            ],
            [
             0.2,
             "#de77ae"
            ],
            [
             0.3,
             "#f1b6da"
            ],
            [
             0.4,
             "#fde0ef"
            ],
            [
             0.5,
             "#f7f7f7"
            ],
            [
             0.6,
             "#e6f5d0"
            ],
            [
             0.7,
             "#b8e186"
            ],
            [
             0.8,
             "#7fbc41"
            ],
            [
             0.9,
             "#4d9221"
            ],
            [
             1,
             "#276419"
            ]
           ],
           "sequential": [
            [
             0,
             "#0d0887"
            ],
            [
             0.1111111111111111,
             "#46039f"
            ],
            [
             0.2222222222222222,
             "#7201a8"
            ],
            [
             0.3333333333333333,
             "#9c179e"
            ],
            [
             0.4444444444444444,
             "#bd3786"
            ],
            [
             0.5555555555555556,
             "#d8576b"
            ],
            [
             0.6666666666666666,
             "#ed7953"
            ],
            [
             0.7777777777777778,
             "#fb9f3a"
            ],
            [
             0.8888888888888888,
             "#fdca26"
            ],
            [
             1,
             "#f0f921"
            ]
           ],
           "sequentialminus": [
            [
             0,
             "#0d0887"
            ],
            [
             0.1111111111111111,
             "#46039f"
            ],
            [
             0.2222222222222222,
             "#7201a8"
            ],
            [
             0.3333333333333333,
             "#9c179e"
            ],
            [
             0.4444444444444444,
             "#bd3786"
            ],
            [
             0.5555555555555556,
             "#d8576b"
            ],
            [
             0.6666666666666666,
             "#ed7953"
            ],
            [
             0.7777777777777778,
             "#fb9f3a"
            ],
            [
             0.8888888888888888,
             "#fdca26"
            ],
            [
             1,
             "#f0f921"
            ]
           ]
          },
          "colorway": [
           "#636efa",
           "#EF553B",
           "#00cc96",
           "#ab63fa",
           "#FFA15A",
           "#19d3f3",
           "#FF6692",
           "#B6E880",
           "#FF97FF",
           "#FECB52"
          ],
          "font": {
           "color": "#2a3f5f"
          },
          "geo": {
           "bgcolor": "white",
           "lakecolor": "white",
           "landcolor": "#E5ECF6",
           "showlakes": true,
           "showland": true,
           "subunitcolor": "white"
          },
          "hoverlabel": {
           "align": "left"
          },
          "hovermode": "closest",
          "mapbox": {
           "style": "light"
          },
          "paper_bgcolor": "white",
          "plot_bgcolor": "#E5ECF6",
          "polar": {
           "angularaxis": {
            "gridcolor": "white",
            "linecolor": "white",
            "ticks": ""
           },
           "bgcolor": "#E5ECF6",
           "radialaxis": {
            "gridcolor": "white",
            "linecolor": "white",
            "ticks": ""
           }
          },
          "scene": {
           "xaxis": {
            "backgroundcolor": "#E5ECF6",
            "gridcolor": "white",
            "gridwidth": 2,
            "linecolor": "white",
            "showbackground": true,
            "ticks": "",
            "zerolinecolor": "white"
           },
           "yaxis": {
            "backgroundcolor": "#E5ECF6",
            "gridcolor": "white",
            "gridwidth": 2,
            "linecolor": "white",
            "showbackground": true,
            "ticks": "",
            "zerolinecolor": "white"
           },
           "zaxis": {
            "backgroundcolor": "#E5ECF6",
            "gridcolor": "white",
            "gridwidth": 2,
            "linecolor": "white",
            "showbackground": true,
            "ticks": "",
            "zerolinecolor": "white"
           }
          },
          "shapedefaults": {
           "line": {
            "color": "#2a3f5f"
           }
          },
          "ternary": {
           "aaxis": {
            "gridcolor": "white",
            "linecolor": "white",
            "ticks": ""
           },
           "baxis": {
            "gridcolor": "white",
            "linecolor": "white",
            "ticks": ""
           },
           "bgcolor": "#E5ECF6",
           "caxis": {
            "gridcolor": "white",
            "linecolor": "white",
            "ticks": ""
           }
          },
          "title": {
           "x": 0.05
          },
          "xaxis": {
           "automargin": true,
           "gridcolor": "white",
           "linecolor": "white",
           "ticks": "",
           "title": {
            "standoff": 15
           },
           "zerolinecolor": "white",
           "zerolinewidth": 2
          },
          "yaxis": {
           "automargin": true,
           "gridcolor": "white",
           "linecolor": "white",
           "ticks": "",
           "title": {
            "standoff": 15
           },
           "zerolinecolor": "white",
           "zerolinewidth": 2
          }
         }
        },
        "xaxis": {
         "anchor": "y",
         "domain": [
          0,
          1
         ],
         "title": {
          "text": "Dates"
         }
        },
        "yaxis": {
         "anchor": "x",
         "domain": [
          0,
          1
         ],
         "title": {
          "text": "Money Spent"
         }
        }
       }
      }
     },
     "metadata": {},
     "output_type": "display_data"
    }
   ],
   "source": [
    "fig = px.line(df, x='Dates', y=\"Money Spent\")\n",
    "fig.show()\n",
    "\n",
    "# time series plot of money spent vs dates"
   ]
  },
  {
   "cell_type": "code",
   "execution_count": 193,
   "metadata": {},
   "outputs": [
    {
     "data": {
      "application/vnd.plotly.v1+json": {
       "config": {
        "plotlyServerURL": "https://plot.ly"
       },
       "data": [
        {
         "hovertemplate": "Month=%{x}<br>Money Spent=%{y}<extra></extra>",
         "legendgroup": "",
         "line": {
          "color": "#636efa",
          "dash": "solid"
         },
         "marker": {
          "symbol": "circle"
         },
         "mode": "lines",
         "name": "",
         "orientation": "v",
         "showlegend": false,
         "type": "scatter",
         "x": [
          12,
          12,
          12,
          12,
          12,
          12,
          12,
          12,
          12,
          12,
          12,
          12,
          12,
          12,
          12,
          12,
          12,
          12,
          12,
          12,
          12,
          12,
          12,
          12,
          12,
          12,
          12,
          12,
          12,
          12,
          12,
          12,
          11,
          11,
          11,
          11,
          11,
          11,
          11,
          11,
          11,
          11,
          11,
          11,
          11,
          11,
          11,
          11,
          11,
          11,
          11,
          11,
          11,
          11,
          11,
          11,
          11,
          11,
          11,
          11,
          11,
          11,
          11,
          11,
          11,
          11,
          10,
          10,
          10,
          10,
          10,
          10,
          10,
          10,
          10,
          10,
          10,
          10,
          10,
          10,
          10,
          10,
          10,
          10,
          10,
          10,
          10,
          10,
          10,
          10,
          10,
          10,
          10,
          10,
          10,
          10,
          10,
          10,
          10,
          10,
          10,
          10,
          10,
          10,
          10,
          10,
          10,
          10,
          9,
          9,
          9,
          9,
          9,
          9,
          9,
          9,
          9,
          9,
          9,
          9,
          9,
          9,
          9,
          9,
          9,
          9,
          9,
          9,
          9,
          9,
          9,
          9,
          9,
          9,
          9,
          9,
          9,
          9,
          9,
          9,
          9,
          9,
          9,
          9,
          9,
          9,
          9,
          9,
          9,
          9,
          9,
          8,
          8,
          8,
          8,
          8,
          8,
          8,
          8,
          8,
          8,
          8,
          8,
          8,
          8,
          8,
          8,
          8,
          8,
          8,
          8,
          8,
          8,
          8,
          8,
          8,
          8,
          8,
          8,
          8,
          8,
          8,
          8,
          8,
          8,
          8,
          8,
          8,
          7,
          7,
          7,
          7,
          7,
          7,
          7,
          7,
          7,
          7,
          7,
          7,
          7,
          7,
          7,
          7,
          7,
          7,
          7,
          7,
          7,
          7,
          7,
          7,
          6,
          6,
          6,
          6,
          6,
          6,
          6,
          6,
          6,
          6,
          6,
          6,
          6,
          6,
          6,
          6,
          6,
          6,
          6,
          6,
          6,
          6,
          6,
          6,
          6,
          6,
          5,
          5,
          5,
          5,
          5,
          5,
          5,
          5,
          5,
          5,
          5,
          5,
          5,
          5,
          5,
          5,
          5,
          5,
          5,
          5,
          5,
          5,
          5,
          5,
          5,
          5,
          5,
          5,
          5,
          5,
          5,
          5,
          5,
          4,
          4,
          4,
          4,
          4,
          4,
          4,
          4,
          4,
          4,
          4,
          4,
          4,
          4,
          4,
          4,
          4,
          4,
          4,
          4,
          4,
          4,
          4,
          4,
          4,
          4,
          4,
          4,
          4,
          3,
          3,
          3,
          3,
          3,
          3,
          3,
          3,
          3,
          3,
          3,
          3,
          3,
          3,
          3,
          3,
          3,
          3,
          3,
          3,
          3,
          3,
          3,
          3,
          3,
          3,
          3,
          3,
          3,
          3,
          3,
          3,
          3,
          3,
          3,
          3,
          3,
          3,
          3,
          3,
          3,
          3,
          3,
          3,
          3,
          3,
          3,
          3,
          3,
          3,
          3,
          3,
          3,
          3,
          3,
          3,
          2,
          2,
          2,
          2,
          2,
          2,
          2,
          2,
          2,
          2,
          2,
          2,
          2,
          2,
          2,
          2,
          2,
          2,
          2,
          2,
          2,
          2,
          2,
          2,
          2,
          2,
          2,
          2,
          2,
          2,
          2,
          2,
          2,
          2,
          1,
          1,
          1,
          1,
          1,
          1,
          1,
          1,
          1,
          1,
          1,
          1,
          1,
          1,
          1,
          1,
          1,
          1,
          1,
          1,
          1,
          1,
          1,
          1,
          1,
          1,
          1,
          1,
          1,
          1,
          1,
          1,
          1,
          1,
          1,
          1,
          1,
          1,
          1,
          1,
          1,
          1,
          1,
          1,
          1,
          1,
          1,
          1,
          1,
          1
         ],
         "xaxis": "x",
         "y": [
          4,
          5.25,
          6,
          2.75,
          7,
          18.41,
          105,
          -523,
          4.99,
          5,
          10.76,
          6.21,
          11.8,
          -500,
          11.95,
          30.02,
          13.57,
          4.45,
          24.24,
          14.56,
          10.5,
          14.55,
          12.18,
          1.08,
          1.39,
          1000,
          52.02,
          12.92,
          1.78,
          4.99,
          20.46,
          689.8,
          5.5,
          -7.93,
          77,
          14.48,
          17.32,
          4.28,
          11.37,
          7.2,
          24.98,
          12.95,
          -5.18,
          19,
          14.5,
          18.89,
          6.49,
          10.53,
          3.94,
          21.71,
          -10.16,
          11.94,
          7.3,
          23.33,
          5,
          -10.16,
          13.5,
          25.98,
          4.04,
          22.6,
          11.64,
          -21.98,
          58.34,
          51.96,
          -666.99,
          -16,
          15.1,
          63.92,
          10.03,
          8.05,
          11.85,
          9.73,
          5.25,
          689.8,
          51.2,
          20.58,
          8.08,
          81.7,
          13.17,
          14.8,
          -13.39,
          13.39,
          45.41,
          2.58,
          16.53,
          13.39,
          4.99,
          -640,
          2.6,
          14.04,
          14.07,
          6.48,
          5,
          11.6,
          2.7,
          5.49,
          7,
          29.22,
          -14.04,
          -210.79,
          1.8,
          35.03,
          -447,
          26.85,
          689.8,
          14.04,
          21.95,
          21.49,
          9.95,
          6.7,
          29.13,
          7,
          6.3,
          57.55,
          6.7,
          -29,
          10.29,
          186.52,
          -11.36,
          31.33,
          -268,
          59.49,
          7.57,
          9.98,
          5,
          7.57,
          6,
          8.08,
          214.22,
          3.06,
          11.9,
          21.64,
          8.55,
          -8.56,
          4.28,
          11.36,
          11.62,
          -245.5,
          4.5,
          16.47,
          65,
          38.25,
          2.14,
          20,
          5,
          15.08,
          -287,
          10.13,
          30,
          9.69,
          5.99,
          2.14,
          4,
          21.29,
          2,
          9.81,
          2.26,
          6.79,
          8.08,
          6.25,
          33.83,
          9.5,
          18.95,
          5.41,
          10.8,
          20.45,
          -988,
          8.38,
          15.6,
          1.34,
          11.84,
          29.99,
          4.15,
          3.01,
          18.26,
          16.92,
          49.99,
          -965,
          -46.99,
          42,
          8,
          20.3,
          6.02,
          11.5,
          6.02,
          2.14,
          7,
          6.35,
          46.99,
          1.08,
          25,
          9.68,
          2.41,
          3.77,
          25.08,
          -176,
          3.77,
          1.08,
          1.07,
          1.07,
          2.96,
          23.6,
          6.02,
          32.69,
          5.99,
          3,
          29.99,
          34.5,
          11.12,
          22.92,
          4.3,
          5.98,
          3.22,
          20,
          48.51,
          5,
          25,
          6.01,
          45,
          22.51,
          -415.37,
          6.98,
          23.67,
          7.89,
          0.01,
          59.98,
          124.94,
          29.99,
          20.91,
          5,
          1.99,
          6.95,
          22.52,
          25,
          3.66,
          15.9,
          61.7,
          -590.09,
          4.33,
          46.79,
          21.99,
          5.85,
          13,
          4.6,
          17.28,
          -3,
          5.58,
          10.39,
          -8,
          -79,
          -28,
          -542.95,
          6.48,
          100,
          43,
          6.8,
          13.28,
          8.65,
          -50,
          -405,
          12.98,
          5.49,
          33.48,
          3.34,
          79.7,
          7.52,
          -40,
          -423.03,
          6.7,
          9.61,
          -13.21,
          13,
          19.99,
          7.52,
          5,
          14.78,
          2.25,
          3.25,
          13.05,
          11.64,
          33.28,
          7.67,
          5,
          -520.67,
          5.26,
          15.36,
          4.29,
          10.81,
          43.6,
          5.82,
          37.6,
          8.85,
          7.51,
          9.61,
          15.16,
          -5,
          0.51,
          11.9,
          12.95,
          -40.93,
          -169,
          5,
          40.93,
          2.5,
          2.5,
          9.91,
          11.71,
          8.6,
          -9.35,
          1.56,
          11.8,
          -273.75,
          15.07,
          8.94,
          13.45,
          -105.26,
          12.92,
          32.31,
          23.69,
          10.71,
          11.61,
          14.64,
          13.08,
          0.99,
          21.09,
          4.3,
          15.61,
          -38.78,
          25,
          5.12,
          7.1,
          17,
          1.71,
          16.16,
          -350,
          6.76,
          3.99,
          11.71,
          6,
          5.33,
          3.75,
          -619.39,
          136.24,
          4.95,
          7.04,
          12.44,
          8.64,
          320,
          2.99,
          3.06,
          8.77,
          5,
          14.99,
          18.84,
          1.79,
          25,
          -168.35,
          1,
          1.95,
          10.83,
          8.12,
          1.6,
          9.63,
          9,
          18.42,
          14.95,
          0.99,
          25,
          4,
          13.93,
          28.13,
          5,
          16.18,
          1.5,
          17.27,
          1.75,
          5.15,
          33.49,
          1.75,
          6.32,
          16.19,
          23.79,
          -17.9,
          -0.03,
          -0.01,
          19.45,
          -539.77,
          5,
          11.76,
          20.12,
          1,
          22.69,
          5,
          11.04,
          10.75,
          12.68,
          -37,
          3.95,
          12.68,
          10,
          4.26,
          11.58,
          29.31,
          2.27,
          6.36,
          8.57,
          2.29,
          6.47,
          11.48,
          9.68,
          0.99,
          6.51,
          92.58,
          2.74,
          7.56,
          9.7,
          -56.7,
          54.74,
          4.84,
          8.03,
          -110.19,
          10,
          13.02,
          28,
          20,
          11.37,
          10,
          1.98,
          20.52,
          5,
          16.92,
          60,
          39.19,
          4.88,
          5.1,
          164.12,
          4.95,
          11.54,
          -139,
          -19
         ],
         "yaxis": "y"
        }
       ],
       "layout": {
        "legend": {
         "tracegroupgap": 0
        },
        "margin": {
         "t": 60
        },
        "template": {
         "data": {
          "bar": [
           {
            "error_x": {
             "color": "#2a3f5f"
            },
            "error_y": {
             "color": "#2a3f5f"
            },
            "marker": {
             "line": {
              "color": "#E5ECF6",
              "width": 0.5
             },
             "pattern": {
              "fillmode": "overlay",
              "size": 10,
              "solidity": 0.2
             }
            },
            "type": "bar"
           }
          ],
          "barpolar": [
           {
            "marker": {
             "line": {
              "color": "#E5ECF6",
              "width": 0.5
             },
             "pattern": {
              "fillmode": "overlay",
              "size": 10,
              "solidity": 0.2
             }
            },
            "type": "barpolar"
           }
          ],
          "carpet": [
           {
            "aaxis": {
             "endlinecolor": "#2a3f5f",
             "gridcolor": "white",
             "linecolor": "white",
             "minorgridcolor": "white",
             "startlinecolor": "#2a3f5f"
            },
            "baxis": {
             "endlinecolor": "#2a3f5f",
             "gridcolor": "white",
             "linecolor": "white",
             "minorgridcolor": "white",
             "startlinecolor": "#2a3f5f"
            },
            "type": "carpet"
           }
          ],
          "choropleth": [
           {
            "colorbar": {
             "outlinewidth": 0,
             "ticks": ""
            },
            "type": "choropleth"
           }
          ],
          "contour": [
           {
            "colorbar": {
             "outlinewidth": 0,
             "ticks": ""
            },
            "colorscale": [
             [
              0,
              "#0d0887"
             ],
             [
              0.1111111111111111,
              "#46039f"
             ],
             [
              0.2222222222222222,
              "#7201a8"
             ],
             [
              0.3333333333333333,
              "#9c179e"
             ],
             [
              0.4444444444444444,
              "#bd3786"
             ],
             [
              0.5555555555555556,
              "#d8576b"
             ],
             [
              0.6666666666666666,
              "#ed7953"
             ],
             [
              0.7777777777777778,
              "#fb9f3a"
             ],
             [
              0.8888888888888888,
              "#fdca26"
             ],
             [
              1,
              "#f0f921"
             ]
            ],
            "type": "contour"
           }
          ],
          "contourcarpet": [
           {
            "colorbar": {
             "outlinewidth": 0,
             "ticks": ""
            },
            "type": "contourcarpet"
           }
          ],
          "heatmap": [
           {
            "colorbar": {
             "outlinewidth": 0,
             "ticks": ""
            },
            "colorscale": [
             [
              0,
              "#0d0887"
             ],
             [
              0.1111111111111111,
              "#46039f"
             ],
             [
              0.2222222222222222,
              "#7201a8"
             ],
             [
              0.3333333333333333,
              "#9c179e"
             ],
             [
              0.4444444444444444,
              "#bd3786"
             ],
             [
              0.5555555555555556,
              "#d8576b"
             ],
             [
              0.6666666666666666,
              "#ed7953"
             ],
             [
              0.7777777777777778,
              "#fb9f3a"
             ],
             [
              0.8888888888888888,
              "#fdca26"
             ],
             [
              1,
              "#f0f921"
             ]
            ],
            "type": "heatmap"
           }
          ],
          "heatmapgl": [
           {
            "colorbar": {
             "outlinewidth": 0,
             "ticks": ""
            },
            "colorscale": [
             [
              0,
              "#0d0887"
             ],
             [
              0.1111111111111111,
              "#46039f"
             ],
             [
              0.2222222222222222,
              "#7201a8"
             ],
             [
              0.3333333333333333,
              "#9c179e"
             ],
             [
              0.4444444444444444,
              "#bd3786"
             ],
             [
              0.5555555555555556,
              "#d8576b"
             ],
             [
              0.6666666666666666,
              "#ed7953"
             ],
             [
              0.7777777777777778,
              "#fb9f3a"
             ],
             [
              0.8888888888888888,
              "#fdca26"
             ],
             [
              1,
              "#f0f921"
             ]
            ],
            "type": "heatmapgl"
           }
          ],
          "histogram": [
           {
            "marker": {
             "pattern": {
              "fillmode": "overlay",
              "size": 10,
              "solidity": 0.2
             }
            },
            "type": "histogram"
           }
          ],
          "histogram2d": [
           {
            "colorbar": {
             "outlinewidth": 0,
             "ticks": ""
            },
            "colorscale": [
             [
              0,
              "#0d0887"
             ],
             [
              0.1111111111111111,
              "#46039f"
             ],
             [
              0.2222222222222222,
              "#7201a8"
             ],
             [
              0.3333333333333333,
              "#9c179e"
             ],
             [
              0.4444444444444444,
              "#bd3786"
             ],
             [
              0.5555555555555556,
              "#d8576b"
             ],
             [
              0.6666666666666666,
              "#ed7953"
             ],
             [
              0.7777777777777778,
              "#fb9f3a"
             ],
             [
              0.8888888888888888,
              "#fdca26"
             ],
             [
              1,
              "#f0f921"
             ]
            ],
            "type": "histogram2d"
           }
          ],
          "histogram2dcontour": [
           {
            "colorbar": {
             "outlinewidth": 0,
             "ticks": ""
            },
            "colorscale": [
             [
              0,
              "#0d0887"
             ],
             [
              0.1111111111111111,
              "#46039f"
             ],
             [
              0.2222222222222222,
              "#7201a8"
             ],
             [
              0.3333333333333333,
              "#9c179e"
             ],
             [
              0.4444444444444444,
              "#bd3786"
             ],
             [
              0.5555555555555556,
              "#d8576b"
             ],
             [
              0.6666666666666666,
              "#ed7953"
             ],
             [
              0.7777777777777778,
              "#fb9f3a"
             ],
             [
              0.8888888888888888,
              "#fdca26"
             ],
             [
              1,
              "#f0f921"
             ]
            ],
            "type": "histogram2dcontour"
           }
          ],
          "mesh3d": [
           {
            "colorbar": {
             "outlinewidth": 0,
             "ticks": ""
            },
            "type": "mesh3d"
           }
          ],
          "parcoords": [
           {
            "line": {
             "colorbar": {
              "outlinewidth": 0,
              "ticks": ""
             }
            },
            "type": "parcoords"
           }
          ],
          "pie": [
           {
            "automargin": true,
            "type": "pie"
           }
          ],
          "scatter": [
           {
            "fillpattern": {
             "fillmode": "overlay",
             "size": 10,
             "solidity": 0.2
            },
            "type": "scatter"
           }
          ],
          "scatter3d": [
           {
            "line": {
             "colorbar": {
              "outlinewidth": 0,
              "ticks": ""
             }
            },
            "marker": {
             "colorbar": {
              "outlinewidth": 0,
              "ticks": ""
             }
            },
            "type": "scatter3d"
           }
          ],
          "scattercarpet": [
           {
            "marker": {
             "colorbar": {
              "outlinewidth": 0,
              "ticks": ""
             }
            },
            "type": "scattercarpet"
           }
          ],
          "scattergeo": [
           {
            "marker": {
             "colorbar": {
              "outlinewidth": 0,
              "ticks": ""
             }
            },
            "type": "scattergeo"
           }
          ],
          "scattergl": [
           {
            "marker": {
             "colorbar": {
              "outlinewidth": 0,
              "ticks": ""
             }
            },
            "type": "scattergl"
           }
          ],
          "scattermapbox": [
           {
            "marker": {
             "colorbar": {
              "outlinewidth": 0,
              "ticks": ""
             }
            },
            "type": "scattermapbox"
           }
          ],
          "scatterpolar": [
           {
            "marker": {
             "colorbar": {
              "outlinewidth": 0,
              "ticks": ""
             }
            },
            "type": "scatterpolar"
           }
          ],
          "scatterpolargl": [
           {
            "marker": {
             "colorbar": {
              "outlinewidth": 0,
              "ticks": ""
             }
            },
            "type": "scatterpolargl"
           }
          ],
          "scatterternary": [
           {
            "marker": {
             "colorbar": {
              "outlinewidth": 0,
              "ticks": ""
             }
            },
            "type": "scatterternary"
           }
          ],
          "surface": [
           {
            "colorbar": {
             "outlinewidth": 0,
             "ticks": ""
            },
            "colorscale": [
             [
              0,
              "#0d0887"
             ],
             [
              0.1111111111111111,
              "#46039f"
             ],
             [
              0.2222222222222222,
              "#7201a8"
             ],
             [
              0.3333333333333333,
              "#9c179e"
             ],
             [
              0.4444444444444444,
              "#bd3786"
             ],
             [
              0.5555555555555556,
              "#d8576b"
             ],
             [
              0.6666666666666666,
              "#ed7953"
             ],
             [
              0.7777777777777778,
              "#fb9f3a"
             ],
             [
              0.8888888888888888,
              "#fdca26"
             ],
             [
              1,
              "#f0f921"
             ]
            ],
            "type": "surface"
           }
          ],
          "table": [
           {
            "cells": {
             "fill": {
              "color": "#EBF0F8"
             },
             "line": {
              "color": "white"
             }
            },
            "header": {
             "fill": {
              "color": "#C8D4E3"
             },
             "line": {
              "color": "white"
             }
            },
            "type": "table"
           }
          ]
         },
         "layout": {
          "annotationdefaults": {
           "arrowcolor": "#2a3f5f",
           "arrowhead": 0,
           "arrowwidth": 1
          },
          "autotypenumbers": "strict",
          "coloraxis": {
           "colorbar": {
            "outlinewidth": 0,
            "ticks": ""
           }
          },
          "colorscale": {
           "diverging": [
            [
             0,
             "#8e0152"
            ],
            [
             0.1,
             "#c51b7d"
            ],
            [
             0.2,
             "#de77ae"
            ],
            [
             0.3,
             "#f1b6da"
            ],
            [
             0.4,
             "#fde0ef"
            ],
            [
             0.5,
             "#f7f7f7"
            ],
            [
             0.6,
             "#e6f5d0"
            ],
            [
             0.7,
             "#b8e186"
            ],
            [
             0.8,
             "#7fbc41"
            ],
            [
             0.9,
             "#4d9221"
            ],
            [
             1,
             "#276419"
            ]
           ],
           "sequential": [
            [
             0,
             "#0d0887"
            ],
            [
             0.1111111111111111,
             "#46039f"
            ],
            [
             0.2222222222222222,
             "#7201a8"
            ],
            [
             0.3333333333333333,
             "#9c179e"
            ],
            [
             0.4444444444444444,
             "#bd3786"
            ],
            [
             0.5555555555555556,
             "#d8576b"
            ],
            [
             0.6666666666666666,
             "#ed7953"
            ],
            [
             0.7777777777777778,
             "#fb9f3a"
            ],
            [
             0.8888888888888888,
             "#fdca26"
            ],
            [
             1,
             "#f0f921"
            ]
           ],
           "sequentialminus": [
            [
             0,
             "#0d0887"
            ],
            [
             0.1111111111111111,
             "#46039f"
            ],
            [
             0.2222222222222222,
             "#7201a8"
            ],
            [
             0.3333333333333333,
             "#9c179e"
            ],
            [
             0.4444444444444444,
             "#bd3786"
            ],
            [
             0.5555555555555556,
             "#d8576b"
            ],
            [
             0.6666666666666666,
             "#ed7953"
            ],
            [
             0.7777777777777778,
             "#fb9f3a"
            ],
            [
             0.8888888888888888,
             "#fdca26"
            ],
            [
             1,
             "#f0f921"
            ]
           ]
          },
          "colorway": [
           "#636efa",
           "#EF553B",
           "#00cc96",
           "#ab63fa",
           "#FFA15A",
           "#19d3f3",
           "#FF6692",
           "#B6E880",
           "#FF97FF",
           "#FECB52"
          ],
          "font": {
           "color": "#2a3f5f"
          },
          "geo": {
           "bgcolor": "white",
           "lakecolor": "white",
           "landcolor": "#E5ECF6",
           "showlakes": true,
           "showland": true,
           "subunitcolor": "white"
          },
          "hoverlabel": {
           "align": "left"
          },
          "hovermode": "closest",
          "mapbox": {
           "style": "light"
          },
          "paper_bgcolor": "white",
          "plot_bgcolor": "#E5ECF6",
          "polar": {
           "angularaxis": {
            "gridcolor": "white",
            "linecolor": "white",
            "ticks": ""
           },
           "bgcolor": "#E5ECF6",
           "radialaxis": {
            "gridcolor": "white",
            "linecolor": "white",
            "ticks": ""
           }
          },
          "scene": {
           "xaxis": {
            "backgroundcolor": "#E5ECF6",
            "gridcolor": "white",
            "gridwidth": 2,
            "linecolor": "white",
            "showbackground": true,
            "ticks": "",
            "zerolinecolor": "white"
           },
           "yaxis": {
            "backgroundcolor": "#E5ECF6",
            "gridcolor": "white",
            "gridwidth": 2,
            "linecolor": "white",
            "showbackground": true,
            "ticks": "",
            "zerolinecolor": "white"
           },
           "zaxis": {
            "backgroundcolor": "#E5ECF6",
            "gridcolor": "white",
            "gridwidth": 2,
            "linecolor": "white",
            "showbackground": true,
            "ticks": "",
            "zerolinecolor": "white"
           }
          },
          "shapedefaults": {
           "line": {
            "color": "#2a3f5f"
           }
          },
          "ternary": {
           "aaxis": {
            "gridcolor": "white",
            "linecolor": "white",
            "ticks": ""
           },
           "baxis": {
            "gridcolor": "white",
            "linecolor": "white",
            "ticks": ""
           },
           "bgcolor": "#E5ECF6",
           "caxis": {
            "gridcolor": "white",
            "linecolor": "white",
            "ticks": ""
           }
          },
          "title": {
           "x": 0.05
          },
          "xaxis": {
           "automargin": true,
           "gridcolor": "white",
           "linecolor": "white",
           "ticks": "",
           "title": {
            "standoff": 15
           },
           "zerolinecolor": "white",
           "zerolinewidth": 2
          },
          "yaxis": {
           "automargin": true,
           "gridcolor": "white",
           "linecolor": "white",
           "ticks": "",
           "title": {
            "standoff": 15
           },
           "zerolinecolor": "white",
           "zerolinewidth": 2
          }
         }
        },
        "xaxis": {
         "anchor": "y",
         "domain": [
          0,
          1
         ],
         "title": {
          "text": "Month"
         }
        },
        "yaxis": {
         "anchor": "x",
         "domain": [
          0,
          1
         ],
         "title": {
          "text": "Money Spent"
         }
        }
       }
      }
     },
     "metadata": {},
     "output_type": "display_data"
    }
   ],
   "source": [
    "fig = px.line(df, x='Month', y=\"Money Spent\")\n",
    "fig.show()\n"
   ]
  },
  {
   "cell_type": "code",
   "execution_count": 204,
   "metadata": {},
   "outputs": [
    {
     "data": {
      "image/png": "[encoded data removed]",
      "text/plain": [
       "<Figure size 640x480 with 1 Axes>"
      ]
     },
     "metadata": {},
     "output_type": "display_data"
    },
    {
     "name": "stdout",
     "output_type": "stream",
     "text": [
      "Regression Line Equation= 1.54678067251763 X + -14.50036456992845\n"
     ]
    }
   ],
   "source": [
    "X=df['Month'].values.reshape(-1, 1)\n",
    "Y=df['Money Spent'].values.reshape(-1, 1)\n",
    "\n",
    "linear_regressor = LinearRegression()  # create object for the class\n",
    "linear_regressor.fit(X, Y)  # perform linear regression\n",
    "Y_pred = linear_regressor.predict(X)  # make predictions\n",
    "\n",
    "plt.scatter(X, Y)\n",
    "plt.plot(X, Y_pred, color='red')\n",
    "plt.show()\n",
    "\n",
    "#linear regression model, almost constant \n",
    "\n",
    "\n",
    "\n",
    "N = len(X)\n",
    "\n",
    "\n",
    "x_mean = X.mean()\n",
    "y_mean = Y.mean()\n",
    " \n",
    "B1_num = ((x - x_mean) * (y - y_mean)).sum()\n",
    "B1_den = ((x - x_mean)**2).sum()\n",
    "B1 = B1_num / B1_den\n",
    "    \n",
    "B0 = y_mean - (B1*x_mean)\n",
    "    \n",
    "\n",
    "print (\"Regression Line Equation=\", B1,\"X +\",B0)\n"
   ]
  }
 ],
 "metadata": {
  "kernelspec": {
   "display_name": "base",
   "language": "python",
   "name": "python3"
  },
  "language_info": {
   "codemirror_mode": {
    "name": "ipython",
    "version": 3
   },
   "file_extension": ".py",
   "mimetype": "text/x-python",
   "name": "python",
   "nbconvert_exporter": "python",
   "pygments_lexer": "ipython3",
   "version": "3.9.13"
  },
  "orig_nbformat": 4,
  "vscode": {
   "interpreter": {
    "hash": "5f8929016d30f12a89eab5b5e02a6c1410fc73da4b23b89b4eb7a3bc58137fe5"
   }
  }
 },
 "nbformat": 4,
 "nbformat_minor": 2
}
